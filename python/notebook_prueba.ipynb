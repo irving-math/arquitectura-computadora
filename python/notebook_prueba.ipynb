{
 "cells": [
  {
   "cell_type": "markdown",
   "id": "8f7358f4-9012-459c-9f47-547db4170028",
   "metadata": {},
   "source": [
    "# Clase 1 de arquitectura\n"
   ]
  },
  {
   "cell_type": "markdown",
   "id": "28abb37e-c4e6-42b3-9e69-d31d334e7704",
   "metadata": {},
   "source": [
    "_Ejemplo de celdas en jupyter_"
   ]
  },
  {
   "cell_type": "code",
   "id": "88a0c097-eaf3-46c5-82e6-f9491cc36d2e",
   "metadata": {
    "ExecuteTime": {
     "end_time": "2024-12-10T02:32:07.386664Z",
     "start_time": "2024-12-10T02:32:07.382653Z"
    }
   },
   "source": [
    "x = 1\n",
    "y = 8\n",
    "x * y"
   ],
   "outputs": [
    {
     "data": {
      "text/plain": [
       "8"
      ]
     },
     "execution_count": 3,
     "metadata": {},
     "output_type": "execute_result"
    }
   ],
   "execution_count": 3
  },
  {
   "cell_type": "markdown",
   "id": "6f44b99f-c380-4e0c-9fd0-b59b276e6942",
   "metadata": {},
   "source": [
    "_Las celdas tambien pueden importar clases_"
   ]
  },
  {
   "cell_type": "code",
   "id": "dfca4b11-3100-441c-ba4e-c56e2e709dac",
   "metadata": {
    "ExecuteTime": {
     "end_time": "2024-12-10T02:32:07.470844Z",
     "start_time": "2024-12-10T02:32:07.467696Z"
    }
   },
   "source": [
    "import math\n",
    "math.sin(math.pi/2)"
   ],
   "outputs": [
    {
     "data": {
      "text/plain": [
       "1.0"
      ]
     },
     "execution_count": 4,
     "metadata": {},
     "output_type": "execute_result"
    }
   ],
   "execution_count": 4
  },
  {
   "cell_type": "markdown",
   "id": "346eb24f-158d-4084-a820-42cdbc37aa7c",
   "metadata": {},
   "source": [
    "_Los imports de otra celda funcionan en las celdas siguientes_"
   ]
  },
  {
   "metadata": {},
   "cell_type": "code",
   "outputs": [],
   "execution_count": null,
   "source": "math.ceil(3.1)",
   "id": "9797cb4170245e80"
  },
  {
   "metadata": {},
   "cell_type": "markdown",
   "source": [
    "__La instalacion de numpy se hace ejecutando el comando__\n",
    "\n",
    "`pip install numpy`"
   ],
   "id": "96ae1b49c6f1cbb2"
  },
  {
   "metadata": {
    "ExecuteTime": {
     "end_time": "2024-12-12T01:59:09.424620Z",
     "start_time": "2024-12-12T01:59:09.341530Z"
    }
   },
   "cell_type": "code",
   "source": "import numpy as np",
   "id": "feee53577910a35c",
   "outputs": [],
   "execution_count": 2
  },
  {
   "metadata": {
    "ExecuteTime": {
     "end_time": "2024-12-10T02:37:00.240936Z",
     "start_time": "2024-12-10T02:37:00.234504Z"
    }
   },
   "cell_type": "code",
   "source": [
    "my_array = np.array([1, 2, 3, 4, 5])\n",
    "my_array"
   ],
   "id": "8d55c5172b2196cd",
   "outputs": [
    {
     "data": {
      "text/plain": [
       "array([1, 2, 3, 4, 5])"
      ]
     },
     "execution_count": 9,
     "metadata": {},
     "output_type": "execute_result"
    }
   ],
   "execution_count": 9
  },
  {
   "metadata": {
    "ExecuteTime": {
     "end_time": "2024-12-10T02:37:43.597065Z",
     "start_time": "2024-12-10T02:37:43.594263Z"
    }
   },
   "cell_type": "code",
   "source": "my_array.ndim",
   "id": "5cb2c5929f4b6f75",
   "outputs": [
    {
     "data": {
      "text/plain": [
       "1"
      ]
     },
     "execution_count": 10,
     "metadata": {},
     "output_type": "execute_result"
    }
   ],
   "execution_count": 10
  },
  {
   "metadata": {
    "ExecuteTime": {
     "end_time": "2024-12-10T02:38:00.024701Z",
     "start_time": "2024-12-10T02:38:00.019384Z"
    }
   },
   "cell_type": "code",
   "source": "my_array.shape",
   "id": "c3ad4f0469f0cb44",
   "outputs": [
    {
     "data": {
      "text/plain": [
       "(5,)"
      ]
     },
     "execution_count": 11,
     "metadata": {},
     "output_type": "execute_result"
    }
   ],
   "execution_count": 11
  },
  {
   "metadata": {
    "ExecuteTime": {
     "end_time": "2024-12-10T02:39:12.514825Z",
     "start_time": "2024-12-10T02:39:12.508724Z"
    }
   },
   "cell_type": "code",
   "source": [
    "my_array2 = np.array([[1, 2, 3], [4, 5, 6]])\n",
    "my_array2"
   ],
   "id": "4825ab80e4e8661f",
   "outputs": [
    {
     "data": {
      "text/plain": [
       "array([[1, 2, 3],\n",
       "       [4, 5, 6]])"
      ]
     },
     "execution_count": 12,
     "metadata": {},
     "output_type": "execute_result"
    }
   ],
   "execution_count": 12
  },
  {
   "metadata": {
    "ExecuteTime": {
     "end_time": "2024-12-10T02:39:57.284346Z",
     "start_time": "2024-12-10T02:39:57.279550Z"
    }
   },
   "cell_type": "code",
   "source": "my_array2.ndim",
   "id": "c062087b9b231429",
   "outputs": [
    {
     "data": {
      "text/plain": [
       "2"
      ]
     },
     "execution_count": 13,
     "metadata": {},
     "output_type": "execute_result"
    }
   ],
   "execution_count": 13
  },
  {
   "metadata": {
    "ExecuteTime": {
     "end_time": "2024-12-10T02:40:02.181012Z",
     "start_time": "2024-12-10T02:40:02.178205Z"
    }
   },
   "cell_type": "code",
   "source": "my_array2.shape",
   "id": "28896a79317a4718",
   "outputs": [
    {
     "data": {
      "text/plain": [
       "(2, 3)"
      ]
     },
     "execution_count": 14,
     "metadata": {},
     "output_type": "execute_result"
    }
   ],
   "execution_count": 14
  },
  {
   "metadata": {
    "ExecuteTime": {
     "end_time": "2024-12-10T02:40:28.746358Z",
     "start_time": "2024-12-10T02:40:28.743266Z"
    }
   },
   "cell_type": "code",
   "source": "my_array2.size",
   "id": "df6ee8049fef1ac9",
   "outputs": [
    {
     "data": {
      "text/plain": [
       "6"
      ]
     },
     "execution_count": 15,
     "metadata": {},
     "output_type": "execute_result"
    }
   ],
   "execution_count": 15
  },
  {
   "metadata": {
    "ExecuteTime": {
     "end_time": "2024-12-10T02:42:55.342733Z",
     "start_time": "2024-12-10T02:42:55.337582Z"
    }
   },
   "cell_type": "code",
   "source": [
    "my_array3 = np.array([[1,2],[3,4],[5,6]])\n",
    "my_array3"
   ],
   "id": "b5aaccb3766498a4",
   "outputs": [
    {
     "data": {
      "text/plain": [
       "array([[1, 2],\n",
       "       [3, 4],\n",
       "       [5, 6]])"
      ]
     },
     "execution_count": 16,
     "metadata": {},
     "output_type": "execute_result"
    }
   ],
   "execution_count": 16
  },
  {
   "metadata": {
    "ExecuteTime": {
     "end_time": "2024-12-10T02:43:10.907997Z",
     "start_time": "2024-12-10T02:43:10.905102Z"
    }
   },
   "cell_type": "code",
   "source": "my_array3.shape",
   "id": "e3d5bf60e68d7d1f",
   "outputs": [
    {
     "data": {
      "text/plain": [
       "(3, 2)"
      ]
     },
     "execution_count": 17,
     "metadata": {},
     "output_type": "execute_result"
    }
   ],
   "execution_count": 17
  },
  {
   "metadata": {
    "ExecuteTime": {
     "end_time": "2024-12-10T02:44:46.162625Z",
     "start_time": "2024-12-10T02:44:46.156782Z"
    }
   },
   "cell_type": "code",
   "source": [
    "my_array_3d = np.array([[[1, 2], [3,4]], [[5,6], [7,8]]])\n",
    "my_array_3d"
   ],
   "id": "e428725885324722",
   "outputs": [
    {
     "data": {
      "text/plain": [
       "array([[[1, 2],\n",
       "        [3, 4]],\n",
       "\n",
       "       [[5, 6],\n",
       "        [7, 8]]])"
      ]
     },
     "execution_count": 18,
     "metadata": {},
     "output_type": "execute_result"
    }
   ],
   "execution_count": 18
  },
  {
   "metadata": {
    "ExecuteTime": {
     "end_time": "2024-12-10T02:44:55.998385Z",
     "start_time": "2024-12-10T02:44:55.995561Z"
    }
   },
   "cell_type": "code",
   "source": "my_array_3d.shape",
   "id": "1ed921f7e22e9ab1",
   "outputs": [
    {
     "data": {
      "text/plain": [
       "(2, 2, 2)"
      ]
     },
     "execution_count": 19,
     "metadata": {},
     "output_type": "execute_result"
    }
   ],
   "execution_count": 19
  },
  {
   "metadata": {
    "ExecuteTime": {
     "end_time": "2024-12-10T02:45:53.261434Z",
     "start_time": "2024-12-10T02:45:53.255771Z"
    }
   },
   "cell_type": "code",
   "source": "my_array_3d[0][1][0]",
   "id": "75a8c06d6b9908b7",
   "outputs": [
    {
     "data": {
      "text/plain": [
       "np.int64(3)"
      ]
     },
     "execution_count": 20,
     "metadata": {},
     "output_type": "execute_result"
    }
   ],
   "execution_count": 20
  },
  {
   "metadata": {
    "ExecuteTime": {
     "end_time": "2024-12-10T02:47:44.685515Z",
     "start_time": "2024-12-10T02:47:44.678229Z"
    }
   },
   "cell_type": "code",
   "source": "np.zeros((5, 3))",
   "id": "225dce5be0c485e1",
   "outputs": [
    {
     "data": {
      "text/plain": [
       "array([[0., 0., 0.],\n",
       "       [0., 0., 0.],\n",
       "       [0., 0., 0.],\n",
       "       [0., 0., 0.],\n",
       "       [0., 0., 0.]])"
      ]
     },
     "execution_count": 21,
     "metadata": {},
     "output_type": "execute_result"
    }
   ],
   "execution_count": 21
  },
  {
   "metadata": {
    "ExecuteTime": {
     "end_time": "2024-12-10T02:48:23.607429Z",
     "start_time": "2024-12-10T02:48:23.600886Z"
    }
   },
   "cell_type": "code",
   "source": "np.ones((3, 3))",
   "id": "f800011ce444669",
   "outputs": [
    {
     "data": {
      "text/plain": [
       "array([[1., 1., 1.],\n",
       "       [1., 1., 1.],\n",
       "       [1., 1., 1.]])"
      ]
     },
     "execution_count": 22,
     "metadata": {},
     "output_type": "execute_result"
    }
   ],
   "execution_count": 22
  },
  {
   "metadata": {
    "ExecuteTime": {
     "end_time": "2024-12-10T02:48:58.104623Z",
     "start_time": "2024-12-10T02:48:58.074554Z"
    }
   },
   "cell_type": "code",
   "source": "np.random.random((2, 3))",
   "id": "580d739764277510",
   "outputs": [
    {
     "data": {
      "text/plain": [
       "array([[0.73470857, 0.05333784, 0.79377105],\n",
       "       [0.59832392, 0.99004715, 0.52024632]])"
      ]
     },
     "execution_count": 23,
     "metadata": {},
     "output_type": "execute_result"
    }
   ],
   "execution_count": 23
  },
  {
   "metadata": {
    "ExecuteTime": {
     "end_time": "2024-12-10T02:50:50.520463Z",
     "start_time": "2024-12-10T02:50:50.517650Z"
    }
   },
   "cell_type": "code",
   "source": "np.arange(5, 20)",
   "id": "b6c02fde38df490f",
   "outputs": [
    {
     "data": {
      "text/plain": [
       "array([ 5,  6,  7,  8,  9, 10, 11, 12, 13, 14, 15, 16, 17, 18, 19])"
      ]
     },
     "execution_count": 27,
     "metadata": {},
     "output_type": "execute_result"
    }
   ],
   "execution_count": 27
  },
  {
   "metadata": {
    "ExecuteTime": {
     "end_time": "2024-12-10T02:51:44.575380Z",
     "start_time": "2024-12-10T02:51:44.572607Z"
    }
   },
   "cell_type": "code",
   "source": "np.arange(5, 20, -2)",
   "id": "39a3cc220801119b",
   "outputs": [
    {
     "data": {
      "text/plain": [
       "array([], dtype=int64)"
      ]
     },
     "execution_count": 29,
     "metadata": {},
     "output_type": "execute_result"
    }
   ],
   "execution_count": 29
  },
  {
   "metadata": {
    "ExecuteTime": {
     "end_time": "2024-12-10T02:52:59.615884Z",
     "start_time": "2024-12-10T02:52:59.609622Z"
    }
   },
   "cell_type": "code",
   "source": "np.linspace(0, 10, 20)",
   "id": "1bee37b9391fc6fb",
   "outputs": [
    {
     "data": {
      "text/plain": [
       "array([ 0.        ,  0.52631579,  1.05263158,  1.57894737,  2.10526316,\n",
       "        2.63157895,  3.15789474,  3.68421053,  4.21052632,  4.73684211,\n",
       "        5.26315789,  5.78947368,  6.31578947,  6.84210526,  7.36842105,\n",
       "        7.89473684,  8.42105263,  8.94736842,  9.47368421, 10.        ])"
      ]
     },
     "execution_count": 30,
     "metadata": {},
     "output_type": "execute_result"
    }
   ],
   "execution_count": 30
  },
  {
   "metadata": {
    "ExecuteTime": {
     "end_time": "2024-12-10T02:54:27.289322Z",
     "start_time": "2024-12-10T02:54:27.286638Z"
    }
   },
   "cell_type": "code",
   "source": "np.linspace(0, 10, 4)",
   "id": "b378cb1746d22dbb",
   "outputs": [
    {
     "data": {
      "text/plain": [
       "array([ 0.        ,  3.33333333,  6.66666667, 10.        ])"
      ]
     },
     "execution_count": 33,
     "metadata": {},
     "output_type": "execute_result"
    }
   ],
   "execution_count": 33
  },
  {
   "metadata": {
    "ExecuteTime": {
     "end_time": "2024-12-10T03:02:38.272115Z",
     "start_time": "2024-12-10T03:02:38.269498Z"
    }
   },
   "cell_type": "code",
   "source": "np.arange(4, 20).reshape(4, 4)",
   "id": "d73e90248e58a915",
   "outputs": [
    {
     "data": {
      "text/plain": [
       "array([[ 4,  5,  6,  7],\n",
       "       [ 8,  9, 10, 11],\n",
       "       [12, 13, 14, 15],\n",
       "       [16, 17, 18, 19]])"
      ]
     },
     "execution_count": 38,
     "metadata": {},
     "output_type": "execute_result"
    }
   ],
   "execution_count": 38
  },
  {
   "metadata": {
    "ExecuteTime": {
     "end_time": "2024-12-10T03:03:34.791792Z",
     "start_time": "2024-12-10T03:03:34.788903Z"
    }
   },
   "cell_type": "code",
   "source": "np.arange(4, 20).reshape(4,4).flatten()",
   "id": "c6bf05f573fb8193",
   "outputs": [
    {
     "data": {
      "text/plain": [
       "array([ 4,  5,  6,  7,  8,  9, 10, 11, 12, 13, 14, 15, 16, 17, 18, 19])"
      ]
     },
     "execution_count": 40,
     "metadata": {},
     "output_type": "execute_result"
    }
   ],
   "execution_count": 40
  },
  {
   "metadata": {
    "ExecuteTime": {
     "end_time": "2024-12-12T01:59:48.449541Z",
     "start_time": "2024-12-12T01:59:48.446329Z"
    }
   },
   "cell_type": "code",
   "source": "np.linspace(1, 100, 100).reshape(10, 10)",
   "id": "cf914a06e8cada75",
   "outputs": [
    {
     "data": {
      "text/plain": [
       "array([[  1.,   2.,   3.,   4.,   5.,   6.,   7.,   8.,   9.,  10.],\n",
       "       [ 11.,  12.,  13.,  14.,  15.,  16.,  17.,  18.,  19.,  20.],\n",
       "       [ 21.,  22.,  23.,  24.,  25.,  26.,  27.,  28.,  29.,  30.],\n",
       "       [ 31.,  32.,  33.,  34.,  35.,  36.,  37.,  38.,  39.,  40.],\n",
       "       [ 41.,  42.,  43.,  44.,  45.,  46.,  47.,  48.,  49.,  50.],\n",
       "       [ 51.,  52.,  53.,  54.,  55.,  56.,  57.,  58.,  59.,  60.],\n",
       "       [ 61.,  62.,  63.,  64.,  65.,  66.,  67.,  68.,  69.,  70.],\n",
       "       [ 71.,  72.,  73.,  74.,  75.,  76.,  77.,  78.,  79.,  80.],\n",
       "       [ 81.,  82.,  83.,  84.,  85.,  86.,  87.,  88.,  89.,  90.],\n",
       "       [ 91.,  92.,  93.,  94.,  95.,  96.,  97.,  98.,  99., 100.]])"
      ]
     },
     "execution_count": 6,
     "metadata": {},
     "output_type": "execute_result"
    }
   ],
   "execution_count": 6
  },
  {
   "metadata": {
    "ExecuteTime": {
     "end_time": "2024-12-12T02:05:59.006743Z",
     "start_time": "2024-12-12T02:05:59.003543Z"
    }
   },
   "cell_type": "code",
   "source": "np.linspace(1, 100, 100)[ : :-1]",
   "id": "99f80583a38a2f99",
   "outputs": [
    {
     "data": {
      "text/plain": [
       "array([100.,  99.,  98.,  97.,  96.,  95.,  94.,  93.,  92.,  91.,  90.,\n",
       "        89.,  88.,  87.,  86.,  85.,  84.,  83.,  82.,  81.,  80.,  79.,\n",
       "        78.,  77.,  76.,  75.,  74.,  73.,  72.,  71.,  70.,  69.,  68.,\n",
       "        67.,  66.,  65.,  64.,  63.,  62.,  61.,  60.,  59.,  58.,  57.,\n",
       "        56.,  55.,  54.,  53.,  52.,  51.,  50.,  49.,  48.,  47.,  46.,\n",
       "        45.,  44.,  43.,  42.,  41.,  40.,  39.,  38.,  37.,  36.,  35.,\n",
       "        34.,  33.,  32.,  31.,  30.,  29.,  28.,  27.,  26.,  25.,  24.,\n",
       "        23.,  22.,  21.,  20.,  19.,  18.,  17.,  16.,  15.,  14.,  13.,\n",
       "        12.,  11.,  10.,   9.,   8.,   7.,   6.,   5.,   4.,   3.,   2.,\n",
       "         1.])"
      ]
     },
     "execution_count": 17,
     "metadata": {},
     "output_type": "execute_result"
    }
   ],
   "execution_count": 17
  },
  {
   "metadata": {
    "ExecuteTime": {
     "end_time": "2024-12-12T02:09:27.530821Z",
     "start_time": "2024-12-12T02:09:27.528036Z"
    }
   },
   "cell_type": "code",
   "source": "np.arange(20).reshape(4, 5)",
   "id": "5eea8a009320e4a3",
   "outputs": [
    {
     "data": {
      "text/plain": [
       "array([[ 0,  1,  2,  3,  4],\n",
       "       [ 5,  6,  7,  8,  9],\n",
       "       [10, 11, 12, 13, 14],\n",
       "       [15, 16, 17, 18, 19]])"
      ]
     },
     "execution_count": 22,
     "metadata": {},
     "output_type": "execute_result"
    }
   ],
   "execution_count": 22
  },
  {
   "metadata": {
    "ExecuteTime": {
     "end_time": "2024-12-12T02:11:09.246266Z",
     "start_time": "2024-12-12T02:11:09.243390Z"
    }
   },
   "cell_type": "code",
   "source": "np.arange(20).reshape(4, 5)[:3]",
   "id": "528cdeddd9b43be3",
   "outputs": [
    {
     "data": {
      "text/plain": [
       "array([[ 0,  1,  2,  3,  4],\n",
       "       [ 5,  6,  7,  8,  9],\n",
       "       [10, 11, 12, 13, 14]])"
      ]
     },
     "execution_count": 24,
     "metadata": {},
     "output_type": "execute_result"
    }
   ],
   "execution_count": 24
  },
  {
   "metadata": {
    "ExecuteTime": {
     "end_time": "2024-12-12T02:11:26.254753Z",
     "start_time": "2024-12-12T02:11:26.251718Z"
    }
   },
   "cell_type": "code",
   "source": "np.arange(20).reshape(4, 5)[:3, 1:]\n",
   "id": "207cb2495f904f7c",
   "outputs": [
    {
     "data": {
      "text/plain": [
       "array([[ 1,  2,  3,  4],\n",
       "       [ 6,  7,  8,  9],\n",
       "       [11, 12, 13, 14]])"
      ]
     },
     "execution_count": 25,
     "metadata": {},
     "output_type": "execute_result"
    }
   ],
   "execution_count": 25
  },
  {
   "metadata": {
    "ExecuteTime": {
     "end_time": "2024-12-12T02:12:27.323886Z",
     "start_time": "2024-12-12T02:12:27.321072Z"
    }
   },
   "cell_type": "code",
   "source": "np.arange(20).reshape(4, 5)[:3, 1::2]",
   "id": "e13df390d9a2fd42",
   "outputs": [
    {
     "data": {
      "text/plain": [
       "array([[ 1,  3],\n",
       "       [ 6,  8],\n",
       "       [11, 13]])"
      ]
     },
     "execution_count": 27,
     "metadata": {},
     "output_type": "execute_result"
    }
   ],
   "execution_count": 27
  },
  {
   "metadata": {
    "ExecuteTime": {
     "end_time": "2024-12-12T02:12:55.086294Z",
     "start_time": "2024-12-12T02:12:55.083227Z"
    }
   },
   "cell_type": "code",
   "source": "np.arange(20).reshape(4, 5)",
   "id": "c4b508da3365d1fc",
   "outputs": [
    {
     "data": {
      "text/plain": [
       "array([[ 0,  1,  2,  3,  4],\n",
       "       [ 5,  6,  7,  8,  9],\n",
       "       [10, 11, 12, 13, 14],\n",
       "       [15, 16, 17, 18, 19]])"
      ]
     },
     "execution_count": 28,
     "metadata": {},
     "output_type": "execute_result"
    }
   ],
   "execution_count": 28
  },
  {
   "metadata": {
    "ExecuteTime": {
     "end_time": "2024-12-12T02:14:06.688561Z",
     "start_time": "2024-12-12T02:14:06.685870Z"
    }
   },
   "cell_type": "code",
   "source": "np.arange(20).reshape(4, 5)[:,2:]",
   "id": "b91392644d1f2aac",
   "outputs": [
    {
     "data": {
      "text/plain": [
       "array([[ 2,  3,  4],\n",
       "       [ 7,  8,  9],\n",
       "       [12, 13, 14],\n",
       "       [17, 18, 19]])"
      ]
     },
     "execution_count": 29,
     "metadata": {},
     "output_type": "execute_result"
    }
   ],
   "execution_count": 29
  },
  {
   "metadata": {
    "ExecuteTime": {
     "end_time": "2024-12-12T02:15:38.163083Z",
     "start_time": "2024-12-12T02:15:38.160493Z"
    }
   },
   "cell_type": "code",
   "source": "np.arange(20).reshape(4, 5)[1:3,1:3]",
   "id": "7c7e092ba84eeb14",
   "outputs": [
    {
     "data": {
      "text/plain": [
       "array([[ 6,  7],\n",
       "       [11, 12]])"
      ]
     },
     "execution_count": 31,
     "metadata": {},
     "output_type": "execute_result"
    }
   ],
   "execution_count": 31
  },
  {
   "metadata": {
    "ExecuteTime": {
     "end_time": "2024-12-12T02:15:48.310484Z",
     "start_time": "2024-12-12T02:15:48.307489Z"
    }
   },
   "cell_type": "code",
   "source": "np.arange(20).reshape(4, 5)",
   "id": "f2075f45cc185779",
   "outputs": [
    {
     "data": {
      "text/plain": [
       "array([[ 0,  1,  2,  3,  4],\n",
       "       [ 5,  6,  7,  8,  9],\n",
       "       [10, 11, 12, 13, 14],\n",
       "       [15, 16, 17, 18, 19]])"
      ]
     },
     "execution_count": 32,
     "metadata": {},
     "output_type": "execute_result"
    }
   ],
   "execution_count": 32
  },
  {
   "metadata": {
    "ExecuteTime": {
     "end_time": "2024-12-12T02:23:54.896027Z",
     "start_time": "2024-12-12T02:23:54.893133Z"
    }
   },
   "cell_type": "code",
   "source": "np.arange(20).reshape(4, 5)[1:,-2::-2]",
   "id": "ef3b2b88f9a615cd",
   "outputs": [
    {
     "data": {
      "text/plain": [
       "array([[ 8,  6],\n",
       "       [13, 11],\n",
       "       [18, 16]])"
      ]
     },
     "execution_count": 41,
     "metadata": {},
     "output_type": "execute_result"
    }
   ],
   "execution_count": 41
  },
  {
   "metadata": {
    "ExecuteTime": {
     "end_time": "2024-12-12T02:25:08.672135Z",
     "start_time": "2024-12-12T02:25:08.669266Z"
    }
   },
   "cell_type": "code",
   "source": "np.arange(20).reshape(4, 5)",
   "id": "58e8cef58e8b02a3",
   "outputs": [
    {
     "data": {
      "text/plain": [
       "array([[ 0,  1,  2,  3,  4],\n",
       "       [ 5,  6,  7,  8,  9],\n",
       "       [10, 11, 12, 13, 14],\n",
       "       [15, 16, 17, 18, 19]])"
      ]
     },
     "execution_count": 42,
     "metadata": {},
     "output_type": "execute_result"
    }
   ],
   "execution_count": 42
  },
  {
   "metadata": {
    "ExecuteTime": {
     "end_time": "2024-12-12T02:26:42.241428Z",
     "start_time": "2024-12-12T02:26:42.238735Z"
    }
   },
   "cell_type": "code",
   "source": "np.arange(20).reshape(4, 5)[[1, 0, 3], [1, 3, 4]]",
   "id": "368ad5a6cbb67652",
   "outputs": [
    {
     "data": {
      "text/plain": [
       "array([ 6,  3, 19])"
      ]
     },
     "execution_count": 45,
     "metadata": {},
     "output_type": "execute_result"
    }
   ],
   "execution_count": 45
  },
  {
   "metadata": {
    "ExecuteTime": {
     "end_time": "2024-12-12T02:27:54.599807Z",
     "start_time": "2024-12-12T02:27:54.596157Z"
    }
   },
   "cell_type": "code",
   "source": [
    "arr = np.arange(20).reshape(4, 5)\n",
    "arr[arr > 7]"
   ],
   "id": "b0f53ea148d9867c",
   "outputs": [
    {
     "data": {
      "text/plain": [
       "array([ 8,  9, 10, 11, 12, 13, 14, 15, 16, 17, 18, 19])"
      ]
     },
     "execution_count": 46,
     "metadata": {},
     "output_type": "execute_result"
    }
   ],
   "execution_count": 46
  },
  {
   "metadata": {
    "ExecuteTime": {
     "end_time": "2024-12-12T02:29:36.856284Z",
     "start_time": "2024-12-12T02:29:36.853416Z"
    }
   },
   "cell_type": "code",
   "source": "arr[arr % 2 == 0]",
   "id": "605006b3ca185652",
   "outputs": [
    {
     "data": {
      "text/plain": [
       "array([ 0,  2,  4,  6,  8, 10, 12, 14, 16, 18])"
      ]
     },
     "execution_count": 48,
     "metadata": {},
     "output_type": "execute_result"
    }
   ],
   "execution_count": 48
  },
  {
   "metadata": {
    "ExecuteTime": {
     "end_time": "2024-12-12T02:48:33.703767Z",
     "start_time": "2024-12-12T02:48:33.701518Z"
    }
   },
   "cell_type": "code",
   "source": [
    "def is_prime(n):\n",
    "    if n == 0 or n == 1:\n",
    "        return False\n",
    "    i = 2\n",
    "    while (i ** 2) <= n:\n",
    "        if n % i == 0:\n",
    "            return False\n",
    "        i += 1\n",
    "    return True"
   ],
   "id": "238f8f710a6cef9f",
   "outputs": [],
   "execution_count": 66
  },
  {
   "metadata": {
    "ExecuteTime": {
     "end_time": "2024-12-12T02:36:37.011144Z",
     "start_time": "2024-12-12T02:36:37.008469Z"
    }
   },
   "cell_type": "code",
   "source": "is_prime(20)",
   "id": "db6653996a9ce44c",
   "outputs": [
    {
     "data": {
      "text/plain": [
       "False"
      ]
     },
     "execution_count": 50,
     "metadata": {},
     "output_type": "execute_result"
    }
   ],
   "execution_count": 50
  },
  {
   "metadata": {
    "ExecuteTime": {
     "end_time": "2024-12-12T02:37:20.468717Z",
     "start_time": "2024-12-12T02:37:20.466503Z"
    }
   },
   "cell_type": "code",
   "source": "is_prime(19)",
   "id": "2abcd959a4f97c8f",
   "outputs": [
    {
     "data": {
      "text/plain": [
       "True"
      ]
     },
     "execution_count": 53,
     "metadata": {},
     "output_type": "execute_result"
    }
   ],
   "execution_count": 53
  },
  {
   "metadata": {
    "ExecuteTime": {
     "end_time": "2024-12-12T02:38:27.416336Z",
     "start_time": "2024-12-12T02:38:27.413761Z"
    }
   },
   "cell_type": "code",
   "source": "is_prime(139)",
   "id": "7e083fa6927d6c05",
   "outputs": [
    {
     "data": {
      "text/plain": [
       "True"
      ]
     },
     "execution_count": 58,
     "metadata": {},
     "output_type": "execute_result"
    }
   ],
   "execution_count": 58
  },
  {
   "metadata": {
    "ExecuteTime": {
     "end_time": "2024-12-12T02:48:36.555457Z",
     "start_time": "2024-12-12T02:48:36.550433Z"
    }
   },
   "cell_type": "code",
   "source": [
    "arr = np.arange(1000).reshape(100, 10).flatten()\n",
    "np.array([x for x in arr if is_prime(x)])"
   ],
   "id": "482a1bee3328bea5",
   "outputs": [
    {
     "data": {
      "text/plain": [
       "array([  2,   3,   5,   7,  11,  13,  17,  19,  23,  29,  31,  37,  41,\n",
       "        43,  47,  53,  59,  61,  67,  71,  73,  79,  83,  89,  97, 101,\n",
       "       103, 107, 109, 113, 127, 131, 137, 139, 149, 151, 157, 163, 167,\n",
       "       173, 179, 181, 191, 193, 197, 199, 211, 223, 227, 229, 233, 239,\n",
       "       241, 251, 257, 263, 269, 271, 277, 281, 283, 293, 307, 311, 313,\n",
       "       317, 331, 337, 347, 349, 353, 359, 367, 373, 379, 383, 389, 397,\n",
       "       401, 409, 419, 421, 431, 433, 439, 443, 449, 457, 461, 463, 467,\n",
       "       479, 487, 491, 499, 503, 509, 521, 523, 541, 547, 557, 563, 569,\n",
       "       571, 577, 587, 593, 599, 601, 607, 613, 617, 619, 631, 641, 643,\n",
       "       647, 653, 659, 661, 673, 677, 683, 691, 701, 709, 719, 727, 733,\n",
       "       739, 743, 751, 757, 761, 769, 773, 787, 797, 809, 811, 821, 823,\n",
       "       827, 829, 839, 853, 857, 859, 863, 877, 881, 883, 887, 907, 911,\n",
       "       919, 929, 937, 941, 947, 953, 967, 971, 977, 983, 991, 997])"
      ]
     },
     "execution_count": 67,
     "metadata": {},
     "output_type": "execute_result"
    }
   ],
   "execution_count": 67
  },
  {
   "metadata": {
    "ExecuteTime": {
     "end_time": "2024-12-12T02:58:58.669852Z",
     "start_time": "2024-12-12T02:58:58.666795Z"
    }
   },
   "cell_type": "code",
   "source": "np.arange(10).reshape(2, 5) - 1",
   "id": "cccb77183a181278",
   "outputs": [
    {
     "data": {
      "text/plain": [
       "array([[-1,  0,  1,  2,  3],\n",
       "       [ 4,  5,  6,  7,  8]])"
      ]
     },
     "execution_count": 75,
     "metadata": {},
     "output_type": "execute_result"
    }
   ],
   "execution_count": 75
  },
  {
   "metadata": {
    "ExecuteTime": {
     "end_time": "2024-12-12T03:00:18.309372Z",
     "start_time": "2024-12-12T03:00:18.306307Z"
    }
   },
   "cell_type": "code",
   "source": "np.arange(10).reshape(2, 5).max()",
   "id": "28d919feb0b69e34",
   "outputs": [
    {
     "data": {
      "text/plain": [
       "np.int64(9)"
      ]
     },
     "execution_count": 77,
     "metadata": {},
     "output_type": "execute_result"
    }
   ],
   "execution_count": 77
  },
  {
   "metadata": {
    "ExecuteTime": {
     "end_time": "2024-12-12T03:00:27.473317Z",
     "start_time": "2024-12-12T03:00:27.470504Z"
    }
   },
   "cell_type": "code",
   "source": "np.arange(10).reshape(2, 5).min()\n",
   "id": "a2f545641e771054",
   "outputs": [
    {
     "data": {
      "text/plain": [
       "np.int64(0)"
      ]
     },
     "execution_count": 78,
     "metadata": {},
     "output_type": "execute_result"
    }
   ],
   "execution_count": 78
  },
  {
   "metadata": {
    "ExecuteTime": {
     "end_time": "2024-12-12T03:00:42.156088Z",
     "start_time": "2024-12-12T03:00:42.153408Z"
    }
   },
   "cell_type": "code",
   "source": "np.arange(10).reshape(2, 5).sum()",
   "id": "96e20c5679c73449",
   "outputs": [
    {
     "data": {
      "text/plain": [
       "np.int64(45)"
      ]
     },
     "execution_count": 79,
     "metadata": {},
     "output_type": "execute_result"
    }
   ],
   "execution_count": 79
  },
  {
   "metadata": {
    "ExecuteTime": {
     "end_time": "2024-12-12T03:02:00.547552Z",
     "start_time": "2024-12-12T03:02:00.544010Z"
    }
   },
   "cell_type": "code",
   "source": "np.arange(10).reshape(2, 5).transpose()",
   "id": "a2fd864df68baed6",
   "outputs": [
    {
     "data": {
      "text/plain": [
       "array([[0, 5],\n",
       "       [1, 6],\n",
       "       [2, 7],\n",
       "       [3, 8],\n",
       "       [4, 9]])"
      ]
     },
     "execution_count": 81,
     "metadata": {},
     "output_type": "execute_result"
    }
   ],
   "execution_count": 81
  },
  {
   "metadata": {
    "ExecuteTime": {
     "end_time": "2024-12-12T03:03:19.426627Z",
     "start_time": "2024-12-12T03:03:19.423994Z"
    }
   },
   "cell_type": "code",
   "source": "np.arange(10).reshape(2, 5).max(axis=0)",
   "id": "d221c74584d8ea83",
   "outputs": [
    {
     "data": {
      "text/plain": [
       "array([5, 6, 7, 8, 9])"
      ]
     },
     "execution_count": 85,
     "metadata": {},
     "output_type": "execute_result"
    }
   ],
   "execution_count": 85
  },
  {
   "metadata": {
    "ExecuteTime": {
     "end_time": "2024-12-12T03:04:19.084930Z",
     "start_time": "2024-12-12T03:04:19.082935Z"
    }
   },
   "cell_type": "code",
   "source": [
    "a = np.arange(10).reshape(2, 5)\n",
    "b = np.arange(10, 20).reshape(2, 5)"
   ],
   "id": "6614cc30a84a8eb",
   "outputs": [],
   "execution_count": 87
  },
  {
   "metadata": {
    "ExecuteTime": {
     "end_time": "2024-12-12T03:04:27.265193Z",
     "start_time": "2024-12-12T03:04:27.262229Z"
    }
   },
   "cell_type": "code",
   "source": "a + b",
   "id": "1d0b2e8cedaba14a",
   "outputs": [
    {
     "data": {
      "text/plain": [
       "array([[10, 12, 14, 16, 18],\n",
       "       [20, 22, 24, 26, 28]])"
      ]
     },
     "execution_count": 88,
     "metadata": {},
     "output_type": "execute_result"
    }
   ],
   "execution_count": 88
  },
  {
   "metadata": {
    "ExecuteTime": {
     "end_time": "2024-12-12T03:05:23.101024Z",
     "start_time": "2024-12-12T03:05:23.098287Z"
    }
   },
   "cell_type": "code",
   "source": "a * b",
   "id": "524135f12dd00757",
   "outputs": [
    {
     "data": {
      "text/plain": [
       "array([[  0,  11,  24,  39,  56],\n",
       "       [ 75,  96, 119, 144, 171]])"
      ]
     },
     "execution_count": 89,
     "metadata": {},
     "output_type": "execute_result"
    }
   ],
   "execution_count": 89
  },
  {
   "metadata": {
    "ExecuteTime": {
     "end_time": "2024-12-12T03:07:35.827901Z",
     "start_time": "2024-12-12T03:07:35.825428Z"
    }
   },
   "cell_type": "code",
   "source": "a.dot(b.reshape(5, 2))",
   "id": "adca8cbe91b9f19e",
   "outputs": [
    {
     "data": {
      "text/plain": [
       "array([[160, 170],\n",
       "       [510, 545]])"
      ]
     },
     "execution_count": 91,
     "metadata": {},
     "output_type": "execute_result"
    }
   ],
   "execution_count": 91
  },
  {
   "metadata": {},
   "cell_type": "code",
   "outputs": [],
   "execution_count": null,
   "source": "# n x m \\dot m x n = n x n",
   "id": "6eaaee606e82b544"
  },
  {
   "metadata": {},
   "cell_type": "markdown",
   "source": "",
   "id": "6edddfb9cabf8311"
  },
  {
   "metadata": {},
   "cell_type": "code",
   "outputs": [],
   "execution_count": null,
   "source": "",
   "id": "f19bed985254363a"
  }
 ],
 "metadata": {
  "kernelspec": {
   "display_name": "Python 3 (ipykernel)",
   "language": "python",
   "name": "python3"
  },
  "language_info": {
   "codemirror_mode": {
    "name": "ipython",
    "version": 3
   },
   "file_extension": ".py",
   "mimetype": "text/x-python",
   "name": "python",
   "nbconvert_exporter": "python",
   "pygments_lexer": "ipython3",
   "version": "3.9.6"
  }
 },
 "nbformat": 4,
 "nbformat_minor": 5
}
