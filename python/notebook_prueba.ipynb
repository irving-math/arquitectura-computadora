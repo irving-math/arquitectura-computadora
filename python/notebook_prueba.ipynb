{
 "cells": [
  {
   "cell_type": "markdown",
   "id": "8f7358f4-9012-459c-9f47-547db4170028",
   "metadata": {},
   "source": [
    "# Clase 1 de arquitectura\n"
   ]
  },
  {
   "cell_type": "markdown",
   "id": "28abb37e-c4e6-42b3-9e69-d31d334e7704",
   "metadata": {},
   "source": [
    "_Ejemplo de celdas en jupyter_"
   ]
  },
  {
   "cell_type": "code",
   "id": "88a0c097-eaf3-46c5-82e6-f9491cc36d2e",
   "metadata": {
    "ExecuteTime": {
     "end_time": "2025-01-09T02:53:32.417473Z",
     "start_time": "2025-01-09T02:53:32.412780Z"
    }
   },
   "source": [
    "from nest_asyncio import apply\n",
    "\n",
    "x = 1\n",
    "y = 8\n",
    "x * y"
   ],
   "outputs": [
    {
     "data": {
      "text/plain": [
       "8"
      ]
     },
     "execution_count": 2,
     "metadata": {},
     "output_type": "execute_result"
    }
   ],
   "execution_count": 2
  },
  {
   "cell_type": "markdown",
   "id": "6f44b99f-c380-4e0c-9fd0-b59b276e6942",
   "metadata": {},
   "source": [
    "_Las celdas tambien pueden importar clases_"
   ]
  },
  {
   "cell_type": "code",
   "id": "dfca4b11-3100-441c-ba4e-c56e2e709dac",
   "metadata": {
    "ExecuteTime": {
     "end_time": "2025-01-09T02:53:32.457203Z",
     "start_time": "2025-01-09T02:53:32.452663Z"
    }
   },
   "source": [
    "import math\n",
    "math.sin(math.pi/2)"
   ],
   "outputs": [
    {
     "data": {
      "text/plain": [
       "1.0"
      ]
     },
     "execution_count": 3,
     "metadata": {},
     "output_type": "execute_result"
    }
   ],
   "execution_count": 3
  },
  {
   "cell_type": "markdown",
   "id": "346eb24f-158d-4084-a820-42cdbc37aa7c",
   "metadata": {},
   "source": [
    "_Los imports de otra celda funcionan en las celdas siguientes_"
   ]
  },
  {
   "metadata": {
    "ExecuteTime": {
     "end_time": "2025-01-09T02:53:32.507876Z",
     "start_time": "2025-01-09T02:53:32.504518Z"
    }
   },
   "cell_type": "code",
   "source": "math.ceil(3.1)",
   "id": "9797cb4170245e80",
   "outputs": [
    {
     "data": {
      "text/plain": [
       "4"
      ]
     },
     "execution_count": 4,
     "metadata": {},
     "output_type": "execute_result"
    }
   ],
   "execution_count": 4
  },
  {
   "metadata": {},
   "cell_type": "markdown",
   "source": [
    "__La instalacion de numpy se hace ejecutando el comando__\n",
    "\n",
    "`pip install numpy`"
   ],
   "id": "96ae1b49c6f1cbb2"
  },
  {
   "metadata": {
    "ExecuteTime": {
     "end_time": "2025-01-10T01:49:49.591179Z",
     "start_time": "2025-01-10T01:49:49.473548Z"
    }
   },
   "cell_type": "code",
   "source": "import numpy as np",
   "id": "feee53577910a35c",
   "outputs": [],
   "execution_count": 2
  },
  {
   "metadata": {
    "ExecuteTime": {
     "end_time": "2025-01-09T02:53:32.643639Z",
     "start_time": "2025-01-09T02:53:32.640573Z"
    }
   },
   "cell_type": "code",
   "source": [
    "my_array = np.array([1, 2, 3, 4, 5])\n",
    "my_array"
   ],
   "id": "8d55c5172b2196cd",
   "outputs": [
    {
     "data": {
      "text/plain": [
       "array([1, 2, 3, 4, 5])"
      ]
     },
     "execution_count": 6,
     "metadata": {},
     "output_type": "execute_result"
    }
   ],
   "execution_count": 6
  },
  {
   "metadata": {
    "ExecuteTime": {
     "end_time": "2025-01-09T02:53:32.701693Z",
     "start_time": "2025-01-09T02:53:32.698403Z"
    }
   },
   "cell_type": "code",
   "source": "my_array.ndim",
   "id": "5cb2c5929f4b6f75",
   "outputs": [
    {
     "data": {
      "text/plain": [
       "1"
      ]
     },
     "execution_count": 7,
     "metadata": {},
     "output_type": "execute_result"
    }
   ],
   "execution_count": 7
  },
  {
   "metadata": {
    "ExecuteTime": {
     "end_time": "2025-01-09T02:53:32.755384Z",
     "start_time": "2025-01-09T02:53:32.751686Z"
    }
   },
   "cell_type": "code",
   "source": "my_array.shape",
   "id": "c3ad4f0469f0cb44",
   "outputs": [
    {
     "data": {
      "text/plain": [
       "(5,)"
      ]
     },
     "execution_count": 8,
     "metadata": {},
     "output_type": "execute_result"
    }
   ],
   "execution_count": 8
  },
  {
   "metadata": {
    "ExecuteTime": {
     "end_time": "2025-01-09T02:53:32.810359Z",
     "start_time": "2025-01-09T02:53:32.807549Z"
    }
   },
   "cell_type": "code",
   "source": [
    "my_array2 = np.array([[1, 2, 3], [4, 5, 6]])\n",
    "my_array2"
   ],
   "id": "4825ab80e4e8661f",
   "outputs": [
    {
     "data": {
      "text/plain": [
       "array([[1, 2, 3],\n",
       "       [4, 5, 6]])"
      ]
     },
     "execution_count": 9,
     "metadata": {},
     "output_type": "execute_result"
    }
   ],
   "execution_count": 9
  },
  {
   "metadata": {
    "ExecuteTime": {
     "end_time": "2025-01-09T02:53:32.863552Z",
     "start_time": "2025-01-09T02:53:32.860682Z"
    }
   },
   "cell_type": "code",
   "source": "my_array2.ndim",
   "id": "c062087b9b231429",
   "outputs": [
    {
     "data": {
      "text/plain": [
       "2"
      ]
     },
     "execution_count": 10,
     "metadata": {},
     "output_type": "execute_result"
    }
   ],
   "execution_count": 10
  },
  {
   "metadata": {
    "ExecuteTime": {
     "end_time": "2025-01-09T02:53:33.015736Z",
     "start_time": "2025-01-09T02:53:33.013109Z"
    }
   },
   "cell_type": "code",
   "source": "my_array2.shape",
   "id": "28896a79317a4718",
   "outputs": [
    {
     "data": {
      "text/plain": [
       "(2, 3)"
      ]
     },
     "execution_count": 11,
     "metadata": {},
     "output_type": "execute_result"
    }
   ],
   "execution_count": 11
  },
  {
   "metadata": {
    "ExecuteTime": {
     "end_time": "2025-01-09T02:53:33.065014Z",
     "start_time": "2025-01-09T02:53:33.062508Z"
    }
   },
   "cell_type": "code",
   "source": "my_array2.size",
   "id": "df6ee8049fef1ac9",
   "outputs": [
    {
     "data": {
      "text/plain": [
       "6"
      ]
     },
     "execution_count": 12,
     "metadata": {},
     "output_type": "execute_result"
    }
   ],
   "execution_count": 12
  },
  {
   "metadata": {
    "ExecuteTime": {
     "end_time": "2025-01-09T02:53:33.156721Z",
     "start_time": "2025-01-09T02:53:33.153731Z"
    }
   },
   "cell_type": "code",
   "source": [
    "my_array3 = np.array([[1,2],[3,4],[5,6]])\n",
    "my_array3"
   ],
   "id": "b5aaccb3766498a4",
   "outputs": [
    {
     "data": {
      "text/plain": [
       "array([[1, 2],\n",
       "       [3, 4],\n",
       "       [5, 6]])"
      ]
     },
     "execution_count": 13,
     "metadata": {},
     "output_type": "execute_result"
    }
   ],
   "execution_count": 13
  },
  {
   "metadata": {
    "ExecuteTime": {
     "end_time": "2025-01-09T02:53:33.194683Z",
     "start_time": "2025-01-09T02:53:33.191923Z"
    }
   },
   "cell_type": "code",
   "source": "my_array3.shape",
   "id": "e3d5bf60e68d7d1f",
   "outputs": [
    {
     "data": {
      "text/plain": [
       "(3, 2)"
      ]
     },
     "execution_count": 14,
     "metadata": {},
     "output_type": "execute_result"
    }
   ],
   "execution_count": 14
  },
  {
   "metadata": {
    "ExecuteTime": {
     "end_time": "2025-01-09T02:53:33.267310Z",
     "start_time": "2025-01-09T02:53:33.263391Z"
    }
   },
   "cell_type": "code",
   "source": [
    "my_array_3d = np.array([[[1, 2], [3,4]], [[5,6], [7,8]]])\n",
    "my_array_3d"
   ],
   "id": "e428725885324722",
   "outputs": [
    {
     "data": {
      "text/plain": [
       "array([[[1, 2],\n",
       "        [3, 4]],\n",
       "\n",
       "       [[5, 6],\n",
       "        [7, 8]]])"
      ]
     },
     "execution_count": 15,
     "metadata": {},
     "output_type": "execute_result"
    }
   ],
   "execution_count": 15
  },
  {
   "metadata": {
    "ExecuteTime": {
     "end_time": "2025-01-09T02:53:33.335732Z",
     "start_time": "2025-01-09T02:53:33.332529Z"
    }
   },
   "cell_type": "code",
   "source": "my_array_3d.shape",
   "id": "1ed921f7e22e9ab1",
   "outputs": [
    {
     "data": {
      "text/plain": [
       "(2, 2, 2)"
      ]
     },
     "execution_count": 16,
     "metadata": {},
     "output_type": "execute_result"
    }
   ],
   "execution_count": 16
  },
  {
   "metadata": {
    "ExecuteTime": {
     "end_time": "2025-01-09T02:53:33.391746Z",
     "start_time": "2025-01-09T02:53:33.388668Z"
    }
   },
   "cell_type": "code",
   "source": "my_array_3d[0][1][0]",
   "id": "75a8c06d6b9908b7",
   "outputs": [
    {
     "data": {
      "text/plain": [
       "np.int64(3)"
      ]
     },
     "execution_count": 17,
     "metadata": {},
     "output_type": "execute_result"
    }
   ],
   "execution_count": 17
  },
  {
   "metadata": {
    "ExecuteTime": {
     "end_time": "2025-01-09T02:53:33.477551Z",
     "start_time": "2025-01-09T02:53:33.473795Z"
    }
   },
   "cell_type": "code",
   "source": "np.zeros((5, 3))",
   "id": "225dce5be0c485e1",
   "outputs": [
    {
     "data": {
      "text/plain": [
       "array([[0., 0., 0.],\n",
       "       [0., 0., 0.],\n",
       "       [0., 0., 0.],\n",
       "       [0., 0., 0.],\n",
       "       [0., 0., 0.]])"
      ]
     },
     "execution_count": 18,
     "metadata": {},
     "output_type": "execute_result"
    }
   ],
   "execution_count": 18
  },
  {
   "metadata": {
    "ExecuteTime": {
     "end_time": "2025-01-09T02:53:33.557141Z",
     "start_time": "2025-01-09T02:53:33.554259Z"
    }
   },
   "cell_type": "code",
   "source": "np.ones((3, 3))",
   "id": "f800011ce444669",
   "outputs": [
    {
     "data": {
      "text/plain": [
       "array([[1., 1., 1.],\n",
       "       [1., 1., 1.],\n",
       "       [1., 1., 1.]])"
      ]
     },
     "execution_count": 19,
     "metadata": {},
     "output_type": "execute_result"
    }
   ],
   "execution_count": 19
  },
  {
   "metadata": {
    "ExecuteTime": {
     "end_time": "2025-01-09T02:53:33.607479Z",
     "start_time": "2025-01-09T02:53:33.604759Z"
    }
   },
   "cell_type": "code",
   "source": "np.random.random((2, 3))",
   "id": "580d739764277510",
   "outputs": [
    {
     "data": {
      "text/plain": [
       "array([[0.52732637, 0.92302994, 0.12746004],\n",
       "       [0.232541  , 0.96799512, 0.40511692]])"
      ]
     },
     "execution_count": 20,
     "metadata": {},
     "output_type": "execute_result"
    }
   ],
   "execution_count": 20
  },
  {
   "metadata": {
    "ExecuteTime": {
     "end_time": "2025-01-09T02:53:33.686896Z",
     "start_time": "2025-01-09T02:53:33.683949Z"
    }
   },
   "cell_type": "code",
   "source": "np.arange(5, 20)",
   "id": "b6c02fde38df490f",
   "outputs": [
    {
     "data": {
      "text/plain": [
       "array([ 5,  6,  7,  8,  9, 10, 11, 12, 13, 14, 15, 16, 17, 18, 19])"
      ]
     },
     "execution_count": 21,
     "metadata": {},
     "output_type": "execute_result"
    }
   ],
   "execution_count": 21
  },
  {
   "metadata": {
    "ExecuteTime": {
     "end_time": "2025-01-09T02:53:33.770312Z",
     "start_time": "2025-01-09T02:53:33.767022Z"
    }
   },
   "cell_type": "code",
   "source": "np.arange(5, 20, -2)",
   "id": "39a3cc220801119b",
   "outputs": [
    {
     "data": {
      "text/plain": [
       "array([], dtype=int64)"
      ]
     },
     "execution_count": 22,
     "metadata": {},
     "output_type": "execute_result"
    }
   ],
   "execution_count": 22
  },
  {
   "metadata": {
    "ExecuteTime": {
     "end_time": "2025-01-09T02:53:33.837825Z",
     "start_time": "2025-01-09T02:53:33.834551Z"
    }
   },
   "cell_type": "code",
   "source": "np.linspace(0, 10, 20)",
   "id": "1bee37b9391fc6fb",
   "outputs": [
    {
     "data": {
      "text/plain": [
       "array([ 0.        ,  0.52631579,  1.05263158,  1.57894737,  2.10526316,\n",
       "        2.63157895,  3.15789474,  3.68421053,  4.21052632,  4.73684211,\n",
       "        5.26315789,  5.78947368,  6.31578947,  6.84210526,  7.36842105,\n",
       "        7.89473684,  8.42105263,  8.94736842,  9.47368421, 10.        ])"
      ]
     },
     "execution_count": 23,
     "metadata": {},
     "output_type": "execute_result"
    }
   ],
   "execution_count": 23
  },
  {
   "metadata": {
    "ExecuteTime": {
     "end_time": "2025-01-09T02:53:34.072466Z",
     "start_time": "2025-01-09T02:53:34.069430Z"
    }
   },
   "cell_type": "code",
   "source": "np.linspace(0, 10, 4)",
   "id": "b378cb1746d22dbb",
   "outputs": [
    {
     "data": {
      "text/plain": [
       "array([ 0.        ,  3.33333333,  6.66666667, 10.        ])"
      ]
     },
     "execution_count": 24,
     "metadata": {},
     "output_type": "execute_result"
    }
   ],
   "execution_count": 24
  },
  {
   "metadata": {
    "ExecuteTime": {
     "end_time": "2025-01-09T02:53:34.138654Z",
     "start_time": "2025-01-09T02:53:34.135346Z"
    }
   },
   "cell_type": "code",
   "source": "np.arange(4, 20).reshape(4, 4)",
   "id": "d73e90248e58a915",
   "outputs": [
    {
     "data": {
      "text/plain": [
       "array([[ 4,  5,  6,  7],\n",
       "       [ 8,  9, 10, 11],\n",
       "       [12, 13, 14, 15],\n",
       "       [16, 17, 18, 19]])"
      ]
     },
     "execution_count": 25,
     "metadata": {},
     "output_type": "execute_result"
    }
   ],
   "execution_count": 25
  },
  {
   "metadata": {
    "ExecuteTime": {
     "end_time": "2025-01-09T02:53:34.223466Z",
     "start_time": "2025-01-09T02:53:34.219907Z"
    }
   },
   "cell_type": "code",
   "source": "np.arange(4, 20).reshape(4,4).flatten()",
   "id": "c6bf05f573fb8193",
   "outputs": [
    {
     "data": {
      "text/plain": [
       "array([ 4,  5,  6,  7,  8,  9, 10, 11, 12, 13, 14, 15, 16, 17, 18, 19])"
      ]
     },
     "execution_count": 26,
     "metadata": {},
     "output_type": "execute_result"
    }
   ],
   "execution_count": 26
  },
  {
   "metadata": {
    "ExecuteTime": {
     "end_time": "2025-01-09T02:53:34.273236Z",
     "start_time": "2025-01-09T02:53:34.269099Z"
    }
   },
   "cell_type": "code",
   "source": "np.linspace(1, 100, 100).reshape(10, 10)",
   "id": "cf914a06e8cada75",
   "outputs": [
    {
     "data": {
      "text/plain": [
       "array([[  1.,   2.,   3.,   4.,   5.,   6.,   7.,   8.,   9.,  10.],\n",
       "       [ 11.,  12.,  13.,  14.,  15.,  16.,  17.,  18.,  19.,  20.],\n",
       "       [ 21.,  22.,  23.,  24.,  25.,  26.,  27.,  28.,  29.,  30.],\n",
       "       [ 31.,  32.,  33.,  34.,  35.,  36.,  37.,  38.,  39.,  40.],\n",
       "       [ 41.,  42.,  43.,  44.,  45.,  46.,  47.,  48.,  49.,  50.],\n",
       "       [ 51.,  52.,  53.,  54.,  55.,  56.,  57.,  58.,  59.,  60.],\n",
       "       [ 61.,  62.,  63.,  64.,  65.,  66.,  67.,  68.,  69.,  70.],\n",
       "       [ 71.,  72.,  73.,  74.,  75.,  76.,  77.,  78.,  79.,  80.],\n",
       "       [ 81.,  82.,  83.,  84.,  85.,  86.,  87.,  88.,  89.,  90.],\n",
       "       [ 91.,  92.,  93.,  94.,  95.,  96.,  97.,  98.,  99., 100.]])"
      ]
     },
     "execution_count": 27,
     "metadata": {},
     "output_type": "execute_result"
    }
   ],
   "execution_count": 27
  },
  {
   "metadata": {
    "ExecuteTime": {
     "end_time": "2025-01-09T02:53:34.330896Z",
     "start_time": "2025-01-09T02:53:34.326680Z"
    }
   },
   "cell_type": "code",
   "source": "np.linspace(1, 100, 100)[ : :-1]",
   "id": "99f80583a38a2f99",
   "outputs": [
    {
     "data": {
      "text/plain": [
       "array([100.,  99.,  98.,  97.,  96.,  95.,  94.,  93.,  92.,  91.,  90.,\n",
       "        89.,  88.,  87.,  86.,  85.,  84.,  83.,  82.,  81.,  80.,  79.,\n",
       "        78.,  77.,  76.,  75.,  74.,  73.,  72.,  71.,  70.,  69.,  68.,\n",
       "        67.,  66.,  65.,  64.,  63.,  62.,  61.,  60.,  59.,  58.,  57.,\n",
       "        56.,  55.,  54.,  53.,  52.,  51.,  50.,  49.,  48.,  47.,  46.,\n",
       "        45.,  44.,  43.,  42.,  41.,  40.,  39.,  38.,  37.,  36.,  35.,\n",
       "        34.,  33.,  32.,  31.,  30.,  29.,  28.,  27.,  26.,  25.,  24.,\n",
       "        23.,  22.,  21.,  20.,  19.,  18.,  17.,  16.,  15.,  14.,  13.,\n",
       "        12.,  11.,  10.,   9.,   8.,   7.,   6.,   5.,   4.,   3.,   2.,\n",
       "         1.])"
      ]
     },
     "execution_count": 28,
     "metadata": {},
     "output_type": "execute_result"
    }
   ],
   "execution_count": 28
  },
  {
   "metadata": {
    "ExecuteTime": {
     "end_time": "2025-01-09T02:53:34.455834Z",
     "start_time": "2025-01-09T02:53:34.453032Z"
    }
   },
   "cell_type": "code",
   "source": "np.arange(20).reshape(4, 5)",
   "id": "5eea8a009320e4a3",
   "outputs": [
    {
     "data": {
      "text/plain": [
       "array([[ 0,  1,  2,  3,  4],\n",
       "       [ 5,  6,  7,  8,  9],\n",
       "       [10, 11, 12, 13, 14],\n",
       "       [15, 16, 17, 18, 19]])"
      ]
     },
     "execution_count": 29,
     "metadata": {},
     "output_type": "execute_result"
    }
   ],
   "execution_count": 29
  },
  {
   "metadata": {
    "ExecuteTime": {
     "end_time": "2025-01-09T02:53:34.504963Z",
     "start_time": "2025-01-09T02:53:34.501553Z"
    }
   },
   "cell_type": "code",
   "source": "np.arange(20).reshape(4, 5)[:3]",
   "id": "528cdeddd9b43be3",
   "outputs": [
    {
     "data": {
      "text/plain": [
       "array([[ 0,  1,  2,  3,  4],\n",
       "       [ 5,  6,  7,  8,  9],\n",
       "       [10, 11, 12, 13, 14]])"
      ]
     },
     "execution_count": 30,
     "metadata": {},
     "output_type": "execute_result"
    }
   ],
   "execution_count": 30
  },
  {
   "metadata": {
    "ExecuteTime": {
     "end_time": "2025-01-09T02:53:34.583611Z",
     "start_time": "2025-01-09T02:53:34.580019Z"
    }
   },
   "cell_type": "code",
   "source": "np.arange(20).reshape(4, 5)[:3, 1:]\n",
   "id": "207cb2495f904f7c",
   "outputs": [
    {
     "data": {
      "text/plain": [
       "array([[ 1,  2,  3,  4],\n",
       "       [ 6,  7,  8,  9],\n",
       "       [11, 12, 13, 14]])"
      ]
     },
     "execution_count": 31,
     "metadata": {},
     "output_type": "execute_result"
    }
   ],
   "execution_count": 31
  },
  {
   "metadata": {
    "ExecuteTime": {
     "end_time": "2025-01-09T02:53:34.760562Z",
     "start_time": "2025-01-09T02:53:34.757331Z"
    }
   },
   "cell_type": "code",
   "source": "np.arange(20).reshape(4, 5)[:3, 1::2]",
   "id": "e13df390d9a2fd42",
   "outputs": [
    {
     "data": {
      "text/plain": [
       "array([[ 1,  3],\n",
       "       [ 6,  8],\n",
       "       [11, 13]])"
      ]
     },
     "execution_count": 32,
     "metadata": {},
     "output_type": "execute_result"
    }
   ],
   "execution_count": 32
  },
  {
   "metadata": {
    "ExecuteTime": {
     "end_time": "2025-01-09T02:53:34.914348Z",
     "start_time": "2025-01-09T02:53:34.911230Z"
    }
   },
   "cell_type": "code",
   "source": "np.arange(20).reshape(4, 5)",
   "id": "c4b508da3365d1fc",
   "outputs": [
    {
     "data": {
      "text/plain": [
       "array([[ 0,  1,  2,  3,  4],\n",
       "       [ 5,  6,  7,  8,  9],\n",
       "       [10, 11, 12, 13, 14],\n",
       "       [15, 16, 17, 18, 19]])"
      ]
     },
     "execution_count": 33,
     "metadata": {},
     "output_type": "execute_result"
    }
   ],
   "execution_count": 33
  },
  {
   "metadata": {
    "ExecuteTime": {
     "end_time": "2025-01-09T02:53:34.945705Z",
     "start_time": "2025-01-09T02:53:34.941911Z"
    }
   },
   "cell_type": "code",
   "source": "np.arange(20).reshape(4, 5)[:,2:]",
   "id": "b91392644d1f2aac",
   "outputs": [
    {
     "data": {
      "text/plain": [
       "array([[ 2,  3,  4],\n",
       "       [ 7,  8,  9],\n",
       "       [12, 13, 14],\n",
       "       [17, 18, 19]])"
      ]
     },
     "execution_count": 34,
     "metadata": {},
     "output_type": "execute_result"
    }
   ],
   "execution_count": 34
  },
  {
   "metadata": {
    "ExecuteTime": {
     "end_time": "2025-01-09T02:53:35.128492Z",
     "start_time": "2025-01-09T02:53:35.125093Z"
    }
   },
   "cell_type": "code",
   "source": "np.arange(20).reshape(4, 5)[1:3,1:3]",
   "id": "7c7e092ba84eeb14",
   "outputs": [
    {
     "data": {
      "text/plain": [
       "array([[ 6,  7],\n",
       "       [11, 12]])"
      ]
     },
     "execution_count": 35,
     "metadata": {},
     "output_type": "execute_result"
    }
   ],
   "execution_count": 35
  },
  {
   "metadata": {
    "ExecuteTime": {
     "end_time": "2025-01-09T02:53:35.284948Z",
     "start_time": "2025-01-09T02:53:35.281937Z"
    }
   },
   "cell_type": "code",
   "source": "np.arange(20).reshape(4, 5)",
   "id": "f2075f45cc185779",
   "outputs": [
    {
     "data": {
      "text/plain": [
       "array([[ 0,  1,  2,  3,  4],\n",
       "       [ 5,  6,  7,  8,  9],\n",
       "       [10, 11, 12, 13, 14],\n",
       "       [15, 16, 17, 18, 19]])"
      ]
     },
     "execution_count": 36,
     "metadata": {},
     "output_type": "execute_result"
    }
   ],
   "execution_count": 36
  },
  {
   "metadata": {
    "ExecuteTime": {
     "end_time": "2025-01-09T02:53:35.307062Z",
     "start_time": "2025-01-09T02:53:35.303187Z"
    }
   },
   "cell_type": "code",
   "source": "np.arange(20).reshape(4, 5)[1:,-2::-2]",
   "id": "ef3b2b88f9a615cd",
   "outputs": [
    {
     "data": {
      "text/plain": [
       "array([[ 8,  6],\n",
       "       [13, 11],\n",
       "       [18, 16]])"
      ]
     },
     "execution_count": 37,
     "metadata": {},
     "output_type": "execute_result"
    }
   ],
   "execution_count": 37
  },
  {
   "metadata": {
    "ExecuteTime": {
     "end_time": "2025-01-09T02:53:35.486143Z",
     "start_time": "2025-01-09T02:53:35.482740Z"
    }
   },
   "cell_type": "code",
   "source": "np.arange(20).reshape(4, 5)",
   "id": "58e8cef58e8b02a3",
   "outputs": [
    {
     "data": {
      "text/plain": [
       "array([[ 0,  1,  2,  3,  4],\n",
       "       [ 5,  6,  7,  8,  9],\n",
       "       [10, 11, 12, 13, 14],\n",
       "       [15, 16, 17, 18, 19]])"
      ]
     },
     "execution_count": 38,
     "metadata": {},
     "output_type": "execute_result"
    }
   ],
   "execution_count": 38
  },
  {
   "metadata": {
    "ExecuteTime": {
     "end_time": "2025-01-09T02:53:35.594218Z",
     "start_time": "2025-01-09T02:53:35.591002Z"
    }
   },
   "cell_type": "code",
   "source": "np.arange(20).reshape(4, 5)[[1, 0, 3], [1, 3, 4]]",
   "id": "368ad5a6cbb67652",
   "outputs": [
    {
     "data": {
      "text/plain": [
       "array([ 6,  3, 19])"
      ]
     },
     "execution_count": 39,
     "metadata": {},
     "output_type": "execute_result"
    }
   ],
   "execution_count": 39
  },
  {
   "metadata": {
    "ExecuteTime": {
     "end_time": "2025-01-09T02:53:35.710956Z",
     "start_time": "2025-01-09T02:53:35.707846Z"
    }
   },
   "cell_type": "code",
   "source": [
    "arr = np.arange(20).reshape(4, 5)\n",
    "arr[arr > 7]"
   ],
   "id": "b0f53ea148d9867c",
   "outputs": [
    {
     "data": {
      "text/plain": [
       "array([ 8,  9, 10, 11, 12, 13, 14, 15, 16, 17, 18, 19])"
      ]
     },
     "execution_count": 40,
     "metadata": {},
     "output_type": "execute_result"
    }
   ],
   "execution_count": 40
  },
  {
   "metadata": {
    "ExecuteTime": {
     "end_time": "2025-01-09T02:53:35.779273Z",
     "start_time": "2025-01-09T02:53:35.775364Z"
    }
   },
   "cell_type": "code",
   "source": "arr[arr % 2 == 0]",
   "id": "605006b3ca185652",
   "outputs": [
    {
     "data": {
      "text/plain": [
       "array([ 0,  2,  4,  6,  8, 10, 12, 14, 16, 18])"
      ]
     },
     "execution_count": 41,
     "metadata": {},
     "output_type": "execute_result"
    }
   ],
   "execution_count": 41
  },
  {
   "metadata": {
    "ExecuteTime": {
     "end_time": "2025-01-09T02:53:35.877085Z",
     "start_time": "2025-01-09T02:53:35.874113Z"
    }
   },
   "cell_type": "code",
   "source": [
    "def is_prime(n):\n",
    "    if n == 0 or n == 1:\n",
    "        return False\n",
    "    i = 2\n",
    "    while (i ** 2) <= n:\n",
    "        if n % i == 0:\n",
    "            return False\n",
    "        i += 1\n",
    "    return True"
   ],
   "id": "238f8f710a6cef9f",
   "outputs": [],
   "execution_count": 42
  },
  {
   "metadata": {
    "ExecuteTime": {
     "end_time": "2025-01-09T02:53:35.890837Z",
     "start_time": "2025-01-09T02:53:35.888360Z"
    }
   },
   "cell_type": "code",
   "source": "is_prime(20)",
   "id": "db6653996a9ce44c",
   "outputs": [
    {
     "data": {
      "text/plain": [
       "False"
      ]
     },
     "execution_count": 43,
     "metadata": {},
     "output_type": "execute_result"
    }
   ],
   "execution_count": 43
  },
  {
   "metadata": {
    "ExecuteTime": {
     "end_time": "2025-01-09T02:53:35.938166Z",
     "start_time": "2025-01-09T02:53:35.934843Z"
    }
   },
   "cell_type": "code",
   "source": "is_prime(19)",
   "id": "2abcd959a4f97c8f",
   "outputs": [
    {
     "data": {
      "text/plain": [
       "True"
      ]
     },
     "execution_count": 44,
     "metadata": {},
     "output_type": "execute_result"
    }
   ],
   "execution_count": 44
  },
  {
   "metadata": {
    "ExecuteTime": {
     "end_time": "2025-01-09T02:53:35.987085Z",
     "start_time": "2025-01-09T02:53:35.983618Z"
    }
   },
   "cell_type": "code",
   "source": "is_prime(139)",
   "id": "7e083fa6927d6c05",
   "outputs": [
    {
     "data": {
      "text/plain": [
       "True"
      ]
     },
     "execution_count": 45,
     "metadata": {},
     "output_type": "execute_result"
    }
   ],
   "execution_count": 45
  },
  {
   "metadata": {
    "ExecuteTime": {
     "end_time": "2025-01-09T02:53:36.043782Z",
     "start_time": "2025-01-09T02:53:36.037546Z"
    }
   },
   "cell_type": "code",
   "source": [
    "arr = np.arange(1000).reshape(100, 10).flatten()\n",
    "np.array([x for x in arr if is_prime(x)])"
   ],
   "id": "482a1bee3328bea5",
   "outputs": [
    {
     "data": {
      "text/plain": [
       "array([  2,   3,   5,   7,  11,  13,  17,  19,  23,  29,  31,  37,  41,\n",
       "        43,  47,  53,  59,  61,  67,  71,  73,  79,  83,  89,  97, 101,\n",
       "       103, 107, 109, 113, 127, 131, 137, 139, 149, 151, 157, 163, 167,\n",
       "       173, 179, 181, 191, 193, 197, 199, 211, 223, 227, 229, 233, 239,\n",
       "       241, 251, 257, 263, 269, 271, 277, 281, 283, 293, 307, 311, 313,\n",
       "       317, 331, 337, 347, 349, 353, 359, 367, 373, 379, 383, 389, 397,\n",
       "       401, 409, 419, 421, 431, 433, 439, 443, 449, 457, 461, 463, 467,\n",
       "       479, 487, 491, 499, 503, 509, 521, 523, 541, 547, 557, 563, 569,\n",
       "       571, 577, 587, 593, 599, 601, 607, 613, 617, 619, 631, 641, 643,\n",
       "       647, 653, 659, 661, 673, 677, 683, 691, 701, 709, 719, 727, 733,\n",
       "       739, 743, 751, 757, 761, 769, 773, 787, 797, 809, 811, 821, 823,\n",
       "       827, 829, 839, 853, 857, 859, 863, 877, 881, 883, 887, 907, 911,\n",
       "       919, 929, 937, 941, 947, 953, 967, 971, 977, 983, 991, 997])"
      ]
     },
     "execution_count": 46,
     "metadata": {},
     "output_type": "execute_result"
    }
   ],
   "execution_count": 46
  },
  {
   "metadata": {
    "ExecuteTime": {
     "end_time": "2025-01-09T02:53:36.102758Z",
     "start_time": "2025-01-09T02:53:36.098627Z"
    }
   },
   "cell_type": "code",
   "source": "np.arange(10).reshape(2, 5) - 1",
   "id": "cccb77183a181278",
   "outputs": [
    {
     "data": {
      "text/plain": [
       "array([[-1,  0,  1,  2,  3],\n",
       "       [ 4,  5,  6,  7,  8]])"
      ]
     },
     "execution_count": 47,
     "metadata": {},
     "output_type": "execute_result"
    }
   ],
   "execution_count": 47
  },
  {
   "metadata": {
    "ExecuteTime": {
     "end_time": "2025-01-09T02:53:36.186267Z",
     "start_time": "2025-01-09T02:53:36.182579Z"
    }
   },
   "cell_type": "code",
   "source": "np.arange(10).reshape(2, 5).max()",
   "id": "28d919feb0b69e34",
   "outputs": [
    {
     "data": {
      "text/plain": [
       "np.int64(9)"
      ]
     },
     "execution_count": 48,
     "metadata": {},
     "output_type": "execute_result"
    }
   ],
   "execution_count": 48
  },
  {
   "metadata": {
    "ExecuteTime": {
     "end_time": "2025-01-09T02:53:36.235522Z",
     "start_time": "2025-01-09T02:53:36.232213Z"
    }
   },
   "cell_type": "code",
   "source": "np.arange(10).reshape(2, 5).min()\n",
   "id": "a2f545641e771054",
   "outputs": [
    {
     "data": {
      "text/plain": [
       "np.int64(0)"
      ]
     },
     "execution_count": 49,
     "metadata": {},
     "output_type": "execute_result"
    }
   ],
   "execution_count": 49
  },
  {
   "metadata": {
    "ExecuteTime": {
     "end_time": "2025-01-09T02:53:36.282917Z",
     "start_time": "2025-01-09T02:53:36.279980Z"
    }
   },
   "cell_type": "code",
   "source": "np.arange(10).reshape(2, 5).sum()",
   "id": "96e20c5679c73449",
   "outputs": [
    {
     "data": {
      "text/plain": [
       "np.int64(45)"
      ]
     },
     "execution_count": 50,
     "metadata": {},
     "output_type": "execute_result"
    }
   ],
   "execution_count": 50
  },
  {
   "metadata": {
    "ExecuteTime": {
     "end_time": "2025-01-09T02:53:36.335891Z",
     "start_time": "2025-01-09T02:53:36.332522Z"
    }
   },
   "cell_type": "code",
   "source": "np.arange(10).reshape(2, 5).transpose()",
   "id": "a2fd864df68baed6",
   "outputs": [
    {
     "data": {
      "text/plain": [
       "array([[0, 5],\n",
       "       [1, 6],\n",
       "       [2, 7],\n",
       "       [3, 8],\n",
       "       [4, 9]])"
      ]
     },
     "execution_count": 51,
     "metadata": {},
     "output_type": "execute_result"
    }
   ],
   "execution_count": 51
  },
  {
   "metadata": {
    "ExecuteTime": {
     "end_time": "2025-01-09T02:53:36.418910Z",
     "start_time": "2025-01-09T02:53:36.416009Z"
    }
   },
   "cell_type": "code",
   "source": "np.arange(10).reshape(2, 5).max(axis=0)",
   "id": "d221c74584d8ea83",
   "outputs": [
    {
     "data": {
      "text/plain": [
       "array([5, 6, 7, 8, 9])"
      ]
     },
     "execution_count": 52,
     "metadata": {},
     "output_type": "execute_result"
    }
   ],
   "execution_count": 52
  },
  {
   "metadata": {
    "ExecuteTime": {
     "end_time": "2025-01-09T02:53:36.465970Z",
     "start_time": "2025-01-09T02:53:36.463448Z"
    }
   },
   "cell_type": "code",
   "source": [
    "a = np.arange(10).reshape(2, 5)\n",
    "b = np.arange(10, 20).reshape(2, 5)"
   ],
   "id": "6614cc30a84a8eb",
   "outputs": [],
   "execution_count": 53
  },
  {
   "metadata": {
    "ExecuteTime": {
     "end_time": "2025-01-09T02:53:36.516243Z",
     "start_time": "2025-01-09T02:53:36.513298Z"
    }
   },
   "cell_type": "code",
   "source": "a + b",
   "id": "1d0b2e8cedaba14a",
   "outputs": [
    {
     "data": {
      "text/plain": [
       "array([[10, 12, 14, 16, 18],\n",
       "       [20, 22, 24, 26, 28]])"
      ]
     },
     "execution_count": 54,
     "metadata": {},
     "output_type": "execute_result"
    }
   ],
   "execution_count": 54
  },
  {
   "metadata": {
    "ExecuteTime": {
     "end_time": "2025-01-09T02:53:36.622428Z",
     "start_time": "2025-01-09T02:53:36.619532Z"
    }
   },
   "cell_type": "code",
   "source": "a * b",
   "id": "524135f12dd00757",
   "outputs": [
    {
     "data": {
      "text/plain": [
       "array([[  0,  11,  24,  39,  56],\n",
       "       [ 75,  96, 119, 144, 171]])"
      ]
     },
     "execution_count": 55,
     "metadata": {},
     "output_type": "execute_result"
    }
   ],
   "execution_count": 55
  },
  {
   "metadata": {
    "ExecuteTime": {
     "end_time": "2025-01-09T02:53:36.668798Z",
     "start_time": "2025-01-09T02:53:36.665731Z"
    }
   },
   "cell_type": "code",
   "source": "a.dot(b.reshape(5, 2))",
   "id": "adca8cbe91b9f19e",
   "outputs": [
    {
     "data": {
      "text/plain": [
       "array([[160, 170],\n",
       "       [510, 545]])"
      ]
     },
     "execution_count": 56,
     "metadata": {},
     "output_type": "execute_result"
    }
   ],
   "execution_count": 56
  },
  {
   "metadata": {
    "ExecuteTime": {
     "end_time": "2025-01-09T02:53:36.733012Z",
     "start_time": "2025-01-09T02:53:36.730932Z"
    }
   },
   "cell_type": "code",
   "source": "# n x m \\dot m x n = n x n",
   "id": "6eaaee606e82b544",
   "outputs": [],
   "execution_count": 57
  },
  {
   "metadata": {},
   "cell_type": "markdown",
   "source": "",
   "id": "6edddfb9cabf8311"
  },
  {
   "metadata": {
    "ExecuteTime": {
     "end_time": "2025-01-10T01:50:02.290673Z",
     "start_time": "2025-01-10T01:50:02.100305Z"
    }
   },
   "cell_type": "code",
   "source": "import pandas as pd",
   "id": "f19bed985254363a",
   "outputs": [],
   "execution_count": 3
  },
  {
   "metadata": {
    "ExecuteTime": {
     "end_time": "2025-01-09T02:53:36.869199Z",
     "start_time": "2025-01-09T02:53:36.867009Z"
    }
   },
   "cell_type": "code",
   "source": "s = pd.Series([1, 2,4, 5, 9])",
   "id": "28a6d416f60266f6",
   "outputs": [],
   "execution_count": 59
  },
  {
   "metadata": {
    "ExecuteTime": {
     "end_time": "2025-01-09T02:53:36.907259Z",
     "start_time": "2025-01-09T02:53:36.904326Z"
    }
   },
   "cell_type": "code",
   "source": "s",
   "id": "24357dc298454bcc",
   "outputs": [
    {
     "data": {
      "text/plain": [
       "0    1\n",
       "1    2\n",
       "2    4\n",
       "3    5\n",
       "4    9\n",
       "dtype: int64"
      ]
     },
     "execution_count": 60,
     "metadata": {},
     "output_type": "execute_result"
    }
   ],
   "execution_count": 60
  },
  {
   "metadata": {
    "ExecuteTime": {
     "end_time": "2025-01-09T02:53:36.984565Z",
     "start_time": "2025-01-09T02:53:36.981888Z"
    }
   },
   "cell_type": "code",
   "source": [
    "my_array = np.array([1, 2, 3, 4, 5])\n",
    "my_array"
   ],
   "id": "f721a72a506c10a5",
   "outputs": [
    {
     "data": {
      "text/plain": [
       "array([1, 2, 3, 4, 5])"
      ]
     },
     "execution_count": 61,
     "metadata": {},
     "output_type": "execute_result"
    }
   ],
   "execution_count": 61
  },
  {
   "metadata": {
    "ExecuteTime": {
     "end_time": "2025-01-09T02:53:37.054452Z",
     "start_time": "2025-01-09T02:53:37.049967Z"
    }
   },
   "cell_type": "code",
   "source": [
    "dates_serie = pd.date_range('20190101', periods=5)\n",
    "dates_serie"
   ],
   "id": "e5714f90e542e70a",
   "outputs": [
    {
     "data": {
      "text/plain": [
       "DatetimeIndex(['2019-01-01', '2019-01-02', '2019-01-03', '2019-01-04',\n",
       "               '2019-01-05'],\n",
       "              dtype='datetime64[ns]', freq='D')"
      ]
     },
     "execution_count": 62,
     "metadata": {},
     "output_type": "execute_result"
    }
   ],
   "execution_count": 62
  },
  {
   "metadata": {
    "ExecuteTime": {
     "end_time": "2025-01-09T02:53:37.134688Z",
     "start_time": "2025-01-09T02:53:37.131108Z"
    }
   },
   "cell_type": "code",
   "source": [
    "dates_serie = pd.date_range('20190101', periods=365)\n",
    "dates_serie"
   ],
   "id": "5fd8e99cbe72870f",
   "outputs": [
    {
     "data": {
      "text/plain": [
       "DatetimeIndex(['2019-01-01', '2019-01-02', '2019-01-03', '2019-01-04',\n",
       "               '2019-01-05', '2019-01-06', '2019-01-07', '2019-01-08',\n",
       "               '2019-01-09', '2019-01-10',\n",
       "               ...\n",
       "               '2019-12-22', '2019-12-23', '2019-12-24', '2019-12-25',\n",
       "               '2019-12-26', '2019-12-27', '2019-12-28', '2019-12-29',\n",
       "               '2019-12-30', '2019-12-31'],\n",
       "              dtype='datetime64[ns]', length=365, freq='D')"
      ]
     },
     "execution_count": 63,
     "metadata": {},
     "output_type": "execute_result"
    }
   ],
   "execution_count": 63
  },
  {
   "metadata": {
    "ExecuteTime": {
     "end_time": "2025-01-09T02:53:37.184208Z",
     "start_time": "2025-01-09T02:53:37.180631Z"
    }
   },
   "cell_type": "code",
   "source": [
    "dates_serie = pd.date_range('20190101', periods=12, freq='ME')\n",
    "dates_serie"
   ],
   "id": "9cbd42901b759e7a",
   "outputs": [
    {
     "data": {
      "text/plain": [
       "DatetimeIndex(['2019-01-31', '2019-02-28', '2019-03-31', '2019-04-30',\n",
       "               '2019-05-31', '2019-06-30', '2019-07-31', '2019-08-31',\n",
       "               '2019-09-30', '2019-10-31', '2019-11-30', '2019-12-31'],\n",
       "              dtype='datetime64[ns]', freq='ME')"
      ]
     },
     "execution_count": 64,
     "metadata": {},
     "output_type": "execute_result"
    }
   ],
   "execution_count": 64
  },
  {
   "metadata": {
    "ExecuteTime": {
     "end_time": "2025-01-09T02:53:37.239155Z",
     "start_time": "2025-01-09T02:53:37.235549Z"
    }
   },
   "cell_type": "code",
   "source": [
    "dates_serie = pd.date_range('20241216', periods=10, freq='min')\n",
    "dates_serie"
   ],
   "id": "962376f6a709c367",
   "outputs": [
    {
     "data": {
      "text/plain": [
       "DatetimeIndex(['2024-12-16 00:00:00', '2024-12-16 00:01:00',\n",
       "               '2024-12-16 00:02:00', '2024-12-16 00:03:00',\n",
       "               '2024-12-16 00:04:00', '2024-12-16 00:05:00',\n",
       "               '2024-12-16 00:06:00', '2024-12-16 00:07:00',\n",
       "               '2024-12-16 00:08:00', '2024-12-16 00:09:00'],\n",
       "              dtype='datetime64[ns]', freq='min')"
      ]
     },
     "execution_count": 65,
     "metadata": {},
     "output_type": "execute_result"
    }
   ],
   "execution_count": 65
  },
  {
   "metadata": {
    "ExecuteTime": {
     "end_time": "2025-01-09T02:53:37.328785Z",
     "start_time": "2025-01-09T02:53:37.322939Z"
    }
   },
   "cell_type": "code",
   "source": [
    "df = pd.DataFrame(\n",
    "    {\n",
    "        \"Nombre\": ['Yadira', 'Roman', 'Valeria', 'Rodrigo', 'Daniel'],\n",
    "        \"Color\": ['Naranja', 'Foto', 'Foto', 'Naranja', 'Morado'],\n",
    "        \"Nonce\": [2, 5, 4, 6, 7]\n",
    "    }\n",
    ")\n",
    "df"
   ],
   "id": "6be02a5a565e861",
   "outputs": [
    {
     "data": {
      "text/plain": [
       "    Nombre    Color  Nonce\n",
       "0   Yadira  Naranja      2\n",
       "1    Roman     Foto      5\n",
       "2  Valeria     Foto      4\n",
       "3  Rodrigo  Naranja      6\n",
       "4   Daniel   Morado      7"
      ],
      "text/html": [
       "<div>\n",
       "<style scoped>\n",
       "    .dataframe tbody tr th:only-of-type {\n",
       "        vertical-align: middle;\n",
       "    }\n",
       "\n",
       "    .dataframe tbody tr th {\n",
       "        vertical-align: top;\n",
       "    }\n",
       "\n",
       "    .dataframe thead th {\n",
       "        text-align: right;\n",
       "    }\n",
       "</style>\n",
       "<table border=\"1\" class=\"dataframe\">\n",
       "  <thead>\n",
       "    <tr style=\"text-align: right;\">\n",
       "      <th></th>\n",
       "      <th>Nombre</th>\n",
       "      <th>Color</th>\n",
       "      <th>Nonce</th>\n",
       "    </tr>\n",
       "  </thead>\n",
       "  <tbody>\n",
       "    <tr>\n",
       "      <th>0</th>\n",
       "      <td>Yadira</td>\n",
       "      <td>Naranja</td>\n",
       "      <td>2</td>\n",
       "    </tr>\n",
       "    <tr>\n",
       "      <th>1</th>\n",
       "      <td>Roman</td>\n",
       "      <td>Foto</td>\n",
       "      <td>5</td>\n",
       "    </tr>\n",
       "    <tr>\n",
       "      <th>2</th>\n",
       "      <td>Valeria</td>\n",
       "      <td>Foto</td>\n",
       "      <td>4</td>\n",
       "    </tr>\n",
       "    <tr>\n",
       "      <th>3</th>\n",
       "      <td>Rodrigo</td>\n",
       "      <td>Naranja</td>\n",
       "      <td>6</td>\n",
       "    </tr>\n",
       "    <tr>\n",
       "      <th>4</th>\n",
       "      <td>Daniel</td>\n",
       "      <td>Morado</td>\n",
       "      <td>7</td>\n",
       "    </tr>\n",
       "  </tbody>\n",
       "</table>\n",
       "</div>"
      ]
     },
     "execution_count": 66,
     "metadata": {},
     "output_type": "execute_result"
    }
   ],
   "execution_count": 66
  },
  {
   "metadata": {
    "ExecuteTime": {
     "end_time": "2025-01-09T02:53:37.405810Z",
     "start_time": "2025-01-09T02:53:37.400289Z"
    }
   },
   "cell_type": "code",
   "source": [
    "df = pd.DataFrame(\n",
    "    {\n",
    "        \"Nombre\": ['Yadira', 'Roman', 'Valeria', 'Rodrigo', 'Daniel'],\n",
    "        \"Color\": ['Naranja', 'Foto', 'Foto', 'Naranja', 'Morado'],\n",
    "        \"Nonce\": [2, 5, 4, 6, 7]\n",
    "    }, index=[1, 2, 3, 4, 5]\n",
    ")\n",
    "df"
   ],
   "id": "73523c696e4d3828",
   "outputs": [
    {
     "data": {
      "text/plain": [
       "    Nombre    Color  Nonce\n",
       "1   Yadira  Naranja      2\n",
       "2    Roman     Foto      5\n",
       "3  Valeria     Foto      4\n",
       "4  Rodrigo  Naranja      6\n",
       "5   Daniel   Morado      7"
      ],
      "text/html": [
       "<div>\n",
       "<style scoped>\n",
       "    .dataframe tbody tr th:only-of-type {\n",
       "        vertical-align: middle;\n",
       "    }\n",
       "\n",
       "    .dataframe tbody tr th {\n",
       "        vertical-align: top;\n",
       "    }\n",
       "\n",
       "    .dataframe thead th {\n",
       "        text-align: right;\n",
       "    }\n",
       "</style>\n",
       "<table border=\"1\" class=\"dataframe\">\n",
       "  <thead>\n",
       "    <tr style=\"text-align: right;\">\n",
       "      <th></th>\n",
       "      <th>Nombre</th>\n",
       "      <th>Color</th>\n",
       "      <th>Nonce</th>\n",
       "    </tr>\n",
       "  </thead>\n",
       "  <tbody>\n",
       "    <tr>\n",
       "      <th>1</th>\n",
       "      <td>Yadira</td>\n",
       "      <td>Naranja</td>\n",
       "      <td>2</td>\n",
       "    </tr>\n",
       "    <tr>\n",
       "      <th>2</th>\n",
       "      <td>Roman</td>\n",
       "      <td>Foto</td>\n",
       "      <td>5</td>\n",
       "    </tr>\n",
       "    <tr>\n",
       "      <th>3</th>\n",
       "      <td>Valeria</td>\n",
       "      <td>Foto</td>\n",
       "      <td>4</td>\n",
       "    </tr>\n",
       "    <tr>\n",
       "      <th>4</th>\n",
       "      <td>Rodrigo</td>\n",
       "      <td>Naranja</td>\n",
       "      <td>6</td>\n",
       "    </tr>\n",
       "    <tr>\n",
       "      <th>5</th>\n",
       "      <td>Daniel</td>\n",
       "      <td>Morado</td>\n",
       "      <td>7</td>\n",
       "    </tr>\n",
       "  </tbody>\n",
       "</table>\n",
       "</div>"
      ]
     },
     "execution_count": 67,
     "metadata": {},
     "output_type": "execute_result"
    }
   ],
   "execution_count": 67
  },
  {
   "metadata": {
    "ExecuteTime": {
     "end_time": "2025-01-09T02:53:37.466466Z",
     "start_time": "2025-01-09T02:53:37.461502Z"
    }
   },
   "cell_type": "code",
   "source": "df.sort_values(by='Nombre', ascending=False)",
   "id": "aec0692ecdcd444d",
   "outputs": [
    {
     "data": {
      "text/plain": [
       "    Nombre    Color  Nonce\n",
       "1   Yadira  Naranja      2\n",
       "3  Valeria     Foto      4\n",
       "2    Roman     Foto      5\n",
       "4  Rodrigo  Naranja      6\n",
       "5   Daniel   Morado      7"
      ],
      "text/html": [
       "<div>\n",
       "<style scoped>\n",
       "    .dataframe tbody tr th:only-of-type {\n",
       "        vertical-align: middle;\n",
       "    }\n",
       "\n",
       "    .dataframe tbody tr th {\n",
       "        vertical-align: top;\n",
       "    }\n",
       "\n",
       "    .dataframe thead th {\n",
       "        text-align: right;\n",
       "    }\n",
       "</style>\n",
       "<table border=\"1\" class=\"dataframe\">\n",
       "  <thead>\n",
       "    <tr style=\"text-align: right;\">\n",
       "      <th></th>\n",
       "      <th>Nombre</th>\n",
       "      <th>Color</th>\n",
       "      <th>Nonce</th>\n",
       "    </tr>\n",
       "  </thead>\n",
       "  <tbody>\n",
       "    <tr>\n",
       "      <th>1</th>\n",
       "      <td>Yadira</td>\n",
       "      <td>Naranja</td>\n",
       "      <td>2</td>\n",
       "    </tr>\n",
       "    <tr>\n",
       "      <th>3</th>\n",
       "      <td>Valeria</td>\n",
       "      <td>Foto</td>\n",
       "      <td>4</td>\n",
       "    </tr>\n",
       "    <tr>\n",
       "      <th>2</th>\n",
       "      <td>Roman</td>\n",
       "      <td>Foto</td>\n",
       "      <td>5</td>\n",
       "    </tr>\n",
       "    <tr>\n",
       "      <th>4</th>\n",
       "      <td>Rodrigo</td>\n",
       "      <td>Naranja</td>\n",
       "      <td>6</td>\n",
       "    </tr>\n",
       "    <tr>\n",
       "      <th>5</th>\n",
       "      <td>Daniel</td>\n",
       "      <td>Morado</td>\n",
       "      <td>7</td>\n",
       "    </tr>\n",
       "  </tbody>\n",
       "</table>\n",
       "</div>"
      ]
     },
     "execution_count": 68,
     "metadata": {},
     "output_type": "execute_result"
    }
   ],
   "execution_count": 68
  },
  {
   "metadata": {
    "ExecuteTime": {
     "end_time": "2025-01-09T02:53:37.582468Z",
     "start_time": "2025-01-09T02:53:37.576592Z"
    }
   },
   "cell_type": "code",
   "source": "df.describe()",
   "id": "88ec05e50f1f2360",
   "outputs": [
    {
     "data": {
      "text/plain": [
       "          Nonce\n",
       "count  5.000000\n",
       "mean   4.800000\n",
       "std    1.923538\n",
       "min    2.000000\n",
       "25%    4.000000\n",
       "50%    5.000000\n",
       "75%    6.000000\n",
       "max    7.000000"
      ],
      "text/html": [
       "<div>\n",
       "<style scoped>\n",
       "    .dataframe tbody tr th:only-of-type {\n",
       "        vertical-align: middle;\n",
       "    }\n",
       "\n",
       "    .dataframe tbody tr th {\n",
       "        vertical-align: top;\n",
       "    }\n",
       "\n",
       "    .dataframe thead th {\n",
       "        text-align: right;\n",
       "    }\n",
       "</style>\n",
       "<table border=\"1\" class=\"dataframe\">\n",
       "  <thead>\n",
       "    <tr style=\"text-align: right;\">\n",
       "      <th></th>\n",
       "      <th>Nonce</th>\n",
       "    </tr>\n",
       "  </thead>\n",
       "  <tbody>\n",
       "    <tr>\n",
       "      <th>count</th>\n",
       "      <td>5.000000</td>\n",
       "    </tr>\n",
       "    <tr>\n",
       "      <th>mean</th>\n",
       "      <td>4.800000</td>\n",
       "    </tr>\n",
       "    <tr>\n",
       "      <th>std</th>\n",
       "      <td>1.923538</td>\n",
       "    </tr>\n",
       "    <tr>\n",
       "      <th>min</th>\n",
       "      <td>2.000000</td>\n",
       "    </tr>\n",
       "    <tr>\n",
       "      <th>25%</th>\n",
       "      <td>4.000000</td>\n",
       "    </tr>\n",
       "    <tr>\n",
       "      <th>50%</th>\n",
       "      <td>5.000000</td>\n",
       "    </tr>\n",
       "    <tr>\n",
       "      <th>75%</th>\n",
       "      <td>6.000000</td>\n",
       "    </tr>\n",
       "    <tr>\n",
       "      <th>max</th>\n",
       "      <td>7.000000</td>\n",
       "    </tr>\n",
       "  </tbody>\n",
       "</table>\n",
       "</div>"
      ]
     },
     "execution_count": 69,
     "metadata": {},
     "output_type": "execute_result"
    }
   ],
   "execution_count": 69
  },
  {
   "metadata": {
    "ExecuteTime": {
     "end_time": "2025-01-09T02:53:37.776733Z",
     "start_time": "2025-01-09T02:53:37.773325Z"
    }
   },
   "cell_type": "code",
   "source": "df.dtypes",
   "id": "3155aa339ea38113",
   "outputs": [
    {
     "data": {
      "text/plain": [
       "Nombre    object\n",
       "Color     object\n",
       "Nonce      int64\n",
       "dtype: object"
      ]
     },
     "execution_count": 70,
     "metadata": {},
     "output_type": "execute_result"
    }
   ],
   "execution_count": 70
  },
  {
   "metadata": {
    "ExecuteTime": {
     "end_time": "2025-01-09T02:53:37.918552Z",
     "start_time": "2025-01-09T02:53:37.914800Z"
    }
   },
   "cell_type": "code",
   "source": "df.iloc[4]",
   "id": "3fb699f3717005f6",
   "outputs": [
    {
     "data": {
      "text/plain": [
       "Nombre    Daniel\n",
       "Color     Morado\n",
       "Nonce          7\n",
       "Name: 5, dtype: object"
      ]
     },
     "execution_count": 71,
     "metadata": {},
     "output_type": "execute_result"
    }
   ],
   "execution_count": 71
  },
  {
   "metadata": {
    "ExecuteTime": {
     "end_time": "2025-01-09T02:53:38.093639Z",
     "start_time": "2025-01-09T02:53:38.087513Z"
    }
   },
   "cell_type": "code",
   "source": [
    "df = pd.DataFrame(np.arange(1000).reshape(200, 5), index=pd.date_range('20241216', periods=200, freq='D'), columns=['A', 'B', 'C', 'D', 'E'] )\n",
    "df"
   ],
   "id": "88b3b1158ba931e5",
   "outputs": [
    {
     "data": {
      "text/plain": [
       "              A    B    C    D    E\n",
       "2024-12-16    0    1    2    3    4\n",
       "2024-12-17    5    6    7    8    9\n",
       "2024-12-18   10   11   12   13   14\n",
       "2024-12-19   15   16   17   18   19\n",
       "2024-12-20   20   21   22   23   24\n",
       "...         ...  ...  ...  ...  ...\n",
       "2025-06-29  975  976  977  978  979\n",
       "2025-06-30  980  981  982  983  984\n",
       "2025-07-01  985  986  987  988  989\n",
       "2025-07-02  990  991  992  993  994\n",
       "2025-07-03  995  996  997  998  999\n",
       "\n",
       "[200 rows x 5 columns]"
      ],
      "text/html": [
       "<div>\n",
       "<style scoped>\n",
       "    .dataframe tbody tr th:only-of-type {\n",
       "        vertical-align: middle;\n",
       "    }\n",
       "\n",
       "    .dataframe tbody tr th {\n",
       "        vertical-align: top;\n",
       "    }\n",
       "\n",
       "    .dataframe thead th {\n",
       "        text-align: right;\n",
       "    }\n",
       "</style>\n",
       "<table border=\"1\" class=\"dataframe\">\n",
       "  <thead>\n",
       "    <tr style=\"text-align: right;\">\n",
       "      <th></th>\n",
       "      <th>A</th>\n",
       "      <th>B</th>\n",
       "      <th>C</th>\n",
       "      <th>D</th>\n",
       "      <th>E</th>\n",
       "    </tr>\n",
       "  </thead>\n",
       "  <tbody>\n",
       "    <tr>\n",
       "      <th>2024-12-16</th>\n",
       "      <td>0</td>\n",
       "      <td>1</td>\n",
       "      <td>2</td>\n",
       "      <td>3</td>\n",
       "      <td>4</td>\n",
       "    </tr>\n",
       "    <tr>\n",
       "      <th>2024-12-17</th>\n",
       "      <td>5</td>\n",
       "      <td>6</td>\n",
       "      <td>7</td>\n",
       "      <td>8</td>\n",
       "      <td>9</td>\n",
       "    </tr>\n",
       "    <tr>\n",
       "      <th>2024-12-18</th>\n",
       "      <td>10</td>\n",
       "      <td>11</td>\n",
       "      <td>12</td>\n",
       "      <td>13</td>\n",
       "      <td>14</td>\n",
       "    </tr>\n",
       "    <tr>\n",
       "      <th>2024-12-19</th>\n",
       "      <td>15</td>\n",
       "      <td>16</td>\n",
       "      <td>17</td>\n",
       "      <td>18</td>\n",
       "      <td>19</td>\n",
       "    </tr>\n",
       "    <tr>\n",
       "      <th>2024-12-20</th>\n",
       "      <td>20</td>\n",
       "      <td>21</td>\n",
       "      <td>22</td>\n",
       "      <td>23</td>\n",
       "      <td>24</td>\n",
       "    </tr>\n",
       "    <tr>\n",
       "      <th>...</th>\n",
       "      <td>...</td>\n",
       "      <td>...</td>\n",
       "      <td>...</td>\n",
       "      <td>...</td>\n",
       "      <td>...</td>\n",
       "    </tr>\n",
       "    <tr>\n",
       "      <th>2025-06-29</th>\n",
       "      <td>975</td>\n",
       "      <td>976</td>\n",
       "      <td>977</td>\n",
       "      <td>978</td>\n",
       "      <td>979</td>\n",
       "    </tr>\n",
       "    <tr>\n",
       "      <th>2025-06-30</th>\n",
       "      <td>980</td>\n",
       "      <td>981</td>\n",
       "      <td>982</td>\n",
       "      <td>983</td>\n",
       "      <td>984</td>\n",
       "    </tr>\n",
       "    <tr>\n",
       "      <th>2025-07-01</th>\n",
       "      <td>985</td>\n",
       "      <td>986</td>\n",
       "      <td>987</td>\n",
       "      <td>988</td>\n",
       "      <td>989</td>\n",
       "    </tr>\n",
       "    <tr>\n",
       "      <th>2025-07-02</th>\n",
       "      <td>990</td>\n",
       "      <td>991</td>\n",
       "      <td>992</td>\n",
       "      <td>993</td>\n",
       "      <td>994</td>\n",
       "    </tr>\n",
       "    <tr>\n",
       "      <th>2025-07-03</th>\n",
       "      <td>995</td>\n",
       "      <td>996</td>\n",
       "      <td>997</td>\n",
       "      <td>998</td>\n",
       "      <td>999</td>\n",
       "    </tr>\n",
       "  </tbody>\n",
       "</table>\n",
       "<p>200 rows × 5 columns</p>\n",
       "</div>"
      ]
     },
     "execution_count": 72,
     "metadata": {},
     "output_type": "execute_result"
    }
   ],
   "execution_count": 72
  },
  {
   "metadata": {
    "ExecuteTime": {
     "end_time": "2025-01-09T02:53:38.187795Z",
     "start_time": "2025-01-09T02:53:38.182370Z"
    }
   },
   "cell_type": "code",
   "source": [
    "# REST API\n",
    "df.head()"
   ],
   "id": "50cdcf65ff936804",
   "outputs": [
    {
     "data": {
      "text/plain": [
       "             A   B   C   D   E\n",
       "2024-12-16   0   1   2   3   4\n",
       "2024-12-17   5   6   7   8   9\n",
       "2024-12-18  10  11  12  13  14\n",
       "2024-12-19  15  16  17  18  19\n",
       "2024-12-20  20  21  22  23  24"
      ],
      "text/html": [
       "<div>\n",
       "<style scoped>\n",
       "    .dataframe tbody tr th:only-of-type {\n",
       "        vertical-align: middle;\n",
       "    }\n",
       "\n",
       "    .dataframe tbody tr th {\n",
       "        vertical-align: top;\n",
       "    }\n",
       "\n",
       "    .dataframe thead th {\n",
       "        text-align: right;\n",
       "    }\n",
       "</style>\n",
       "<table border=\"1\" class=\"dataframe\">\n",
       "  <thead>\n",
       "    <tr style=\"text-align: right;\">\n",
       "      <th></th>\n",
       "      <th>A</th>\n",
       "      <th>B</th>\n",
       "      <th>C</th>\n",
       "      <th>D</th>\n",
       "      <th>E</th>\n",
       "    </tr>\n",
       "  </thead>\n",
       "  <tbody>\n",
       "    <tr>\n",
       "      <th>2024-12-16</th>\n",
       "      <td>0</td>\n",
       "      <td>1</td>\n",
       "      <td>2</td>\n",
       "      <td>3</td>\n",
       "      <td>4</td>\n",
       "    </tr>\n",
       "    <tr>\n",
       "      <th>2024-12-17</th>\n",
       "      <td>5</td>\n",
       "      <td>6</td>\n",
       "      <td>7</td>\n",
       "      <td>8</td>\n",
       "      <td>9</td>\n",
       "    </tr>\n",
       "    <tr>\n",
       "      <th>2024-12-18</th>\n",
       "      <td>10</td>\n",
       "      <td>11</td>\n",
       "      <td>12</td>\n",
       "      <td>13</td>\n",
       "      <td>14</td>\n",
       "    </tr>\n",
       "    <tr>\n",
       "      <th>2024-12-19</th>\n",
       "      <td>15</td>\n",
       "      <td>16</td>\n",
       "      <td>17</td>\n",
       "      <td>18</td>\n",
       "      <td>19</td>\n",
       "    </tr>\n",
       "    <tr>\n",
       "      <th>2024-12-20</th>\n",
       "      <td>20</td>\n",
       "      <td>21</td>\n",
       "      <td>22</td>\n",
       "      <td>23</td>\n",
       "      <td>24</td>\n",
       "    </tr>\n",
       "  </tbody>\n",
       "</table>\n",
       "</div>"
      ]
     },
     "execution_count": 73,
     "metadata": {},
     "output_type": "execute_result"
    }
   ],
   "execution_count": 73
  },
  {
   "metadata": {
    "ExecuteTime": {
     "end_time": "2025-01-09T02:53:38.318438Z",
     "start_time": "2025-01-09T02:53:38.313289Z"
    }
   },
   "cell_type": "code",
   "source": "df.tail()",
   "id": "6e54601eabdc8dab",
   "outputs": [
    {
     "data": {
      "text/plain": [
       "              A    B    C    D    E\n",
       "2025-06-29  975  976  977  978  979\n",
       "2025-06-30  980  981  982  983  984\n",
       "2025-07-01  985  986  987  988  989\n",
       "2025-07-02  990  991  992  993  994\n",
       "2025-07-03  995  996  997  998  999"
      ],
      "text/html": [
       "<div>\n",
       "<style scoped>\n",
       "    .dataframe tbody tr th:only-of-type {\n",
       "        vertical-align: middle;\n",
       "    }\n",
       "\n",
       "    .dataframe tbody tr th {\n",
       "        vertical-align: top;\n",
       "    }\n",
       "\n",
       "    .dataframe thead th {\n",
       "        text-align: right;\n",
       "    }\n",
       "</style>\n",
       "<table border=\"1\" class=\"dataframe\">\n",
       "  <thead>\n",
       "    <tr style=\"text-align: right;\">\n",
       "      <th></th>\n",
       "      <th>A</th>\n",
       "      <th>B</th>\n",
       "      <th>C</th>\n",
       "      <th>D</th>\n",
       "      <th>E</th>\n",
       "    </tr>\n",
       "  </thead>\n",
       "  <tbody>\n",
       "    <tr>\n",
       "      <th>2025-06-29</th>\n",
       "      <td>975</td>\n",
       "      <td>976</td>\n",
       "      <td>977</td>\n",
       "      <td>978</td>\n",
       "      <td>979</td>\n",
       "    </tr>\n",
       "    <tr>\n",
       "      <th>2025-06-30</th>\n",
       "      <td>980</td>\n",
       "      <td>981</td>\n",
       "      <td>982</td>\n",
       "      <td>983</td>\n",
       "      <td>984</td>\n",
       "    </tr>\n",
       "    <tr>\n",
       "      <th>2025-07-01</th>\n",
       "      <td>985</td>\n",
       "      <td>986</td>\n",
       "      <td>987</td>\n",
       "      <td>988</td>\n",
       "      <td>989</td>\n",
       "    </tr>\n",
       "    <tr>\n",
       "      <th>2025-07-02</th>\n",
       "      <td>990</td>\n",
       "      <td>991</td>\n",
       "      <td>992</td>\n",
       "      <td>993</td>\n",
       "      <td>994</td>\n",
       "    </tr>\n",
       "    <tr>\n",
       "      <th>2025-07-03</th>\n",
       "      <td>995</td>\n",
       "      <td>996</td>\n",
       "      <td>997</td>\n",
       "      <td>998</td>\n",
       "      <td>999</td>\n",
       "    </tr>\n",
       "  </tbody>\n",
       "</table>\n",
       "</div>"
      ]
     },
     "execution_count": 74,
     "metadata": {},
     "output_type": "execute_result"
    }
   ],
   "execution_count": 74
  },
  {
   "metadata": {
    "ExecuteTime": {
     "end_time": "2025-01-09T02:53:38.516105Z",
     "start_time": "2025-01-09T02:53:38.512345Z"
    }
   },
   "cell_type": "code",
   "source": "df.dtypes",
   "id": "327f686ab81155f5",
   "outputs": [
    {
     "data": {
      "text/plain": [
       "A    int64\n",
       "B    int64\n",
       "C    int64\n",
       "D    int64\n",
       "E    int64\n",
       "dtype: object"
      ]
     },
     "execution_count": 75,
     "metadata": {},
     "output_type": "execute_result"
    }
   ],
   "execution_count": 75
  },
  {
   "metadata": {
    "ExecuteTime": {
     "end_time": "2025-01-09T02:53:38.659907Z",
     "start_time": "2025-01-09T02:53:38.655289Z"
    }
   },
   "cell_type": "code",
   "source": "df.head(10)",
   "id": "5cfddd415339f659",
   "outputs": [
    {
     "data": {
      "text/plain": [
       "             A   B   C   D   E\n",
       "2024-12-16   0   1   2   3   4\n",
       "2024-12-17   5   6   7   8   9\n",
       "2024-12-18  10  11  12  13  14\n",
       "2024-12-19  15  16  17  18  19\n",
       "2024-12-20  20  21  22  23  24\n",
       "2024-12-21  25  26  27  28  29\n",
       "2024-12-22  30  31  32  33  34\n",
       "2024-12-23  35  36  37  38  39\n",
       "2024-12-24  40  41  42  43  44\n",
       "2024-12-25  45  46  47  48  49"
      ],
      "text/html": [
       "<div>\n",
       "<style scoped>\n",
       "    .dataframe tbody tr th:only-of-type {\n",
       "        vertical-align: middle;\n",
       "    }\n",
       "\n",
       "    .dataframe tbody tr th {\n",
       "        vertical-align: top;\n",
       "    }\n",
       "\n",
       "    .dataframe thead th {\n",
       "        text-align: right;\n",
       "    }\n",
       "</style>\n",
       "<table border=\"1\" class=\"dataframe\">\n",
       "  <thead>\n",
       "    <tr style=\"text-align: right;\">\n",
       "      <th></th>\n",
       "      <th>A</th>\n",
       "      <th>B</th>\n",
       "      <th>C</th>\n",
       "      <th>D</th>\n",
       "      <th>E</th>\n",
       "    </tr>\n",
       "  </thead>\n",
       "  <tbody>\n",
       "    <tr>\n",
       "      <th>2024-12-16</th>\n",
       "      <td>0</td>\n",
       "      <td>1</td>\n",
       "      <td>2</td>\n",
       "      <td>3</td>\n",
       "      <td>4</td>\n",
       "    </tr>\n",
       "    <tr>\n",
       "      <th>2024-12-17</th>\n",
       "      <td>5</td>\n",
       "      <td>6</td>\n",
       "      <td>7</td>\n",
       "      <td>8</td>\n",
       "      <td>9</td>\n",
       "    </tr>\n",
       "    <tr>\n",
       "      <th>2024-12-18</th>\n",
       "      <td>10</td>\n",
       "      <td>11</td>\n",
       "      <td>12</td>\n",
       "      <td>13</td>\n",
       "      <td>14</td>\n",
       "    </tr>\n",
       "    <tr>\n",
       "      <th>2024-12-19</th>\n",
       "      <td>15</td>\n",
       "      <td>16</td>\n",
       "      <td>17</td>\n",
       "      <td>18</td>\n",
       "      <td>19</td>\n",
       "    </tr>\n",
       "    <tr>\n",
       "      <th>2024-12-20</th>\n",
       "      <td>20</td>\n",
       "      <td>21</td>\n",
       "      <td>22</td>\n",
       "      <td>23</td>\n",
       "      <td>24</td>\n",
       "    </tr>\n",
       "    <tr>\n",
       "      <th>2024-12-21</th>\n",
       "      <td>25</td>\n",
       "      <td>26</td>\n",
       "      <td>27</td>\n",
       "      <td>28</td>\n",
       "      <td>29</td>\n",
       "    </tr>\n",
       "    <tr>\n",
       "      <th>2024-12-22</th>\n",
       "      <td>30</td>\n",
       "      <td>31</td>\n",
       "      <td>32</td>\n",
       "      <td>33</td>\n",
       "      <td>34</td>\n",
       "    </tr>\n",
       "    <tr>\n",
       "      <th>2024-12-23</th>\n",
       "      <td>35</td>\n",
       "      <td>36</td>\n",
       "      <td>37</td>\n",
       "      <td>38</td>\n",
       "      <td>39</td>\n",
       "    </tr>\n",
       "    <tr>\n",
       "      <th>2024-12-24</th>\n",
       "      <td>40</td>\n",
       "      <td>41</td>\n",
       "      <td>42</td>\n",
       "      <td>43</td>\n",
       "      <td>44</td>\n",
       "    </tr>\n",
       "    <tr>\n",
       "      <th>2024-12-25</th>\n",
       "      <td>45</td>\n",
       "      <td>46</td>\n",
       "      <td>47</td>\n",
       "      <td>48</td>\n",
       "      <td>49</td>\n",
       "    </tr>\n",
       "  </tbody>\n",
       "</table>\n",
       "</div>"
      ]
     },
     "execution_count": 76,
     "metadata": {},
     "output_type": "execute_result"
    }
   ],
   "execution_count": 76
  },
  {
   "metadata": {
    "ExecuteTime": {
     "end_time": "2025-01-09T02:53:38.779993Z",
     "start_time": "2025-01-09T02:53:38.774058Z"
    }
   },
   "cell_type": "code",
   "source": "df.tail(20)",
   "id": "df5116b920a1d996",
   "outputs": [
    {
     "data": {
      "text/plain": [
       "              A    B    C    D    E\n",
       "2025-06-14  900  901  902  903  904\n",
       "2025-06-15  905  906  907  908  909\n",
       "2025-06-16  910  911  912  913  914\n",
       "2025-06-17  915  916  917  918  919\n",
       "2025-06-18  920  921  922  923  924\n",
       "2025-06-19  925  926  927  928  929\n",
       "2025-06-20  930  931  932  933  934\n",
       "2025-06-21  935  936  937  938  939\n",
       "2025-06-22  940  941  942  943  944\n",
       "2025-06-23  945  946  947  948  949\n",
       "2025-06-24  950  951  952  953  954\n",
       "2025-06-25  955  956  957  958  959\n",
       "2025-06-26  960  961  962  963  964\n",
       "2025-06-27  965  966  967  968  969\n",
       "2025-06-28  970  971  972  973  974\n",
       "2025-06-29  975  976  977  978  979\n",
       "2025-06-30  980  981  982  983  984\n",
       "2025-07-01  985  986  987  988  989\n",
       "2025-07-02  990  991  992  993  994\n",
       "2025-07-03  995  996  997  998  999"
      ],
      "text/html": [
       "<div>\n",
       "<style scoped>\n",
       "    .dataframe tbody tr th:only-of-type {\n",
       "        vertical-align: middle;\n",
       "    }\n",
       "\n",
       "    .dataframe tbody tr th {\n",
       "        vertical-align: top;\n",
       "    }\n",
       "\n",
       "    .dataframe thead th {\n",
       "        text-align: right;\n",
       "    }\n",
       "</style>\n",
       "<table border=\"1\" class=\"dataframe\">\n",
       "  <thead>\n",
       "    <tr style=\"text-align: right;\">\n",
       "      <th></th>\n",
       "      <th>A</th>\n",
       "      <th>B</th>\n",
       "      <th>C</th>\n",
       "      <th>D</th>\n",
       "      <th>E</th>\n",
       "    </tr>\n",
       "  </thead>\n",
       "  <tbody>\n",
       "    <tr>\n",
       "      <th>2025-06-14</th>\n",
       "      <td>900</td>\n",
       "      <td>901</td>\n",
       "      <td>902</td>\n",
       "      <td>903</td>\n",
       "      <td>904</td>\n",
       "    </tr>\n",
       "    <tr>\n",
       "      <th>2025-06-15</th>\n",
       "      <td>905</td>\n",
       "      <td>906</td>\n",
       "      <td>907</td>\n",
       "      <td>908</td>\n",
       "      <td>909</td>\n",
       "    </tr>\n",
       "    <tr>\n",
       "      <th>2025-06-16</th>\n",
       "      <td>910</td>\n",
       "      <td>911</td>\n",
       "      <td>912</td>\n",
       "      <td>913</td>\n",
       "      <td>914</td>\n",
       "    </tr>\n",
       "    <tr>\n",
       "      <th>2025-06-17</th>\n",
       "      <td>915</td>\n",
       "      <td>916</td>\n",
       "      <td>917</td>\n",
       "      <td>918</td>\n",
       "      <td>919</td>\n",
       "    </tr>\n",
       "    <tr>\n",
       "      <th>2025-06-18</th>\n",
       "      <td>920</td>\n",
       "      <td>921</td>\n",
       "      <td>922</td>\n",
       "      <td>923</td>\n",
       "      <td>924</td>\n",
       "    </tr>\n",
       "    <tr>\n",
       "      <th>2025-06-19</th>\n",
       "      <td>925</td>\n",
       "      <td>926</td>\n",
       "      <td>927</td>\n",
       "      <td>928</td>\n",
       "      <td>929</td>\n",
       "    </tr>\n",
       "    <tr>\n",
       "      <th>2025-06-20</th>\n",
       "      <td>930</td>\n",
       "      <td>931</td>\n",
       "      <td>932</td>\n",
       "      <td>933</td>\n",
       "      <td>934</td>\n",
       "    </tr>\n",
       "    <tr>\n",
       "      <th>2025-06-21</th>\n",
       "      <td>935</td>\n",
       "      <td>936</td>\n",
       "      <td>937</td>\n",
       "      <td>938</td>\n",
       "      <td>939</td>\n",
       "    </tr>\n",
       "    <tr>\n",
       "      <th>2025-06-22</th>\n",
       "      <td>940</td>\n",
       "      <td>941</td>\n",
       "      <td>942</td>\n",
       "      <td>943</td>\n",
       "      <td>944</td>\n",
       "    </tr>\n",
       "    <tr>\n",
       "      <th>2025-06-23</th>\n",
       "      <td>945</td>\n",
       "      <td>946</td>\n",
       "      <td>947</td>\n",
       "      <td>948</td>\n",
       "      <td>949</td>\n",
       "    </tr>\n",
       "    <tr>\n",
       "      <th>2025-06-24</th>\n",
       "      <td>950</td>\n",
       "      <td>951</td>\n",
       "      <td>952</td>\n",
       "      <td>953</td>\n",
       "      <td>954</td>\n",
       "    </tr>\n",
       "    <tr>\n",
       "      <th>2025-06-25</th>\n",
       "      <td>955</td>\n",
       "      <td>956</td>\n",
       "      <td>957</td>\n",
       "      <td>958</td>\n",
       "      <td>959</td>\n",
       "    </tr>\n",
       "    <tr>\n",
       "      <th>2025-06-26</th>\n",
       "      <td>960</td>\n",
       "      <td>961</td>\n",
       "      <td>962</td>\n",
       "      <td>963</td>\n",
       "      <td>964</td>\n",
       "    </tr>\n",
       "    <tr>\n",
       "      <th>2025-06-27</th>\n",
       "      <td>965</td>\n",
       "      <td>966</td>\n",
       "      <td>967</td>\n",
       "      <td>968</td>\n",
       "      <td>969</td>\n",
       "    </tr>\n",
       "    <tr>\n",
       "      <th>2025-06-28</th>\n",
       "      <td>970</td>\n",
       "      <td>971</td>\n",
       "      <td>972</td>\n",
       "      <td>973</td>\n",
       "      <td>974</td>\n",
       "    </tr>\n",
       "    <tr>\n",
       "      <th>2025-06-29</th>\n",
       "      <td>975</td>\n",
       "      <td>976</td>\n",
       "      <td>977</td>\n",
       "      <td>978</td>\n",
       "      <td>979</td>\n",
       "    </tr>\n",
       "    <tr>\n",
       "      <th>2025-06-30</th>\n",
       "      <td>980</td>\n",
       "      <td>981</td>\n",
       "      <td>982</td>\n",
       "      <td>983</td>\n",
       "      <td>984</td>\n",
       "    </tr>\n",
       "    <tr>\n",
       "      <th>2025-07-01</th>\n",
       "      <td>985</td>\n",
       "      <td>986</td>\n",
       "      <td>987</td>\n",
       "      <td>988</td>\n",
       "      <td>989</td>\n",
       "    </tr>\n",
       "    <tr>\n",
       "      <th>2025-07-02</th>\n",
       "      <td>990</td>\n",
       "      <td>991</td>\n",
       "      <td>992</td>\n",
       "      <td>993</td>\n",
       "      <td>994</td>\n",
       "    </tr>\n",
       "    <tr>\n",
       "      <th>2025-07-03</th>\n",
       "      <td>995</td>\n",
       "      <td>996</td>\n",
       "      <td>997</td>\n",
       "      <td>998</td>\n",
       "      <td>999</td>\n",
       "    </tr>\n",
       "  </tbody>\n",
       "</table>\n",
       "</div>"
      ]
     },
     "execution_count": 77,
     "metadata": {},
     "output_type": "execute_result"
    }
   ],
   "execution_count": 77
  },
  {
   "metadata": {
    "ExecuteTime": {
     "end_time": "2025-01-09T02:53:38.818162Z",
     "start_time": "2025-01-09T02:53:38.813922Z"
    }
   },
   "cell_type": "code",
   "source": "df.index",
   "id": "b536092c81ba0ce5",
   "outputs": [
    {
     "data": {
      "text/plain": [
       "DatetimeIndex(['2024-12-16', '2024-12-17', '2024-12-18', '2024-12-19',\n",
       "               '2024-12-20', '2024-12-21', '2024-12-22', '2024-12-23',\n",
       "               '2024-12-24', '2024-12-25',\n",
       "               ...\n",
       "               '2025-06-24', '2025-06-25', '2025-06-26', '2025-06-27',\n",
       "               '2025-06-28', '2025-06-29', '2025-06-30', '2025-07-01',\n",
       "               '2025-07-02', '2025-07-03'],\n",
       "              dtype='datetime64[ns]', length=200, freq='D')"
      ]
     },
     "execution_count": 78,
     "metadata": {},
     "output_type": "execute_result"
    }
   ],
   "execution_count": 78
  },
  {
   "metadata": {
    "ExecuteTime": {
     "end_time": "2025-01-09T02:53:38.962475Z",
     "start_time": "2025-01-09T02:53:38.957306Z"
    }
   },
   "cell_type": "code",
   "source": [
    "my_numpy_particles = df.to_numpy()\n",
    "my_numpy_particles"
   ],
   "id": "3db2235c2f6778b5",
   "outputs": [
    {
     "data": {
      "text/plain": [
       "array([[  0,   1,   2,   3,   4],\n",
       "       [  5,   6,   7,   8,   9],\n",
       "       [ 10,  11,  12,  13,  14],\n",
       "       [ 15,  16,  17,  18,  19],\n",
       "       [ 20,  21,  22,  23,  24],\n",
       "       [ 25,  26,  27,  28,  29],\n",
       "       [ 30,  31,  32,  33,  34],\n",
       "       [ 35,  36,  37,  38,  39],\n",
       "       [ 40,  41,  42,  43,  44],\n",
       "       [ 45,  46,  47,  48,  49],\n",
       "       [ 50,  51,  52,  53,  54],\n",
       "       [ 55,  56,  57,  58,  59],\n",
       "       [ 60,  61,  62,  63,  64],\n",
       "       [ 65,  66,  67,  68,  69],\n",
       "       [ 70,  71,  72,  73,  74],\n",
       "       [ 75,  76,  77,  78,  79],\n",
       "       [ 80,  81,  82,  83,  84],\n",
       "       [ 85,  86,  87,  88,  89],\n",
       "       [ 90,  91,  92,  93,  94],\n",
       "       [ 95,  96,  97,  98,  99],\n",
       "       [100, 101, 102, 103, 104],\n",
       "       [105, 106, 107, 108, 109],\n",
       "       [110, 111, 112, 113, 114],\n",
       "       [115, 116, 117, 118, 119],\n",
       "       [120, 121, 122, 123, 124],\n",
       "       [125, 126, 127, 128, 129],\n",
       "       [130, 131, 132, 133, 134],\n",
       "       [135, 136, 137, 138, 139],\n",
       "       [140, 141, 142, 143, 144],\n",
       "       [145, 146, 147, 148, 149],\n",
       "       [150, 151, 152, 153, 154],\n",
       "       [155, 156, 157, 158, 159],\n",
       "       [160, 161, 162, 163, 164],\n",
       "       [165, 166, 167, 168, 169],\n",
       "       [170, 171, 172, 173, 174],\n",
       "       [175, 176, 177, 178, 179],\n",
       "       [180, 181, 182, 183, 184],\n",
       "       [185, 186, 187, 188, 189],\n",
       "       [190, 191, 192, 193, 194],\n",
       "       [195, 196, 197, 198, 199],\n",
       "       [200, 201, 202, 203, 204],\n",
       "       [205, 206, 207, 208, 209],\n",
       "       [210, 211, 212, 213, 214],\n",
       "       [215, 216, 217, 218, 219],\n",
       "       [220, 221, 222, 223, 224],\n",
       "       [225, 226, 227, 228, 229],\n",
       "       [230, 231, 232, 233, 234],\n",
       "       [235, 236, 237, 238, 239],\n",
       "       [240, 241, 242, 243, 244],\n",
       "       [245, 246, 247, 248, 249],\n",
       "       [250, 251, 252, 253, 254],\n",
       "       [255, 256, 257, 258, 259],\n",
       "       [260, 261, 262, 263, 264],\n",
       "       [265, 266, 267, 268, 269],\n",
       "       [270, 271, 272, 273, 274],\n",
       "       [275, 276, 277, 278, 279],\n",
       "       [280, 281, 282, 283, 284],\n",
       "       [285, 286, 287, 288, 289],\n",
       "       [290, 291, 292, 293, 294],\n",
       "       [295, 296, 297, 298, 299],\n",
       "       [300, 301, 302, 303, 304],\n",
       "       [305, 306, 307, 308, 309],\n",
       "       [310, 311, 312, 313, 314],\n",
       "       [315, 316, 317, 318, 319],\n",
       "       [320, 321, 322, 323, 324],\n",
       "       [325, 326, 327, 328, 329],\n",
       "       [330, 331, 332, 333, 334],\n",
       "       [335, 336, 337, 338, 339],\n",
       "       [340, 341, 342, 343, 344],\n",
       "       [345, 346, 347, 348, 349],\n",
       "       [350, 351, 352, 353, 354],\n",
       "       [355, 356, 357, 358, 359],\n",
       "       [360, 361, 362, 363, 364],\n",
       "       [365, 366, 367, 368, 369],\n",
       "       [370, 371, 372, 373, 374],\n",
       "       [375, 376, 377, 378, 379],\n",
       "       [380, 381, 382, 383, 384],\n",
       "       [385, 386, 387, 388, 389],\n",
       "       [390, 391, 392, 393, 394],\n",
       "       [395, 396, 397, 398, 399],\n",
       "       [400, 401, 402, 403, 404],\n",
       "       [405, 406, 407, 408, 409],\n",
       "       [410, 411, 412, 413, 414],\n",
       "       [415, 416, 417, 418, 419],\n",
       "       [420, 421, 422, 423, 424],\n",
       "       [425, 426, 427, 428, 429],\n",
       "       [430, 431, 432, 433, 434],\n",
       "       [435, 436, 437, 438, 439],\n",
       "       [440, 441, 442, 443, 444],\n",
       "       [445, 446, 447, 448, 449],\n",
       "       [450, 451, 452, 453, 454],\n",
       "       [455, 456, 457, 458, 459],\n",
       "       [460, 461, 462, 463, 464],\n",
       "       [465, 466, 467, 468, 469],\n",
       "       [470, 471, 472, 473, 474],\n",
       "       [475, 476, 477, 478, 479],\n",
       "       [480, 481, 482, 483, 484],\n",
       "       [485, 486, 487, 488, 489],\n",
       "       [490, 491, 492, 493, 494],\n",
       "       [495, 496, 497, 498, 499],\n",
       "       [500, 501, 502, 503, 504],\n",
       "       [505, 506, 507, 508, 509],\n",
       "       [510, 511, 512, 513, 514],\n",
       "       [515, 516, 517, 518, 519],\n",
       "       [520, 521, 522, 523, 524],\n",
       "       [525, 526, 527, 528, 529],\n",
       "       [530, 531, 532, 533, 534],\n",
       "       [535, 536, 537, 538, 539],\n",
       "       [540, 541, 542, 543, 544],\n",
       "       [545, 546, 547, 548, 549],\n",
       "       [550, 551, 552, 553, 554],\n",
       "       [555, 556, 557, 558, 559],\n",
       "       [560, 561, 562, 563, 564],\n",
       "       [565, 566, 567, 568, 569],\n",
       "       [570, 571, 572, 573, 574],\n",
       "       [575, 576, 577, 578, 579],\n",
       "       [580, 581, 582, 583, 584],\n",
       "       [585, 586, 587, 588, 589],\n",
       "       [590, 591, 592, 593, 594],\n",
       "       [595, 596, 597, 598, 599],\n",
       "       [600, 601, 602, 603, 604],\n",
       "       [605, 606, 607, 608, 609],\n",
       "       [610, 611, 612, 613, 614],\n",
       "       [615, 616, 617, 618, 619],\n",
       "       [620, 621, 622, 623, 624],\n",
       "       [625, 626, 627, 628, 629],\n",
       "       [630, 631, 632, 633, 634],\n",
       "       [635, 636, 637, 638, 639],\n",
       "       [640, 641, 642, 643, 644],\n",
       "       [645, 646, 647, 648, 649],\n",
       "       [650, 651, 652, 653, 654],\n",
       "       [655, 656, 657, 658, 659],\n",
       "       [660, 661, 662, 663, 664],\n",
       "       [665, 666, 667, 668, 669],\n",
       "       [670, 671, 672, 673, 674],\n",
       "       [675, 676, 677, 678, 679],\n",
       "       [680, 681, 682, 683, 684],\n",
       "       [685, 686, 687, 688, 689],\n",
       "       [690, 691, 692, 693, 694],\n",
       "       [695, 696, 697, 698, 699],\n",
       "       [700, 701, 702, 703, 704],\n",
       "       [705, 706, 707, 708, 709],\n",
       "       [710, 711, 712, 713, 714],\n",
       "       [715, 716, 717, 718, 719],\n",
       "       [720, 721, 722, 723, 724],\n",
       "       [725, 726, 727, 728, 729],\n",
       "       [730, 731, 732, 733, 734],\n",
       "       [735, 736, 737, 738, 739],\n",
       "       [740, 741, 742, 743, 744],\n",
       "       [745, 746, 747, 748, 749],\n",
       "       [750, 751, 752, 753, 754],\n",
       "       [755, 756, 757, 758, 759],\n",
       "       [760, 761, 762, 763, 764],\n",
       "       [765, 766, 767, 768, 769],\n",
       "       [770, 771, 772, 773, 774],\n",
       "       [775, 776, 777, 778, 779],\n",
       "       [780, 781, 782, 783, 784],\n",
       "       [785, 786, 787, 788, 789],\n",
       "       [790, 791, 792, 793, 794],\n",
       "       [795, 796, 797, 798, 799],\n",
       "       [800, 801, 802, 803, 804],\n",
       "       [805, 806, 807, 808, 809],\n",
       "       [810, 811, 812, 813, 814],\n",
       "       [815, 816, 817, 818, 819],\n",
       "       [820, 821, 822, 823, 824],\n",
       "       [825, 826, 827, 828, 829],\n",
       "       [830, 831, 832, 833, 834],\n",
       "       [835, 836, 837, 838, 839],\n",
       "       [840, 841, 842, 843, 844],\n",
       "       [845, 846, 847, 848, 849],\n",
       "       [850, 851, 852, 853, 854],\n",
       "       [855, 856, 857, 858, 859],\n",
       "       [860, 861, 862, 863, 864],\n",
       "       [865, 866, 867, 868, 869],\n",
       "       [870, 871, 872, 873, 874],\n",
       "       [875, 876, 877, 878, 879],\n",
       "       [880, 881, 882, 883, 884],\n",
       "       [885, 886, 887, 888, 889],\n",
       "       [890, 891, 892, 893, 894],\n",
       "       [895, 896, 897, 898, 899],\n",
       "       [900, 901, 902, 903, 904],\n",
       "       [905, 906, 907, 908, 909],\n",
       "       [910, 911, 912, 913, 914],\n",
       "       [915, 916, 917, 918, 919],\n",
       "       [920, 921, 922, 923, 924],\n",
       "       [925, 926, 927, 928, 929],\n",
       "       [930, 931, 932, 933, 934],\n",
       "       [935, 936, 937, 938, 939],\n",
       "       [940, 941, 942, 943, 944],\n",
       "       [945, 946, 947, 948, 949],\n",
       "       [950, 951, 952, 953, 954],\n",
       "       [955, 956, 957, 958, 959],\n",
       "       [960, 961, 962, 963, 964],\n",
       "       [965, 966, 967, 968, 969],\n",
       "       [970, 971, 972, 973, 974],\n",
       "       [975, 976, 977, 978, 979],\n",
       "       [980, 981, 982, 983, 984],\n",
       "       [985, 986, 987, 988, 989],\n",
       "       [990, 991, 992, 993, 994],\n",
       "       [995, 996, 997, 998, 999]])"
      ]
     },
     "execution_count": 79,
     "metadata": {},
     "output_type": "execute_result"
    }
   ],
   "execution_count": 79
  },
  {
   "metadata": {
    "ExecuteTime": {
     "end_time": "2025-01-09T02:53:39.153867Z",
     "start_time": "2025-01-09T02:53:39.144025Z"
    }
   },
   "cell_type": "code",
   "source": "df.describe()",
   "id": "8b5383f605e5a8a4",
   "outputs": [
    {
     "data": {
      "text/plain": [
       "                A           B           C           D           E\n",
       "count  200.000000  200.000000  200.000000  200.000000  200.000000\n",
       "mean   497.500000  498.500000  499.500000  500.500000  501.500000\n",
       "std    289.395923  289.395923  289.395923  289.395923  289.395923\n",
       "min      0.000000    1.000000    2.000000    3.000000    4.000000\n",
       "25%    248.750000  249.750000  250.750000  251.750000  252.750000\n",
       "50%    497.500000  498.500000  499.500000  500.500000  501.500000\n",
       "75%    746.250000  747.250000  748.250000  749.250000  750.250000\n",
       "max    995.000000  996.000000  997.000000  998.000000  999.000000"
      ],
      "text/html": [
       "<div>\n",
       "<style scoped>\n",
       "    .dataframe tbody tr th:only-of-type {\n",
       "        vertical-align: middle;\n",
       "    }\n",
       "\n",
       "    .dataframe tbody tr th {\n",
       "        vertical-align: top;\n",
       "    }\n",
       "\n",
       "    .dataframe thead th {\n",
       "        text-align: right;\n",
       "    }\n",
       "</style>\n",
       "<table border=\"1\" class=\"dataframe\">\n",
       "  <thead>\n",
       "    <tr style=\"text-align: right;\">\n",
       "      <th></th>\n",
       "      <th>A</th>\n",
       "      <th>B</th>\n",
       "      <th>C</th>\n",
       "      <th>D</th>\n",
       "      <th>E</th>\n",
       "    </tr>\n",
       "  </thead>\n",
       "  <tbody>\n",
       "    <tr>\n",
       "      <th>count</th>\n",
       "      <td>200.000000</td>\n",
       "      <td>200.000000</td>\n",
       "      <td>200.000000</td>\n",
       "      <td>200.000000</td>\n",
       "      <td>200.000000</td>\n",
       "    </tr>\n",
       "    <tr>\n",
       "      <th>mean</th>\n",
       "      <td>497.500000</td>\n",
       "      <td>498.500000</td>\n",
       "      <td>499.500000</td>\n",
       "      <td>500.500000</td>\n",
       "      <td>501.500000</td>\n",
       "    </tr>\n",
       "    <tr>\n",
       "      <th>std</th>\n",
       "      <td>289.395923</td>\n",
       "      <td>289.395923</td>\n",
       "      <td>289.395923</td>\n",
       "      <td>289.395923</td>\n",
       "      <td>289.395923</td>\n",
       "    </tr>\n",
       "    <tr>\n",
       "      <th>min</th>\n",
       "      <td>0.000000</td>\n",
       "      <td>1.000000</td>\n",
       "      <td>2.000000</td>\n",
       "      <td>3.000000</td>\n",
       "      <td>4.000000</td>\n",
       "    </tr>\n",
       "    <tr>\n",
       "      <th>25%</th>\n",
       "      <td>248.750000</td>\n",
       "      <td>249.750000</td>\n",
       "      <td>250.750000</td>\n",
       "      <td>251.750000</td>\n",
       "      <td>252.750000</td>\n",
       "    </tr>\n",
       "    <tr>\n",
       "      <th>50%</th>\n",
       "      <td>497.500000</td>\n",
       "      <td>498.500000</td>\n",
       "      <td>499.500000</td>\n",
       "      <td>500.500000</td>\n",
       "      <td>501.500000</td>\n",
       "    </tr>\n",
       "    <tr>\n",
       "      <th>75%</th>\n",
       "      <td>746.250000</td>\n",
       "      <td>747.250000</td>\n",
       "      <td>748.250000</td>\n",
       "      <td>749.250000</td>\n",
       "      <td>750.250000</td>\n",
       "    </tr>\n",
       "    <tr>\n",
       "      <th>max</th>\n",
       "      <td>995.000000</td>\n",
       "      <td>996.000000</td>\n",
       "      <td>997.000000</td>\n",
       "      <td>998.000000</td>\n",
       "      <td>999.000000</td>\n",
       "    </tr>\n",
       "  </tbody>\n",
       "</table>\n",
       "</div>"
      ]
     },
     "execution_count": 80,
     "metadata": {},
     "output_type": "execute_result"
    }
   ],
   "execution_count": 80
  },
  {
   "metadata": {
    "ExecuteTime": {
     "end_time": "2025-01-09T02:53:39.270944Z",
     "start_time": "2025-01-09T02:53:39.264844Z"
    }
   },
   "cell_type": "code",
   "source": "df.sort_index(ascending=False)",
   "id": "aafa5e142685f3ee",
   "outputs": [
    {
     "data": {
      "text/plain": [
       "              A    B    C    D    E\n",
       "2025-07-03  995  996  997  998  999\n",
       "2025-07-02  990  991  992  993  994\n",
       "2025-07-01  985  986  987  988  989\n",
       "2025-06-30  980  981  982  983  984\n",
       "2025-06-29  975  976  977  978  979\n",
       "...         ...  ...  ...  ...  ...\n",
       "2024-12-20   20   21   22   23   24\n",
       "2024-12-19   15   16   17   18   19\n",
       "2024-12-18   10   11   12   13   14\n",
       "2024-12-17    5    6    7    8    9\n",
       "2024-12-16    0    1    2    3    4\n",
       "\n",
       "[200 rows x 5 columns]"
      ],
      "text/html": [
       "<div>\n",
       "<style scoped>\n",
       "    .dataframe tbody tr th:only-of-type {\n",
       "        vertical-align: middle;\n",
       "    }\n",
       "\n",
       "    .dataframe tbody tr th {\n",
       "        vertical-align: top;\n",
       "    }\n",
       "\n",
       "    .dataframe thead th {\n",
       "        text-align: right;\n",
       "    }\n",
       "</style>\n",
       "<table border=\"1\" class=\"dataframe\">\n",
       "  <thead>\n",
       "    <tr style=\"text-align: right;\">\n",
       "      <th></th>\n",
       "      <th>A</th>\n",
       "      <th>B</th>\n",
       "      <th>C</th>\n",
       "      <th>D</th>\n",
       "      <th>E</th>\n",
       "    </tr>\n",
       "  </thead>\n",
       "  <tbody>\n",
       "    <tr>\n",
       "      <th>2025-07-03</th>\n",
       "      <td>995</td>\n",
       "      <td>996</td>\n",
       "      <td>997</td>\n",
       "      <td>998</td>\n",
       "      <td>999</td>\n",
       "    </tr>\n",
       "    <tr>\n",
       "      <th>2025-07-02</th>\n",
       "      <td>990</td>\n",
       "      <td>991</td>\n",
       "      <td>992</td>\n",
       "      <td>993</td>\n",
       "      <td>994</td>\n",
       "    </tr>\n",
       "    <tr>\n",
       "      <th>2025-07-01</th>\n",
       "      <td>985</td>\n",
       "      <td>986</td>\n",
       "      <td>987</td>\n",
       "      <td>988</td>\n",
       "      <td>989</td>\n",
       "    </tr>\n",
       "    <tr>\n",
       "      <th>2025-06-30</th>\n",
       "      <td>980</td>\n",
       "      <td>981</td>\n",
       "      <td>982</td>\n",
       "      <td>983</td>\n",
       "      <td>984</td>\n",
       "    </tr>\n",
       "    <tr>\n",
       "      <th>2025-06-29</th>\n",
       "      <td>975</td>\n",
       "      <td>976</td>\n",
       "      <td>977</td>\n",
       "      <td>978</td>\n",
       "      <td>979</td>\n",
       "    </tr>\n",
       "    <tr>\n",
       "      <th>...</th>\n",
       "      <td>...</td>\n",
       "      <td>...</td>\n",
       "      <td>...</td>\n",
       "      <td>...</td>\n",
       "      <td>...</td>\n",
       "    </tr>\n",
       "    <tr>\n",
       "      <th>2024-12-20</th>\n",
       "      <td>20</td>\n",
       "      <td>21</td>\n",
       "      <td>22</td>\n",
       "      <td>23</td>\n",
       "      <td>24</td>\n",
       "    </tr>\n",
       "    <tr>\n",
       "      <th>2024-12-19</th>\n",
       "      <td>15</td>\n",
       "      <td>16</td>\n",
       "      <td>17</td>\n",
       "      <td>18</td>\n",
       "      <td>19</td>\n",
       "    </tr>\n",
       "    <tr>\n",
       "      <th>2024-12-18</th>\n",
       "      <td>10</td>\n",
       "      <td>11</td>\n",
       "      <td>12</td>\n",
       "      <td>13</td>\n",
       "      <td>14</td>\n",
       "    </tr>\n",
       "    <tr>\n",
       "      <th>2024-12-17</th>\n",
       "      <td>5</td>\n",
       "      <td>6</td>\n",
       "      <td>7</td>\n",
       "      <td>8</td>\n",
       "      <td>9</td>\n",
       "    </tr>\n",
       "    <tr>\n",
       "      <th>2024-12-16</th>\n",
       "      <td>0</td>\n",
       "      <td>1</td>\n",
       "      <td>2</td>\n",
       "      <td>3</td>\n",
       "      <td>4</td>\n",
       "    </tr>\n",
       "  </tbody>\n",
       "</table>\n",
       "<p>200 rows × 5 columns</p>\n",
       "</div>"
      ]
     },
     "execution_count": 81,
     "metadata": {},
     "output_type": "execute_result"
    }
   ],
   "execution_count": 81
  },
  {
   "metadata": {
    "ExecuteTime": {
     "end_time": "2025-01-09T02:53:39.452650Z",
     "start_time": "2025-01-09T02:53:39.448515Z"
    }
   },
   "cell_type": "code",
   "source": "df[\"D\"]",
   "id": "64a21048ea7c0511",
   "outputs": [
    {
     "data": {
      "text/plain": [
       "2024-12-16      3\n",
       "2024-12-17      8\n",
       "2024-12-18     13\n",
       "2024-12-19     18\n",
       "2024-12-20     23\n",
       "             ... \n",
       "2025-06-29    978\n",
       "2025-06-30    983\n",
       "2025-07-01    988\n",
       "2025-07-02    993\n",
       "2025-07-03    998\n",
       "Freq: D, Name: D, Length: 200, dtype: int64"
      ]
     },
     "execution_count": 82,
     "metadata": {},
     "output_type": "execute_result"
    }
   ],
   "execution_count": 82
  },
  {
   "metadata": {
    "ExecuteTime": {
     "end_time": "2025-01-09T02:53:39.691679Z",
     "start_time": "2025-01-09T02:53:39.686703Z"
    }
   },
   "cell_type": "code",
   "source": "df[1:10]",
   "id": "9803739c0270beff",
   "outputs": [
    {
     "data": {
      "text/plain": [
       "             A   B   C   D   E\n",
       "2024-12-17   5   6   7   8   9\n",
       "2024-12-18  10  11  12  13  14\n",
       "2024-12-19  15  16  17  18  19\n",
       "2024-12-20  20  21  22  23  24\n",
       "2024-12-21  25  26  27  28  29\n",
       "2024-12-22  30  31  32  33  34\n",
       "2024-12-23  35  36  37  38  39\n",
       "2024-12-24  40  41  42  43  44\n",
       "2024-12-25  45  46  47  48  49"
      ],
      "text/html": [
       "<div>\n",
       "<style scoped>\n",
       "    .dataframe tbody tr th:only-of-type {\n",
       "        vertical-align: middle;\n",
       "    }\n",
       "\n",
       "    .dataframe tbody tr th {\n",
       "        vertical-align: top;\n",
       "    }\n",
       "\n",
       "    .dataframe thead th {\n",
       "        text-align: right;\n",
       "    }\n",
       "</style>\n",
       "<table border=\"1\" class=\"dataframe\">\n",
       "  <thead>\n",
       "    <tr style=\"text-align: right;\">\n",
       "      <th></th>\n",
       "      <th>A</th>\n",
       "      <th>B</th>\n",
       "      <th>C</th>\n",
       "      <th>D</th>\n",
       "      <th>E</th>\n",
       "    </tr>\n",
       "  </thead>\n",
       "  <tbody>\n",
       "    <tr>\n",
       "      <th>2024-12-17</th>\n",
       "      <td>5</td>\n",
       "      <td>6</td>\n",
       "      <td>7</td>\n",
       "      <td>8</td>\n",
       "      <td>9</td>\n",
       "    </tr>\n",
       "    <tr>\n",
       "      <th>2024-12-18</th>\n",
       "      <td>10</td>\n",
       "      <td>11</td>\n",
       "      <td>12</td>\n",
       "      <td>13</td>\n",
       "      <td>14</td>\n",
       "    </tr>\n",
       "    <tr>\n",
       "      <th>2024-12-19</th>\n",
       "      <td>15</td>\n",
       "      <td>16</td>\n",
       "      <td>17</td>\n",
       "      <td>18</td>\n",
       "      <td>19</td>\n",
       "    </tr>\n",
       "    <tr>\n",
       "      <th>2024-12-20</th>\n",
       "      <td>20</td>\n",
       "      <td>21</td>\n",
       "      <td>22</td>\n",
       "      <td>23</td>\n",
       "      <td>24</td>\n",
       "    </tr>\n",
       "    <tr>\n",
       "      <th>2024-12-21</th>\n",
       "      <td>25</td>\n",
       "      <td>26</td>\n",
       "      <td>27</td>\n",
       "      <td>28</td>\n",
       "      <td>29</td>\n",
       "    </tr>\n",
       "    <tr>\n",
       "      <th>2024-12-22</th>\n",
       "      <td>30</td>\n",
       "      <td>31</td>\n",
       "      <td>32</td>\n",
       "      <td>33</td>\n",
       "      <td>34</td>\n",
       "    </tr>\n",
       "    <tr>\n",
       "      <th>2024-12-23</th>\n",
       "      <td>35</td>\n",
       "      <td>36</td>\n",
       "      <td>37</td>\n",
       "      <td>38</td>\n",
       "      <td>39</td>\n",
       "    </tr>\n",
       "    <tr>\n",
       "      <th>2024-12-24</th>\n",
       "      <td>40</td>\n",
       "      <td>41</td>\n",
       "      <td>42</td>\n",
       "      <td>43</td>\n",
       "      <td>44</td>\n",
       "    </tr>\n",
       "    <tr>\n",
       "      <th>2024-12-25</th>\n",
       "      <td>45</td>\n",
       "      <td>46</td>\n",
       "      <td>47</td>\n",
       "      <td>48</td>\n",
       "      <td>49</td>\n",
       "    </tr>\n",
       "  </tbody>\n",
       "</table>\n",
       "</div>"
      ]
     },
     "execution_count": 83,
     "metadata": {},
     "output_type": "execute_result"
    }
   ],
   "execution_count": 83
  },
  {
   "metadata": {
    "ExecuteTime": {
     "end_time": "2025-01-09T02:53:39.850975Z",
     "start_time": "2025-01-09T02:53:39.844358Z"
    }
   },
   "cell_type": "code",
   "source": "df['20241220':'20250106']",
   "id": "c9570a6978e747b8",
   "outputs": [
    {
     "data": {
      "text/plain": [
       "              A    B    C    D    E\n",
       "2024-12-20   20   21   22   23   24\n",
       "2024-12-21   25   26   27   28   29\n",
       "2024-12-22   30   31   32   33   34\n",
       "2024-12-23   35   36   37   38   39\n",
       "2024-12-24   40   41   42   43   44\n",
       "2024-12-25   45   46   47   48   49\n",
       "2024-12-26   50   51   52   53   54\n",
       "2024-12-27   55   56   57   58   59\n",
       "2024-12-28   60   61   62   63   64\n",
       "2024-12-29   65   66   67   68   69\n",
       "2024-12-30   70   71   72   73   74\n",
       "2024-12-31   75   76   77   78   79\n",
       "2025-01-01   80   81   82   83   84\n",
       "2025-01-02   85   86   87   88   89\n",
       "2025-01-03   90   91   92   93   94\n",
       "2025-01-04   95   96   97   98   99\n",
       "2025-01-05  100  101  102  103  104\n",
       "2025-01-06  105  106  107  108  109"
      ],
      "text/html": [
       "<div>\n",
       "<style scoped>\n",
       "    .dataframe tbody tr th:only-of-type {\n",
       "        vertical-align: middle;\n",
       "    }\n",
       "\n",
       "    .dataframe tbody tr th {\n",
       "        vertical-align: top;\n",
       "    }\n",
       "\n",
       "    .dataframe thead th {\n",
       "        text-align: right;\n",
       "    }\n",
       "</style>\n",
       "<table border=\"1\" class=\"dataframe\">\n",
       "  <thead>\n",
       "    <tr style=\"text-align: right;\">\n",
       "      <th></th>\n",
       "      <th>A</th>\n",
       "      <th>B</th>\n",
       "      <th>C</th>\n",
       "      <th>D</th>\n",
       "      <th>E</th>\n",
       "    </tr>\n",
       "  </thead>\n",
       "  <tbody>\n",
       "    <tr>\n",
       "      <th>2024-12-20</th>\n",
       "      <td>20</td>\n",
       "      <td>21</td>\n",
       "      <td>22</td>\n",
       "      <td>23</td>\n",
       "      <td>24</td>\n",
       "    </tr>\n",
       "    <tr>\n",
       "      <th>2024-12-21</th>\n",
       "      <td>25</td>\n",
       "      <td>26</td>\n",
       "      <td>27</td>\n",
       "      <td>28</td>\n",
       "      <td>29</td>\n",
       "    </tr>\n",
       "    <tr>\n",
       "      <th>2024-12-22</th>\n",
       "      <td>30</td>\n",
       "      <td>31</td>\n",
       "      <td>32</td>\n",
       "      <td>33</td>\n",
       "      <td>34</td>\n",
       "    </tr>\n",
       "    <tr>\n",
       "      <th>2024-12-23</th>\n",
       "      <td>35</td>\n",
       "      <td>36</td>\n",
       "      <td>37</td>\n",
       "      <td>38</td>\n",
       "      <td>39</td>\n",
       "    </tr>\n",
       "    <tr>\n",
       "      <th>2024-12-24</th>\n",
       "      <td>40</td>\n",
       "      <td>41</td>\n",
       "      <td>42</td>\n",
       "      <td>43</td>\n",
       "      <td>44</td>\n",
       "    </tr>\n",
       "    <tr>\n",
       "      <th>2024-12-25</th>\n",
       "      <td>45</td>\n",
       "      <td>46</td>\n",
       "      <td>47</td>\n",
       "      <td>48</td>\n",
       "      <td>49</td>\n",
       "    </tr>\n",
       "    <tr>\n",
       "      <th>2024-12-26</th>\n",
       "      <td>50</td>\n",
       "      <td>51</td>\n",
       "      <td>52</td>\n",
       "      <td>53</td>\n",
       "      <td>54</td>\n",
       "    </tr>\n",
       "    <tr>\n",
       "      <th>2024-12-27</th>\n",
       "      <td>55</td>\n",
       "      <td>56</td>\n",
       "      <td>57</td>\n",
       "      <td>58</td>\n",
       "      <td>59</td>\n",
       "    </tr>\n",
       "    <tr>\n",
       "      <th>2024-12-28</th>\n",
       "      <td>60</td>\n",
       "      <td>61</td>\n",
       "      <td>62</td>\n",
       "      <td>63</td>\n",
       "      <td>64</td>\n",
       "    </tr>\n",
       "    <tr>\n",
       "      <th>2024-12-29</th>\n",
       "      <td>65</td>\n",
       "      <td>66</td>\n",
       "      <td>67</td>\n",
       "      <td>68</td>\n",
       "      <td>69</td>\n",
       "    </tr>\n",
       "    <tr>\n",
       "      <th>2024-12-30</th>\n",
       "      <td>70</td>\n",
       "      <td>71</td>\n",
       "      <td>72</td>\n",
       "      <td>73</td>\n",
       "      <td>74</td>\n",
       "    </tr>\n",
       "    <tr>\n",
       "      <th>2024-12-31</th>\n",
       "      <td>75</td>\n",
       "      <td>76</td>\n",
       "      <td>77</td>\n",
       "      <td>78</td>\n",
       "      <td>79</td>\n",
       "    </tr>\n",
       "    <tr>\n",
       "      <th>2025-01-01</th>\n",
       "      <td>80</td>\n",
       "      <td>81</td>\n",
       "      <td>82</td>\n",
       "      <td>83</td>\n",
       "      <td>84</td>\n",
       "    </tr>\n",
       "    <tr>\n",
       "      <th>2025-01-02</th>\n",
       "      <td>85</td>\n",
       "      <td>86</td>\n",
       "      <td>87</td>\n",
       "      <td>88</td>\n",
       "      <td>89</td>\n",
       "    </tr>\n",
       "    <tr>\n",
       "      <th>2025-01-03</th>\n",
       "      <td>90</td>\n",
       "      <td>91</td>\n",
       "      <td>92</td>\n",
       "      <td>93</td>\n",
       "      <td>94</td>\n",
       "    </tr>\n",
       "    <tr>\n",
       "      <th>2025-01-04</th>\n",
       "      <td>95</td>\n",
       "      <td>96</td>\n",
       "      <td>97</td>\n",
       "      <td>98</td>\n",
       "      <td>99</td>\n",
       "    </tr>\n",
       "    <tr>\n",
       "      <th>2025-01-05</th>\n",
       "      <td>100</td>\n",
       "      <td>101</td>\n",
       "      <td>102</td>\n",
       "      <td>103</td>\n",
       "      <td>104</td>\n",
       "    </tr>\n",
       "    <tr>\n",
       "      <th>2025-01-06</th>\n",
       "      <td>105</td>\n",
       "      <td>106</td>\n",
       "      <td>107</td>\n",
       "      <td>108</td>\n",
       "      <td>109</td>\n",
       "    </tr>\n",
       "  </tbody>\n",
       "</table>\n",
       "</div>"
      ]
     },
     "execution_count": 84,
     "metadata": {},
     "output_type": "execute_result"
    }
   ],
   "execution_count": 84
  },
  {
   "metadata": {
    "ExecuteTime": {
     "end_time": "2025-01-09T02:55:15.984597Z",
     "start_time": "2025-01-09T02:55:15.979098Z"
    }
   },
   "cell_type": "code",
   "source": "my_data = pd.read_csv('datos_prueba.csv')",
   "id": "a78ac09fdf96e3ea",
   "outputs": [],
   "execution_count": 4
  },
  {
   "metadata": {
    "ExecuteTime": {
     "end_time": "2025-01-09T02:53:40.224025Z",
     "start_time": "2025-01-09T02:53:40.217936Z"
    }
   },
   "cell_type": "code",
   "source": "my_data",
   "id": "634fd09f12547190",
   "outputs": [
    {
     "data": {
      "text/plain": [
       "    Tabla de usuarios de no se que Unnamed: 1 Unnamed: 2          Unnamed: 3  \\\n",
       "0                           Nombre       Edad     Ciudad             Salario   \n",
       "1                         Nombre_0         56   Ciudad_B   35631.59153789031   \n",
       "2                         Nombre_1         35   Ciudad_D   53368.49795948443   \n",
       "3                         Nombre_2         34   Ciudad_E   52673.34215540657   \n",
       "4                         Nombre_3         25   Ciudad_E   47408.38775810768   \n",
       "..                             ...        ...        ...                 ...   \n",
       "96                       Nombre_95         50   Ciudad_D  26066.762231061923   \n",
       "97                       Nombre_96         37   Ciudad_D   48004.09261357822   \n",
       "98                       Nombre_97         51   Ciudad_C   41881.68516646321   \n",
       "99                       Nombre_98         46   Ciudad_A   43308.35192089291   \n",
       "100                      Nombre_99         50   Ciudad_C   55129.19705385575   \n",
       "\n",
       "           Unnamed: 4 Unnamed: 5  \n",
       "0    Fecha_Nacimiento     Género  \n",
       "1          1992-08-13  Masculino  \n",
       "2          1975-07-04  Masculino  \n",
       "3          1991-05-09  Masculino  \n",
       "4          1977-12-10  Masculino  \n",
       "..                ...        ...  \n",
       "96         1986-12-29   Femenino  \n",
       "97         1994-08-10   Femenino  \n",
       "98         1979-06-17  Masculino  \n",
       "99         1995-10-28  Masculino  \n",
       "100        1977-02-03   Femenino  \n",
       "\n",
       "[101 rows x 6 columns]"
      ],
      "text/html": [
       "<div>\n",
       "<style scoped>\n",
       "    .dataframe tbody tr th:only-of-type {\n",
       "        vertical-align: middle;\n",
       "    }\n",
       "\n",
       "    .dataframe tbody tr th {\n",
       "        vertical-align: top;\n",
       "    }\n",
       "\n",
       "    .dataframe thead th {\n",
       "        text-align: right;\n",
       "    }\n",
       "</style>\n",
       "<table border=\"1\" class=\"dataframe\">\n",
       "  <thead>\n",
       "    <tr style=\"text-align: right;\">\n",
       "      <th></th>\n",
       "      <th>Tabla de usuarios de no se que</th>\n",
       "      <th>Unnamed: 1</th>\n",
       "      <th>Unnamed: 2</th>\n",
       "      <th>Unnamed: 3</th>\n",
       "      <th>Unnamed: 4</th>\n",
       "      <th>Unnamed: 5</th>\n",
       "    </tr>\n",
       "  </thead>\n",
       "  <tbody>\n",
       "    <tr>\n",
       "      <th>0</th>\n",
       "      <td>Nombre</td>\n",
       "      <td>Edad</td>\n",
       "      <td>Ciudad</td>\n",
       "      <td>Salario</td>\n",
       "      <td>Fecha_Nacimiento</td>\n",
       "      <td>Género</td>\n",
       "    </tr>\n",
       "    <tr>\n",
       "      <th>1</th>\n",
       "      <td>Nombre_0</td>\n",
       "      <td>56</td>\n",
       "      <td>Ciudad_B</td>\n",
       "      <td>35631.59153789031</td>\n",
       "      <td>1992-08-13</td>\n",
       "      <td>Masculino</td>\n",
       "    </tr>\n",
       "    <tr>\n",
       "      <th>2</th>\n",
       "      <td>Nombre_1</td>\n",
       "      <td>35</td>\n",
       "      <td>Ciudad_D</td>\n",
       "      <td>53368.49795948443</td>\n",
       "      <td>1975-07-04</td>\n",
       "      <td>Masculino</td>\n",
       "    </tr>\n",
       "    <tr>\n",
       "      <th>3</th>\n",
       "      <td>Nombre_2</td>\n",
       "      <td>34</td>\n",
       "      <td>Ciudad_E</td>\n",
       "      <td>52673.34215540657</td>\n",
       "      <td>1991-05-09</td>\n",
       "      <td>Masculino</td>\n",
       "    </tr>\n",
       "    <tr>\n",
       "      <th>4</th>\n",
       "      <td>Nombre_3</td>\n",
       "      <td>25</td>\n",
       "      <td>Ciudad_E</td>\n",
       "      <td>47408.38775810768</td>\n",
       "      <td>1977-12-10</td>\n",
       "      <td>Masculino</td>\n",
       "    </tr>\n",
       "    <tr>\n",
       "      <th>...</th>\n",
       "      <td>...</td>\n",
       "      <td>...</td>\n",
       "      <td>...</td>\n",
       "      <td>...</td>\n",
       "      <td>...</td>\n",
       "      <td>...</td>\n",
       "    </tr>\n",
       "    <tr>\n",
       "      <th>96</th>\n",
       "      <td>Nombre_95</td>\n",
       "      <td>50</td>\n",
       "      <td>Ciudad_D</td>\n",
       "      <td>26066.762231061923</td>\n",
       "      <td>1986-12-29</td>\n",
       "      <td>Femenino</td>\n",
       "    </tr>\n",
       "    <tr>\n",
       "      <th>97</th>\n",
       "      <td>Nombre_96</td>\n",
       "      <td>37</td>\n",
       "      <td>Ciudad_D</td>\n",
       "      <td>48004.09261357822</td>\n",
       "      <td>1994-08-10</td>\n",
       "      <td>Femenino</td>\n",
       "    </tr>\n",
       "    <tr>\n",
       "      <th>98</th>\n",
       "      <td>Nombre_97</td>\n",
       "      <td>51</td>\n",
       "      <td>Ciudad_C</td>\n",
       "      <td>41881.68516646321</td>\n",
       "      <td>1979-06-17</td>\n",
       "      <td>Masculino</td>\n",
       "    </tr>\n",
       "    <tr>\n",
       "      <th>99</th>\n",
       "      <td>Nombre_98</td>\n",
       "      <td>46</td>\n",
       "      <td>Ciudad_A</td>\n",
       "      <td>43308.35192089291</td>\n",
       "      <td>1995-10-28</td>\n",
       "      <td>Masculino</td>\n",
       "    </tr>\n",
       "    <tr>\n",
       "      <th>100</th>\n",
       "      <td>Nombre_99</td>\n",
       "      <td>50</td>\n",
       "      <td>Ciudad_C</td>\n",
       "      <td>55129.19705385575</td>\n",
       "      <td>1977-02-03</td>\n",
       "      <td>Femenino</td>\n",
       "    </tr>\n",
       "  </tbody>\n",
       "</table>\n",
       "<p>101 rows × 6 columns</p>\n",
       "</div>"
      ]
     },
     "execution_count": 86,
     "metadata": {},
     "output_type": "execute_result"
    }
   ],
   "execution_count": 86
  },
  {
   "metadata": {
    "ExecuteTime": {
     "end_time": "2025-01-09T02:53:40.385299Z",
     "start_time": "2025-01-09T02:53:40.382041Z"
    }
   },
   "cell_type": "code",
   "source": "my_data.shape",
   "id": "e101d51ccac95fa7",
   "outputs": [
    {
     "data": {
      "text/plain": [
       "(101, 6)"
      ]
     },
     "execution_count": 87,
     "metadata": {},
     "output_type": "execute_result"
    }
   ],
   "execution_count": 87
  },
  {
   "metadata": {
    "ExecuteTime": {
     "end_time": "2025-01-09T02:53:40.516196Z",
     "start_time": "2025-01-09T02:53:40.513618Z"
    }
   },
   "cell_type": "code",
   "source": "my_data.index",
   "id": "9f1409a85b961f46",
   "outputs": [
    {
     "data": {
      "text/plain": [
       "RangeIndex(start=0, stop=101, step=1)"
      ]
     },
     "execution_count": 88,
     "metadata": {},
     "output_type": "execute_result"
    }
   ],
   "execution_count": 88
  },
  {
   "metadata": {
    "ExecuteTime": {
     "end_time": "2025-01-09T02:53:40.583382Z",
     "start_time": "2025-01-09T02:53:40.580052Z"
    }
   },
   "cell_type": "code",
   "source": "my_data.columns",
   "id": "7892f6b8c623743b",
   "outputs": [
    {
     "data": {
      "text/plain": [
       "Index(['Tabla de usuarios de no se que', 'Unnamed: 1', 'Unnamed: 2',\n",
       "       'Unnamed: 3', 'Unnamed: 4', 'Unnamed: 5'],\n",
       "      dtype='object')"
      ]
     },
     "execution_count": 89,
     "metadata": {},
     "output_type": "execute_result"
    }
   ],
   "execution_count": 89
  },
  {
   "metadata": {
    "ExecuteTime": {
     "end_time": "2025-01-10T02:30:39.397161Z",
     "start_time": "2025-01-10T02:30:39.393440Z"
    }
   },
   "cell_type": "code",
   "source": "my_data = pd.read_csv('datos_prueba.csv', names=['nombre', 'edad', 'ciudad', 'salario', 'datebirth', 'genero'], header=1)",
   "id": "df195984aee91d9b",
   "outputs": [],
   "execution_count": 36
  },
  {
   "metadata": {
    "ExecuteTime": {
     "end_time": "2025-01-09T02:53:40.770500Z",
     "start_time": "2025-01-09T02:53:40.763234Z"
    }
   },
   "cell_type": "code",
   "source": "my_data",
   "id": "7256247180029e23",
   "outputs": [
    {
     "data": {
      "text/plain": [
       "       nombre  edad    ciudad       salario   datebirth     genero\n",
       "0    Nombre_0    56  Ciudad_B  35631.591538  1992-08-13  Masculino\n",
       "1    Nombre_1    35  Ciudad_D  53368.497959  1975-07-04  Masculino\n",
       "2    Nombre_2    34  Ciudad_E  52673.342155  1991-05-09  Masculino\n",
       "3    Nombre_3    25  Ciudad_E  47408.387758  1977-12-10  Masculino\n",
       "4    Nombre_4    28  Ciudad_C  25012.284767  1995-06-22   Femenino\n",
       "..        ...   ...       ...           ...         ...        ...\n",
       "95  Nombre_95    50  Ciudad_D  26066.762231  1986-12-29   Femenino\n",
       "96  Nombre_96    37  Ciudad_D  48004.092614  1994-08-10   Femenino\n",
       "97  Nombre_97    51  Ciudad_C  41881.685166  1979-06-17  Masculino\n",
       "98  Nombre_98    46  Ciudad_A  43308.351921  1995-10-28  Masculino\n",
       "99  Nombre_99    50  Ciudad_C  55129.197054  1977-02-03   Femenino\n",
       "\n",
       "[100 rows x 6 columns]"
      ],
      "text/html": [
       "<div>\n",
       "<style scoped>\n",
       "    .dataframe tbody tr th:only-of-type {\n",
       "        vertical-align: middle;\n",
       "    }\n",
       "\n",
       "    .dataframe tbody tr th {\n",
       "        vertical-align: top;\n",
       "    }\n",
       "\n",
       "    .dataframe thead th {\n",
       "        text-align: right;\n",
       "    }\n",
       "</style>\n",
       "<table border=\"1\" class=\"dataframe\">\n",
       "  <thead>\n",
       "    <tr style=\"text-align: right;\">\n",
       "      <th></th>\n",
       "      <th>nombre</th>\n",
       "      <th>edad</th>\n",
       "      <th>ciudad</th>\n",
       "      <th>salario</th>\n",
       "      <th>datebirth</th>\n",
       "      <th>genero</th>\n",
       "    </tr>\n",
       "  </thead>\n",
       "  <tbody>\n",
       "    <tr>\n",
       "      <th>0</th>\n",
       "      <td>Nombre_0</td>\n",
       "      <td>56</td>\n",
       "      <td>Ciudad_B</td>\n",
       "      <td>35631.591538</td>\n",
       "      <td>1992-08-13</td>\n",
       "      <td>Masculino</td>\n",
       "    </tr>\n",
       "    <tr>\n",
       "      <th>1</th>\n",
       "      <td>Nombre_1</td>\n",
       "      <td>35</td>\n",
       "      <td>Ciudad_D</td>\n",
       "      <td>53368.497959</td>\n",
       "      <td>1975-07-04</td>\n",
       "      <td>Masculino</td>\n",
       "    </tr>\n",
       "    <tr>\n",
       "      <th>2</th>\n",
       "      <td>Nombre_2</td>\n",
       "      <td>34</td>\n",
       "      <td>Ciudad_E</td>\n",
       "      <td>52673.342155</td>\n",
       "      <td>1991-05-09</td>\n",
       "      <td>Masculino</td>\n",
       "    </tr>\n",
       "    <tr>\n",
       "      <th>3</th>\n",
       "      <td>Nombre_3</td>\n",
       "      <td>25</td>\n",
       "      <td>Ciudad_E</td>\n",
       "      <td>47408.387758</td>\n",
       "      <td>1977-12-10</td>\n",
       "      <td>Masculino</td>\n",
       "    </tr>\n",
       "    <tr>\n",
       "      <th>4</th>\n",
       "      <td>Nombre_4</td>\n",
       "      <td>28</td>\n",
       "      <td>Ciudad_C</td>\n",
       "      <td>25012.284767</td>\n",
       "      <td>1995-06-22</td>\n",
       "      <td>Femenino</td>\n",
       "    </tr>\n",
       "    <tr>\n",
       "      <th>...</th>\n",
       "      <td>...</td>\n",
       "      <td>...</td>\n",
       "      <td>...</td>\n",
       "      <td>...</td>\n",
       "      <td>...</td>\n",
       "      <td>...</td>\n",
       "    </tr>\n",
       "    <tr>\n",
       "      <th>95</th>\n",
       "      <td>Nombre_95</td>\n",
       "      <td>50</td>\n",
       "      <td>Ciudad_D</td>\n",
       "      <td>26066.762231</td>\n",
       "      <td>1986-12-29</td>\n",
       "      <td>Femenino</td>\n",
       "    </tr>\n",
       "    <tr>\n",
       "      <th>96</th>\n",
       "      <td>Nombre_96</td>\n",
       "      <td>37</td>\n",
       "      <td>Ciudad_D</td>\n",
       "      <td>48004.092614</td>\n",
       "      <td>1994-08-10</td>\n",
       "      <td>Femenino</td>\n",
       "    </tr>\n",
       "    <tr>\n",
       "      <th>97</th>\n",
       "      <td>Nombre_97</td>\n",
       "      <td>51</td>\n",
       "      <td>Ciudad_C</td>\n",
       "      <td>41881.685166</td>\n",
       "      <td>1979-06-17</td>\n",
       "      <td>Masculino</td>\n",
       "    </tr>\n",
       "    <tr>\n",
       "      <th>98</th>\n",
       "      <td>Nombre_98</td>\n",
       "      <td>46</td>\n",
       "      <td>Ciudad_A</td>\n",
       "      <td>43308.351921</td>\n",
       "      <td>1995-10-28</td>\n",
       "      <td>Masculino</td>\n",
       "    </tr>\n",
       "    <tr>\n",
       "      <th>99</th>\n",
       "      <td>Nombre_99</td>\n",
       "      <td>50</td>\n",
       "      <td>Ciudad_C</td>\n",
       "      <td>55129.197054</td>\n",
       "      <td>1977-02-03</td>\n",
       "      <td>Femenino</td>\n",
       "    </tr>\n",
       "  </tbody>\n",
       "</table>\n",
       "<p>100 rows × 6 columns</p>\n",
       "</div>"
      ]
     },
     "execution_count": 91,
     "metadata": {},
     "output_type": "execute_result"
    }
   ],
   "execution_count": 91
  },
  {
   "metadata": {
    "ExecuteTime": {
     "end_time": "2025-01-09T02:53:40.875557Z",
     "start_time": "2025-01-09T02:53:40.866867Z"
    }
   },
   "cell_type": "code",
   "source": "my_data[0:50]",
   "id": "99693e2b21946a3",
   "outputs": [
    {
     "data": {
      "text/plain": [
       "       nombre  edad    ciudad       salario   datebirth     genero\n",
       "0    Nombre_0    56  Ciudad_B  35631.591538  1992-08-13  Masculino\n",
       "1    Nombre_1    35  Ciudad_D  53368.497959  1975-07-04  Masculino\n",
       "2    Nombre_2    34  Ciudad_E  52673.342155  1991-05-09  Masculino\n",
       "3    Nombre_3    25  Ciudad_E  47408.387758  1977-12-10  Masculino\n",
       "4    Nombre_4    28  Ciudad_C  25012.284767  1995-06-22   Femenino\n",
       "5    Nombre_5    55  Ciudad_E  42851.667035  1987-12-20   Femenino\n",
       "6    Nombre_6    58  Ciudad_C  26330.730752  1999-08-17   Femenino\n",
       "7    Nombre_7    51  Ciudad_A  59094.914830  1981-10-14        NaN\n",
       "8    Nombre_8    54  Ciudad_B  38854.451859  1977-10-12  Masculino\n",
       "9    Nombre_9    37  Ciudad_D  38870.163069  2004-08-07   Femenino\n",
       "10  Nombre_10    52  Ciudad_C  27267.591595  2000-11-11  Masculino\n",
       "11  Nombre_11    50  Ciudad_E  28754.083283  1995-12-29  Masculino\n",
       "12  Nombre_12    49  Ciudad_C  49944.883529  1997-01-16   Femenino\n",
       "13  Nombre_13    52  Ciudad_B  32237.897772  1984-10-29  Masculino\n",
       "14  Nombre_14    21  Ciudad_B  38479.648791  1986-07-22   Femenino\n",
       "15  Nombre_15    18  Ciudad_D  51328.527738  1994-08-02   Femenino\n",
       "16  Nombre_16    30  Ciudad_E  41392.601296  1990-03-16   Femenino\n",
       "17  Nombre_17    37  Ciudad_E  58053.023691  1966-02-18  Masculino\n",
       "18  Nombre_18    36  Ciudad_E  31316.960507  1979-09-27   femenino\n",
       "19  Nombre_19    36  Ciudad_C  48064.981954  1974-06-15   Femenino\n",
       "20  Nombre_20    44  Ciudad_B  43091.955139  1967-11-14  Masculino\n",
       "21  Nombre_21    32  Ciudad_D  37485.213075  1994-01-18   Femenino\n",
       "22  Nombre_22    32  Ciudad_D  59593.064102  1996-11-12  Masculino\n",
       "23  Nombre_23    59  Ciudad_A  40409.484746  1996-09-04  Masculino\n",
       "24  Nombre_24    55  Ciudad_A  30036.673796  1970-01-29   Femenino\n",
       "25  Nombre_25    52  Ciudad_D  34061.272201  1979-12-31   Femenino\n",
       "26  Nombre_26    33  Ciudad_C  44308.139282  1975-05-05   Femenino\n",
       "27  Nombre_27    24  Ciudad_C  42238.139951  1995-02-10   Femenino\n",
       "28  Nombre_28    46  Ciudad_A  50971.629796  1970-01-20   Femenino\n",
       "29  Nombre_29    19  Ciudad_B  48789.065642  2001-09-01  Masculino\n",
       "30  Nombre_30    42  Ciudad_A  46610.206381  1964-07-08   Femenino\n",
       "31  Nombre_31    48  Ciudad_E  35217.688653  1997-11-15  Masculino\n",
       "32  Nombre_32    41  Ciudad_B  51871.370462  1983-12-22    Femenin\n",
       "33  Nombre_33    24  Ciudad_C  51130.650596  1991-08-29   Femenino\n",
       "34  Nombre_34    44  Ciudad_C  53044.265479  1994-04-20   Femenino\n",
       "35  Nombre_35    41  Ciudad_C  51006.072731  1996-08-01   Femenino\n",
       "36  Nombre_36    27  Ciudad_D  46403.283972  2003-02-11  Masculino\n",
       "37  Nombre_37    56  Ciudad_D  43443.213044  1979-12-15  Masculino\n",
       "38  Nombre_38    31  Ciudad_E  33136.593997  1990-10-12  Masculino\n",
       "39  Nombre_39    21  Ciudad_C  59835.409428  1969-04-11  Masculino\n",
       "40  Nombre_40    53  Ciudad_D  45050.894398  1992-02-14   Femenino\n",
       "41  Nombre_41    54  Ciudad_A  25615.292451  1964-02-03   Femenino\n",
       "42  Nombre_42    27  Ciudad_E  49152.626278  1992-03-11  masculino\n",
       "43  Nombre_43    26  Ciudad_C  27048.303259  1977-08-20   Femenino\n",
       "44  Nombre_44    56  Ciudad_B  49992.354046  1971-08-24   Femenino\n",
       "45  Nombre_45    34  Ciudad_B  50964.059595  1980-11-03   Femenino\n",
       "46  Nombre_46    46  Ciudad_C  56336.314674  1983-10-01   Femenino\n",
       "47  Nombre_47    55  Ciudad_D  34457.550454  1969-01-26  Masculino\n",
       "48  Nombre_48    41  Ciudad_A  59749.242461  1996-10-26   Femenino\n",
       "49  Nombre_49    48  Ciudad_B  44684.006767  1973-04-21  Masculino"
      ],
      "text/html": [
       "<div>\n",
       "<style scoped>\n",
       "    .dataframe tbody tr th:only-of-type {\n",
       "        vertical-align: middle;\n",
       "    }\n",
       "\n",
       "    .dataframe tbody tr th {\n",
       "        vertical-align: top;\n",
       "    }\n",
       "\n",
       "    .dataframe thead th {\n",
       "        text-align: right;\n",
       "    }\n",
       "</style>\n",
       "<table border=\"1\" class=\"dataframe\">\n",
       "  <thead>\n",
       "    <tr style=\"text-align: right;\">\n",
       "      <th></th>\n",
       "      <th>nombre</th>\n",
       "      <th>edad</th>\n",
       "      <th>ciudad</th>\n",
       "      <th>salario</th>\n",
       "      <th>datebirth</th>\n",
       "      <th>genero</th>\n",
       "    </tr>\n",
       "  </thead>\n",
       "  <tbody>\n",
       "    <tr>\n",
       "      <th>0</th>\n",
       "      <td>Nombre_0</td>\n",
       "      <td>56</td>\n",
       "      <td>Ciudad_B</td>\n",
       "      <td>35631.591538</td>\n",
       "      <td>1992-08-13</td>\n",
       "      <td>Masculino</td>\n",
       "    </tr>\n",
       "    <tr>\n",
       "      <th>1</th>\n",
       "      <td>Nombre_1</td>\n",
       "      <td>35</td>\n",
       "      <td>Ciudad_D</td>\n",
       "      <td>53368.497959</td>\n",
       "      <td>1975-07-04</td>\n",
       "      <td>Masculino</td>\n",
       "    </tr>\n",
       "    <tr>\n",
       "      <th>2</th>\n",
       "      <td>Nombre_2</td>\n",
       "      <td>34</td>\n",
       "      <td>Ciudad_E</td>\n",
       "      <td>52673.342155</td>\n",
       "      <td>1991-05-09</td>\n",
       "      <td>Masculino</td>\n",
       "    </tr>\n",
       "    <tr>\n",
       "      <th>3</th>\n",
       "      <td>Nombre_3</td>\n",
       "      <td>25</td>\n",
       "      <td>Ciudad_E</td>\n",
       "      <td>47408.387758</td>\n",
       "      <td>1977-12-10</td>\n",
       "      <td>Masculino</td>\n",
       "    </tr>\n",
       "    <tr>\n",
       "      <th>4</th>\n",
       "      <td>Nombre_4</td>\n",
       "      <td>28</td>\n",
       "      <td>Ciudad_C</td>\n",
       "      <td>25012.284767</td>\n",
       "      <td>1995-06-22</td>\n",
       "      <td>Femenino</td>\n",
       "    </tr>\n",
       "    <tr>\n",
       "      <th>5</th>\n",
       "      <td>Nombre_5</td>\n",
       "      <td>55</td>\n",
       "      <td>Ciudad_E</td>\n",
       "      <td>42851.667035</td>\n",
       "      <td>1987-12-20</td>\n",
       "      <td>Femenino</td>\n",
       "    </tr>\n",
       "    <tr>\n",
       "      <th>6</th>\n",
       "      <td>Nombre_6</td>\n",
       "      <td>58</td>\n",
       "      <td>Ciudad_C</td>\n",
       "      <td>26330.730752</td>\n",
       "      <td>1999-08-17</td>\n",
       "      <td>Femenino</td>\n",
       "    </tr>\n",
       "    <tr>\n",
       "      <th>7</th>\n",
       "      <td>Nombre_7</td>\n",
       "      <td>51</td>\n",
       "      <td>Ciudad_A</td>\n",
       "      <td>59094.914830</td>\n",
       "      <td>1981-10-14</td>\n",
       "      <td>NaN</td>\n",
       "    </tr>\n",
       "    <tr>\n",
       "      <th>8</th>\n",
       "      <td>Nombre_8</td>\n",
       "      <td>54</td>\n",
       "      <td>Ciudad_B</td>\n",
       "      <td>38854.451859</td>\n",
       "      <td>1977-10-12</td>\n",
       "      <td>Masculino</td>\n",
       "    </tr>\n",
       "    <tr>\n",
       "      <th>9</th>\n",
       "      <td>Nombre_9</td>\n",
       "      <td>37</td>\n",
       "      <td>Ciudad_D</td>\n",
       "      <td>38870.163069</td>\n",
       "      <td>2004-08-07</td>\n",
       "      <td>Femenino</td>\n",
       "    </tr>\n",
       "    <tr>\n",
       "      <th>10</th>\n",
       "      <td>Nombre_10</td>\n",
       "      <td>52</td>\n",
       "      <td>Ciudad_C</td>\n",
       "      <td>27267.591595</td>\n",
       "      <td>2000-11-11</td>\n",
       "      <td>Masculino</td>\n",
       "    </tr>\n",
       "    <tr>\n",
       "      <th>11</th>\n",
       "      <td>Nombre_11</td>\n",
       "      <td>50</td>\n",
       "      <td>Ciudad_E</td>\n",
       "      <td>28754.083283</td>\n",
       "      <td>1995-12-29</td>\n",
       "      <td>Masculino</td>\n",
       "    </tr>\n",
       "    <tr>\n",
       "      <th>12</th>\n",
       "      <td>Nombre_12</td>\n",
       "      <td>49</td>\n",
       "      <td>Ciudad_C</td>\n",
       "      <td>49944.883529</td>\n",
       "      <td>1997-01-16</td>\n",
       "      <td>Femenino</td>\n",
       "    </tr>\n",
       "    <tr>\n",
       "      <th>13</th>\n",
       "      <td>Nombre_13</td>\n",
       "      <td>52</td>\n",
       "      <td>Ciudad_B</td>\n",
       "      <td>32237.897772</td>\n",
       "      <td>1984-10-29</td>\n",
       "      <td>Masculino</td>\n",
       "    </tr>\n",
       "    <tr>\n",
       "      <th>14</th>\n",
       "      <td>Nombre_14</td>\n",
       "      <td>21</td>\n",
       "      <td>Ciudad_B</td>\n",
       "      <td>38479.648791</td>\n",
       "      <td>1986-07-22</td>\n",
       "      <td>Femenino</td>\n",
       "    </tr>\n",
       "    <tr>\n",
       "      <th>15</th>\n",
       "      <td>Nombre_15</td>\n",
       "      <td>18</td>\n",
       "      <td>Ciudad_D</td>\n",
       "      <td>51328.527738</td>\n",
       "      <td>1994-08-02</td>\n",
       "      <td>Femenino</td>\n",
       "    </tr>\n",
       "    <tr>\n",
       "      <th>16</th>\n",
       "      <td>Nombre_16</td>\n",
       "      <td>30</td>\n",
       "      <td>Ciudad_E</td>\n",
       "      <td>41392.601296</td>\n",
       "      <td>1990-03-16</td>\n",
       "      <td>Femenino</td>\n",
       "    </tr>\n",
       "    <tr>\n",
       "      <th>17</th>\n",
       "      <td>Nombre_17</td>\n",
       "      <td>37</td>\n",
       "      <td>Ciudad_E</td>\n",
       "      <td>58053.023691</td>\n",
       "      <td>1966-02-18</td>\n",
       "      <td>Masculino</td>\n",
       "    </tr>\n",
       "    <tr>\n",
       "      <th>18</th>\n",
       "      <td>Nombre_18</td>\n",
       "      <td>36</td>\n",
       "      <td>Ciudad_E</td>\n",
       "      <td>31316.960507</td>\n",
       "      <td>1979-09-27</td>\n",
       "      <td>femenino</td>\n",
       "    </tr>\n",
       "    <tr>\n",
       "      <th>19</th>\n",
       "      <td>Nombre_19</td>\n",
       "      <td>36</td>\n",
       "      <td>Ciudad_C</td>\n",
       "      <td>48064.981954</td>\n",
       "      <td>1974-06-15</td>\n",
       "      <td>Femenino</td>\n",
       "    </tr>\n",
       "    <tr>\n",
       "      <th>20</th>\n",
       "      <td>Nombre_20</td>\n",
       "      <td>44</td>\n",
       "      <td>Ciudad_B</td>\n",
       "      <td>43091.955139</td>\n",
       "      <td>1967-11-14</td>\n",
       "      <td>Masculino</td>\n",
       "    </tr>\n",
       "    <tr>\n",
       "      <th>21</th>\n",
       "      <td>Nombre_21</td>\n",
       "      <td>32</td>\n",
       "      <td>Ciudad_D</td>\n",
       "      <td>37485.213075</td>\n",
       "      <td>1994-01-18</td>\n",
       "      <td>Femenino</td>\n",
       "    </tr>\n",
       "    <tr>\n",
       "      <th>22</th>\n",
       "      <td>Nombre_22</td>\n",
       "      <td>32</td>\n",
       "      <td>Ciudad_D</td>\n",
       "      <td>59593.064102</td>\n",
       "      <td>1996-11-12</td>\n",
       "      <td>Masculino</td>\n",
       "    </tr>\n",
       "    <tr>\n",
       "      <th>23</th>\n",
       "      <td>Nombre_23</td>\n",
       "      <td>59</td>\n",
       "      <td>Ciudad_A</td>\n",
       "      <td>40409.484746</td>\n",
       "      <td>1996-09-04</td>\n",
       "      <td>Masculino</td>\n",
       "    </tr>\n",
       "    <tr>\n",
       "      <th>24</th>\n",
       "      <td>Nombre_24</td>\n",
       "      <td>55</td>\n",
       "      <td>Ciudad_A</td>\n",
       "      <td>30036.673796</td>\n",
       "      <td>1970-01-29</td>\n",
       "      <td>Femenino</td>\n",
       "    </tr>\n",
       "    <tr>\n",
       "      <th>25</th>\n",
       "      <td>Nombre_25</td>\n",
       "      <td>52</td>\n",
       "      <td>Ciudad_D</td>\n",
       "      <td>34061.272201</td>\n",
       "      <td>1979-12-31</td>\n",
       "      <td>Femenino</td>\n",
       "    </tr>\n",
       "    <tr>\n",
       "      <th>26</th>\n",
       "      <td>Nombre_26</td>\n",
       "      <td>33</td>\n",
       "      <td>Ciudad_C</td>\n",
       "      <td>44308.139282</td>\n",
       "      <td>1975-05-05</td>\n",
       "      <td>Femenino</td>\n",
       "    </tr>\n",
       "    <tr>\n",
       "      <th>27</th>\n",
       "      <td>Nombre_27</td>\n",
       "      <td>24</td>\n",
       "      <td>Ciudad_C</td>\n",
       "      <td>42238.139951</td>\n",
       "      <td>1995-02-10</td>\n",
       "      <td>Femenino</td>\n",
       "    </tr>\n",
       "    <tr>\n",
       "      <th>28</th>\n",
       "      <td>Nombre_28</td>\n",
       "      <td>46</td>\n",
       "      <td>Ciudad_A</td>\n",
       "      <td>50971.629796</td>\n",
       "      <td>1970-01-20</td>\n",
       "      <td>Femenino</td>\n",
       "    </tr>\n",
       "    <tr>\n",
       "      <th>29</th>\n",
       "      <td>Nombre_29</td>\n",
       "      <td>19</td>\n",
       "      <td>Ciudad_B</td>\n",
       "      <td>48789.065642</td>\n",
       "      <td>2001-09-01</td>\n",
       "      <td>Masculino</td>\n",
       "    </tr>\n",
       "    <tr>\n",
       "      <th>30</th>\n",
       "      <td>Nombre_30</td>\n",
       "      <td>42</td>\n",
       "      <td>Ciudad_A</td>\n",
       "      <td>46610.206381</td>\n",
       "      <td>1964-07-08</td>\n",
       "      <td>Femenino</td>\n",
       "    </tr>\n",
       "    <tr>\n",
       "      <th>31</th>\n",
       "      <td>Nombre_31</td>\n",
       "      <td>48</td>\n",
       "      <td>Ciudad_E</td>\n",
       "      <td>35217.688653</td>\n",
       "      <td>1997-11-15</td>\n",
       "      <td>Masculino</td>\n",
       "    </tr>\n",
       "    <tr>\n",
       "      <th>32</th>\n",
       "      <td>Nombre_32</td>\n",
       "      <td>41</td>\n",
       "      <td>Ciudad_B</td>\n",
       "      <td>51871.370462</td>\n",
       "      <td>1983-12-22</td>\n",
       "      <td>Femenin</td>\n",
       "    </tr>\n",
       "    <tr>\n",
       "      <th>33</th>\n",
       "      <td>Nombre_33</td>\n",
       "      <td>24</td>\n",
       "      <td>Ciudad_C</td>\n",
       "      <td>51130.650596</td>\n",
       "      <td>1991-08-29</td>\n",
       "      <td>Femenino</td>\n",
       "    </tr>\n",
       "    <tr>\n",
       "      <th>34</th>\n",
       "      <td>Nombre_34</td>\n",
       "      <td>44</td>\n",
       "      <td>Ciudad_C</td>\n",
       "      <td>53044.265479</td>\n",
       "      <td>1994-04-20</td>\n",
       "      <td>Femenino</td>\n",
       "    </tr>\n",
       "    <tr>\n",
       "      <th>35</th>\n",
       "      <td>Nombre_35</td>\n",
       "      <td>41</td>\n",
       "      <td>Ciudad_C</td>\n",
       "      <td>51006.072731</td>\n",
       "      <td>1996-08-01</td>\n",
       "      <td>Femenino</td>\n",
       "    </tr>\n",
       "    <tr>\n",
       "      <th>36</th>\n",
       "      <td>Nombre_36</td>\n",
       "      <td>27</td>\n",
       "      <td>Ciudad_D</td>\n",
       "      <td>46403.283972</td>\n",
       "      <td>2003-02-11</td>\n",
       "      <td>Masculino</td>\n",
       "    </tr>\n",
       "    <tr>\n",
       "      <th>37</th>\n",
       "      <td>Nombre_37</td>\n",
       "      <td>56</td>\n",
       "      <td>Ciudad_D</td>\n",
       "      <td>43443.213044</td>\n",
       "      <td>1979-12-15</td>\n",
       "      <td>Masculino</td>\n",
       "    </tr>\n",
       "    <tr>\n",
       "      <th>38</th>\n",
       "      <td>Nombre_38</td>\n",
       "      <td>31</td>\n",
       "      <td>Ciudad_E</td>\n",
       "      <td>33136.593997</td>\n",
       "      <td>1990-10-12</td>\n",
       "      <td>Masculino</td>\n",
       "    </tr>\n",
       "    <tr>\n",
       "      <th>39</th>\n",
       "      <td>Nombre_39</td>\n",
       "      <td>21</td>\n",
       "      <td>Ciudad_C</td>\n",
       "      <td>59835.409428</td>\n",
       "      <td>1969-04-11</td>\n",
       "      <td>Masculino</td>\n",
       "    </tr>\n",
       "    <tr>\n",
       "      <th>40</th>\n",
       "      <td>Nombre_40</td>\n",
       "      <td>53</td>\n",
       "      <td>Ciudad_D</td>\n",
       "      <td>45050.894398</td>\n",
       "      <td>1992-02-14</td>\n",
       "      <td>Femenino</td>\n",
       "    </tr>\n",
       "    <tr>\n",
       "      <th>41</th>\n",
       "      <td>Nombre_41</td>\n",
       "      <td>54</td>\n",
       "      <td>Ciudad_A</td>\n",
       "      <td>25615.292451</td>\n",
       "      <td>1964-02-03</td>\n",
       "      <td>Femenino</td>\n",
       "    </tr>\n",
       "    <tr>\n",
       "      <th>42</th>\n",
       "      <td>Nombre_42</td>\n",
       "      <td>27</td>\n",
       "      <td>Ciudad_E</td>\n",
       "      <td>49152.626278</td>\n",
       "      <td>1992-03-11</td>\n",
       "      <td>masculino</td>\n",
       "    </tr>\n",
       "    <tr>\n",
       "      <th>43</th>\n",
       "      <td>Nombre_43</td>\n",
       "      <td>26</td>\n",
       "      <td>Ciudad_C</td>\n",
       "      <td>27048.303259</td>\n",
       "      <td>1977-08-20</td>\n",
       "      <td>Femenino</td>\n",
       "    </tr>\n",
       "    <tr>\n",
       "      <th>44</th>\n",
       "      <td>Nombre_44</td>\n",
       "      <td>56</td>\n",
       "      <td>Ciudad_B</td>\n",
       "      <td>49992.354046</td>\n",
       "      <td>1971-08-24</td>\n",
       "      <td>Femenino</td>\n",
       "    </tr>\n",
       "    <tr>\n",
       "      <th>45</th>\n",
       "      <td>Nombre_45</td>\n",
       "      <td>34</td>\n",
       "      <td>Ciudad_B</td>\n",
       "      <td>50964.059595</td>\n",
       "      <td>1980-11-03</td>\n",
       "      <td>Femenino</td>\n",
       "    </tr>\n",
       "    <tr>\n",
       "      <th>46</th>\n",
       "      <td>Nombre_46</td>\n",
       "      <td>46</td>\n",
       "      <td>Ciudad_C</td>\n",
       "      <td>56336.314674</td>\n",
       "      <td>1983-10-01</td>\n",
       "      <td>Femenino</td>\n",
       "    </tr>\n",
       "    <tr>\n",
       "      <th>47</th>\n",
       "      <td>Nombre_47</td>\n",
       "      <td>55</td>\n",
       "      <td>Ciudad_D</td>\n",
       "      <td>34457.550454</td>\n",
       "      <td>1969-01-26</td>\n",
       "      <td>Masculino</td>\n",
       "    </tr>\n",
       "    <tr>\n",
       "      <th>48</th>\n",
       "      <td>Nombre_48</td>\n",
       "      <td>41</td>\n",
       "      <td>Ciudad_A</td>\n",
       "      <td>59749.242461</td>\n",
       "      <td>1996-10-26</td>\n",
       "      <td>Femenino</td>\n",
       "    </tr>\n",
       "    <tr>\n",
       "      <th>49</th>\n",
       "      <td>Nombre_49</td>\n",
       "      <td>48</td>\n",
       "      <td>Ciudad_B</td>\n",
       "      <td>44684.006767</td>\n",
       "      <td>1973-04-21</td>\n",
       "      <td>Masculino</td>\n",
       "    </tr>\n",
       "  </tbody>\n",
       "</table>\n",
       "</div>"
      ]
     },
     "execution_count": 92,
     "metadata": {},
     "output_type": "execute_result"
    }
   ],
   "execution_count": 92
  },
  {
   "metadata": {
    "ExecuteTime": {
     "end_time": "2025-01-09T02:53:40.998291Z",
     "start_time": "2025-01-09T02:53:40.992737Z"
    }
   },
   "cell_type": "code",
   "source": "my_data.loc[50:60,[\"datebirth\", \"genero\"]]",
   "id": "7b8ee9b497be4692",
   "outputs": [
    {
     "data": {
      "text/plain": [
       "     datebirth     genero\n",
       "50  1968-05-16  Masculino\n",
       "51  1988-03-08  Masculino\n",
       "52  2001-08-15  Masculino\n",
       "53  1989-07-23   Femenino\n",
       "54  1970-09-26   Femenino\n",
       "55  1986-07-18  Masculino\n",
       "56  1976-08-04   Femenino\n",
       "57  1967-06-28   Femenino\n",
       "58  1968-03-17  Masculino\n",
       "59  2003-07-24   Femenino\n",
       "60  1981-08-22   Femenino"
      ],
      "text/html": [
       "<div>\n",
       "<style scoped>\n",
       "    .dataframe tbody tr th:only-of-type {\n",
       "        vertical-align: middle;\n",
       "    }\n",
       "\n",
       "    .dataframe tbody tr th {\n",
       "        vertical-align: top;\n",
       "    }\n",
       "\n",
       "    .dataframe thead th {\n",
       "        text-align: right;\n",
       "    }\n",
       "</style>\n",
       "<table border=\"1\" class=\"dataframe\">\n",
       "  <thead>\n",
       "    <tr style=\"text-align: right;\">\n",
       "      <th></th>\n",
       "      <th>datebirth</th>\n",
       "      <th>genero</th>\n",
       "    </tr>\n",
       "  </thead>\n",
       "  <tbody>\n",
       "    <tr>\n",
       "      <th>50</th>\n",
       "      <td>1968-05-16</td>\n",
       "      <td>Masculino</td>\n",
       "    </tr>\n",
       "    <tr>\n",
       "      <th>51</th>\n",
       "      <td>1988-03-08</td>\n",
       "      <td>Masculino</td>\n",
       "    </tr>\n",
       "    <tr>\n",
       "      <th>52</th>\n",
       "      <td>2001-08-15</td>\n",
       "      <td>Masculino</td>\n",
       "    </tr>\n",
       "    <tr>\n",
       "      <th>53</th>\n",
       "      <td>1989-07-23</td>\n",
       "      <td>Femenino</td>\n",
       "    </tr>\n",
       "    <tr>\n",
       "      <th>54</th>\n",
       "      <td>1970-09-26</td>\n",
       "      <td>Femenino</td>\n",
       "    </tr>\n",
       "    <tr>\n",
       "      <th>55</th>\n",
       "      <td>1986-07-18</td>\n",
       "      <td>Masculino</td>\n",
       "    </tr>\n",
       "    <tr>\n",
       "      <th>56</th>\n",
       "      <td>1976-08-04</td>\n",
       "      <td>Femenino</td>\n",
       "    </tr>\n",
       "    <tr>\n",
       "      <th>57</th>\n",
       "      <td>1967-06-28</td>\n",
       "      <td>Femenino</td>\n",
       "    </tr>\n",
       "    <tr>\n",
       "      <th>58</th>\n",
       "      <td>1968-03-17</td>\n",
       "      <td>Masculino</td>\n",
       "    </tr>\n",
       "    <tr>\n",
       "      <th>59</th>\n",
       "      <td>2003-07-24</td>\n",
       "      <td>Femenino</td>\n",
       "    </tr>\n",
       "    <tr>\n",
       "      <th>60</th>\n",
       "      <td>1981-08-22</td>\n",
       "      <td>Femenino</td>\n",
       "    </tr>\n",
       "  </tbody>\n",
       "</table>\n",
       "</div>"
      ]
     },
     "execution_count": 93,
     "metadata": {},
     "output_type": "execute_result"
    }
   ],
   "execution_count": 93
  },
  {
   "metadata": {
    "ExecuteTime": {
     "end_time": "2025-01-09T02:53:41.211733Z",
     "start_time": "2025-01-09T02:53:41.208107Z"
    }
   },
   "cell_type": "code",
   "source": "type(my_data.loc[50:60,[\"datebirth\", \"genero\"]])",
   "id": "f559a9501c2133b7",
   "outputs": [
    {
     "data": {
      "text/plain": [
       "pandas.core.frame.DataFrame"
      ]
     },
     "execution_count": 94,
     "metadata": {},
     "output_type": "execute_result"
    }
   ],
   "execution_count": 94
  },
  {
   "metadata": {
    "ExecuteTime": {
     "end_time": "2025-01-09T02:53:41.293248Z",
     "start_time": "2025-01-09T02:53:41.289732Z"
    }
   },
   "cell_type": "code",
   "source": "my_data.loc[0, \"nombre\"]",
   "id": "217576a85e2011d0",
   "outputs": [
    {
     "data": {
      "text/plain": [
       "'Nombre_0'"
      ]
     },
     "execution_count": 95,
     "metadata": {},
     "output_type": "execute_result"
    }
   ],
   "execution_count": 95
  },
  {
   "metadata": {
    "ExecuteTime": {
     "end_time": "2025-01-09T02:53:41.399774Z",
     "start_time": "2025-01-09T02:53:41.397044Z"
    }
   },
   "cell_type": "code",
   "source": "type(my_data.loc[0, \"nombre\"])",
   "id": "3d658718143d7c75",
   "outputs": [
    {
     "data": {
      "text/plain": [
       "str"
      ]
     },
     "execution_count": 96,
     "metadata": {},
     "output_type": "execute_result"
    }
   ],
   "execution_count": 96
  },
  {
   "metadata": {
    "ExecuteTime": {
     "end_time": "2025-01-09T02:53:41.448387Z",
     "start_time": "2025-01-09T02:53:41.443529Z"
    }
   },
   "cell_type": "code",
   "source": "my_data.loc[10:30, \"ciudad\"]",
   "id": "cb42adff6edee03d",
   "outputs": [
    {
     "data": {
      "text/plain": [
       "10    Ciudad_C\n",
       "11    Ciudad_E\n",
       "12    Ciudad_C\n",
       "13    Ciudad_B\n",
       "14    Ciudad_B\n",
       "15    Ciudad_D\n",
       "16    Ciudad_E\n",
       "17    Ciudad_E\n",
       "18    Ciudad_E\n",
       "19    Ciudad_C\n",
       "20    Ciudad_B\n",
       "21    Ciudad_D\n",
       "22    Ciudad_D\n",
       "23    Ciudad_A\n",
       "24    Ciudad_A\n",
       "25    Ciudad_D\n",
       "26    Ciudad_C\n",
       "27    Ciudad_C\n",
       "28    Ciudad_A\n",
       "29    Ciudad_B\n",
       "30    Ciudad_A\n",
       "Name: ciudad, dtype: object"
      ]
     },
     "execution_count": 97,
     "metadata": {},
     "output_type": "execute_result"
    }
   ],
   "execution_count": 97
  },
  {
   "metadata": {
    "ExecuteTime": {
     "end_time": "2025-01-09T02:53:41.530268Z",
     "start_time": "2025-01-09T02:53:41.526743Z"
    }
   },
   "cell_type": "code",
   "source": "my_data.loc[10:30, \"ciudad\"]",
   "id": "f6e590535c56b981",
   "outputs": [
    {
     "data": {
      "text/plain": [
       "10    Ciudad_C\n",
       "11    Ciudad_E\n",
       "12    Ciudad_C\n",
       "13    Ciudad_B\n",
       "14    Ciudad_B\n",
       "15    Ciudad_D\n",
       "16    Ciudad_E\n",
       "17    Ciudad_E\n",
       "18    Ciudad_E\n",
       "19    Ciudad_C\n",
       "20    Ciudad_B\n",
       "21    Ciudad_D\n",
       "22    Ciudad_D\n",
       "23    Ciudad_A\n",
       "24    Ciudad_A\n",
       "25    Ciudad_D\n",
       "26    Ciudad_C\n",
       "27    Ciudad_C\n",
       "28    Ciudad_A\n",
       "29    Ciudad_B\n",
       "30    Ciudad_A\n",
       "Name: ciudad, dtype: object"
      ]
     },
     "execution_count": 98,
     "metadata": {},
     "output_type": "execute_result"
    }
   ],
   "execution_count": 98
  },
  {
   "metadata": {
    "ExecuteTime": {
     "end_time": "2025-01-09T02:53:41.578745Z",
     "start_time": "2025-01-09T02:53:41.574022Z"
    }
   },
   "cell_type": "code",
   "source": "my_data.iloc[10:30, 2]",
   "id": "20876007a2f04b4e",
   "outputs": [
    {
     "data": {
      "text/plain": [
       "10    Ciudad_C\n",
       "11    Ciudad_E\n",
       "12    Ciudad_C\n",
       "13    Ciudad_B\n",
       "14    Ciudad_B\n",
       "15    Ciudad_D\n",
       "16    Ciudad_E\n",
       "17    Ciudad_E\n",
       "18    Ciudad_E\n",
       "19    Ciudad_C\n",
       "20    Ciudad_B\n",
       "21    Ciudad_D\n",
       "22    Ciudad_D\n",
       "23    Ciudad_A\n",
       "24    Ciudad_A\n",
       "25    Ciudad_D\n",
       "26    Ciudad_C\n",
       "27    Ciudad_C\n",
       "28    Ciudad_A\n",
       "29    Ciudad_B\n",
       "Name: ciudad, dtype: object"
      ]
     },
     "execution_count": 99,
     "metadata": {},
     "output_type": "execute_result"
    }
   ],
   "execution_count": 99
  },
  {
   "metadata": {
    "ExecuteTime": {
     "end_time": "2025-01-09T02:53:41.673931Z",
     "start_time": "2025-01-09T02:53:41.668238Z"
    }
   },
   "cell_type": "code",
   "source": "my_data.iloc[10:30, 0:2]",
   "id": "419304746e22efb0",
   "outputs": [
    {
     "data": {
      "text/plain": [
       "       nombre  edad\n",
       "10  Nombre_10    52\n",
       "11  Nombre_11    50\n",
       "12  Nombre_12    49\n",
       "13  Nombre_13    52\n",
       "14  Nombre_14    21\n",
       "15  Nombre_15    18\n",
       "16  Nombre_16    30\n",
       "17  Nombre_17    37\n",
       "18  Nombre_18    36\n",
       "19  Nombre_19    36\n",
       "20  Nombre_20    44\n",
       "21  Nombre_21    32\n",
       "22  Nombre_22    32\n",
       "23  Nombre_23    59\n",
       "24  Nombre_24    55\n",
       "25  Nombre_25    52\n",
       "26  Nombre_26    33\n",
       "27  Nombre_27    24\n",
       "28  Nombre_28    46\n",
       "29  Nombre_29    19"
      ],
      "text/html": [
       "<div>\n",
       "<style scoped>\n",
       "    .dataframe tbody tr th:only-of-type {\n",
       "        vertical-align: middle;\n",
       "    }\n",
       "\n",
       "    .dataframe tbody tr th {\n",
       "        vertical-align: top;\n",
       "    }\n",
       "\n",
       "    .dataframe thead th {\n",
       "        text-align: right;\n",
       "    }\n",
       "</style>\n",
       "<table border=\"1\" class=\"dataframe\">\n",
       "  <thead>\n",
       "    <tr style=\"text-align: right;\">\n",
       "      <th></th>\n",
       "      <th>nombre</th>\n",
       "      <th>edad</th>\n",
       "    </tr>\n",
       "  </thead>\n",
       "  <tbody>\n",
       "    <tr>\n",
       "      <th>10</th>\n",
       "      <td>Nombre_10</td>\n",
       "      <td>52</td>\n",
       "    </tr>\n",
       "    <tr>\n",
       "      <th>11</th>\n",
       "      <td>Nombre_11</td>\n",
       "      <td>50</td>\n",
       "    </tr>\n",
       "    <tr>\n",
       "      <th>12</th>\n",
       "      <td>Nombre_12</td>\n",
       "      <td>49</td>\n",
       "    </tr>\n",
       "    <tr>\n",
       "      <th>13</th>\n",
       "      <td>Nombre_13</td>\n",
       "      <td>52</td>\n",
       "    </tr>\n",
       "    <tr>\n",
       "      <th>14</th>\n",
       "      <td>Nombre_14</td>\n",
       "      <td>21</td>\n",
       "    </tr>\n",
       "    <tr>\n",
       "      <th>15</th>\n",
       "      <td>Nombre_15</td>\n",
       "      <td>18</td>\n",
       "    </tr>\n",
       "    <tr>\n",
       "      <th>16</th>\n",
       "      <td>Nombre_16</td>\n",
       "      <td>30</td>\n",
       "    </tr>\n",
       "    <tr>\n",
       "      <th>17</th>\n",
       "      <td>Nombre_17</td>\n",
       "      <td>37</td>\n",
       "    </tr>\n",
       "    <tr>\n",
       "      <th>18</th>\n",
       "      <td>Nombre_18</td>\n",
       "      <td>36</td>\n",
       "    </tr>\n",
       "    <tr>\n",
       "      <th>19</th>\n",
       "      <td>Nombre_19</td>\n",
       "      <td>36</td>\n",
       "    </tr>\n",
       "    <tr>\n",
       "      <th>20</th>\n",
       "      <td>Nombre_20</td>\n",
       "      <td>44</td>\n",
       "    </tr>\n",
       "    <tr>\n",
       "      <th>21</th>\n",
       "      <td>Nombre_21</td>\n",
       "      <td>32</td>\n",
       "    </tr>\n",
       "    <tr>\n",
       "      <th>22</th>\n",
       "      <td>Nombre_22</td>\n",
       "      <td>32</td>\n",
       "    </tr>\n",
       "    <tr>\n",
       "      <th>23</th>\n",
       "      <td>Nombre_23</td>\n",
       "      <td>59</td>\n",
       "    </tr>\n",
       "    <tr>\n",
       "      <th>24</th>\n",
       "      <td>Nombre_24</td>\n",
       "      <td>55</td>\n",
       "    </tr>\n",
       "    <tr>\n",
       "      <th>25</th>\n",
       "      <td>Nombre_25</td>\n",
       "      <td>52</td>\n",
       "    </tr>\n",
       "    <tr>\n",
       "      <th>26</th>\n",
       "      <td>Nombre_26</td>\n",
       "      <td>33</td>\n",
       "    </tr>\n",
       "    <tr>\n",
       "      <th>27</th>\n",
       "      <td>Nombre_27</td>\n",
       "      <td>24</td>\n",
       "    </tr>\n",
       "    <tr>\n",
       "      <th>28</th>\n",
       "      <td>Nombre_28</td>\n",
       "      <td>46</td>\n",
       "    </tr>\n",
       "    <tr>\n",
       "      <th>29</th>\n",
       "      <td>Nombre_29</td>\n",
       "      <td>19</td>\n",
       "    </tr>\n",
       "  </tbody>\n",
       "</table>\n",
       "</div>"
      ]
     },
     "execution_count": 100,
     "metadata": {},
     "output_type": "execute_result"
    }
   ],
   "execution_count": 100
  },
  {
   "metadata": {
    "ExecuteTime": {
     "end_time": "2025-01-09T02:53:41.834149Z",
     "start_time": "2025-01-09T02:53:41.829121Z"
    }
   },
   "cell_type": "code",
   "source": "my_data.iloc[10:30, [0, 5]]",
   "id": "f2c6378ae1b1f269",
   "outputs": [
    {
     "data": {
      "text/plain": [
       "       nombre     genero\n",
       "10  Nombre_10  Masculino\n",
       "11  Nombre_11  Masculino\n",
       "12  Nombre_12   Femenino\n",
       "13  Nombre_13  Masculino\n",
       "14  Nombre_14   Femenino\n",
       "15  Nombre_15   Femenino\n",
       "16  Nombre_16   Femenino\n",
       "17  Nombre_17  Masculino\n",
       "18  Nombre_18   femenino\n",
       "19  Nombre_19   Femenino\n",
       "20  Nombre_20  Masculino\n",
       "21  Nombre_21   Femenino\n",
       "22  Nombre_22  Masculino\n",
       "23  Nombre_23  Masculino\n",
       "24  Nombre_24   Femenino\n",
       "25  Nombre_25   Femenino\n",
       "26  Nombre_26   Femenino\n",
       "27  Nombre_27   Femenino\n",
       "28  Nombre_28   Femenino\n",
       "29  Nombre_29  Masculino"
      ],
      "text/html": [
       "<div>\n",
       "<style scoped>\n",
       "    .dataframe tbody tr th:only-of-type {\n",
       "        vertical-align: middle;\n",
       "    }\n",
       "\n",
       "    .dataframe tbody tr th {\n",
       "        vertical-align: top;\n",
       "    }\n",
       "\n",
       "    .dataframe thead th {\n",
       "        text-align: right;\n",
       "    }\n",
       "</style>\n",
       "<table border=\"1\" class=\"dataframe\">\n",
       "  <thead>\n",
       "    <tr style=\"text-align: right;\">\n",
       "      <th></th>\n",
       "      <th>nombre</th>\n",
       "      <th>genero</th>\n",
       "    </tr>\n",
       "  </thead>\n",
       "  <tbody>\n",
       "    <tr>\n",
       "      <th>10</th>\n",
       "      <td>Nombre_10</td>\n",
       "      <td>Masculino</td>\n",
       "    </tr>\n",
       "    <tr>\n",
       "      <th>11</th>\n",
       "      <td>Nombre_11</td>\n",
       "      <td>Masculino</td>\n",
       "    </tr>\n",
       "    <tr>\n",
       "      <th>12</th>\n",
       "      <td>Nombre_12</td>\n",
       "      <td>Femenino</td>\n",
       "    </tr>\n",
       "    <tr>\n",
       "      <th>13</th>\n",
       "      <td>Nombre_13</td>\n",
       "      <td>Masculino</td>\n",
       "    </tr>\n",
       "    <tr>\n",
       "      <th>14</th>\n",
       "      <td>Nombre_14</td>\n",
       "      <td>Femenino</td>\n",
       "    </tr>\n",
       "    <tr>\n",
       "      <th>15</th>\n",
       "      <td>Nombre_15</td>\n",
       "      <td>Femenino</td>\n",
       "    </tr>\n",
       "    <tr>\n",
       "      <th>16</th>\n",
       "      <td>Nombre_16</td>\n",
       "      <td>Femenino</td>\n",
       "    </tr>\n",
       "    <tr>\n",
       "      <th>17</th>\n",
       "      <td>Nombre_17</td>\n",
       "      <td>Masculino</td>\n",
       "    </tr>\n",
       "    <tr>\n",
       "      <th>18</th>\n",
       "      <td>Nombre_18</td>\n",
       "      <td>femenino</td>\n",
       "    </tr>\n",
       "    <tr>\n",
       "      <th>19</th>\n",
       "      <td>Nombre_19</td>\n",
       "      <td>Femenino</td>\n",
       "    </tr>\n",
       "    <tr>\n",
       "      <th>20</th>\n",
       "      <td>Nombre_20</td>\n",
       "      <td>Masculino</td>\n",
       "    </tr>\n",
       "    <tr>\n",
       "      <th>21</th>\n",
       "      <td>Nombre_21</td>\n",
       "      <td>Femenino</td>\n",
       "    </tr>\n",
       "    <tr>\n",
       "      <th>22</th>\n",
       "      <td>Nombre_22</td>\n",
       "      <td>Masculino</td>\n",
       "    </tr>\n",
       "    <tr>\n",
       "      <th>23</th>\n",
       "      <td>Nombre_23</td>\n",
       "      <td>Masculino</td>\n",
       "    </tr>\n",
       "    <tr>\n",
       "      <th>24</th>\n",
       "      <td>Nombre_24</td>\n",
       "      <td>Femenino</td>\n",
       "    </tr>\n",
       "    <tr>\n",
       "      <th>25</th>\n",
       "      <td>Nombre_25</td>\n",
       "      <td>Femenino</td>\n",
       "    </tr>\n",
       "    <tr>\n",
       "      <th>26</th>\n",
       "      <td>Nombre_26</td>\n",
       "      <td>Femenino</td>\n",
       "    </tr>\n",
       "    <tr>\n",
       "      <th>27</th>\n",
       "      <td>Nombre_27</td>\n",
       "      <td>Femenino</td>\n",
       "    </tr>\n",
       "    <tr>\n",
       "      <th>28</th>\n",
       "      <td>Nombre_28</td>\n",
       "      <td>Femenino</td>\n",
       "    </tr>\n",
       "    <tr>\n",
       "      <th>29</th>\n",
       "      <td>Nombre_29</td>\n",
       "      <td>Masculino</td>\n",
       "    </tr>\n",
       "  </tbody>\n",
       "</table>\n",
       "</div>"
      ]
     },
     "execution_count": 101,
     "metadata": {},
     "output_type": "execute_result"
    }
   ],
   "execution_count": 101
  },
  {
   "metadata": {
    "ExecuteTime": {
     "end_time": "2025-01-09T02:53:41.940113Z",
     "start_time": "2025-01-09T02:53:41.935033Z"
    }
   },
   "cell_type": "code",
   "source": "my_data.iloc[[0, 1, 2, 28], [0, 5]]",
   "id": "7594fbcc68b7a61e",
   "outputs": [
    {
     "data": {
      "text/plain": [
       "       nombre     genero\n",
       "0    Nombre_0  Masculino\n",
       "1    Nombre_1  Masculino\n",
       "2    Nombre_2  Masculino\n",
       "28  Nombre_28   Femenino"
      ],
      "text/html": [
       "<div>\n",
       "<style scoped>\n",
       "    .dataframe tbody tr th:only-of-type {\n",
       "        vertical-align: middle;\n",
       "    }\n",
       "\n",
       "    .dataframe tbody tr th {\n",
       "        vertical-align: top;\n",
       "    }\n",
       "\n",
       "    .dataframe thead th {\n",
       "        text-align: right;\n",
       "    }\n",
       "</style>\n",
       "<table border=\"1\" class=\"dataframe\">\n",
       "  <thead>\n",
       "    <tr style=\"text-align: right;\">\n",
       "      <th></th>\n",
       "      <th>nombre</th>\n",
       "      <th>genero</th>\n",
       "    </tr>\n",
       "  </thead>\n",
       "  <tbody>\n",
       "    <tr>\n",
       "      <th>0</th>\n",
       "      <td>Nombre_0</td>\n",
       "      <td>Masculino</td>\n",
       "    </tr>\n",
       "    <tr>\n",
       "      <th>1</th>\n",
       "      <td>Nombre_1</td>\n",
       "      <td>Masculino</td>\n",
       "    </tr>\n",
       "    <tr>\n",
       "      <th>2</th>\n",
       "      <td>Nombre_2</td>\n",
       "      <td>Masculino</td>\n",
       "    </tr>\n",
       "    <tr>\n",
       "      <th>28</th>\n",
       "      <td>Nombre_28</td>\n",
       "      <td>Femenino</td>\n",
       "    </tr>\n",
       "  </tbody>\n",
       "</table>\n",
       "</div>"
      ]
     },
     "execution_count": 102,
     "metadata": {},
     "output_type": "execute_result"
    }
   ],
   "execution_count": 102
  },
  {
   "metadata": {
    "ExecuteTime": {
     "end_time": "2025-01-09T02:53:42.124397Z",
     "start_time": "2025-01-09T02:53:42.121536Z"
    }
   },
   "cell_type": "code",
   "source": "my_data.iloc[9, 3]",
   "id": "77ed489fb505c91f",
   "outputs": [
    {
     "data": {
      "text/plain": [
       "np.float64(38870.163069441405)"
      ]
     },
     "execution_count": 103,
     "metadata": {},
     "output_type": "execute_result"
    }
   ],
   "execution_count": 103
  },
  {
   "metadata": {
    "ExecuteTime": {
     "end_time": "2025-01-09T02:53:42.188106Z",
     "start_time": "2025-01-09T02:53:42.185215Z"
    }
   },
   "cell_type": "code",
   "source": "my_data.iloc[1, 4]",
   "id": "e6b5b451202f2581",
   "outputs": [
    {
     "data": {
      "text/plain": [
       "'1975-07-04'"
      ]
     },
     "execution_count": 104,
     "metadata": {},
     "output_type": "execute_result"
    }
   ],
   "execution_count": 104
  },
  {
   "metadata": {
    "ExecuteTime": {
     "end_time": "2025-01-09T02:53:42.325083Z",
     "start_time": "2025-01-09T02:53:42.317859Z"
    }
   },
   "cell_type": "code",
   "source": "my_data[my_data[\"salario\"] > 30000]",
   "id": "e4cbf0eaa0535996",
   "outputs": [
    {
     "data": {
      "text/plain": [
       "       nombre  edad    ciudad       salario   datebirth     genero\n",
       "0    Nombre_0    56  Ciudad_B  35631.591538  1992-08-13  Masculino\n",
       "1    Nombre_1    35  Ciudad_D  53368.497959  1975-07-04  Masculino\n",
       "2    Nombre_2    34  Ciudad_E  52673.342155  1991-05-09  Masculino\n",
       "3    Nombre_3    25  Ciudad_E  47408.387758  1977-12-10  Masculino\n",
       "5    Nombre_5    55  Ciudad_E  42851.667035  1987-12-20   Femenino\n",
       "..        ...   ...       ...           ...         ...        ...\n",
       "94  Nombre_94    50  Ciudad_B  38502.603617  1982-08-30  Masculino\n",
       "96  Nombre_96    37  Ciudad_D  48004.092614  1994-08-10   Femenino\n",
       "97  Nombre_97    51  Ciudad_C  41881.685166  1979-06-17  Masculino\n",
       "98  Nombre_98    46  Ciudad_A  43308.351921  1995-10-28  Masculino\n",
       "99  Nombre_99    50  Ciudad_C  55129.197054  1977-02-03   Femenino\n",
       "\n",
       "[87 rows x 6 columns]"
      ],
      "text/html": [
       "<div>\n",
       "<style scoped>\n",
       "    .dataframe tbody tr th:only-of-type {\n",
       "        vertical-align: middle;\n",
       "    }\n",
       "\n",
       "    .dataframe tbody tr th {\n",
       "        vertical-align: top;\n",
       "    }\n",
       "\n",
       "    .dataframe thead th {\n",
       "        text-align: right;\n",
       "    }\n",
       "</style>\n",
       "<table border=\"1\" class=\"dataframe\">\n",
       "  <thead>\n",
       "    <tr style=\"text-align: right;\">\n",
       "      <th></th>\n",
       "      <th>nombre</th>\n",
       "      <th>edad</th>\n",
       "      <th>ciudad</th>\n",
       "      <th>salario</th>\n",
       "      <th>datebirth</th>\n",
       "      <th>genero</th>\n",
       "    </tr>\n",
       "  </thead>\n",
       "  <tbody>\n",
       "    <tr>\n",
       "      <th>0</th>\n",
       "      <td>Nombre_0</td>\n",
       "      <td>56</td>\n",
       "      <td>Ciudad_B</td>\n",
       "      <td>35631.591538</td>\n",
       "      <td>1992-08-13</td>\n",
       "      <td>Masculino</td>\n",
       "    </tr>\n",
       "    <tr>\n",
       "      <th>1</th>\n",
       "      <td>Nombre_1</td>\n",
       "      <td>35</td>\n",
       "      <td>Ciudad_D</td>\n",
       "      <td>53368.497959</td>\n",
       "      <td>1975-07-04</td>\n",
       "      <td>Masculino</td>\n",
       "    </tr>\n",
       "    <tr>\n",
       "      <th>2</th>\n",
       "      <td>Nombre_2</td>\n",
       "      <td>34</td>\n",
       "      <td>Ciudad_E</td>\n",
       "      <td>52673.342155</td>\n",
       "      <td>1991-05-09</td>\n",
       "      <td>Masculino</td>\n",
       "    </tr>\n",
       "    <tr>\n",
       "      <th>3</th>\n",
       "      <td>Nombre_3</td>\n",
       "      <td>25</td>\n",
       "      <td>Ciudad_E</td>\n",
       "      <td>47408.387758</td>\n",
       "      <td>1977-12-10</td>\n",
       "      <td>Masculino</td>\n",
       "    </tr>\n",
       "    <tr>\n",
       "      <th>5</th>\n",
       "      <td>Nombre_5</td>\n",
       "      <td>55</td>\n",
       "      <td>Ciudad_E</td>\n",
       "      <td>42851.667035</td>\n",
       "      <td>1987-12-20</td>\n",
       "      <td>Femenino</td>\n",
       "    </tr>\n",
       "    <tr>\n",
       "      <th>...</th>\n",
       "      <td>...</td>\n",
       "      <td>...</td>\n",
       "      <td>...</td>\n",
       "      <td>...</td>\n",
       "      <td>...</td>\n",
       "      <td>...</td>\n",
       "    </tr>\n",
       "    <tr>\n",
       "      <th>94</th>\n",
       "      <td>Nombre_94</td>\n",
       "      <td>50</td>\n",
       "      <td>Ciudad_B</td>\n",
       "      <td>38502.603617</td>\n",
       "      <td>1982-08-30</td>\n",
       "      <td>Masculino</td>\n",
       "    </tr>\n",
       "    <tr>\n",
       "      <th>96</th>\n",
       "      <td>Nombre_96</td>\n",
       "      <td>37</td>\n",
       "      <td>Ciudad_D</td>\n",
       "      <td>48004.092614</td>\n",
       "      <td>1994-08-10</td>\n",
       "      <td>Femenino</td>\n",
       "    </tr>\n",
       "    <tr>\n",
       "      <th>97</th>\n",
       "      <td>Nombre_97</td>\n",
       "      <td>51</td>\n",
       "      <td>Ciudad_C</td>\n",
       "      <td>41881.685166</td>\n",
       "      <td>1979-06-17</td>\n",
       "      <td>Masculino</td>\n",
       "    </tr>\n",
       "    <tr>\n",
       "      <th>98</th>\n",
       "      <td>Nombre_98</td>\n",
       "      <td>46</td>\n",
       "      <td>Ciudad_A</td>\n",
       "      <td>43308.351921</td>\n",
       "      <td>1995-10-28</td>\n",
       "      <td>Masculino</td>\n",
       "    </tr>\n",
       "    <tr>\n",
       "      <th>99</th>\n",
       "      <td>Nombre_99</td>\n",
       "      <td>50</td>\n",
       "      <td>Ciudad_C</td>\n",
       "      <td>55129.197054</td>\n",
       "      <td>1977-02-03</td>\n",
       "      <td>Femenino</td>\n",
       "    </tr>\n",
       "  </tbody>\n",
       "</table>\n",
       "<p>87 rows × 6 columns</p>\n",
       "</div>"
      ]
     },
     "execution_count": 105,
     "metadata": {},
     "output_type": "execute_result"
    }
   ],
   "execution_count": 105
  },
  {
   "metadata": {
    "ExecuteTime": {
     "end_time": "2025-01-09T02:53:42.393758Z",
     "start_time": "2025-01-09T02:53:42.390308Z"
    }
   },
   "cell_type": "code",
   "source": "my_data.loc[10:20, \"genero\"]",
   "id": "4f74d7b4698c5cb7",
   "outputs": [
    {
     "data": {
      "text/plain": [
       "10    Masculino\n",
       "11    Masculino\n",
       "12     Femenino\n",
       "13    Masculino\n",
       "14     Femenino\n",
       "15     Femenino\n",
       "16     Femenino\n",
       "17    Masculino\n",
       "18     femenino\n",
       "19     Femenino\n",
       "20    Masculino\n",
       "Name: genero, dtype: object"
      ]
     },
     "execution_count": 106,
     "metadata": {},
     "output_type": "execute_result"
    }
   ],
   "execution_count": 106
  },
  {
   "metadata": {
    "ExecuteTime": {
     "end_time": "2025-01-09T02:53:42.455081Z",
     "start_time": "2025-01-09T02:53:42.448704Z"
    }
   },
   "cell_type": "code",
   "source": "my_data[my_data[\"datebirth\"] > '2000-01-01']",
   "id": "fa91ff15ca864aeb",
   "outputs": [
    {
     "data": {
      "text/plain": [
       "       nombre  edad    ciudad       salario   datebirth     genero\n",
       "9    Nombre_9    37  Ciudad_D  38870.163069  2004-08-07   Femenino\n",
       "10  Nombre_10    52  Ciudad_C  27267.591595  2000-11-11  Masculino\n",
       "29  Nombre_29    19  Ciudad_B  48789.065642  2001-09-01  Masculino\n",
       "36  Nombre_36    27  Ciudad_D  46403.283972  2003-02-11  Masculino\n",
       "52  Nombre_52    56  Ciudad_D  58325.156847  2001-08-15  Masculino\n",
       "59  Nombre_59    41  Ciudad_A  43302.628104  2003-07-24   Femenino\n",
       "64  Nombre_64    43  Ciudad_D  56319.364652  2004-03-27  Masculino\n",
       "78  Nombre_78    44  Ciudad_C  57768.840033  2005-12-18  Masculino\n",
       "87  Nombre_87    56  Ciudad_E  45583.606766  2000-07-11   Femenino\n",
       "91  Nombre_91    51  Ciudad_E  51568.157966  2001-06-10   Femenino\n",
       "93  Nombre_93    30  Ciudad_A  43717.695672  2002-07-14   Femenino"
      ],
      "text/html": [
       "<div>\n",
       "<style scoped>\n",
       "    .dataframe tbody tr th:only-of-type {\n",
       "        vertical-align: middle;\n",
       "    }\n",
       "\n",
       "    .dataframe tbody tr th {\n",
       "        vertical-align: top;\n",
       "    }\n",
       "\n",
       "    .dataframe thead th {\n",
       "        text-align: right;\n",
       "    }\n",
       "</style>\n",
       "<table border=\"1\" class=\"dataframe\">\n",
       "  <thead>\n",
       "    <tr style=\"text-align: right;\">\n",
       "      <th></th>\n",
       "      <th>nombre</th>\n",
       "      <th>edad</th>\n",
       "      <th>ciudad</th>\n",
       "      <th>salario</th>\n",
       "      <th>datebirth</th>\n",
       "      <th>genero</th>\n",
       "    </tr>\n",
       "  </thead>\n",
       "  <tbody>\n",
       "    <tr>\n",
       "      <th>9</th>\n",
       "      <td>Nombre_9</td>\n",
       "      <td>37</td>\n",
       "      <td>Ciudad_D</td>\n",
       "      <td>38870.163069</td>\n",
       "      <td>2004-08-07</td>\n",
       "      <td>Femenino</td>\n",
       "    </tr>\n",
       "    <tr>\n",
       "      <th>10</th>\n",
       "      <td>Nombre_10</td>\n",
       "      <td>52</td>\n",
       "      <td>Ciudad_C</td>\n",
       "      <td>27267.591595</td>\n",
       "      <td>2000-11-11</td>\n",
       "      <td>Masculino</td>\n",
       "    </tr>\n",
       "    <tr>\n",
       "      <th>29</th>\n",
       "      <td>Nombre_29</td>\n",
       "      <td>19</td>\n",
       "      <td>Ciudad_B</td>\n",
       "      <td>48789.065642</td>\n",
       "      <td>2001-09-01</td>\n",
       "      <td>Masculino</td>\n",
       "    </tr>\n",
       "    <tr>\n",
       "      <th>36</th>\n",
       "      <td>Nombre_36</td>\n",
       "      <td>27</td>\n",
       "      <td>Ciudad_D</td>\n",
       "      <td>46403.283972</td>\n",
       "      <td>2003-02-11</td>\n",
       "      <td>Masculino</td>\n",
       "    </tr>\n",
       "    <tr>\n",
       "      <th>52</th>\n",
       "      <td>Nombre_52</td>\n",
       "      <td>56</td>\n",
       "      <td>Ciudad_D</td>\n",
       "      <td>58325.156847</td>\n",
       "      <td>2001-08-15</td>\n",
       "      <td>Masculino</td>\n",
       "    </tr>\n",
       "    <tr>\n",
       "      <th>59</th>\n",
       "      <td>Nombre_59</td>\n",
       "      <td>41</td>\n",
       "      <td>Ciudad_A</td>\n",
       "      <td>43302.628104</td>\n",
       "      <td>2003-07-24</td>\n",
       "      <td>Femenino</td>\n",
       "    </tr>\n",
       "    <tr>\n",
       "      <th>64</th>\n",
       "      <td>Nombre_64</td>\n",
       "      <td>43</td>\n",
       "      <td>Ciudad_D</td>\n",
       "      <td>56319.364652</td>\n",
       "      <td>2004-03-27</td>\n",
       "      <td>Masculino</td>\n",
       "    </tr>\n",
       "    <tr>\n",
       "      <th>78</th>\n",
       "      <td>Nombre_78</td>\n",
       "      <td>44</td>\n",
       "      <td>Ciudad_C</td>\n",
       "      <td>57768.840033</td>\n",
       "      <td>2005-12-18</td>\n",
       "      <td>Masculino</td>\n",
       "    </tr>\n",
       "    <tr>\n",
       "      <th>87</th>\n",
       "      <td>Nombre_87</td>\n",
       "      <td>56</td>\n",
       "      <td>Ciudad_E</td>\n",
       "      <td>45583.606766</td>\n",
       "      <td>2000-07-11</td>\n",
       "      <td>Femenino</td>\n",
       "    </tr>\n",
       "    <tr>\n",
       "      <th>91</th>\n",
       "      <td>Nombre_91</td>\n",
       "      <td>51</td>\n",
       "      <td>Ciudad_E</td>\n",
       "      <td>51568.157966</td>\n",
       "      <td>2001-06-10</td>\n",
       "      <td>Femenino</td>\n",
       "    </tr>\n",
       "    <tr>\n",
       "      <th>93</th>\n",
       "      <td>Nombre_93</td>\n",
       "      <td>30</td>\n",
       "      <td>Ciudad_A</td>\n",
       "      <td>43717.695672</td>\n",
       "      <td>2002-07-14</td>\n",
       "      <td>Femenino</td>\n",
       "    </tr>\n",
       "  </tbody>\n",
       "</table>\n",
       "</div>"
      ]
     },
     "execution_count": 107,
     "metadata": {},
     "output_type": "execute_result"
    }
   ],
   "execution_count": 107
  },
  {
   "metadata": {
    "ExecuteTime": {
     "end_time": "2025-01-09T02:53:42.563122Z",
     "start_time": "2025-01-09T02:53:42.559768Z"
    }
   },
   "cell_type": "code",
   "source": "my_data[my_data[\"genero\"] == 'Femenino'].shape[0]",
   "id": "a4f61014e0c100fb",
   "outputs": [
    {
     "data": {
      "text/plain": [
       "52"
      ]
     },
     "execution_count": 108,
     "metadata": {},
     "output_type": "execute_result"
    }
   ],
   "execution_count": 108
  },
  {
   "metadata": {
    "ExecuteTime": {
     "end_time": "2025-01-09T02:53:42.701770Z",
     "start_time": "2025-01-09T02:53:42.698872Z"
    }
   },
   "cell_type": "code",
   "source": "my_data[my_data[\"genero\"] == 'Masculino'].shape[0]",
   "id": "6216589a3596df32",
   "outputs": [
    {
     "data": {
      "text/plain": [
       "44"
      ]
     },
     "execution_count": 109,
     "metadata": {},
     "output_type": "execute_result"
    }
   ],
   "execution_count": 109
  },
  {
   "metadata": {
    "ExecuteTime": {
     "end_time": "2025-01-09T02:53:42.772051Z",
     "start_time": "2025-01-09T02:53:42.762309Z"
    }
   },
   "cell_type": "code",
   "source": "my_data[my_data[\"edad\"] >= 40]",
   "id": "29b9d73afc4d1d0b",
   "outputs": [
    {
     "data": {
      "text/plain": [
       "       nombre  edad    ciudad       salario   datebirth     genero\n",
       "0    Nombre_0    56  Ciudad_B  35631.591538  1992-08-13  Masculino\n",
       "5    Nombre_5    55  Ciudad_E  42851.667035  1987-12-20   Femenino\n",
       "6    Nombre_6    58  Ciudad_C  26330.730752  1999-08-17   Femenino\n",
       "7    Nombre_7    51  Ciudad_A  59094.914830  1981-10-14        NaN\n",
       "8    Nombre_8    54  Ciudad_B  38854.451859  1977-10-12  Masculino\n",
       "10  Nombre_10    52  Ciudad_C  27267.591595  2000-11-11  Masculino\n",
       "11  Nombre_11    50  Ciudad_E  28754.083283  1995-12-29  Masculino\n",
       "12  Nombre_12    49  Ciudad_C  49944.883529  1997-01-16   Femenino\n",
       "13  Nombre_13    52  Ciudad_B  32237.897772  1984-10-29  Masculino\n",
       "20  Nombre_20    44  Ciudad_B  43091.955139  1967-11-14  Masculino\n",
       "23  Nombre_23    59  Ciudad_A  40409.484746  1996-09-04  Masculino\n",
       "24  Nombre_24    55  Ciudad_A  30036.673796  1970-01-29   Femenino\n",
       "25  Nombre_25    52  Ciudad_D  34061.272201  1979-12-31   Femenino\n",
       "28  Nombre_28    46  Ciudad_A  50971.629796  1970-01-20   Femenino\n",
       "30  Nombre_30    42  Ciudad_A  46610.206381  1964-07-08   Femenino\n",
       "31  Nombre_31    48  Ciudad_E  35217.688653  1997-11-15  Masculino\n",
       "32  Nombre_32    41  Ciudad_B  51871.370462  1983-12-22    Femenin\n",
       "34  Nombre_34    44  Ciudad_C  53044.265479  1994-04-20   Femenino\n",
       "35  Nombre_35    41  Ciudad_C  51006.072731  1996-08-01   Femenino\n",
       "37  Nombre_37    56  Ciudad_D  43443.213044  1979-12-15  Masculino\n",
       "40  Nombre_40    53  Ciudad_D  45050.894398  1992-02-14   Femenino\n",
       "41  Nombre_41    54  Ciudad_A  25615.292451  1964-02-03   Femenino\n",
       "44  Nombre_44    56  Ciudad_B  49992.354046  1971-08-24   Femenino\n",
       "46  Nombre_46    46  Ciudad_C  56336.314674  1983-10-01   Femenino\n",
       "47  Nombre_47    55  Ciudad_D  34457.550454  1969-01-26  Masculino\n",
       "48  Nombre_48    41  Ciudad_A  59749.242461  1996-10-26   Femenino\n",
       "49  Nombre_49    48  Ciudad_B  44684.006767  1973-04-21  Masculino\n",
       "50  Nombre_50    56  Ciudad_E  58893.691313  1968-05-16  Masculino\n",
       "52  Nombre_52    56  Ciudad_D  58325.156847  2001-08-15  Masculino\n",
       "53  Nombre_53    59  Ciudad_B  55745.620666  1989-07-23   Femenino\n",
       "59  Nombre_59    41  Ciudad_A  43302.628104  2003-07-24   Femenino\n",
       "63  Nombre_63    41  Ciudad_B  51839.135612  1974-05-04   Femenino\n",
       "64  Nombre_64    43  Ciudad_D  56319.364652  2004-03-27  Masculino\n",
       "67  Nombre_67    44  Ciudad_D  57479.582226  1978-10-20   Femenino\n",
       "69  Nombre_69    52  Ciudad_D  56687.234058  1998-12-29   Femenino\n",
       "71  Nombre_71    57  Ciudad_D  45365.479177  1974-01-03   Femenino\n",
       "72  Nombre_72    50  Ciudad_C  51753.260565  1972-11-25   Femenino\n",
       "75  Nombre_75    42  Ciudad_C  29445.981274  1986-06-30  Masculino\n",
       "76  Nombre_76    45  Ciudad_E  46867.515976  1987-05-28   Femenino\n",
       "77  Nombre_77    58  Ciudad_D  34709.957479  1998-01-10   Femenino\n",
       "78  Nombre_78    44  Ciudad_C  57768.840033  2005-12-18  Masculino\n",
       "81  Nombre_81    44  Ciudad_B  49677.168059  1972-06-18  Masculino\n",
       "82  Nombre_82    45  Ciudad_B  54184.992764  1970-10-27  Masculino\n",
       "84  Nombre_84    41  Ciudad_D  47367.694734  1989-02-07   Femenino\n",
       "87  Nombre_87    56  Ciudad_E  45583.606766  2000-07-11   Femenino\n",
       "88  Nombre_88    57  Ciudad_E  39461.958819  1991-03-17   Femenino\n",
       "89  Nombre_89    50  Ciudad_A  51894.903796  1969-04-06   Femenino\n",
       "91  Nombre_91    51  Ciudad_E  51568.157966  2001-06-10   Femenino\n",
       "92  Nombre_92    52  Ciudad_C  38650.108600  1968-06-15  Masculino\n",
       "94  Nombre_94    50  Ciudad_B  38502.603617  1982-08-30  Masculino\n",
       "95  Nombre_95    50  Ciudad_D  26066.762231  1986-12-29   Femenino\n",
       "97  Nombre_97    51  Ciudad_C  41881.685166  1979-06-17  Masculino\n",
       "98  Nombre_98    46  Ciudad_A  43308.351921  1995-10-28  Masculino\n",
       "99  Nombre_99    50  Ciudad_C  55129.197054  1977-02-03   Femenino"
      ],
      "text/html": [
       "<div>\n",
       "<style scoped>\n",
       "    .dataframe tbody tr th:only-of-type {\n",
       "        vertical-align: middle;\n",
       "    }\n",
       "\n",
       "    .dataframe tbody tr th {\n",
       "        vertical-align: top;\n",
       "    }\n",
       "\n",
       "    .dataframe thead th {\n",
       "        text-align: right;\n",
       "    }\n",
       "</style>\n",
       "<table border=\"1\" class=\"dataframe\">\n",
       "  <thead>\n",
       "    <tr style=\"text-align: right;\">\n",
       "      <th></th>\n",
       "      <th>nombre</th>\n",
       "      <th>edad</th>\n",
       "      <th>ciudad</th>\n",
       "      <th>salario</th>\n",
       "      <th>datebirth</th>\n",
       "      <th>genero</th>\n",
       "    </tr>\n",
       "  </thead>\n",
       "  <tbody>\n",
       "    <tr>\n",
       "      <th>0</th>\n",
       "      <td>Nombre_0</td>\n",
       "      <td>56</td>\n",
       "      <td>Ciudad_B</td>\n",
       "      <td>35631.591538</td>\n",
       "      <td>1992-08-13</td>\n",
       "      <td>Masculino</td>\n",
       "    </tr>\n",
       "    <tr>\n",
       "      <th>5</th>\n",
       "      <td>Nombre_5</td>\n",
       "      <td>55</td>\n",
       "      <td>Ciudad_E</td>\n",
       "      <td>42851.667035</td>\n",
       "      <td>1987-12-20</td>\n",
       "      <td>Femenino</td>\n",
       "    </tr>\n",
       "    <tr>\n",
       "      <th>6</th>\n",
       "      <td>Nombre_6</td>\n",
       "      <td>58</td>\n",
       "      <td>Ciudad_C</td>\n",
       "      <td>26330.730752</td>\n",
       "      <td>1999-08-17</td>\n",
       "      <td>Femenino</td>\n",
       "    </tr>\n",
       "    <tr>\n",
       "      <th>7</th>\n",
       "      <td>Nombre_7</td>\n",
       "      <td>51</td>\n",
       "      <td>Ciudad_A</td>\n",
       "      <td>59094.914830</td>\n",
       "      <td>1981-10-14</td>\n",
       "      <td>NaN</td>\n",
       "    </tr>\n",
       "    <tr>\n",
       "      <th>8</th>\n",
       "      <td>Nombre_8</td>\n",
       "      <td>54</td>\n",
       "      <td>Ciudad_B</td>\n",
       "      <td>38854.451859</td>\n",
       "      <td>1977-10-12</td>\n",
       "      <td>Masculino</td>\n",
       "    </tr>\n",
       "    <tr>\n",
       "      <th>10</th>\n",
       "      <td>Nombre_10</td>\n",
       "      <td>52</td>\n",
       "      <td>Ciudad_C</td>\n",
       "      <td>27267.591595</td>\n",
       "      <td>2000-11-11</td>\n",
       "      <td>Masculino</td>\n",
       "    </tr>\n",
       "    <tr>\n",
       "      <th>11</th>\n",
       "      <td>Nombre_11</td>\n",
       "      <td>50</td>\n",
       "      <td>Ciudad_E</td>\n",
       "      <td>28754.083283</td>\n",
       "      <td>1995-12-29</td>\n",
       "      <td>Masculino</td>\n",
       "    </tr>\n",
       "    <tr>\n",
       "      <th>12</th>\n",
       "      <td>Nombre_12</td>\n",
       "      <td>49</td>\n",
       "      <td>Ciudad_C</td>\n",
       "      <td>49944.883529</td>\n",
       "      <td>1997-01-16</td>\n",
       "      <td>Femenino</td>\n",
       "    </tr>\n",
       "    <tr>\n",
       "      <th>13</th>\n",
       "      <td>Nombre_13</td>\n",
       "      <td>52</td>\n",
       "      <td>Ciudad_B</td>\n",
       "      <td>32237.897772</td>\n",
       "      <td>1984-10-29</td>\n",
       "      <td>Masculino</td>\n",
       "    </tr>\n",
       "    <tr>\n",
       "      <th>20</th>\n",
       "      <td>Nombre_20</td>\n",
       "      <td>44</td>\n",
       "      <td>Ciudad_B</td>\n",
       "      <td>43091.955139</td>\n",
       "      <td>1967-11-14</td>\n",
       "      <td>Masculino</td>\n",
       "    </tr>\n",
       "    <tr>\n",
       "      <th>23</th>\n",
       "      <td>Nombre_23</td>\n",
       "      <td>59</td>\n",
       "      <td>Ciudad_A</td>\n",
       "      <td>40409.484746</td>\n",
       "      <td>1996-09-04</td>\n",
       "      <td>Masculino</td>\n",
       "    </tr>\n",
       "    <tr>\n",
       "      <th>24</th>\n",
       "      <td>Nombre_24</td>\n",
       "      <td>55</td>\n",
       "      <td>Ciudad_A</td>\n",
       "      <td>30036.673796</td>\n",
       "      <td>1970-01-29</td>\n",
       "      <td>Femenino</td>\n",
       "    </tr>\n",
       "    <tr>\n",
       "      <th>25</th>\n",
       "      <td>Nombre_25</td>\n",
       "      <td>52</td>\n",
       "      <td>Ciudad_D</td>\n",
       "      <td>34061.272201</td>\n",
       "      <td>1979-12-31</td>\n",
       "      <td>Femenino</td>\n",
       "    </tr>\n",
       "    <tr>\n",
       "      <th>28</th>\n",
       "      <td>Nombre_28</td>\n",
       "      <td>46</td>\n",
       "      <td>Ciudad_A</td>\n",
       "      <td>50971.629796</td>\n",
       "      <td>1970-01-20</td>\n",
       "      <td>Femenino</td>\n",
       "    </tr>\n",
       "    <tr>\n",
       "      <th>30</th>\n",
       "      <td>Nombre_30</td>\n",
       "      <td>42</td>\n",
       "      <td>Ciudad_A</td>\n",
       "      <td>46610.206381</td>\n",
       "      <td>1964-07-08</td>\n",
       "      <td>Femenino</td>\n",
       "    </tr>\n",
       "    <tr>\n",
       "      <th>31</th>\n",
       "      <td>Nombre_31</td>\n",
       "      <td>48</td>\n",
       "      <td>Ciudad_E</td>\n",
       "      <td>35217.688653</td>\n",
       "      <td>1997-11-15</td>\n",
       "      <td>Masculino</td>\n",
       "    </tr>\n",
       "    <tr>\n",
       "      <th>32</th>\n",
       "      <td>Nombre_32</td>\n",
       "      <td>41</td>\n",
       "      <td>Ciudad_B</td>\n",
       "      <td>51871.370462</td>\n",
       "      <td>1983-12-22</td>\n",
       "      <td>Femenin</td>\n",
       "    </tr>\n",
       "    <tr>\n",
       "      <th>34</th>\n",
       "      <td>Nombre_34</td>\n",
       "      <td>44</td>\n",
       "      <td>Ciudad_C</td>\n",
       "      <td>53044.265479</td>\n",
       "      <td>1994-04-20</td>\n",
       "      <td>Femenino</td>\n",
       "    </tr>\n",
       "    <tr>\n",
       "      <th>35</th>\n",
       "      <td>Nombre_35</td>\n",
       "      <td>41</td>\n",
       "      <td>Ciudad_C</td>\n",
       "      <td>51006.072731</td>\n",
       "      <td>1996-08-01</td>\n",
       "      <td>Femenino</td>\n",
       "    </tr>\n",
       "    <tr>\n",
       "      <th>37</th>\n",
       "      <td>Nombre_37</td>\n",
       "      <td>56</td>\n",
       "      <td>Ciudad_D</td>\n",
       "      <td>43443.213044</td>\n",
       "      <td>1979-12-15</td>\n",
       "      <td>Masculino</td>\n",
       "    </tr>\n",
       "    <tr>\n",
       "      <th>40</th>\n",
       "      <td>Nombre_40</td>\n",
       "      <td>53</td>\n",
       "      <td>Ciudad_D</td>\n",
       "      <td>45050.894398</td>\n",
       "      <td>1992-02-14</td>\n",
       "      <td>Femenino</td>\n",
       "    </tr>\n",
       "    <tr>\n",
       "      <th>41</th>\n",
       "      <td>Nombre_41</td>\n",
       "      <td>54</td>\n",
       "      <td>Ciudad_A</td>\n",
       "      <td>25615.292451</td>\n",
       "      <td>1964-02-03</td>\n",
       "      <td>Femenino</td>\n",
       "    </tr>\n",
       "    <tr>\n",
       "      <th>44</th>\n",
       "      <td>Nombre_44</td>\n",
       "      <td>56</td>\n",
       "      <td>Ciudad_B</td>\n",
       "      <td>49992.354046</td>\n",
       "      <td>1971-08-24</td>\n",
       "      <td>Femenino</td>\n",
       "    </tr>\n",
       "    <tr>\n",
       "      <th>46</th>\n",
       "      <td>Nombre_46</td>\n",
       "      <td>46</td>\n",
       "      <td>Ciudad_C</td>\n",
       "      <td>56336.314674</td>\n",
       "      <td>1983-10-01</td>\n",
       "      <td>Femenino</td>\n",
       "    </tr>\n",
       "    <tr>\n",
       "      <th>47</th>\n",
       "      <td>Nombre_47</td>\n",
       "      <td>55</td>\n",
       "      <td>Ciudad_D</td>\n",
       "      <td>34457.550454</td>\n",
       "      <td>1969-01-26</td>\n",
       "      <td>Masculino</td>\n",
       "    </tr>\n",
       "    <tr>\n",
       "      <th>48</th>\n",
       "      <td>Nombre_48</td>\n",
       "      <td>41</td>\n",
       "      <td>Ciudad_A</td>\n",
       "      <td>59749.242461</td>\n",
       "      <td>1996-10-26</td>\n",
       "      <td>Femenino</td>\n",
       "    </tr>\n",
       "    <tr>\n",
       "      <th>49</th>\n",
       "      <td>Nombre_49</td>\n",
       "      <td>48</td>\n",
       "      <td>Ciudad_B</td>\n",
       "      <td>44684.006767</td>\n",
       "      <td>1973-04-21</td>\n",
       "      <td>Masculino</td>\n",
       "    </tr>\n",
       "    <tr>\n",
       "      <th>50</th>\n",
       "      <td>Nombre_50</td>\n",
       "      <td>56</td>\n",
       "      <td>Ciudad_E</td>\n",
       "      <td>58893.691313</td>\n",
       "      <td>1968-05-16</td>\n",
       "      <td>Masculino</td>\n",
       "    </tr>\n",
       "    <tr>\n",
       "      <th>52</th>\n",
       "      <td>Nombre_52</td>\n",
       "      <td>56</td>\n",
       "      <td>Ciudad_D</td>\n",
       "      <td>58325.156847</td>\n",
       "      <td>2001-08-15</td>\n",
       "      <td>Masculino</td>\n",
       "    </tr>\n",
       "    <tr>\n",
       "      <th>53</th>\n",
       "      <td>Nombre_53</td>\n",
       "      <td>59</td>\n",
       "      <td>Ciudad_B</td>\n",
       "      <td>55745.620666</td>\n",
       "      <td>1989-07-23</td>\n",
       "      <td>Femenino</td>\n",
       "    </tr>\n",
       "    <tr>\n",
       "      <th>59</th>\n",
       "      <td>Nombre_59</td>\n",
       "      <td>41</td>\n",
       "      <td>Ciudad_A</td>\n",
       "      <td>43302.628104</td>\n",
       "      <td>2003-07-24</td>\n",
       "      <td>Femenino</td>\n",
       "    </tr>\n",
       "    <tr>\n",
       "      <th>63</th>\n",
       "      <td>Nombre_63</td>\n",
       "      <td>41</td>\n",
       "      <td>Ciudad_B</td>\n",
       "      <td>51839.135612</td>\n",
       "      <td>1974-05-04</td>\n",
       "      <td>Femenino</td>\n",
       "    </tr>\n",
       "    <tr>\n",
       "      <th>64</th>\n",
       "      <td>Nombre_64</td>\n",
       "      <td>43</td>\n",
       "      <td>Ciudad_D</td>\n",
       "      <td>56319.364652</td>\n",
       "      <td>2004-03-27</td>\n",
       "      <td>Masculino</td>\n",
       "    </tr>\n",
       "    <tr>\n",
       "      <th>67</th>\n",
       "      <td>Nombre_67</td>\n",
       "      <td>44</td>\n",
       "      <td>Ciudad_D</td>\n",
       "      <td>57479.582226</td>\n",
       "      <td>1978-10-20</td>\n",
       "      <td>Femenino</td>\n",
       "    </tr>\n",
       "    <tr>\n",
       "      <th>69</th>\n",
       "      <td>Nombre_69</td>\n",
       "      <td>52</td>\n",
       "      <td>Ciudad_D</td>\n",
       "      <td>56687.234058</td>\n",
       "      <td>1998-12-29</td>\n",
       "      <td>Femenino</td>\n",
       "    </tr>\n",
       "    <tr>\n",
       "      <th>71</th>\n",
       "      <td>Nombre_71</td>\n",
       "      <td>57</td>\n",
       "      <td>Ciudad_D</td>\n",
       "      <td>45365.479177</td>\n",
       "      <td>1974-01-03</td>\n",
       "      <td>Femenino</td>\n",
       "    </tr>\n",
       "    <tr>\n",
       "      <th>72</th>\n",
       "      <td>Nombre_72</td>\n",
       "      <td>50</td>\n",
       "      <td>Ciudad_C</td>\n",
       "      <td>51753.260565</td>\n",
       "      <td>1972-11-25</td>\n",
       "      <td>Femenino</td>\n",
       "    </tr>\n",
       "    <tr>\n",
       "      <th>75</th>\n",
       "      <td>Nombre_75</td>\n",
       "      <td>42</td>\n",
       "      <td>Ciudad_C</td>\n",
       "      <td>29445.981274</td>\n",
       "      <td>1986-06-30</td>\n",
       "      <td>Masculino</td>\n",
       "    </tr>\n",
       "    <tr>\n",
       "      <th>76</th>\n",
       "      <td>Nombre_76</td>\n",
       "      <td>45</td>\n",
       "      <td>Ciudad_E</td>\n",
       "      <td>46867.515976</td>\n",
       "      <td>1987-05-28</td>\n",
       "      <td>Femenino</td>\n",
       "    </tr>\n",
       "    <tr>\n",
       "      <th>77</th>\n",
       "      <td>Nombre_77</td>\n",
       "      <td>58</td>\n",
       "      <td>Ciudad_D</td>\n",
       "      <td>34709.957479</td>\n",
       "      <td>1998-01-10</td>\n",
       "      <td>Femenino</td>\n",
       "    </tr>\n",
       "    <tr>\n",
       "      <th>78</th>\n",
       "      <td>Nombre_78</td>\n",
       "      <td>44</td>\n",
       "      <td>Ciudad_C</td>\n",
       "      <td>57768.840033</td>\n",
       "      <td>2005-12-18</td>\n",
       "      <td>Masculino</td>\n",
       "    </tr>\n",
       "    <tr>\n",
       "      <th>81</th>\n",
       "      <td>Nombre_81</td>\n",
       "      <td>44</td>\n",
       "      <td>Ciudad_B</td>\n",
       "      <td>49677.168059</td>\n",
       "      <td>1972-06-18</td>\n",
       "      <td>Masculino</td>\n",
       "    </tr>\n",
       "    <tr>\n",
       "      <th>82</th>\n",
       "      <td>Nombre_82</td>\n",
       "      <td>45</td>\n",
       "      <td>Ciudad_B</td>\n",
       "      <td>54184.992764</td>\n",
       "      <td>1970-10-27</td>\n",
       "      <td>Masculino</td>\n",
       "    </tr>\n",
       "    <tr>\n",
       "      <th>84</th>\n",
       "      <td>Nombre_84</td>\n",
       "      <td>41</td>\n",
       "      <td>Ciudad_D</td>\n",
       "      <td>47367.694734</td>\n",
       "      <td>1989-02-07</td>\n",
       "      <td>Femenino</td>\n",
       "    </tr>\n",
       "    <tr>\n",
       "      <th>87</th>\n",
       "      <td>Nombre_87</td>\n",
       "      <td>56</td>\n",
       "      <td>Ciudad_E</td>\n",
       "      <td>45583.606766</td>\n",
       "      <td>2000-07-11</td>\n",
       "      <td>Femenino</td>\n",
       "    </tr>\n",
       "    <tr>\n",
       "      <th>88</th>\n",
       "      <td>Nombre_88</td>\n",
       "      <td>57</td>\n",
       "      <td>Ciudad_E</td>\n",
       "      <td>39461.958819</td>\n",
       "      <td>1991-03-17</td>\n",
       "      <td>Femenino</td>\n",
       "    </tr>\n",
       "    <tr>\n",
       "      <th>89</th>\n",
       "      <td>Nombre_89</td>\n",
       "      <td>50</td>\n",
       "      <td>Ciudad_A</td>\n",
       "      <td>51894.903796</td>\n",
       "      <td>1969-04-06</td>\n",
       "      <td>Femenino</td>\n",
       "    </tr>\n",
       "    <tr>\n",
       "      <th>91</th>\n",
       "      <td>Nombre_91</td>\n",
       "      <td>51</td>\n",
       "      <td>Ciudad_E</td>\n",
       "      <td>51568.157966</td>\n",
       "      <td>2001-06-10</td>\n",
       "      <td>Femenino</td>\n",
       "    </tr>\n",
       "    <tr>\n",
       "      <th>92</th>\n",
       "      <td>Nombre_92</td>\n",
       "      <td>52</td>\n",
       "      <td>Ciudad_C</td>\n",
       "      <td>38650.108600</td>\n",
       "      <td>1968-06-15</td>\n",
       "      <td>Masculino</td>\n",
       "    </tr>\n",
       "    <tr>\n",
       "      <th>94</th>\n",
       "      <td>Nombre_94</td>\n",
       "      <td>50</td>\n",
       "      <td>Ciudad_B</td>\n",
       "      <td>38502.603617</td>\n",
       "      <td>1982-08-30</td>\n",
       "      <td>Masculino</td>\n",
       "    </tr>\n",
       "    <tr>\n",
       "      <th>95</th>\n",
       "      <td>Nombre_95</td>\n",
       "      <td>50</td>\n",
       "      <td>Ciudad_D</td>\n",
       "      <td>26066.762231</td>\n",
       "      <td>1986-12-29</td>\n",
       "      <td>Femenino</td>\n",
       "    </tr>\n",
       "    <tr>\n",
       "      <th>97</th>\n",
       "      <td>Nombre_97</td>\n",
       "      <td>51</td>\n",
       "      <td>Ciudad_C</td>\n",
       "      <td>41881.685166</td>\n",
       "      <td>1979-06-17</td>\n",
       "      <td>Masculino</td>\n",
       "    </tr>\n",
       "    <tr>\n",
       "      <th>98</th>\n",
       "      <td>Nombre_98</td>\n",
       "      <td>46</td>\n",
       "      <td>Ciudad_A</td>\n",
       "      <td>43308.351921</td>\n",
       "      <td>1995-10-28</td>\n",
       "      <td>Masculino</td>\n",
       "    </tr>\n",
       "    <tr>\n",
       "      <th>99</th>\n",
       "      <td>Nombre_99</td>\n",
       "      <td>50</td>\n",
       "      <td>Ciudad_C</td>\n",
       "      <td>55129.197054</td>\n",
       "      <td>1977-02-03</td>\n",
       "      <td>Femenino</td>\n",
       "    </tr>\n",
       "  </tbody>\n",
       "</table>\n",
       "</div>"
      ]
     },
     "execution_count": 110,
     "metadata": {},
     "output_type": "execute_result"
    }
   ],
   "execution_count": 110
  },
  {
   "metadata": {
    "ExecuteTime": {
     "end_time": "2025-01-09T02:53:42.885150Z",
     "start_time": "2025-01-09T02:53:42.882614Z"
    }
   },
   "cell_type": "code",
   "source": "my_data.shape",
   "id": "a9eaa7c22db85b04",
   "outputs": [
    {
     "data": {
      "text/plain": [
       "(100, 6)"
      ]
     },
     "execution_count": 111,
     "metadata": {},
     "output_type": "execute_result"
    }
   ],
   "execution_count": 111
  },
  {
   "metadata": {
    "ExecuteTime": {
     "end_time": "2025-01-09T02:53:43.157363Z",
     "start_time": "2025-01-09T02:53:43.149409Z"
    }
   },
   "cell_type": "code",
   "source": "my_data[(my_data[\"edad\"] >= 40 ) & (my_data[\"edad\"] <= 50 )]",
   "id": "81e7813d820f0aa9",
   "outputs": [
    {
     "data": {
      "text/plain": [
       "       nombre  edad    ciudad       salario   datebirth     genero\n",
       "11  Nombre_11    50  Ciudad_E  28754.083283  1995-12-29  Masculino\n",
       "12  Nombre_12    49  Ciudad_C  49944.883529  1997-01-16   Femenino\n",
       "20  Nombre_20    44  Ciudad_B  43091.955139  1967-11-14  Masculino\n",
       "28  Nombre_28    46  Ciudad_A  50971.629796  1970-01-20   Femenino\n",
       "30  Nombre_30    42  Ciudad_A  46610.206381  1964-07-08   Femenino\n",
       "31  Nombre_31    48  Ciudad_E  35217.688653  1997-11-15  Masculino\n",
       "32  Nombre_32    41  Ciudad_B  51871.370462  1983-12-22    Femenin\n",
       "34  Nombre_34    44  Ciudad_C  53044.265479  1994-04-20   Femenino\n",
       "35  Nombre_35    41  Ciudad_C  51006.072731  1996-08-01   Femenino\n",
       "46  Nombre_46    46  Ciudad_C  56336.314674  1983-10-01   Femenino\n",
       "48  Nombre_48    41  Ciudad_A  59749.242461  1996-10-26   Femenino\n",
       "49  Nombre_49    48  Ciudad_B  44684.006767  1973-04-21  Masculino\n",
       "59  Nombre_59    41  Ciudad_A  43302.628104  2003-07-24   Femenino\n",
       "63  Nombre_63    41  Ciudad_B  51839.135612  1974-05-04   Femenino\n",
       "64  Nombre_64    43  Ciudad_D  56319.364652  2004-03-27  Masculino\n",
       "67  Nombre_67    44  Ciudad_D  57479.582226  1978-10-20   Femenino\n",
       "72  Nombre_72    50  Ciudad_C  51753.260565  1972-11-25   Femenino\n",
       "75  Nombre_75    42  Ciudad_C  29445.981274  1986-06-30  Masculino\n",
       "76  Nombre_76    45  Ciudad_E  46867.515976  1987-05-28   Femenino\n",
       "78  Nombre_78    44  Ciudad_C  57768.840033  2005-12-18  Masculino\n",
       "81  Nombre_81    44  Ciudad_B  49677.168059  1972-06-18  Masculino\n",
       "82  Nombre_82    45  Ciudad_B  54184.992764  1970-10-27  Masculino\n",
       "84  Nombre_84    41  Ciudad_D  47367.694734  1989-02-07   Femenino\n",
       "89  Nombre_89    50  Ciudad_A  51894.903796  1969-04-06   Femenino\n",
       "94  Nombre_94    50  Ciudad_B  38502.603617  1982-08-30  Masculino\n",
       "95  Nombre_95    50  Ciudad_D  26066.762231  1986-12-29   Femenino\n",
       "98  Nombre_98    46  Ciudad_A  43308.351921  1995-10-28  Masculino\n",
       "99  Nombre_99    50  Ciudad_C  55129.197054  1977-02-03   Femenino"
      ],
      "text/html": [
       "<div>\n",
       "<style scoped>\n",
       "    .dataframe tbody tr th:only-of-type {\n",
       "        vertical-align: middle;\n",
       "    }\n",
       "\n",
       "    .dataframe tbody tr th {\n",
       "        vertical-align: top;\n",
       "    }\n",
       "\n",
       "    .dataframe thead th {\n",
       "        text-align: right;\n",
       "    }\n",
       "</style>\n",
       "<table border=\"1\" class=\"dataframe\">\n",
       "  <thead>\n",
       "    <tr style=\"text-align: right;\">\n",
       "      <th></th>\n",
       "      <th>nombre</th>\n",
       "      <th>edad</th>\n",
       "      <th>ciudad</th>\n",
       "      <th>salario</th>\n",
       "      <th>datebirth</th>\n",
       "      <th>genero</th>\n",
       "    </tr>\n",
       "  </thead>\n",
       "  <tbody>\n",
       "    <tr>\n",
       "      <th>11</th>\n",
       "      <td>Nombre_11</td>\n",
       "      <td>50</td>\n",
       "      <td>Ciudad_E</td>\n",
       "      <td>28754.083283</td>\n",
       "      <td>1995-12-29</td>\n",
       "      <td>Masculino</td>\n",
       "    </tr>\n",
       "    <tr>\n",
       "      <th>12</th>\n",
       "      <td>Nombre_12</td>\n",
       "      <td>49</td>\n",
       "      <td>Ciudad_C</td>\n",
       "      <td>49944.883529</td>\n",
       "      <td>1997-01-16</td>\n",
       "      <td>Femenino</td>\n",
       "    </tr>\n",
       "    <tr>\n",
       "      <th>20</th>\n",
       "      <td>Nombre_20</td>\n",
       "      <td>44</td>\n",
       "      <td>Ciudad_B</td>\n",
       "      <td>43091.955139</td>\n",
       "      <td>1967-11-14</td>\n",
       "      <td>Masculino</td>\n",
       "    </tr>\n",
       "    <tr>\n",
       "      <th>28</th>\n",
       "      <td>Nombre_28</td>\n",
       "      <td>46</td>\n",
       "      <td>Ciudad_A</td>\n",
       "      <td>50971.629796</td>\n",
       "      <td>1970-01-20</td>\n",
       "      <td>Femenino</td>\n",
       "    </tr>\n",
       "    <tr>\n",
       "      <th>30</th>\n",
       "      <td>Nombre_30</td>\n",
       "      <td>42</td>\n",
       "      <td>Ciudad_A</td>\n",
       "      <td>46610.206381</td>\n",
       "      <td>1964-07-08</td>\n",
       "      <td>Femenino</td>\n",
       "    </tr>\n",
       "    <tr>\n",
       "      <th>31</th>\n",
       "      <td>Nombre_31</td>\n",
       "      <td>48</td>\n",
       "      <td>Ciudad_E</td>\n",
       "      <td>35217.688653</td>\n",
       "      <td>1997-11-15</td>\n",
       "      <td>Masculino</td>\n",
       "    </tr>\n",
       "    <tr>\n",
       "      <th>32</th>\n",
       "      <td>Nombre_32</td>\n",
       "      <td>41</td>\n",
       "      <td>Ciudad_B</td>\n",
       "      <td>51871.370462</td>\n",
       "      <td>1983-12-22</td>\n",
       "      <td>Femenin</td>\n",
       "    </tr>\n",
       "    <tr>\n",
       "      <th>34</th>\n",
       "      <td>Nombre_34</td>\n",
       "      <td>44</td>\n",
       "      <td>Ciudad_C</td>\n",
       "      <td>53044.265479</td>\n",
       "      <td>1994-04-20</td>\n",
       "      <td>Femenino</td>\n",
       "    </tr>\n",
       "    <tr>\n",
       "      <th>35</th>\n",
       "      <td>Nombre_35</td>\n",
       "      <td>41</td>\n",
       "      <td>Ciudad_C</td>\n",
       "      <td>51006.072731</td>\n",
       "      <td>1996-08-01</td>\n",
       "      <td>Femenino</td>\n",
       "    </tr>\n",
       "    <tr>\n",
       "      <th>46</th>\n",
       "      <td>Nombre_46</td>\n",
       "      <td>46</td>\n",
       "      <td>Ciudad_C</td>\n",
       "      <td>56336.314674</td>\n",
       "      <td>1983-10-01</td>\n",
       "      <td>Femenino</td>\n",
       "    </tr>\n",
       "    <tr>\n",
       "      <th>48</th>\n",
       "      <td>Nombre_48</td>\n",
       "      <td>41</td>\n",
       "      <td>Ciudad_A</td>\n",
       "      <td>59749.242461</td>\n",
       "      <td>1996-10-26</td>\n",
       "      <td>Femenino</td>\n",
       "    </tr>\n",
       "    <tr>\n",
       "      <th>49</th>\n",
       "      <td>Nombre_49</td>\n",
       "      <td>48</td>\n",
       "      <td>Ciudad_B</td>\n",
       "      <td>44684.006767</td>\n",
       "      <td>1973-04-21</td>\n",
       "      <td>Masculino</td>\n",
       "    </tr>\n",
       "    <tr>\n",
       "      <th>59</th>\n",
       "      <td>Nombre_59</td>\n",
       "      <td>41</td>\n",
       "      <td>Ciudad_A</td>\n",
       "      <td>43302.628104</td>\n",
       "      <td>2003-07-24</td>\n",
       "      <td>Femenino</td>\n",
       "    </tr>\n",
       "    <tr>\n",
       "      <th>63</th>\n",
       "      <td>Nombre_63</td>\n",
       "      <td>41</td>\n",
       "      <td>Ciudad_B</td>\n",
       "      <td>51839.135612</td>\n",
       "      <td>1974-05-04</td>\n",
       "      <td>Femenino</td>\n",
       "    </tr>\n",
       "    <tr>\n",
       "      <th>64</th>\n",
       "      <td>Nombre_64</td>\n",
       "      <td>43</td>\n",
       "      <td>Ciudad_D</td>\n",
       "      <td>56319.364652</td>\n",
       "      <td>2004-03-27</td>\n",
       "      <td>Masculino</td>\n",
       "    </tr>\n",
       "    <tr>\n",
       "      <th>67</th>\n",
       "      <td>Nombre_67</td>\n",
       "      <td>44</td>\n",
       "      <td>Ciudad_D</td>\n",
       "      <td>57479.582226</td>\n",
       "      <td>1978-10-20</td>\n",
       "      <td>Femenino</td>\n",
       "    </tr>\n",
       "    <tr>\n",
       "      <th>72</th>\n",
       "      <td>Nombre_72</td>\n",
       "      <td>50</td>\n",
       "      <td>Ciudad_C</td>\n",
       "      <td>51753.260565</td>\n",
       "      <td>1972-11-25</td>\n",
       "      <td>Femenino</td>\n",
       "    </tr>\n",
       "    <tr>\n",
       "      <th>75</th>\n",
       "      <td>Nombre_75</td>\n",
       "      <td>42</td>\n",
       "      <td>Ciudad_C</td>\n",
       "      <td>29445.981274</td>\n",
       "      <td>1986-06-30</td>\n",
       "      <td>Masculino</td>\n",
       "    </tr>\n",
       "    <tr>\n",
       "      <th>76</th>\n",
       "      <td>Nombre_76</td>\n",
       "      <td>45</td>\n",
       "      <td>Ciudad_E</td>\n",
       "      <td>46867.515976</td>\n",
       "      <td>1987-05-28</td>\n",
       "      <td>Femenino</td>\n",
       "    </tr>\n",
       "    <tr>\n",
       "      <th>78</th>\n",
       "      <td>Nombre_78</td>\n",
       "      <td>44</td>\n",
       "      <td>Ciudad_C</td>\n",
       "      <td>57768.840033</td>\n",
       "      <td>2005-12-18</td>\n",
       "      <td>Masculino</td>\n",
       "    </tr>\n",
       "    <tr>\n",
       "      <th>81</th>\n",
       "      <td>Nombre_81</td>\n",
       "      <td>44</td>\n",
       "      <td>Ciudad_B</td>\n",
       "      <td>49677.168059</td>\n",
       "      <td>1972-06-18</td>\n",
       "      <td>Masculino</td>\n",
       "    </tr>\n",
       "    <tr>\n",
       "      <th>82</th>\n",
       "      <td>Nombre_82</td>\n",
       "      <td>45</td>\n",
       "      <td>Ciudad_B</td>\n",
       "      <td>54184.992764</td>\n",
       "      <td>1970-10-27</td>\n",
       "      <td>Masculino</td>\n",
       "    </tr>\n",
       "    <tr>\n",
       "      <th>84</th>\n",
       "      <td>Nombre_84</td>\n",
       "      <td>41</td>\n",
       "      <td>Ciudad_D</td>\n",
       "      <td>47367.694734</td>\n",
       "      <td>1989-02-07</td>\n",
       "      <td>Femenino</td>\n",
       "    </tr>\n",
       "    <tr>\n",
       "      <th>89</th>\n",
       "      <td>Nombre_89</td>\n",
       "      <td>50</td>\n",
       "      <td>Ciudad_A</td>\n",
       "      <td>51894.903796</td>\n",
       "      <td>1969-04-06</td>\n",
       "      <td>Femenino</td>\n",
       "    </tr>\n",
       "    <tr>\n",
       "      <th>94</th>\n",
       "      <td>Nombre_94</td>\n",
       "      <td>50</td>\n",
       "      <td>Ciudad_B</td>\n",
       "      <td>38502.603617</td>\n",
       "      <td>1982-08-30</td>\n",
       "      <td>Masculino</td>\n",
       "    </tr>\n",
       "    <tr>\n",
       "      <th>95</th>\n",
       "      <td>Nombre_95</td>\n",
       "      <td>50</td>\n",
       "      <td>Ciudad_D</td>\n",
       "      <td>26066.762231</td>\n",
       "      <td>1986-12-29</td>\n",
       "      <td>Femenino</td>\n",
       "    </tr>\n",
       "    <tr>\n",
       "      <th>98</th>\n",
       "      <td>Nombre_98</td>\n",
       "      <td>46</td>\n",
       "      <td>Ciudad_A</td>\n",
       "      <td>43308.351921</td>\n",
       "      <td>1995-10-28</td>\n",
       "      <td>Masculino</td>\n",
       "    </tr>\n",
       "    <tr>\n",
       "      <th>99</th>\n",
       "      <td>Nombre_99</td>\n",
       "      <td>50</td>\n",
       "      <td>Ciudad_C</td>\n",
       "      <td>55129.197054</td>\n",
       "      <td>1977-02-03</td>\n",
       "      <td>Femenino</td>\n",
       "    </tr>\n",
       "  </tbody>\n",
       "</table>\n",
       "</div>"
      ]
     },
     "execution_count": 112,
     "metadata": {},
     "output_type": "execute_result"
    }
   ],
   "execution_count": 112
  },
  {
   "metadata": {
    "ExecuteTime": {
     "end_time": "2025-01-09T02:53:43.271718Z",
     "start_time": "2025-01-09T02:53:43.266273Z"
    }
   },
   "cell_type": "code",
   "source": [
    "# Todos los nombres de las personas que viven en la ciudad Ciudad_E y que ganan menos de 20,000 pesos.\n",
    "data_frame_personas_afortunadas = my_data[(my_data[\"ciudad\"] == 'Ciudad_E') & (my_data[\"salario\"] < 30000)]\n",
    "data_frame_personas_afortunadas"
   ],
   "id": "495438dc7ca21653",
   "outputs": [
    {
     "data": {
      "text/plain": [
       "       nombre  edad    ciudad       salario   datebirth     genero\n",
       "11  Nombre_11    50  Ciudad_E  28754.083283  1995-12-29  Masculino\n",
       "58  Nombre_58    33  Ciudad_E  25127.846069  1968-03-17  Masculino"
      ],
      "text/html": [
       "<div>\n",
       "<style scoped>\n",
       "    .dataframe tbody tr th:only-of-type {\n",
       "        vertical-align: middle;\n",
       "    }\n",
       "\n",
       "    .dataframe tbody tr th {\n",
       "        vertical-align: top;\n",
       "    }\n",
       "\n",
       "    .dataframe thead th {\n",
       "        text-align: right;\n",
       "    }\n",
       "</style>\n",
       "<table border=\"1\" class=\"dataframe\">\n",
       "  <thead>\n",
       "    <tr style=\"text-align: right;\">\n",
       "      <th></th>\n",
       "      <th>nombre</th>\n",
       "      <th>edad</th>\n",
       "      <th>ciudad</th>\n",
       "      <th>salario</th>\n",
       "      <th>datebirth</th>\n",
       "      <th>genero</th>\n",
       "    </tr>\n",
       "  </thead>\n",
       "  <tbody>\n",
       "    <tr>\n",
       "      <th>11</th>\n",
       "      <td>Nombre_11</td>\n",
       "      <td>50</td>\n",
       "      <td>Ciudad_E</td>\n",
       "      <td>28754.083283</td>\n",
       "      <td>1995-12-29</td>\n",
       "      <td>Masculino</td>\n",
       "    </tr>\n",
       "    <tr>\n",
       "      <th>58</th>\n",
       "      <td>Nombre_58</td>\n",
       "      <td>33</td>\n",
       "      <td>Ciudad_E</td>\n",
       "      <td>25127.846069</td>\n",
       "      <td>1968-03-17</td>\n",
       "      <td>Masculino</td>\n",
       "    </tr>\n",
       "  </tbody>\n",
       "</table>\n",
       "</div>"
      ]
     },
     "execution_count": 113,
     "metadata": {},
     "output_type": "execute_result"
    }
   ],
   "execution_count": 113
  },
  {
   "metadata": {
    "ExecuteTime": {
     "end_time": "2025-01-09T02:53:43.383364Z",
     "start_time": "2025-01-09T02:53:43.374164Z"
    }
   },
   "cell_type": "code",
   "source": "my_data[my_data[\"ciudad\"].isin([\"Ciudad_A\", \"Ciudad_B\", \"Ciudad_C\"])]",
   "id": "5aaa85cd5266148",
   "outputs": [
    {
     "data": {
      "text/plain": [
       "       nombre  edad    ciudad       salario   datebirth     genero\n",
       "0    Nombre_0    56  Ciudad_B  35631.591538  1992-08-13  Masculino\n",
       "4    Nombre_4    28  Ciudad_C  25012.284767  1995-06-22   Femenino\n",
       "6    Nombre_6    58  Ciudad_C  26330.730752  1999-08-17   Femenino\n",
       "7    Nombre_7    51  Ciudad_A  59094.914830  1981-10-14        NaN\n",
       "8    Nombre_8    54  Ciudad_B  38854.451859  1977-10-12  Masculino\n",
       "10  Nombre_10    52  Ciudad_C  27267.591595  2000-11-11  Masculino\n",
       "12  Nombre_12    49  Ciudad_C  49944.883529  1997-01-16   Femenino\n",
       "13  Nombre_13    52  Ciudad_B  32237.897772  1984-10-29  Masculino\n",
       "14  Nombre_14    21  Ciudad_B  38479.648791  1986-07-22   Femenino\n",
       "19  Nombre_19    36  Ciudad_C  48064.981954  1974-06-15   Femenino\n",
       "20  Nombre_20    44  Ciudad_B  43091.955139  1967-11-14  Masculino\n",
       "23  Nombre_23    59  Ciudad_A  40409.484746  1996-09-04  Masculino\n",
       "24  Nombre_24    55  Ciudad_A  30036.673796  1970-01-29   Femenino\n",
       "26  Nombre_26    33  Ciudad_C  44308.139282  1975-05-05   Femenino\n",
       "27  Nombre_27    24  Ciudad_C  42238.139951  1995-02-10   Femenino\n",
       "28  Nombre_28    46  Ciudad_A  50971.629796  1970-01-20   Femenino\n",
       "29  Nombre_29    19  Ciudad_B  48789.065642  2001-09-01  Masculino\n",
       "30  Nombre_30    42  Ciudad_A  46610.206381  1964-07-08   Femenino\n",
       "32  Nombre_32    41  Ciudad_B  51871.370462  1983-12-22    Femenin\n",
       "33  Nombre_33    24  Ciudad_C  51130.650596  1991-08-29   Femenino\n",
       "34  Nombre_34    44  Ciudad_C  53044.265479  1994-04-20   Femenino\n",
       "35  Nombre_35    41  Ciudad_C  51006.072731  1996-08-01   Femenino\n",
       "39  Nombre_39    21  Ciudad_C  59835.409428  1969-04-11  Masculino\n",
       "41  Nombre_41    54  Ciudad_A  25615.292451  1964-02-03   Femenino\n",
       "43  Nombre_43    26  Ciudad_C  27048.303259  1977-08-20   Femenino\n",
       "44  Nombre_44    56  Ciudad_B  49992.354046  1971-08-24   Femenino\n",
       "45  Nombre_45    34  Ciudad_B  50964.059595  1980-11-03   Femenino\n",
       "46  Nombre_46    46  Ciudad_C  56336.314674  1983-10-01   Femenino\n",
       "48  Nombre_48    41  Ciudad_A  59749.242461  1996-10-26   Femenino\n",
       "49  Nombre_49    48  Ciudad_B  44684.006767  1973-04-21  Masculino\n",
       "51  Nombre_51    39  Ciudad_B  36713.001724  1988-03-08  Masculino\n",
       "53  Nombre_53    59  Ciudad_B  55745.620666  1989-07-23   Femenino\n",
       "55  Nombre_55    33  Ciudad_C  51201.460494  1986-07-18  Masculino\n",
       "56  Nombre_56    32  Ciudad_C  25013.574517  1976-08-04   Femenino\n",
       "59  Nombre_59    41  Ciudad_A  43302.628104  2003-07-24   Femenino\n",
       "60  Nombre_60    39  Ciudad_B  28427.229675  1981-08-22   Femenino\n",
       "61  Nombre_61    23  Ciudad_A  32101.063470  1993-08-22  Masculino\n",
       "62  Nombre_62    37  Ciudad_A  54797.486757  1980-07-28  Masculino\n",
       "63  Nombre_63    41  Ciudad_B  51839.135612  1974-05-04   Femenino\n",
       "65  Nombre_65    27  Ciudad_A  30869.132704  1966-04-08   Femenino\n",
       "70  Nombre_70    21  Ciudad_A  36488.994131  1994-09-27  Masculino\n",
       "72  Nombre_72    50  Ciudad_C  51753.260565  1972-11-25   Femenino\n",
       "75  Nombre_75    42  Ciudad_C  29445.981274  1986-06-30  Masculino\n",
       "78  Nombre_78    44  Ciudad_C  57768.840033  2005-12-18  Masculino\n",
       "80  Nombre_80    23  Ciudad_C  44756.189860  1985-12-23  Masculino\n",
       "81  Nombre_81    44  Ciudad_B  49677.168059  1972-06-18  Masculino\n",
       "82  Nombre_82    45  Ciudad_B  54184.992764  1970-10-27  Masculino\n",
       "83  Nombre_83    22  Ciudad_C  38381.487231  1964-11-08  Masculino\n",
       "85  Nombre_85    29  Ciudad_C  28699.048420  1979-06-23   Femenino\n",
       "86  Nombre_86    34  Ciudad_A  54336.181996  1999-01-28  Masculino\n",
       "89  Nombre_89    50  Ciudad_A  51894.903796  1969-04-06   Femenino\n",
       "92  Nombre_92    52  Ciudad_C  38650.108600  1968-06-15  Masculino\n",
       "93  Nombre_93    30  Ciudad_A  43717.695672  2002-07-14   Femenino\n",
       "94  Nombre_94    50  Ciudad_B  38502.603617  1982-08-30  Masculino\n",
       "97  Nombre_97    51  Ciudad_C  41881.685166  1979-06-17  Masculino\n",
       "98  Nombre_98    46  Ciudad_A  43308.351921  1995-10-28  Masculino\n",
       "99  Nombre_99    50  Ciudad_C  55129.197054  1977-02-03   Femenino"
      ],
      "text/html": [
       "<div>\n",
       "<style scoped>\n",
       "    .dataframe tbody tr th:only-of-type {\n",
       "        vertical-align: middle;\n",
       "    }\n",
       "\n",
       "    .dataframe tbody tr th {\n",
       "        vertical-align: top;\n",
       "    }\n",
       "\n",
       "    .dataframe thead th {\n",
       "        text-align: right;\n",
       "    }\n",
       "</style>\n",
       "<table border=\"1\" class=\"dataframe\">\n",
       "  <thead>\n",
       "    <tr style=\"text-align: right;\">\n",
       "      <th></th>\n",
       "      <th>nombre</th>\n",
       "      <th>edad</th>\n",
       "      <th>ciudad</th>\n",
       "      <th>salario</th>\n",
       "      <th>datebirth</th>\n",
       "      <th>genero</th>\n",
       "    </tr>\n",
       "  </thead>\n",
       "  <tbody>\n",
       "    <tr>\n",
       "      <th>0</th>\n",
       "      <td>Nombre_0</td>\n",
       "      <td>56</td>\n",
       "      <td>Ciudad_B</td>\n",
       "      <td>35631.591538</td>\n",
       "      <td>1992-08-13</td>\n",
       "      <td>Masculino</td>\n",
       "    </tr>\n",
       "    <tr>\n",
       "      <th>4</th>\n",
       "      <td>Nombre_4</td>\n",
       "      <td>28</td>\n",
       "      <td>Ciudad_C</td>\n",
       "      <td>25012.284767</td>\n",
       "      <td>1995-06-22</td>\n",
       "      <td>Femenino</td>\n",
       "    </tr>\n",
       "    <tr>\n",
       "      <th>6</th>\n",
       "      <td>Nombre_6</td>\n",
       "      <td>58</td>\n",
       "      <td>Ciudad_C</td>\n",
       "      <td>26330.730752</td>\n",
       "      <td>1999-08-17</td>\n",
       "      <td>Femenino</td>\n",
       "    </tr>\n",
       "    <tr>\n",
       "      <th>7</th>\n",
       "      <td>Nombre_7</td>\n",
       "      <td>51</td>\n",
       "      <td>Ciudad_A</td>\n",
       "      <td>59094.914830</td>\n",
       "      <td>1981-10-14</td>\n",
       "      <td>NaN</td>\n",
       "    </tr>\n",
       "    <tr>\n",
       "      <th>8</th>\n",
       "      <td>Nombre_8</td>\n",
       "      <td>54</td>\n",
       "      <td>Ciudad_B</td>\n",
       "      <td>38854.451859</td>\n",
       "      <td>1977-10-12</td>\n",
       "      <td>Masculino</td>\n",
       "    </tr>\n",
       "    <tr>\n",
       "      <th>10</th>\n",
       "      <td>Nombre_10</td>\n",
       "      <td>52</td>\n",
       "      <td>Ciudad_C</td>\n",
       "      <td>27267.591595</td>\n",
       "      <td>2000-11-11</td>\n",
       "      <td>Masculino</td>\n",
       "    </tr>\n",
       "    <tr>\n",
       "      <th>12</th>\n",
       "      <td>Nombre_12</td>\n",
       "      <td>49</td>\n",
       "      <td>Ciudad_C</td>\n",
       "      <td>49944.883529</td>\n",
       "      <td>1997-01-16</td>\n",
       "      <td>Femenino</td>\n",
       "    </tr>\n",
       "    <tr>\n",
       "      <th>13</th>\n",
       "      <td>Nombre_13</td>\n",
       "      <td>52</td>\n",
       "      <td>Ciudad_B</td>\n",
       "      <td>32237.897772</td>\n",
       "      <td>1984-10-29</td>\n",
       "      <td>Masculino</td>\n",
       "    </tr>\n",
       "    <tr>\n",
       "      <th>14</th>\n",
       "      <td>Nombre_14</td>\n",
       "      <td>21</td>\n",
       "      <td>Ciudad_B</td>\n",
       "      <td>38479.648791</td>\n",
       "      <td>1986-07-22</td>\n",
       "      <td>Femenino</td>\n",
       "    </tr>\n",
       "    <tr>\n",
       "      <th>19</th>\n",
       "      <td>Nombre_19</td>\n",
       "      <td>36</td>\n",
       "      <td>Ciudad_C</td>\n",
       "      <td>48064.981954</td>\n",
       "      <td>1974-06-15</td>\n",
       "      <td>Femenino</td>\n",
       "    </tr>\n",
       "    <tr>\n",
       "      <th>20</th>\n",
       "      <td>Nombre_20</td>\n",
       "      <td>44</td>\n",
       "      <td>Ciudad_B</td>\n",
       "      <td>43091.955139</td>\n",
       "      <td>1967-11-14</td>\n",
       "      <td>Masculino</td>\n",
       "    </tr>\n",
       "    <tr>\n",
       "      <th>23</th>\n",
       "      <td>Nombre_23</td>\n",
       "      <td>59</td>\n",
       "      <td>Ciudad_A</td>\n",
       "      <td>40409.484746</td>\n",
       "      <td>1996-09-04</td>\n",
       "      <td>Masculino</td>\n",
       "    </tr>\n",
       "    <tr>\n",
       "      <th>24</th>\n",
       "      <td>Nombre_24</td>\n",
       "      <td>55</td>\n",
       "      <td>Ciudad_A</td>\n",
       "      <td>30036.673796</td>\n",
       "      <td>1970-01-29</td>\n",
       "      <td>Femenino</td>\n",
       "    </tr>\n",
       "    <tr>\n",
       "      <th>26</th>\n",
       "      <td>Nombre_26</td>\n",
       "      <td>33</td>\n",
       "      <td>Ciudad_C</td>\n",
       "      <td>44308.139282</td>\n",
       "      <td>1975-05-05</td>\n",
       "      <td>Femenino</td>\n",
       "    </tr>\n",
       "    <tr>\n",
       "      <th>27</th>\n",
       "      <td>Nombre_27</td>\n",
       "      <td>24</td>\n",
       "      <td>Ciudad_C</td>\n",
       "      <td>42238.139951</td>\n",
       "      <td>1995-02-10</td>\n",
       "      <td>Femenino</td>\n",
       "    </tr>\n",
       "    <tr>\n",
       "      <th>28</th>\n",
       "      <td>Nombre_28</td>\n",
       "      <td>46</td>\n",
       "      <td>Ciudad_A</td>\n",
       "      <td>50971.629796</td>\n",
       "      <td>1970-01-20</td>\n",
       "      <td>Femenino</td>\n",
       "    </tr>\n",
       "    <tr>\n",
       "      <th>29</th>\n",
       "      <td>Nombre_29</td>\n",
       "      <td>19</td>\n",
       "      <td>Ciudad_B</td>\n",
       "      <td>48789.065642</td>\n",
       "      <td>2001-09-01</td>\n",
       "      <td>Masculino</td>\n",
       "    </tr>\n",
       "    <tr>\n",
       "      <th>30</th>\n",
       "      <td>Nombre_30</td>\n",
       "      <td>42</td>\n",
       "      <td>Ciudad_A</td>\n",
       "      <td>46610.206381</td>\n",
       "      <td>1964-07-08</td>\n",
       "      <td>Femenino</td>\n",
       "    </tr>\n",
       "    <tr>\n",
       "      <th>32</th>\n",
       "      <td>Nombre_32</td>\n",
       "      <td>41</td>\n",
       "      <td>Ciudad_B</td>\n",
       "      <td>51871.370462</td>\n",
       "      <td>1983-12-22</td>\n",
       "      <td>Femenin</td>\n",
       "    </tr>\n",
       "    <tr>\n",
       "      <th>33</th>\n",
       "      <td>Nombre_33</td>\n",
       "      <td>24</td>\n",
       "      <td>Ciudad_C</td>\n",
       "      <td>51130.650596</td>\n",
       "      <td>1991-08-29</td>\n",
       "      <td>Femenino</td>\n",
       "    </tr>\n",
       "    <tr>\n",
       "      <th>34</th>\n",
       "      <td>Nombre_34</td>\n",
       "      <td>44</td>\n",
       "      <td>Ciudad_C</td>\n",
       "      <td>53044.265479</td>\n",
       "      <td>1994-04-20</td>\n",
       "      <td>Femenino</td>\n",
       "    </tr>\n",
       "    <tr>\n",
       "      <th>35</th>\n",
       "      <td>Nombre_35</td>\n",
       "      <td>41</td>\n",
       "      <td>Ciudad_C</td>\n",
       "      <td>51006.072731</td>\n",
       "      <td>1996-08-01</td>\n",
       "      <td>Femenino</td>\n",
       "    </tr>\n",
       "    <tr>\n",
       "      <th>39</th>\n",
       "      <td>Nombre_39</td>\n",
       "      <td>21</td>\n",
       "      <td>Ciudad_C</td>\n",
       "      <td>59835.409428</td>\n",
       "      <td>1969-04-11</td>\n",
       "      <td>Masculino</td>\n",
       "    </tr>\n",
       "    <tr>\n",
       "      <th>41</th>\n",
       "      <td>Nombre_41</td>\n",
       "      <td>54</td>\n",
       "      <td>Ciudad_A</td>\n",
       "      <td>25615.292451</td>\n",
       "      <td>1964-02-03</td>\n",
       "      <td>Femenino</td>\n",
       "    </tr>\n",
       "    <tr>\n",
       "      <th>43</th>\n",
       "      <td>Nombre_43</td>\n",
       "      <td>26</td>\n",
       "      <td>Ciudad_C</td>\n",
       "      <td>27048.303259</td>\n",
       "      <td>1977-08-20</td>\n",
       "      <td>Femenino</td>\n",
       "    </tr>\n",
       "    <tr>\n",
       "      <th>44</th>\n",
       "      <td>Nombre_44</td>\n",
       "      <td>56</td>\n",
       "      <td>Ciudad_B</td>\n",
       "      <td>49992.354046</td>\n",
       "      <td>1971-08-24</td>\n",
       "      <td>Femenino</td>\n",
       "    </tr>\n",
       "    <tr>\n",
       "      <th>45</th>\n",
       "      <td>Nombre_45</td>\n",
       "      <td>34</td>\n",
       "      <td>Ciudad_B</td>\n",
       "      <td>50964.059595</td>\n",
       "      <td>1980-11-03</td>\n",
       "      <td>Femenino</td>\n",
       "    </tr>\n",
       "    <tr>\n",
       "      <th>46</th>\n",
       "      <td>Nombre_46</td>\n",
       "      <td>46</td>\n",
       "      <td>Ciudad_C</td>\n",
       "      <td>56336.314674</td>\n",
       "      <td>1983-10-01</td>\n",
       "      <td>Femenino</td>\n",
       "    </tr>\n",
       "    <tr>\n",
       "      <th>48</th>\n",
       "      <td>Nombre_48</td>\n",
       "      <td>41</td>\n",
       "      <td>Ciudad_A</td>\n",
       "      <td>59749.242461</td>\n",
       "      <td>1996-10-26</td>\n",
       "      <td>Femenino</td>\n",
       "    </tr>\n",
       "    <tr>\n",
       "      <th>49</th>\n",
       "      <td>Nombre_49</td>\n",
       "      <td>48</td>\n",
       "      <td>Ciudad_B</td>\n",
       "      <td>44684.006767</td>\n",
       "      <td>1973-04-21</td>\n",
       "      <td>Masculino</td>\n",
       "    </tr>\n",
       "    <tr>\n",
       "      <th>51</th>\n",
       "      <td>Nombre_51</td>\n",
       "      <td>39</td>\n",
       "      <td>Ciudad_B</td>\n",
       "      <td>36713.001724</td>\n",
       "      <td>1988-03-08</td>\n",
       "      <td>Masculino</td>\n",
       "    </tr>\n",
       "    <tr>\n",
       "      <th>53</th>\n",
       "      <td>Nombre_53</td>\n",
       "      <td>59</td>\n",
       "      <td>Ciudad_B</td>\n",
       "      <td>55745.620666</td>\n",
       "      <td>1989-07-23</td>\n",
       "      <td>Femenino</td>\n",
       "    </tr>\n",
       "    <tr>\n",
       "      <th>55</th>\n",
       "      <td>Nombre_55</td>\n",
       "      <td>33</td>\n",
       "      <td>Ciudad_C</td>\n",
       "      <td>51201.460494</td>\n",
       "      <td>1986-07-18</td>\n",
       "      <td>Masculino</td>\n",
       "    </tr>\n",
       "    <tr>\n",
       "      <th>56</th>\n",
       "      <td>Nombre_56</td>\n",
       "      <td>32</td>\n",
       "      <td>Ciudad_C</td>\n",
       "      <td>25013.574517</td>\n",
       "      <td>1976-08-04</td>\n",
       "      <td>Femenino</td>\n",
       "    </tr>\n",
       "    <tr>\n",
       "      <th>59</th>\n",
       "      <td>Nombre_59</td>\n",
       "      <td>41</td>\n",
       "      <td>Ciudad_A</td>\n",
       "      <td>43302.628104</td>\n",
       "      <td>2003-07-24</td>\n",
       "      <td>Femenino</td>\n",
       "    </tr>\n",
       "    <tr>\n",
       "      <th>60</th>\n",
       "      <td>Nombre_60</td>\n",
       "      <td>39</td>\n",
       "      <td>Ciudad_B</td>\n",
       "      <td>28427.229675</td>\n",
       "      <td>1981-08-22</td>\n",
       "      <td>Femenino</td>\n",
       "    </tr>\n",
       "    <tr>\n",
       "      <th>61</th>\n",
       "      <td>Nombre_61</td>\n",
       "      <td>23</td>\n",
       "      <td>Ciudad_A</td>\n",
       "      <td>32101.063470</td>\n",
       "      <td>1993-08-22</td>\n",
       "      <td>Masculino</td>\n",
       "    </tr>\n",
       "    <tr>\n",
       "      <th>62</th>\n",
       "      <td>Nombre_62</td>\n",
       "      <td>37</td>\n",
       "      <td>Ciudad_A</td>\n",
       "      <td>54797.486757</td>\n",
       "      <td>1980-07-28</td>\n",
       "      <td>Masculino</td>\n",
       "    </tr>\n",
       "    <tr>\n",
       "      <th>63</th>\n",
       "      <td>Nombre_63</td>\n",
       "      <td>41</td>\n",
       "      <td>Ciudad_B</td>\n",
       "      <td>51839.135612</td>\n",
       "      <td>1974-05-04</td>\n",
       "      <td>Femenino</td>\n",
       "    </tr>\n",
       "    <tr>\n",
       "      <th>65</th>\n",
       "      <td>Nombre_65</td>\n",
       "      <td>27</td>\n",
       "      <td>Ciudad_A</td>\n",
       "      <td>30869.132704</td>\n",
       "      <td>1966-04-08</td>\n",
       "      <td>Femenino</td>\n",
       "    </tr>\n",
       "    <tr>\n",
       "      <th>70</th>\n",
       "      <td>Nombre_70</td>\n",
       "      <td>21</td>\n",
       "      <td>Ciudad_A</td>\n",
       "      <td>36488.994131</td>\n",
       "      <td>1994-09-27</td>\n",
       "      <td>Masculino</td>\n",
       "    </tr>\n",
       "    <tr>\n",
       "      <th>72</th>\n",
       "      <td>Nombre_72</td>\n",
       "      <td>50</td>\n",
       "      <td>Ciudad_C</td>\n",
       "      <td>51753.260565</td>\n",
       "      <td>1972-11-25</td>\n",
       "      <td>Femenino</td>\n",
       "    </tr>\n",
       "    <tr>\n",
       "      <th>75</th>\n",
       "      <td>Nombre_75</td>\n",
       "      <td>42</td>\n",
       "      <td>Ciudad_C</td>\n",
       "      <td>29445.981274</td>\n",
       "      <td>1986-06-30</td>\n",
       "      <td>Masculino</td>\n",
       "    </tr>\n",
       "    <tr>\n",
       "      <th>78</th>\n",
       "      <td>Nombre_78</td>\n",
       "      <td>44</td>\n",
       "      <td>Ciudad_C</td>\n",
       "      <td>57768.840033</td>\n",
       "      <td>2005-12-18</td>\n",
       "      <td>Masculino</td>\n",
       "    </tr>\n",
       "    <tr>\n",
       "      <th>80</th>\n",
       "      <td>Nombre_80</td>\n",
       "      <td>23</td>\n",
       "      <td>Ciudad_C</td>\n",
       "      <td>44756.189860</td>\n",
       "      <td>1985-12-23</td>\n",
       "      <td>Masculino</td>\n",
       "    </tr>\n",
       "    <tr>\n",
       "      <th>81</th>\n",
       "      <td>Nombre_81</td>\n",
       "      <td>44</td>\n",
       "      <td>Ciudad_B</td>\n",
       "      <td>49677.168059</td>\n",
       "      <td>1972-06-18</td>\n",
       "      <td>Masculino</td>\n",
       "    </tr>\n",
       "    <tr>\n",
       "      <th>82</th>\n",
       "      <td>Nombre_82</td>\n",
       "      <td>45</td>\n",
       "      <td>Ciudad_B</td>\n",
       "      <td>54184.992764</td>\n",
       "      <td>1970-10-27</td>\n",
       "      <td>Masculino</td>\n",
       "    </tr>\n",
       "    <tr>\n",
       "      <th>83</th>\n",
       "      <td>Nombre_83</td>\n",
       "      <td>22</td>\n",
       "      <td>Ciudad_C</td>\n",
       "      <td>38381.487231</td>\n",
       "      <td>1964-11-08</td>\n",
       "      <td>Masculino</td>\n",
       "    </tr>\n",
       "    <tr>\n",
       "      <th>85</th>\n",
       "      <td>Nombre_85</td>\n",
       "      <td>29</td>\n",
       "      <td>Ciudad_C</td>\n",
       "      <td>28699.048420</td>\n",
       "      <td>1979-06-23</td>\n",
       "      <td>Femenino</td>\n",
       "    </tr>\n",
       "    <tr>\n",
       "      <th>86</th>\n",
       "      <td>Nombre_86</td>\n",
       "      <td>34</td>\n",
       "      <td>Ciudad_A</td>\n",
       "      <td>54336.181996</td>\n",
       "      <td>1999-01-28</td>\n",
       "      <td>Masculino</td>\n",
       "    </tr>\n",
       "    <tr>\n",
       "      <th>89</th>\n",
       "      <td>Nombre_89</td>\n",
       "      <td>50</td>\n",
       "      <td>Ciudad_A</td>\n",
       "      <td>51894.903796</td>\n",
       "      <td>1969-04-06</td>\n",
       "      <td>Femenino</td>\n",
       "    </tr>\n",
       "    <tr>\n",
       "      <th>92</th>\n",
       "      <td>Nombre_92</td>\n",
       "      <td>52</td>\n",
       "      <td>Ciudad_C</td>\n",
       "      <td>38650.108600</td>\n",
       "      <td>1968-06-15</td>\n",
       "      <td>Masculino</td>\n",
       "    </tr>\n",
       "    <tr>\n",
       "      <th>93</th>\n",
       "      <td>Nombre_93</td>\n",
       "      <td>30</td>\n",
       "      <td>Ciudad_A</td>\n",
       "      <td>43717.695672</td>\n",
       "      <td>2002-07-14</td>\n",
       "      <td>Femenino</td>\n",
       "    </tr>\n",
       "    <tr>\n",
       "      <th>94</th>\n",
       "      <td>Nombre_94</td>\n",
       "      <td>50</td>\n",
       "      <td>Ciudad_B</td>\n",
       "      <td>38502.603617</td>\n",
       "      <td>1982-08-30</td>\n",
       "      <td>Masculino</td>\n",
       "    </tr>\n",
       "    <tr>\n",
       "      <th>97</th>\n",
       "      <td>Nombre_97</td>\n",
       "      <td>51</td>\n",
       "      <td>Ciudad_C</td>\n",
       "      <td>41881.685166</td>\n",
       "      <td>1979-06-17</td>\n",
       "      <td>Masculino</td>\n",
       "    </tr>\n",
       "    <tr>\n",
       "      <th>98</th>\n",
       "      <td>Nombre_98</td>\n",
       "      <td>46</td>\n",
       "      <td>Ciudad_A</td>\n",
       "      <td>43308.351921</td>\n",
       "      <td>1995-10-28</td>\n",
       "      <td>Masculino</td>\n",
       "    </tr>\n",
       "    <tr>\n",
       "      <th>99</th>\n",
       "      <td>Nombre_99</td>\n",
       "      <td>50</td>\n",
       "      <td>Ciudad_C</td>\n",
       "      <td>55129.197054</td>\n",
       "      <td>1977-02-03</td>\n",
       "      <td>Femenino</td>\n",
       "    </tr>\n",
       "  </tbody>\n",
       "</table>\n",
       "</div>"
      ]
     },
     "execution_count": 114,
     "metadata": {},
     "output_type": "execute_result"
    }
   ],
   "execution_count": 114
  },
  {
   "metadata": {
    "ExecuteTime": {
     "end_time": "2025-01-09T02:53:43.525435Z",
     "start_time": "2025-01-09T02:53:43.518611Z"
    }
   },
   "cell_type": "code",
   "source": "my_data.iloc[:,1:]",
   "id": "aa4c6e85bec8f109",
   "outputs": [
    {
     "data": {
      "text/plain": [
       "    edad    ciudad       salario   datebirth     genero\n",
       "0     56  Ciudad_B  35631.591538  1992-08-13  Masculino\n",
       "1     35  Ciudad_D  53368.497959  1975-07-04  Masculino\n",
       "2     34  Ciudad_E  52673.342155  1991-05-09  Masculino\n",
       "3     25  Ciudad_E  47408.387758  1977-12-10  Masculino\n",
       "4     28  Ciudad_C  25012.284767  1995-06-22   Femenino\n",
       "..   ...       ...           ...         ...        ...\n",
       "95    50  Ciudad_D  26066.762231  1986-12-29   Femenino\n",
       "96    37  Ciudad_D  48004.092614  1994-08-10   Femenino\n",
       "97    51  Ciudad_C  41881.685166  1979-06-17  Masculino\n",
       "98    46  Ciudad_A  43308.351921  1995-10-28  Masculino\n",
       "99    50  Ciudad_C  55129.197054  1977-02-03   Femenino\n",
       "\n",
       "[100 rows x 5 columns]"
      ],
      "text/html": [
       "<div>\n",
       "<style scoped>\n",
       "    .dataframe tbody tr th:only-of-type {\n",
       "        vertical-align: middle;\n",
       "    }\n",
       "\n",
       "    .dataframe tbody tr th {\n",
       "        vertical-align: top;\n",
       "    }\n",
       "\n",
       "    .dataframe thead th {\n",
       "        text-align: right;\n",
       "    }\n",
       "</style>\n",
       "<table border=\"1\" class=\"dataframe\">\n",
       "  <thead>\n",
       "    <tr style=\"text-align: right;\">\n",
       "      <th></th>\n",
       "      <th>edad</th>\n",
       "      <th>ciudad</th>\n",
       "      <th>salario</th>\n",
       "      <th>datebirth</th>\n",
       "      <th>genero</th>\n",
       "    </tr>\n",
       "  </thead>\n",
       "  <tbody>\n",
       "    <tr>\n",
       "      <th>0</th>\n",
       "      <td>56</td>\n",
       "      <td>Ciudad_B</td>\n",
       "      <td>35631.591538</td>\n",
       "      <td>1992-08-13</td>\n",
       "      <td>Masculino</td>\n",
       "    </tr>\n",
       "    <tr>\n",
       "      <th>1</th>\n",
       "      <td>35</td>\n",
       "      <td>Ciudad_D</td>\n",
       "      <td>53368.497959</td>\n",
       "      <td>1975-07-04</td>\n",
       "      <td>Masculino</td>\n",
       "    </tr>\n",
       "    <tr>\n",
       "      <th>2</th>\n",
       "      <td>34</td>\n",
       "      <td>Ciudad_E</td>\n",
       "      <td>52673.342155</td>\n",
       "      <td>1991-05-09</td>\n",
       "      <td>Masculino</td>\n",
       "    </tr>\n",
       "    <tr>\n",
       "      <th>3</th>\n",
       "      <td>25</td>\n",
       "      <td>Ciudad_E</td>\n",
       "      <td>47408.387758</td>\n",
       "      <td>1977-12-10</td>\n",
       "      <td>Masculino</td>\n",
       "    </tr>\n",
       "    <tr>\n",
       "      <th>4</th>\n",
       "      <td>28</td>\n",
       "      <td>Ciudad_C</td>\n",
       "      <td>25012.284767</td>\n",
       "      <td>1995-06-22</td>\n",
       "      <td>Femenino</td>\n",
       "    </tr>\n",
       "    <tr>\n",
       "      <th>...</th>\n",
       "      <td>...</td>\n",
       "      <td>...</td>\n",
       "      <td>...</td>\n",
       "      <td>...</td>\n",
       "      <td>...</td>\n",
       "    </tr>\n",
       "    <tr>\n",
       "      <th>95</th>\n",
       "      <td>50</td>\n",
       "      <td>Ciudad_D</td>\n",
       "      <td>26066.762231</td>\n",
       "      <td>1986-12-29</td>\n",
       "      <td>Femenino</td>\n",
       "    </tr>\n",
       "    <tr>\n",
       "      <th>96</th>\n",
       "      <td>37</td>\n",
       "      <td>Ciudad_D</td>\n",
       "      <td>48004.092614</td>\n",
       "      <td>1994-08-10</td>\n",
       "      <td>Femenino</td>\n",
       "    </tr>\n",
       "    <tr>\n",
       "      <th>97</th>\n",
       "      <td>51</td>\n",
       "      <td>Ciudad_C</td>\n",
       "      <td>41881.685166</td>\n",
       "      <td>1979-06-17</td>\n",
       "      <td>Masculino</td>\n",
       "    </tr>\n",
       "    <tr>\n",
       "      <th>98</th>\n",
       "      <td>46</td>\n",
       "      <td>Ciudad_A</td>\n",
       "      <td>43308.351921</td>\n",
       "      <td>1995-10-28</td>\n",
       "      <td>Masculino</td>\n",
       "    </tr>\n",
       "    <tr>\n",
       "      <th>99</th>\n",
       "      <td>50</td>\n",
       "      <td>Ciudad_C</td>\n",
       "      <td>55129.197054</td>\n",
       "      <td>1977-02-03</td>\n",
       "      <td>Femenino</td>\n",
       "    </tr>\n",
       "  </tbody>\n",
       "</table>\n",
       "<p>100 rows × 5 columns</p>\n",
       "</div>"
      ]
     },
     "execution_count": 115,
     "metadata": {},
     "output_type": "execute_result"
    }
   ],
   "execution_count": 115
  },
  {
   "metadata": {
    "ExecuteTime": {
     "end_time": "2025-01-09T02:53:43.735291Z",
     "start_time": "2025-01-09T02:53:43.728384Z"
    }
   },
   "cell_type": "code",
   "source": "my_data.drop(\"salario\", axis=1)",
   "id": "1d78cd65186084bc",
   "outputs": [
    {
     "data": {
      "text/plain": [
       "       nombre  edad    ciudad   datebirth     genero\n",
       "0    Nombre_0    56  Ciudad_B  1992-08-13  Masculino\n",
       "1    Nombre_1    35  Ciudad_D  1975-07-04  Masculino\n",
       "2    Nombre_2    34  Ciudad_E  1991-05-09  Masculino\n",
       "3    Nombre_3    25  Ciudad_E  1977-12-10  Masculino\n",
       "4    Nombre_4    28  Ciudad_C  1995-06-22   Femenino\n",
       "..        ...   ...       ...         ...        ...\n",
       "95  Nombre_95    50  Ciudad_D  1986-12-29   Femenino\n",
       "96  Nombre_96    37  Ciudad_D  1994-08-10   Femenino\n",
       "97  Nombre_97    51  Ciudad_C  1979-06-17  Masculino\n",
       "98  Nombre_98    46  Ciudad_A  1995-10-28  Masculino\n",
       "99  Nombre_99    50  Ciudad_C  1977-02-03   Femenino\n",
       "\n",
       "[100 rows x 5 columns]"
      ],
      "text/html": [
       "<div>\n",
       "<style scoped>\n",
       "    .dataframe tbody tr th:only-of-type {\n",
       "        vertical-align: middle;\n",
       "    }\n",
       "\n",
       "    .dataframe tbody tr th {\n",
       "        vertical-align: top;\n",
       "    }\n",
       "\n",
       "    .dataframe thead th {\n",
       "        text-align: right;\n",
       "    }\n",
       "</style>\n",
       "<table border=\"1\" class=\"dataframe\">\n",
       "  <thead>\n",
       "    <tr style=\"text-align: right;\">\n",
       "      <th></th>\n",
       "      <th>nombre</th>\n",
       "      <th>edad</th>\n",
       "      <th>ciudad</th>\n",
       "      <th>datebirth</th>\n",
       "      <th>genero</th>\n",
       "    </tr>\n",
       "  </thead>\n",
       "  <tbody>\n",
       "    <tr>\n",
       "      <th>0</th>\n",
       "      <td>Nombre_0</td>\n",
       "      <td>56</td>\n",
       "      <td>Ciudad_B</td>\n",
       "      <td>1992-08-13</td>\n",
       "      <td>Masculino</td>\n",
       "    </tr>\n",
       "    <tr>\n",
       "      <th>1</th>\n",
       "      <td>Nombre_1</td>\n",
       "      <td>35</td>\n",
       "      <td>Ciudad_D</td>\n",
       "      <td>1975-07-04</td>\n",
       "      <td>Masculino</td>\n",
       "    </tr>\n",
       "    <tr>\n",
       "      <th>2</th>\n",
       "      <td>Nombre_2</td>\n",
       "      <td>34</td>\n",
       "      <td>Ciudad_E</td>\n",
       "      <td>1991-05-09</td>\n",
       "      <td>Masculino</td>\n",
       "    </tr>\n",
       "    <tr>\n",
       "      <th>3</th>\n",
       "      <td>Nombre_3</td>\n",
       "      <td>25</td>\n",
       "      <td>Ciudad_E</td>\n",
       "      <td>1977-12-10</td>\n",
       "      <td>Masculino</td>\n",
       "    </tr>\n",
       "    <tr>\n",
       "      <th>4</th>\n",
       "      <td>Nombre_4</td>\n",
       "      <td>28</td>\n",
       "      <td>Ciudad_C</td>\n",
       "      <td>1995-06-22</td>\n",
       "      <td>Femenino</td>\n",
       "    </tr>\n",
       "    <tr>\n",
       "      <th>...</th>\n",
       "      <td>...</td>\n",
       "      <td>...</td>\n",
       "      <td>...</td>\n",
       "      <td>...</td>\n",
       "      <td>...</td>\n",
       "    </tr>\n",
       "    <tr>\n",
       "      <th>95</th>\n",
       "      <td>Nombre_95</td>\n",
       "      <td>50</td>\n",
       "      <td>Ciudad_D</td>\n",
       "      <td>1986-12-29</td>\n",
       "      <td>Femenino</td>\n",
       "    </tr>\n",
       "    <tr>\n",
       "      <th>96</th>\n",
       "      <td>Nombre_96</td>\n",
       "      <td>37</td>\n",
       "      <td>Ciudad_D</td>\n",
       "      <td>1994-08-10</td>\n",
       "      <td>Femenino</td>\n",
       "    </tr>\n",
       "    <tr>\n",
       "      <th>97</th>\n",
       "      <td>Nombre_97</td>\n",
       "      <td>51</td>\n",
       "      <td>Ciudad_C</td>\n",
       "      <td>1979-06-17</td>\n",
       "      <td>Masculino</td>\n",
       "    </tr>\n",
       "    <tr>\n",
       "      <th>98</th>\n",
       "      <td>Nombre_98</td>\n",
       "      <td>46</td>\n",
       "      <td>Ciudad_A</td>\n",
       "      <td>1995-10-28</td>\n",
       "      <td>Masculino</td>\n",
       "    </tr>\n",
       "    <tr>\n",
       "      <th>99</th>\n",
       "      <td>Nombre_99</td>\n",
       "      <td>50</td>\n",
       "      <td>Ciudad_C</td>\n",
       "      <td>1977-02-03</td>\n",
       "      <td>Femenino</td>\n",
       "    </tr>\n",
       "  </tbody>\n",
       "</table>\n",
       "<p>100 rows × 5 columns</p>\n",
       "</div>"
      ]
     },
     "execution_count": 116,
     "metadata": {},
     "output_type": "execute_result"
    }
   ],
   "execution_count": 116
  },
  {
   "metadata": {
    "ExecuteTime": {
     "end_time": "2025-01-09T02:53:43.876155Z",
     "start_time": "2025-01-09T02:53:43.866301Z"
    }
   },
   "cell_type": "code",
   "source": [
    "def round2(numero):\n",
    "    return np.round(numero, 2)\n",
    "\n",
    "def round1(numero):\n",
    "    return np.round(numero, 1)\n",
    "\n",
    "def suma_redondeado(a, b, f):\n",
    "    return f(a) + f(b)\n",
    "\n",
    "suma_redondeado(1.55, 0.55, round1)"
   ],
   "id": "c13a68dbc6695c7f",
   "outputs": [
    {
     "data": {
      "text/plain": [
       "np.float64(2.2)"
      ]
     },
     "execution_count": 117,
     "metadata": {},
     "output_type": "execute_result"
    }
   ],
   "execution_count": 117
  },
  {
   "metadata": {
    "ExecuteTime": {
     "end_time": "2025-01-09T02:53:44.124578Z",
     "start_time": "2025-01-09T02:53:44.121479Z"
    }
   },
   "cell_type": "code",
   "source": "suma_redondeado(1.55, 0.55, lambda x: np.round(x, 0))",
   "id": "a221c4e69f08fbac",
   "outputs": [
    {
     "data": {
      "text/plain": [
       "np.float64(3.0)"
      ]
     },
     "execution_count": 118,
     "metadata": {},
     "output_type": "execute_result"
    }
   ],
   "execution_count": 118
  },
  {
   "metadata": {
    "ExecuteTime": {
     "end_time": "2025-01-09T02:53:44.208725Z",
     "start_time": "2025-01-09T02:53:44.205002Z"
    }
   },
   "cell_type": "code",
   "source": "suma_redondeado(1.55, 0.55, lambda x: (np.ceil(x) + np.floor(x))/2)",
   "id": "8eb364a55d5c133",
   "outputs": [
    {
     "data": {
      "text/plain": [
       "np.float64(2.0)"
      ]
     },
     "execution_count": 119,
     "metadata": {},
     "output_type": "execute_result"
    }
   ],
   "execution_count": 119
  },
  {
   "metadata": {
    "ExecuteTime": {
     "end_time": "2025-01-09T02:53:44.270479Z",
     "start_time": "2025-01-09T02:53:44.266112Z"
    }
   },
   "cell_type": "code",
   "source": [
    "array_example = np.arange(100)\n",
    "np.array([x**2 for x in array_example])"
   ],
   "id": "37df83ac747a7502",
   "outputs": [
    {
     "data": {
      "text/plain": [
       "array([   0,    1,    4,    9,   16,   25,   36,   49,   64,   81,  100,\n",
       "        121,  144,  169,  196,  225,  256,  289,  324,  361,  400,  441,\n",
       "        484,  529,  576,  625,  676,  729,  784,  841,  900,  961, 1024,\n",
       "       1089, 1156, 1225, 1296, 1369, 1444, 1521, 1600, 1681, 1764, 1849,\n",
       "       1936, 2025, 2116, 2209, 2304, 2401, 2500, 2601, 2704, 2809, 2916,\n",
       "       3025, 3136, 3249, 3364, 3481, 3600, 3721, 3844, 3969, 4096, 4225,\n",
       "       4356, 4489, 4624, 4761, 4900, 5041, 5184, 5329, 5476, 5625, 5776,\n",
       "       5929, 6084, 6241, 6400, 6561, 6724, 6889, 7056, 7225, 7396, 7569,\n",
       "       7744, 7921, 8100, 8281, 8464, 8649, 8836, 9025, 9216, 9409, 9604,\n",
       "       9801])"
      ]
     },
     "execution_count": 120,
     "metadata": {},
     "output_type": "execute_result"
    }
   ],
   "execution_count": 120
  },
  {
   "metadata": {
    "ExecuteTime": {
     "end_time": "2025-01-09T02:53:44.340491Z",
     "start_time": "2025-01-09T02:53:44.336696Z"
    }
   },
   "cell_type": "code",
   "source": [
    "def pow2(x):\n",
    "    return x**2\n",
    "np.array([pow2(x) for x in array_example])"
   ],
   "id": "f4fb6b0ea20ad7e1",
   "outputs": [
    {
     "data": {
      "text/plain": [
       "array([   0,    1,    4,    9,   16,   25,   36,   49,   64,   81,  100,\n",
       "        121,  144,  169,  196,  225,  256,  289,  324,  361,  400,  441,\n",
       "        484,  529,  576,  625,  676,  729,  784,  841,  900,  961, 1024,\n",
       "       1089, 1156, 1225, 1296, 1369, 1444, 1521, 1600, 1681, 1764, 1849,\n",
       "       1936, 2025, 2116, 2209, 2304, 2401, 2500, 2601, 2704, 2809, 2916,\n",
       "       3025, 3136, 3249, 3364, 3481, 3600, 3721, 3844, 3969, 4096, 4225,\n",
       "       4356, 4489, 4624, 4761, 4900, 5041, 5184, 5329, 5476, 5625, 5776,\n",
       "       5929, 6084, 6241, 6400, 6561, 6724, 6889, 7056, 7225, 7396, 7569,\n",
       "       7744, 7921, 8100, 8281, 8464, 8649, 8836, 9025, 9216, 9409, 9604,\n",
       "       9801])"
      ]
     },
     "execution_count": 121,
     "metadata": {},
     "output_type": "execute_result"
    }
   ],
   "execution_count": 121
  },
  {
   "metadata": {
    "ExecuteTime": {
     "end_time": "2025-01-09T02:53:44.389626Z",
     "start_time": "2025-01-09T02:53:44.387128Z"
    }
   },
   "cell_type": "code",
   "source": "resultado = np.array([(lambda y: y**2)(x) for x in array_example])",
   "id": "1d48596870332777",
   "outputs": [],
   "execution_count": 122
  },
  {
   "metadata": {
    "jupyter": {
     "is_executing": true
    },
    "ExecuteTime": {
     "start_time": "2025-01-09T02:53:44.436464Z"
    }
   },
   "cell_type": "code",
   "source": "generator = [x**2 for x in range(999999999999999999999999999999999999999999999)]",
   "id": "993ed99fc13c1dc6",
   "outputs": [],
   "execution_count": null
  },
  {
   "metadata": {
    "ExecuteTime": {
     "end_time": "2025-01-09T02:54:36.842393404Z",
     "start_time": "2025-01-09T02:17:01.366063Z"
    }
   },
   "cell_type": "code",
   "source": "np.array(array_example)",
   "id": "a9887220ccffdf8a",
   "outputs": [
    {
     "data": {
      "text/plain": [
       "array([ 0,  1,  2,  3,  4,  5,  6,  7,  8,  9, 10, 11, 12, 13, 14, 15, 16,\n",
       "       17, 18, 19, 20, 21, 22, 23, 24, 25, 26, 27, 28, 29, 30, 31, 32, 33,\n",
       "       34, 35, 36, 37, 38, 39, 40, 41, 42, 43, 44, 45, 46, 47, 48, 49, 50,\n",
       "       51, 52, 53, 54, 55, 56, 57, 58, 59, 60, 61, 62, 63, 64, 65, 66, 67,\n",
       "       68, 69, 70, 71, 72, 73, 74, 75, 76, 77, 78, 79, 80, 81, 82, 83, 84,\n",
       "       85, 86, 87, 88, 89, 90, 91, 92, 93, 94, 95, 96, 97, 98, 99])"
      ]
     },
     "execution_count": 208,
     "metadata": {},
     "output_type": "execute_result"
    }
   ],
   "execution_count": 208
  },
  {
   "metadata": {
    "ExecuteTime": {
     "end_time": "2025-01-09T02:54:36.848906215Z",
     "start_time": "2025-01-09T02:21:15.590659Z"
    }
   },
   "cell_type": "code",
   "source": [
    "def reduce(my_lista, function_to_apply):\n",
    "    return function_to_apply(my_lista)\n",
    "\n",
    "def suma(my_lista):\n",
    "    resultado = 0\n",
    "    for x in my_lista:\n",
    "        resultado += x\n",
    "    return resultado\n",
    "\n",
    "def multiplica(my_lista):\n",
    "    resultado = 1\n",
    "    for x in my_lista:\n",
    "        resultado *= x\n",
    "    return resultado"
   ],
   "id": "53b8c81a23edf70d",
   "outputs": [],
   "execution_count": 212
  },
  {
   "metadata": {
    "ExecuteTime": {
     "end_time": "2025-01-09T02:54:36.850611664Z",
     "start_time": "2025-01-09T02:21:38.359429Z"
    }
   },
   "cell_type": "code",
   "source": "reduce(array_example, suma)",
   "id": "9aed67b6563154fb",
   "outputs": [
    {
     "data": {
      "text/plain": [
       "np.int64(4950)"
      ]
     },
     "execution_count": 213,
     "metadata": {},
     "output_type": "execute_result"
    }
   ],
   "execution_count": 213
  },
  {
   "metadata": {
    "ExecuteTime": {
     "end_time": "2025-01-09T02:54:36.858092601Z",
     "start_time": "2025-01-09T02:23:41.765411Z"
    }
   },
   "cell_type": "code",
   "source": "reduce(array_example[1:12], multiplica)",
   "id": "43bae06194180234",
   "outputs": [
    {
     "data": {
      "text/plain": [
       "np.int64(39916800)"
      ]
     },
     "execution_count": 217,
     "metadata": {},
     "output_type": "execute_result"
    }
   ],
   "execution_count": 217
  },
  {
   "metadata": {
    "ExecuteTime": {
     "end_time": "2025-01-09T02:54:36.860680618Z",
     "start_time": "2025-01-09T02:26:21.940456Z"
    }
   },
   "cell_type": "code",
   "source": "reduce(array_example, lambda listita: np.mean(listita))",
   "id": "badbeb09e6249510",
   "outputs": [
    {
     "data": {
      "text/plain": [
       "np.float64(49.5)"
      ]
     },
     "execution_count": 219,
     "metadata": {},
     "output_type": "execute_result"
    }
   ],
   "execution_count": 219
  },
  {
   "metadata": {
    "ExecuteTime": {
     "end_time": "2025-01-09T02:54:36.862291791Z",
     "start_time": "2025-01-09T02:38:55.906935Z"
    }
   },
   "cell_type": "code",
   "source": "my_data.agg({'salario': ['mean', lambda x: x.std()]})",
   "id": "10b75b940afd612f",
   "outputs": [
    {
     "data": {
      "text/plain": [
       "               salario\n",
       "mean      43520.724700\n",
       "<lambda>  10238.503475"
      ],
      "text/html": [
       "<div>\n",
       "<style scoped>\n",
       "    .dataframe tbody tr th:only-of-type {\n",
       "        vertical-align: middle;\n",
       "    }\n",
       "\n",
       "    .dataframe tbody tr th {\n",
       "        vertical-align: top;\n",
       "    }\n",
       "\n",
       "    .dataframe thead th {\n",
       "        text-align: right;\n",
       "    }\n",
       "</style>\n",
       "<table border=\"1\" class=\"dataframe\">\n",
       "  <thead>\n",
       "    <tr style=\"text-align: right;\">\n",
       "      <th></th>\n",
       "      <th>salario</th>\n",
       "    </tr>\n",
       "  </thead>\n",
       "  <tbody>\n",
       "    <tr>\n",
       "      <th>mean</th>\n",
       "      <td>43520.724700</td>\n",
       "    </tr>\n",
       "    <tr>\n",
       "      <th>&lt;lambda&gt;</th>\n",
       "      <td>10238.503475</td>\n",
       "    </tr>\n",
       "  </tbody>\n",
       "</table>\n",
       "</div>"
      ]
     },
     "execution_count": 246,
     "metadata": {},
     "output_type": "execute_result"
    }
   ],
   "execution_count": 246
  },
  {
   "metadata": {
    "ExecuteTime": {
     "end_time": "2025-01-09T02:54:36.864810386Z",
     "start_time": "2025-01-09T02:40:04.382622Z"
    }
   },
   "cell_type": "code",
   "source": "my_data.transform({'salario': [lambda x: np.round(x, 2)]})",
   "id": "1802350f758c4c07",
   "outputs": [
    {
     "data": {
      "text/plain": [
       "     salario\n",
       "    <lambda>\n",
       "0   35631.59\n",
       "1   53368.50\n",
       "2   52673.34\n",
       "3   47408.39\n",
       "4   25012.28\n",
       "..       ...\n",
       "95  26066.76\n",
       "96  48004.09\n",
       "97  41881.69\n",
       "98  43308.35\n",
       "99  55129.20\n",
       "\n",
       "[100 rows x 1 columns]"
      ],
      "text/html": [
       "<div>\n",
       "<style scoped>\n",
       "    .dataframe tbody tr th:only-of-type {\n",
       "        vertical-align: middle;\n",
       "    }\n",
       "\n",
       "    .dataframe tbody tr th {\n",
       "        vertical-align: top;\n",
       "    }\n",
       "\n",
       "    .dataframe thead tr th {\n",
       "        text-align: left;\n",
       "    }\n",
       "</style>\n",
       "<table border=\"1\" class=\"dataframe\">\n",
       "  <thead>\n",
       "    <tr>\n",
       "      <th></th>\n",
       "      <th>salario</th>\n",
       "    </tr>\n",
       "    <tr>\n",
       "      <th></th>\n",
       "      <th>&lt;lambda&gt;</th>\n",
       "    </tr>\n",
       "  </thead>\n",
       "  <tbody>\n",
       "    <tr>\n",
       "      <th>0</th>\n",
       "      <td>35631.59</td>\n",
       "    </tr>\n",
       "    <tr>\n",
       "      <th>1</th>\n",
       "      <td>53368.50</td>\n",
       "    </tr>\n",
       "    <tr>\n",
       "      <th>2</th>\n",
       "      <td>52673.34</td>\n",
       "    </tr>\n",
       "    <tr>\n",
       "      <th>3</th>\n",
       "      <td>47408.39</td>\n",
       "    </tr>\n",
       "    <tr>\n",
       "      <th>4</th>\n",
       "      <td>25012.28</td>\n",
       "    </tr>\n",
       "    <tr>\n",
       "      <th>...</th>\n",
       "      <td>...</td>\n",
       "    </tr>\n",
       "    <tr>\n",
       "      <th>95</th>\n",
       "      <td>26066.76</td>\n",
       "    </tr>\n",
       "    <tr>\n",
       "      <th>96</th>\n",
       "      <td>48004.09</td>\n",
       "    </tr>\n",
       "    <tr>\n",
       "      <th>97</th>\n",
       "      <td>41881.69</td>\n",
       "    </tr>\n",
       "    <tr>\n",
       "      <th>98</th>\n",
       "      <td>43308.35</td>\n",
       "    </tr>\n",
       "    <tr>\n",
       "      <th>99</th>\n",
       "      <td>55129.20</td>\n",
       "    </tr>\n",
       "  </tbody>\n",
       "</table>\n",
       "<p>100 rows × 1 columns</p>\n",
       "</div>"
      ]
     },
     "execution_count": 247,
     "metadata": {},
     "output_type": "execute_result"
    }
   ],
   "execution_count": 247
  },
  {
   "metadata": {
    "ExecuteTime": {
     "end_time": "2025-01-09T02:54:36.866496080Z",
     "start_time": "2025-01-09T02:44:16.111173Z"
    }
   },
   "cell_type": "code",
   "source": "my_data.transform({'nombre': [lambda x: x.lower()]})",
   "id": "68c9149510c23b76",
   "outputs": [
    {
     "data": {
      "text/plain": [
       "       nombre\n",
       "     <lambda>\n",
       "0    nombre_0\n",
       "1    nombre_1\n",
       "2    nombre_2\n",
       "3    nombre_3\n",
       "4    nombre_4\n",
       "..        ...\n",
       "95  nombre_95\n",
       "96  nombre_96\n",
       "97  nombre_97\n",
       "98  nombre_98\n",
       "99  nombre_99\n",
       "\n",
       "[100 rows x 1 columns]"
      ],
      "text/html": [
       "<div>\n",
       "<style scoped>\n",
       "    .dataframe tbody tr th:only-of-type {\n",
       "        vertical-align: middle;\n",
       "    }\n",
       "\n",
       "    .dataframe tbody tr th {\n",
       "        vertical-align: top;\n",
       "    }\n",
       "\n",
       "    .dataframe thead tr th {\n",
       "        text-align: left;\n",
       "    }\n",
       "</style>\n",
       "<table border=\"1\" class=\"dataframe\">\n",
       "  <thead>\n",
       "    <tr>\n",
       "      <th></th>\n",
       "      <th>nombre</th>\n",
       "    </tr>\n",
       "    <tr>\n",
       "      <th></th>\n",
       "      <th>&lt;lambda&gt;</th>\n",
       "    </tr>\n",
       "  </thead>\n",
       "  <tbody>\n",
       "    <tr>\n",
       "      <th>0</th>\n",
       "      <td>nombre_0</td>\n",
       "    </tr>\n",
       "    <tr>\n",
       "      <th>1</th>\n",
       "      <td>nombre_1</td>\n",
       "    </tr>\n",
       "    <tr>\n",
       "      <th>2</th>\n",
       "      <td>nombre_2</td>\n",
       "    </tr>\n",
       "    <tr>\n",
       "      <th>3</th>\n",
       "      <td>nombre_3</td>\n",
       "    </tr>\n",
       "    <tr>\n",
       "      <th>4</th>\n",
       "      <td>nombre_4</td>\n",
       "    </tr>\n",
       "    <tr>\n",
       "      <th>...</th>\n",
       "      <td>...</td>\n",
       "    </tr>\n",
       "    <tr>\n",
       "      <th>95</th>\n",
       "      <td>nombre_95</td>\n",
       "    </tr>\n",
       "    <tr>\n",
       "      <th>96</th>\n",
       "      <td>nombre_96</td>\n",
       "    </tr>\n",
       "    <tr>\n",
       "      <th>97</th>\n",
       "      <td>nombre_97</td>\n",
       "    </tr>\n",
       "    <tr>\n",
       "      <th>98</th>\n",
       "      <td>nombre_98</td>\n",
       "    </tr>\n",
       "    <tr>\n",
       "      <th>99</th>\n",
       "      <td>nombre_99</td>\n",
       "    </tr>\n",
       "  </tbody>\n",
       "</table>\n",
       "<p>100 rows × 1 columns</p>\n",
       "</div>"
      ]
     },
     "execution_count": 249,
     "metadata": {},
     "output_type": "execute_result"
    }
   ],
   "execution_count": 249
  },
  {
   "metadata": {
    "ExecuteTime": {
     "end_time": "2025-01-09T02:57:43.604562Z",
     "start_time": "2025-01-09T02:57:43.500712Z"
    }
   },
   "cell_type": "code",
   "source": "my_data.transform({'datebirth': [lambda x: x[:4]], 'genero': [lambda x: x.lower() if x is not None else None]})",
   "id": "9a9d3ddf7d45fc50",
   "outputs": [
    {
     "ename": "ValueError",
     "evalue": "Transform function failed",
     "output_type": "error",
     "traceback": [
      "\u001B[0;31m---------------------------------------------------------------------------\u001B[0m",
      "\u001B[0;31mAttributeError\u001B[0m                            Traceback (most recent call last)",
      "File \u001B[0;32m~/.local/share/virtualenvs/python-YvwNzYuD/lib/python3.9/site-packages/pandas/core/apply.py:314\u001B[0m, in \u001B[0;36mApply.transform_str_or_callable\u001B[0;34m(self, func)\u001B[0m\n\u001B[1;32m    313\u001B[0m \u001B[38;5;28;01mtry\u001B[39;00m:\n\u001B[0;32m--> 314\u001B[0m     \u001B[38;5;28;01mreturn\u001B[39;00m \u001B[43mobj\u001B[49m\u001B[38;5;241;43m.\u001B[39;49m\u001B[43mapply\u001B[49m\u001B[43m(\u001B[49m\u001B[43mfunc\u001B[49m\u001B[43m,\u001B[49m\u001B[43m \u001B[49m\u001B[43margs\u001B[49m\u001B[38;5;241;43m=\u001B[39;49m\u001B[43margs\u001B[49m\u001B[43m,\u001B[49m\u001B[43m \u001B[49m\u001B[38;5;241;43m*\u001B[39;49m\u001B[38;5;241;43m*\u001B[39;49m\u001B[43mkwargs\u001B[49m\u001B[43m)\u001B[49m\n\u001B[1;32m    315\u001B[0m \u001B[38;5;28;01mexcept\u001B[39;00m \u001B[38;5;167;01mException\u001B[39;00m:\n",
      "File \u001B[0;32m~/.local/share/virtualenvs/python-YvwNzYuD/lib/python3.9/site-packages/pandas/core/series.py:4917\u001B[0m, in \u001B[0;36mSeries.apply\u001B[0;34m(self, func, convert_dtype, args, by_row, **kwargs)\u001B[0m\n\u001B[1;32m   4798\u001B[0m \u001B[38;5;250m\u001B[39m\u001B[38;5;124;03m\"\"\"\u001B[39;00m\n\u001B[1;32m   4799\u001B[0m \u001B[38;5;124;03mInvoke function on values of Series.\u001B[39;00m\n\u001B[1;32m   4800\u001B[0m \n\u001B[0;32m   (...)\u001B[0m\n\u001B[1;32m   4915\u001B[0m \u001B[38;5;124;03mdtype: float64\u001B[39;00m\n\u001B[1;32m   4916\u001B[0m \u001B[38;5;124;03m\"\"\"\u001B[39;00m\n\u001B[0;32m-> 4917\u001B[0m \u001B[38;5;28;01mreturn\u001B[39;00m \u001B[43mSeriesApply\u001B[49m\u001B[43m(\u001B[49m\n\u001B[1;32m   4918\u001B[0m \u001B[43m    \u001B[49m\u001B[38;5;28;43mself\u001B[39;49m\u001B[43m,\u001B[49m\n\u001B[1;32m   4919\u001B[0m \u001B[43m    \u001B[49m\u001B[43mfunc\u001B[49m\u001B[43m,\u001B[49m\n\u001B[1;32m   4920\u001B[0m \u001B[43m    \u001B[49m\u001B[43mconvert_dtype\u001B[49m\u001B[38;5;241;43m=\u001B[39;49m\u001B[43mconvert_dtype\u001B[49m\u001B[43m,\u001B[49m\n\u001B[1;32m   4921\u001B[0m \u001B[43m    \u001B[49m\u001B[43mby_row\u001B[49m\u001B[38;5;241;43m=\u001B[39;49m\u001B[43mby_row\u001B[49m\u001B[43m,\u001B[49m\n\u001B[1;32m   4922\u001B[0m \u001B[43m    \u001B[49m\u001B[43margs\u001B[49m\u001B[38;5;241;43m=\u001B[39;49m\u001B[43margs\u001B[49m\u001B[43m,\u001B[49m\n\u001B[1;32m   4923\u001B[0m \u001B[43m    \u001B[49m\u001B[43mkwargs\u001B[49m\u001B[38;5;241;43m=\u001B[39;49m\u001B[43mkwargs\u001B[49m\u001B[43m,\u001B[49m\n\u001B[1;32m   4924\u001B[0m \u001B[43m\u001B[49m\u001B[43m)\u001B[49m\u001B[38;5;241;43m.\u001B[39;49m\u001B[43mapply\u001B[49m\u001B[43m(\u001B[49m\u001B[43m)\u001B[49m\n",
      "File \u001B[0;32m~/.local/share/virtualenvs/python-YvwNzYuD/lib/python3.9/site-packages/pandas/core/apply.py:1427\u001B[0m, in \u001B[0;36mSeriesApply.apply\u001B[0;34m(self)\u001B[0m\n\u001B[1;32m   1426\u001B[0m \u001B[38;5;66;03m# self.func is Callable\u001B[39;00m\n\u001B[0;32m-> 1427\u001B[0m \u001B[38;5;28;01mreturn\u001B[39;00m \u001B[38;5;28;43mself\u001B[39;49m\u001B[38;5;241;43m.\u001B[39;49m\u001B[43mapply_standard\u001B[49m\u001B[43m(\u001B[49m\u001B[43m)\u001B[49m\n",
      "File \u001B[0;32m~/.local/share/virtualenvs/python-YvwNzYuD/lib/python3.9/site-packages/pandas/core/apply.py:1507\u001B[0m, in \u001B[0;36mSeriesApply.apply_standard\u001B[0;34m(self)\u001B[0m\n\u001B[1;32m   1506\u001B[0m action \u001B[38;5;241m=\u001B[39m \u001B[38;5;124m\"\u001B[39m\u001B[38;5;124mignore\u001B[39m\u001B[38;5;124m\"\u001B[39m \u001B[38;5;28;01mif\u001B[39;00m \u001B[38;5;28misinstance\u001B[39m(obj\u001B[38;5;241m.\u001B[39mdtype, CategoricalDtype) \u001B[38;5;28;01melse\u001B[39;00m \u001B[38;5;28;01mNone\u001B[39;00m\n\u001B[0;32m-> 1507\u001B[0m mapped \u001B[38;5;241m=\u001B[39m \u001B[43mobj\u001B[49m\u001B[38;5;241;43m.\u001B[39;49m\u001B[43m_map_values\u001B[49m\u001B[43m(\u001B[49m\n\u001B[1;32m   1508\u001B[0m \u001B[43m    \u001B[49m\u001B[43mmapper\u001B[49m\u001B[38;5;241;43m=\u001B[39;49m\u001B[43mcurried\u001B[49m\u001B[43m,\u001B[49m\u001B[43m \u001B[49m\u001B[43mna_action\u001B[49m\u001B[38;5;241;43m=\u001B[39;49m\u001B[43maction\u001B[49m\u001B[43m,\u001B[49m\u001B[43m \u001B[49m\u001B[43mconvert\u001B[49m\u001B[38;5;241;43m=\u001B[39;49m\u001B[38;5;28;43mself\u001B[39;49m\u001B[38;5;241;43m.\u001B[39;49m\u001B[43mconvert_dtype\u001B[49m\n\u001B[1;32m   1509\u001B[0m \u001B[43m\u001B[49m\u001B[43m)\u001B[49m\n\u001B[1;32m   1511\u001B[0m \u001B[38;5;28;01mif\u001B[39;00m \u001B[38;5;28mlen\u001B[39m(mapped) \u001B[38;5;129;01mand\u001B[39;00m \u001B[38;5;28misinstance\u001B[39m(mapped[\u001B[38;5;241m0\u001B[39m], ABCSeries):\n\u001B[1;32m   1512\u001B[0m     \u001B[38;5;66;03m# GH#43986 Need to do list(mapped) in order to get treated as nested\u001B[39;00m\n\u001B[1;32m   1513\u001B[0m     \u001B[38;5;66;03m#  See also GH#25959 regarding EA support\u001B[39;00m\n",
      "File \u001B[0;32m~/.local/share/virtualenvs/python-YvwNzYuD/lib/python3.9/site-packages/pandas/core/base.py:921\u001B[0m, in \u001B[0;36mIndexOpsMixin._map_values\u001B[0;34m(self, mapper, na_action, convert)\u001B[0m\n\u001B[1;32m    919\u001B[0m     \u001B[38;5;28;01mreturn\u001B[39;00m arr\u001B[38;5;241m.\u001B[39mmap(mapper, na_action\u001B[38;5;241m=\u001B[39mna_action)\n\u001B[0;32m--> 921\u001B[0m \u001B[38;5;28;01mreturn\u001B[39;00m \u001B[43malgorithms\u001B[49m\u001B[38;5;241;43m.\u001B[39;49m\u001B[43mmap_array\u001B[49m\u001B[43m(\u001B[49m\u001B[43marr\u001B[49m\u001B[43m,\u001B[49m\u001B[43m \u001B[49m\u001B[43mmapper\u001B[49m\u001B[43m,\u001B[49m\u001B[43m \u001B[49m\u001B[43mna_action\u001B[49m\u001B[38;5;241;43m=\u001B[39;49m\u001B[43mna_action\u001B[49m\u001B[43m,\u001B[49m\u001B[43m \u001B[49m\u001B[43mconvert\u001B[49m\u001B[38;5;241;43m=\u001B[39;49m\u001B[43mconvert\u001B[49m\u001B[43m)\u001B[49m\n",
      "File \u001B[0;32m~/.local/share/virtualenvs/python-YvwNzYuD/lib/python3.9/site-packages/pandas/core/algorithms.py:1743\u001B[0m, in \u001B[0;36mmap_array\u001B[0;34m(arr, mapper, na_action, convert)\u001B[0m\n\u001B[1;32m   1742\u001B[0m \u001B[38;5;28;01mif\u001B[39;00m na_action \u001B[38;5;129;01mis\u001B[39;00m \u001B[38;5;28;01mNone\u001B[39;00m:\n\u001B[0;32m-> 1743\u001B[0m     \u001B[38;5;28;01mreturn\u001B[39;00m \u001B[43mlib\u001B[49m\u001B[38;5;241;43m.\u001B[39;49m\u001B[43mmap_infer\u001B[49m\u001B[43m(\u001B[49m\u001B[43mvalues\u001B[49m\u001B[43m,\u001B[49m\u001B[43m \u001B[49m\u001B[43mmapper\u001B[49m\u001B[43m,\u001B[49m\u001B[43m \u001B[49m\u001B[43mconvert\u001B[49m\u001B[38;5;241;43m=\u001B[39;49m\u001B[43mconvert\u001B[49m\u001B[43m)\u001B[49m\n\u001B[1;32m   1744\u001B[0m \u001B[38;5;28;01melse\u001B[39;00m:\n",
      "File \u001B[0;32mlib.pyx:2972\u001B[0m, in \u001B[0;36mpandas._libs.lib.map_infer\u001B[0;34m()\u001B[0m\n",
      "Cell \u001B[0;32mIn[14], line 1\u001B[0m, in \u001B[0;36m<lambda>\u001B[0;34m(x)\u001B[0m\n\u001B[0;32m----> 1\u001B[0m my_data\u001B[38;5;241m.\u001B[39mtransform({\u001B[38;5;124m'\u001B[39m\u001B[38;5;124mdatebirth\u001B[39m\u001B[38;5;124m'\u001B[39m: [\u001B[38;5;28;01mlambda\u001B[39;00m x: x[:\u001B[38;5;241m4\u001B[39m]], \u001B[38;5;124m'\u001B[39m\u001B[38;5;124mgenero\u001B[39m\u001B[38;5;124m'\u001B[39m: [\u001B[38;5;28;01mlambda\u001B[39;00m x: \u001B[43mx\u001B[49m\u001B[38;5;241;43m.\u001B[39;49m\u001B[43mlower\u001B[49m() \u001B[38;5;28;01mif\u001B[39;00m x \u001B[38;5;129;01mis\u001B[39;00m \u001B[38;5;129;01mnot\u001B[39;00m \u001B[38;5;28;01mNone\u001B[39;00m \u001B[38;5;28;01melse\u001B[39;00m \u001B[38;5;28;01mNone\u001B[39;00m]})\n",
      "\u001B[0;31mAttributeError\u001B[0m: 'float' object has no attribute 'lower'",
      "\nDuring handling of the above exception, another exception occurred:\n",
      "\u001B[0;31mAttributeError\u001B[0m                            Traceback (most recent call last)",
      "\u001B[0;32m~/.local/share/virtualenvs/python-YvwNzYuD/lib/python3.9/site-packages/pandas/core/apply.py\u001B[0m in \u001B[0;36m?\u001B[0;34m(self)\u001B[0m\n\u001B[1;32m    248\u001B[0m             \u001B[0;32mraise\u001B[0m\u001B[0;34m\u001B[0m\u001B[0;34m\u001B[0m\u001B[0m\n\u001B[1;32m    249\u001B[0m         \u001B[0;32mexcept\u001B[0m \u001B[0mException\u001B[0m \u001B[0;32mas\u001B[0m \u001B[0merr\u001B[0m\u001B[0;34m:\u001B[0m\u001B[0;34m\u001B[0m\u001B[0;34m\u001B[0m\u001B[0m\n\u001B[0;32m--> 250\u001B[0;31m             \u001B[0;32mraise\u001B[0m \u001B[0mValueError\u001B[0m\u001B[0;34m(\u001B[0m\u001B[0;34m\"Transform function failed\"\u001B[0m\u001B[0;34m)\u001B[0m \u001B[0;32mfrom\u001B[0m \u001B[0merr\u001B[0m\u001B[0;34m\u001B[0m\u001B[0;34m\u001B[0m\u001B[0m\n\u001B[0m\u001B[1;32m    251\u001B[0m \u001B[0;34m\u001B[0m\u001B[0m\n",
      "\u001B[0;32m~/.local/share/virtualenvs/python-YvwNzYuD/lib/python3.9/site-packages/pandas/core/apply.py\u001B[0m in \u001B[0;36m?\u001B[0;34m(self, func)\u001B[0m\n\u001B[1;32m    314\u001B[0m             \u001B[0;32mreturn\u001B[0m \u001B[0mobj\u001B[0m\u001B[0;34m.\u001B[0m\u001B[0mapply\u001B[0m\u001B[0;34m(\u001B[0m\u001B[0mfunc\u001B[0m\u001B[0;34m,\u001B[0m \u001B[0margs\u001B[0m\u001B[0;34m=\u001B[0m\u001B[0margs\u001B[0m\u001B[0;34m,\u001B[0m \u001B[0;34m**\u001B[0m\u001B[0mkwargs\u001B[0m\u001B[0;34m)\u001B[0m\u001B[0;34m\u001B[0m\u001B[0;34m\u001B[0m\u001B[0m\n\u001B[1;32m    315\u001B[0m         \u001B[0;32mexcept\u001B[0m \u001B[0mException\u001B[0m\u001B[0;34m:\u001B[0m\u001B[0;34m\u001B[0m\u001B[0;34m\u001B[0m\u001B[0m\n\u001B[0;32m--> 316\u001B[0;31m             \u001B[0;32mreturn\u001B[0m \u001B[0mfunc\u001B[0m\u001B[0;34m(\u001B[0m\u001B[0mobj\u001B[0m\u001B[0;34m,\u001B[0m \u001B[0;34m*\u001B[0m\u001B[0margs\u001B[0m\u001B[0;34m,\u001B[0m \u001B[0;34m**\u001B[0m\u001B[0mkwargs\u001B[0m\u001B[0;34m)\u001B[0m\u001B[0;34m\u001B[0m\u001B[0;34m\u001B[0m\u001B[0m\n\u001B[0m",
      "\u001B[0;32m/tmp/ipykernel_50022/1930452258.py\u001B[0m in \u001B[0;36m?\u001B[0;34m(x)\u001B[0m\n\u001B[0;32m----> 1\u001B[0;31m \u001B[0mmy_data\u001B[0m\u001B[0;34m.\u001B[0m\u001B[0mtransform\u001B[0m\u001B[0;34m(\u001B[0m\u001B[0;34m{\u001B[0m\u001B[0;34m'datebirth'\u001B[0m\u001B[0;34m:\u001B[0m \u001B[0;34m[\u001B[0m\u001B[0;32mlambda\u001B[0m \u001B[0mx\u001B[0m\u001B[0;34m:\u001B[0m \u001B[0mx\u001B[0m\u001B[0;34m[\u001B[0m\u001B[0;34m:\u001B[0m\u001B[0;36m4\u001B[0m\u001B[0;34m]\u001B[0m\u001B[0;34m]\u001B[0m\u001B[0;34m,\u001B[0m \u001B[0;34m'genero'\u001B[0m\u001B[0;34m:\u001B[0m \u001B[0;34m[\u001B[0m\u001B[0;32mlambda\u001B[0m \u001B[0mx\u001B[0m\u001B[0;34m:\u001B[0m \u001B[0mx\u001B[0m\u001B[0;34m.\u001B[0m\u001B[0mlower\u001B[0m\u001B[0;34m(\u001B[0m\u001B[0;34m)\u001B[0m \u001B[0;32mif\u001B[0m \u001B[0mx\u001B[0m \u001B[0;32mis\u001B[0m \u001B[0;32mnot\u001B[0m \u001B[0;32mNone\u001B[0m \u001B[0;32melse\u001B[0m \u001B[0;32mNone\u001B[0m\u001B[0;34m]\u001B[0m\u001B[0;34m}\u001B[0m\u001B[0;34m)\u001B[0m\u001B[0;34m\u001B[0m\u001B[0;34m\u001B[0m\u001B[0m\n\u001B[0m",
      "\u001B[0;32m~/.local/share/virtualenvs/python-YvwNzYuD/lib/python3.9/site-packages/pandas/core/generic.py\u001B[0m in \u001B[0;36m?\u001B[0;34m(self, name)\u001B[0m\n\u001B[1;32m   6297\u001B[0m         ):\n\u001B[1;32m   6298\u001B[0m             \u001B[0;32mreturn\u001B[0m \u001B[0mself\u001B[0m\u001B[0;34m[\u001B[0m\u001B[0mname\u001B[0m\u001B[0;34m]\u001B[0m\u001B[0;34m\u001B[0m\u001B[0;34m\u001B[0m\u001B[0m\n\u001B[0;32m-> 6299\u001B[0;31m         \u001B[0;32mreturn\u001B[0m \u001B[0mobject\u001B[0m\u001B[0;34m.\u001B[0m\u001B[0m__getattribute__\u001B[0m\u001B[0;34m(\u001B[0m\u001B[0mself\u001B[0m\u001B[0;34m,\u001B[0m \u001B[0mname\u001B[0m\u001B[0;34m)\u001B[0m\u001B[0;34m\u001B[0m\u001B[0;34m\u001B[0m\u001B[0m\n\u001B[0m",
      "\u001B[0;31mAttributeError\u001B[0m: 'Series' object has no attribute 'lower'",
      "\nThe above exception was the direct cause of the following exception:\n",
      "\u001B[0;31mValueError\u001B[0m                                Traceback (most recent call last)",
      "Cell \u001B[0;32mIn[14], line 1\u001B[0m\n\u001B[0;32m----> 1\u001B[0m \u001B[43mmy_data\u001B[49m\u001B[38;5;241;43m.\u001B[39;49m\u001B[43mtransform\u001B[49m\u001B[43m(\u001B[49m\u001B[43m{\u001B[49m\u001B[38;5;124;43m'\u001B[39;49m\u001B[38;5;124;43mdatebirth\u001B[39;49m\u001B[38;5;124;43m'\u001B[39;49m\u001B[43m:\u001B[49m\u001B[43m \u001B[49m\u001B[43m[\u001B[49m\u001B[38;5;28;43;01mlambda\u001B[39;49;00m\u001B[43m \u001B[49m\u001B[43mx\u001B[49m\u001B[43m:\u001B[49m\u001B[43m \u001B[49m\u001B[43mx\u001B[49m\u001B[43m[\u001B[49m\u001B[43m:\u001B[49m\u001B[38;5;241;43m4\u001B[39;49m\u001B[43m]\u001B[49m\u001B[43m]\u001B[49m\u001B[43m,\u001B[49m\u001B[43m \u001B[49m\u001B[38;5;124;43m'\u001B[39;49m\u001B[38;5;124;43mgenero\u001B[39;49m\u001B[38;5;124;43m'\u001B[39;49m\u001B[43m:\u001B[49m\u001B[43m \u001B[49m\u001B[43m[\u001B[49m\u001B[38;5;28;43;01mlambda\u001B[39;49;00m\u001B[43m \u001B[49m\u001B[43mx\u001B[49m\u001B[43m:\u001B[49m\u001B[43m \u001B[49m\u001B[43mx\u001B[49m\u001B[38;5;241;43m.\u001B[39;49m\u001B[43mlower\u001B[49m\u001B[43m(\u001B[49m\u001B[43m)\u001B[49m\u001B[43m \u001B[49m\u001B[38;5;28;43;01mif\u001B[39;49;00m\u001B[43m \u001B[49m\u001B[43mx\u001B[49m\u001B[43m \u001B[49m\u001B[38;5;129;43;01mis\u001B[39;49;00m\u001B[43m \u001B[49m\u001B[38;5;129;43;01mnot\u001B[39;49;00m\u001B[43m \u001B[49m\u001B[38;5;28;43;01mNone\u001B[39;49;00m\u001B[43m \u001B[49m\u001B[38;5;28;43;01melse\u001B[39;49;00m\u001B[43m \u001B[49m\u001B[38;5;28;43;01mNone\u001B[39;49;00m\u001B[43m]\u001B[49m\u001B[43m}\u001B[49m\u001B[43m)\u001B[49m\n",
      "File \u001B[0;32m~/.local/share/virtualenvs/python-YvwNzYuD/lib/python3.9/site-packages/pandas/core/frame.py:10166\u001B[0m, in \u001B[0;36mDataFrame.transform\u001B[0;34m(self, func, axis, *args, **kwargs)\u001B[0m\n\u001B[1;32m  10163\u001B[0m \u001B[38;5;28;01mfrom\u001B[39;00m \u001B[38;5;21;01mpandas\u001B[39;00m\u001B[38;5;21;01m.\u001B[39;00m\u001B[38;5;21;01mcore\u001B[39;00m\u001B[38;5;21;01m.\u001B[39;00m\u001B[38;5;21;01mapply\u001B[39;00m \u001B[38;5;28;01mimport\u001B[39;00m frame_apply\n\u001B[1;32m  10165\u001B[0m op \u001B[38;5;241m=\u001B[39m frame_apply(\u001B[38;5;28mself\u001B[39m, func\u001B[38;5;241m=\u001B[39mfunc, axis\u001B[38;5;241m=\u001B[39maxis, args\u001B[38;5;241m=\u001B[39margs, kwargs\u001B[38;5;241m=\u001B[39mkwargs)\n\u001B[0;32m> 10166\u001B[0m result \u001B[38;5;241m=\u001B[39m \u001B[43mop\u001B[49m\u001B[38;5;241;43m.\u001B[39;49m\u001B[43mtransform\u001B[49m\u001B[43m(\u001B[49m\u001B[43m)\u001B[49m\n\u001B[1;32m  10167\u001B[0m \u001B[38;5;28;01massert\u001B[39;00m \u001B[38;5;28misinstance\u001B[39m(result, DataFrame)\n\u001B[1;32m  10168\u001B[0m \u001B[38;5;28;01mreturn\u001B[39;00m result\n",
      "File \u001B[0;32m~/.local/share/virtualenvs/python-YvwNzYuD/lib/python3.9/site-packages/pandas/core/apply.py:241\u001B[0m, in \u001B[0;36mApply.transform\u001B[0;34m(self)\u001B[0m\n\u001B[1;32m    239\u001B[0m \u001B[38;5;28;01mif\u001B[39;00m is_dict_like(func):\n\u001B[1;32m    240\u001B[0m     func \u001B[38;5;241m=\u001B[39m cast(AggFuncTypeDict, func)\n\u001B[0;32m--> 241\u001B[0m     \u001B[38;5;28;01mreturn\u001B[39;00m \u001B[38;5;28;43mself\u001B[39;49m\u001B[38;5;241;43m.\u001B[39;49m\u001B[43mtransform_dict_like\u001B[49m\u001B[43m(\u001B[49m\u001B[43mfunc\u001B[49m\u001B[43m)\u001B[49m\n\u001B[1;32m    243\u001B[0m \u001B[38;5;66;03m# func is either str or callable\u001B[39;00m\n\u001B[1;32m    244\u001B[0m func \u001B[38;5;241m=\u001B[39m cast(AggFuncTypeBase, func)\n",
      "File \u001B[0;32m~/.local/share/virtualenvs/python-YvwNzYuD/lib/python3.9/site-packages/pandas/core/apply.py:292\u001B[0m, in \u001B[0;36mApply.transform_dict_like\u001B[0;34m(self, func)\u001B[0m\n\u001B[1;32m    290\u001B[0m \u001B[38;5;28;01mfor\u001B[39;00m name, how \u001B[38;5;129;01min\u001B[39;00m func\u001B[38;5;241m.\u001B[39mitems():\n\u001B[1;32m    291\u001B[0m     colg \u001B[38;5;241m=\u001B[39m obj\u001B[38;5;241m.\u001B[39m_gotitem(name, ndim\u001B[38;5;241m=\u001B[39m\u001B[38;5;241m1\u001B[39m)\n\u001B[0;32m--> 292\u001B[0m     results[name] \u001B[38;5;241m=\u001B[39m \u001B[43mcolg\u001B[49m\u001B[38;5;241;43m.\u001B[39;49m\u001B[43mtransform\u001B[49m\u001B[43m(\u001B[49m\u001B[43mhow\u001B[49m\u001B[43m,\u001B[49m\u001B[43m \u001B[49m\u001B[38;5;241;43m0\u001B[39;49m\u001B[43m,\u001B[49m\u001B[43m \u001B[49m\u001B[38;5;241;43m*\u001B[39;49m\u001B[43margs\u001B[49m\u001B[43m,\u001B[49m\u001B[43m \u001B[49m\u001B[38;5;241;43m*\u001B[39;49m\u001B[38;5;241;43m*\u001B[39;49m\u001B[43mkwargs\u001B[49m\u001B[43m)\u001B[49m\n\u001B[1;32m    293\u001B[0m \u001B[38;5;28;01mreturn\u001B[39;00m concat(results, axis\u001B[38;5;241m=\u001B[39m\u001B[38;5;241m1\u001B[39m)\n",
      "File \u001B[0;32m~/.local/share/virtualenvs/python-YvwNzYuD/lib/python3.9/site-packages/pandas/core/series.py:4786\u001B[0m, in \u001B[0;36mSeries.transform\u001B[0;34m(self, func, axis, *args, **kwargs)\u001B[0m\n\u001B[1;32m   4780\u001B[0m \u001B[38;5;28mself\u001B[39m\u001B[38;5;241m.\u001B[39m_get_axis_number(axis)\n\u001B[1;32m   4781\u001B[0m ser \u001B[38;5;241m=\u001B[39m (\n\u001B[1;32m   4782\u001B[0m     \u001B[38;5;28mself\u001B[39m\u001B[38;5;241m.\u001B[39mcopy(deep\u001B[38;5;241m=\u001B[39m\u001B[38;5;28;01mFalse\u001B[39;00m)\n\u001B[1;32m   4783\u001B[0m     \u001B[38;5;28;01mif\u001B[39;00m using_copy_on_write() \u001B[38;5;129;01mor\u001B[39;00m warn_copy_on_write()\n\u001B[1;32m   4784\u001B[0m     \u001B[38;5;28;01melse\u001B[39;00m \u001B[38;5;28mself\u001B[39m\n\u001B[1;32m   4785\u001B[0m )\n\u001B[0;32m-> 4786\u001B[0m result \u001B[38;5;241m=\u001B[39m \u001B[43mSeriesApply\u001B[49m\u001B[43m(\u001B[49m\u001B[43mser\u001B[49m\u001B[43m,\u001B[49m\u001B[43m \u001B[49m\u001B[43mfunc\u001B[49m\u001B[38;5;241;43m=\u001B[39;49m\u001B[43mfunc\u001B[49m\u001B[43m,\u001B[49m\u001B[43m \u001B[49m\u001B[43margs\u001B[49m\u001B[38;5;241;43m=\u001B[39;49m\u001B[43margs\u001B[49m\u001B[43m,\u001B[49m\u001B[43m \u001B[49m\u001B[43mkwargs\u001B[49m\u001B[38;5;241;43m=\u001B[39;49m\u001B[43mkwargs\u001B[49m\u001B[43m)\u001B[49m\u001B[38;5;241;43m.\u001B[39;49m\u001B[43mtransform\u001B[49m\u001B[43m(\u001B[49m\u001B[43m)\u001B[49m\n\u001B[1;32m   4787\u001B[0m \u001B[38;5;28;01mreturn\u001B[39;00m result\n",
      "File \u001B[0;32m~/.local/share/virtualenvs/python-YvwNzYuD/lib/python3.9/site-packages/pandas/core/apply.py:241\u001B[0m, in \u001B[0;36mApply.transform\u001B[0;34m(self)\u001B[0m\n\u001B[1;32m    239\u001B[0m \u001B[38;5;28;01mif\u001B[39;00m is_dict_like(func):\n\u001B[1;32m    240\u001B[0m     func \u001B[38;5;241m=\u001B[39m cast(AggFuncTypeDict, func)\n\u001B[0;32m--> 241\u001B[0m     \u001B[38;5;28;01mreturn\u001B[39;00m \u001B[38;5;28;43mself\u001B[39;49m\u001B[38;5;241;43m.\u001B[39;49m\u001B[43mtransform_dict_like\u001B[49m\u001B[43m(\u001B[49m\u001B[43mfunc\u001B[49m\u001B[43m)\u001B[49m\n\u001B[1;32m    243\u001B[0m \u001B[38;5;66;03m# func is either str or callable\u001B[39;00m\n\u001B[1;32m    244\u001B[0m func \u001B[38;5;241m=\u001B[39m cast(AggFuncTypeBase, func)\n",
      "File \u001B[0;32m~/.local/share/virtualenvs/python-YvwNzYuD/lib/python3.9/site-packages/pandas/core/apply.py:292\u001B[0m, in \u001B[0;36mApply.transform_dict_like\u001B[0;34m(self, func)\u001B[0m\n\u001B[1;32m    290\u001B[0m \u001B[38;5;28;01mfor\u001B[39;00m name, how \u001B[38;5;129;01min\u001B[39;00m func\u001B[38;5;241m.\u001B[39mitems():\n\u001B[1;32m    291\u001B[0m     colg \u001B[38;5;241m=\u001B[39m obj\u001B[38;5;241m.\u001B[39m_gotitem(name, ndim\u001B[38;5;241m=\u001B[39m\u001B[38;5;241m1\u001B[39m)\n\u001B[0;32m--> 292\u001B[0m     results[name] \u001B[38;5;241m=\u001B[39m \u001B[43mcolg\u001B[49m\u001B[38;5;241;43m.\u001B[39;49m\u001B[43mtransform\u001B[49m\u001B[43m(\u001B[49m\u001B[43mhow\u001B[49m\u001B[43m,\u001B[49m\u001B[43m \u001B[49m\u001B[38;5;241;43m0\u001B[39;49m\u001B[43m,\u001B[49m\u001B[43m \u001B[49m\u001B[38;5;241;43m*\u001B[39;49m\u001B[43margs\u001B[49m\u001B[43m,\u001B[49m\u001B[43m \u001B[49m\u001B[38;5;241;43m*\u001B[39;49m\u001B[38;5;241;43m*\u001B[39;49m\u001B[43mkwargs\u001B[49m\u001B[43m)\u001B[49m\n\u001B[1;32m    293\u001B[0m \u001B[38;5;28;01mreturn\u001B[39;00m concat(results, axis\u001B[38;5;241m=\u001B[39m\u001B[38;5;241m1\u001B[39m)\n",
      "File \u001B[0;32m~/.local/share/virtualenvs/python-YvwNzYuD/lib/python3.9/site-packages/pandas/core/series.py:4786\u001B[0m, in \u001B[0;36mSeries.transform\u001B[0;34m(self, func, axis, *args, **kwargs)\u001B[0m\n\u001B[1;32m   4780\u001B[0m \u001B[38;5;28mself\u001B[39m\u001B[38;5;241m.\u001B[39m_get_axis_number(axis)\n\u001B[1;32m   4781\u001B[0m ser \u001B[38;5;241m=\u001B[39m (\n\u001B[1;32m   4782\u001B[0m     \u001B[38;5;28mself\u001B[39m\u001B[38;5;241m.\u001B[39mcopy(deep\u001B[38;5;241m=\u001B[39m\u001B[38;5;28;01mFalse\u001B[39;00m)\n\u001B[1;32m   4783\u001B[0m     \u001B[38;5;28;01mif\u001B[39;00m using_copy_on_write() \u001B[38;5;129;01mor\u001B[39;00m warn_copy_on_write()\n\u001B[1;32m   4784\u001B[0m     \u001B[38;5;28;01melse\u001B[39;00m \u001B[38;5;28mself\u001B[39m\n\u001B[1;32m   4785\u001B[0m )\n\u001B[0;32m-> 4786\u001B[0m result \u001B[38;5;241m=\u001B[39m \u001B[43mSeriesApply\u001B[49m\u001B[43m(\u001B[49m\u001B[43mser\u001B[49m\u001B[43m,\u001B[49m\u001B[43m \u001B[49m\u001B[43mfunc\u001B[49m\u001B[38;5;241;43m=\u001B[39;49m\u001B[43mfunc\u001B[49m\u001B[43m,\u001B[49m\u001B[43m \u001B[49m\u001B[43margs\u001B[49m\u001B[38;5;241;43m=\u001B[39;49m\u001B[43margs\u001B[49m\u001B[43m,\u001B[49m\u001B[43m \u001B[49m\u001B[43mkwargs\u001B[49m\u001B[38;5;241;43m=\u001B[39;49m\u001B[43mkwargs\u001B[49m\u001B[43m)\u001B[49m\u001B[38;5;241;43m.\u001B[39;49m\u001B[43mtransform\u001B[49m\u001B[43m(\u001B[49m\u001B[43m)\u001B[49m\n\u001B[1;32m   4787\u001B[0m \u001B[38;5;28;01mreturn\u001B[39;00m result\n",
      "File \u001B[0;32m~/.local/share/virtualenvs/python-YvwNzYuD/lib/python3.9/site-packages/pandas/core/apply.py:250\u001B[0m, in \u001B[0;36mApply.transform\u001B[0;34m(self)\u001B[0m\n\u001B[1;32m    248\u001B[0m     \u001B[38;5;28;01mraise\u001B[39;00m\n\u001B[1;32m    249\u001B[0m \u001B[38;5;28;01mexcept\u001B[39;00m \u001B[38;5;167;01mException\u001B[39;00m \u001B[38;5;28;01mas\u001B[39;00m err:\n\u001B[0;32m--> 250\u001B[0m     \u001B[38;5;28;01mraise\u001B[39;00m \u001B[38;5;167;01mValueError\u001B[39;00m(\u001B[38;5;124m\"\u001B[39m\u001B[38;5;124mTransform function failed\u001B[39m\u001B[38;5;124m\"\u001B[39m) \u001B[38;5;28;01mfrom\u001B[39;00m \u001B[38;5;21;01merr\u001B[39;00m\n\u001B[1;32m    252\u001B[0m \u001B[38;5;66;03m# Functions that transform may return empty Series/DataFrame\u001B[39;00m\n\u001B[1;32m    253\u001B[0m \u001B[38;5;66;03m# when the dtype is not appropriate\u001B[39;00m\n\u001B[1;32m    254\u001B[0m \u001B[38;5;28;01mif\u001B[39;00m (\n\u001B[1;32m    255\u001B[0m     \u001B[38;5;28misinstance\u001B[39m(result, (ABCSeries, ABCDataFrame))\n\u001B[1;32m    256\u001B[0m     \u001B[38;5;129;01mand\u001B[39;00m result\u001B[38;5;241m.\u001B[39mempty\n\u001B[1;32m    257\u001B[0m     \u001B[38;5;129;01mand\u001B[39;00m \u001B[38;5;129;01mnot\u001B[39;00m obj\u001B[38;5;241m.\u001B[39mempty\n\u001B[1;32m    258\u001B[0m ):\n",
      "\u001B[0;31mValueError\u001B[0m: Transform function failed"
     ]
    }
   ],
   "execution_count": 14
  },
  {
   "metadata": {
    "ExecuteTime": {
     "end_time": "2025-01-10T02:22:27.261073Z",
     "start_time": "2025-01-10T02:22:27.256524Z"
    }
   },
   "cell_type": "code",
   "source": "my_data['genero'].info()",
   "id": "3beb2a916d2ed32",
   "outputs": [
    {
     "name": "stdout",
     "output_type": "stream",
     "text": [
      "<class 'pandas.core.series.Series'>\n",
      "RangeIndex: 100 entries, 0 to 99\n",
      "Series name: genero\n",
      "Non-Null Count  Dtype \n",
      "--------------  ----- \n",
      "99 non-null     object\n",
      "dtypes: object(1)\n",
      "memory usage: 928.0+ bytes\n"
     ]
    }
   ],
   "execution_count": 23
  },
  {
   "metadata": {
    "ExecuteTime": {
     "end_time": "2025-01-10T02:30:52.945807Z",
     "start_time": "2025-01-10T02:30:52.941841Z"
    }
   },
   "cell_type": "code",
   "source": "my_data.isna().sum()",
   "id": "c8c0bc2a16f549da",
   "outputs": [
    {
     "data": {
      "text/plain": [
       "nombre       0\n",
       "edad         0\n",
       "ciudad       0\n",
       "salario      0\n",
       "datebirth    0\n",
       "genero       3\n",
       "dtype: int64"
      ]
     },
     "execution_count": 37,
     "metadata": {},
     "output_type": "execute_result"
    }
   ],
   "execution_count": 37
  },
  {
   "metadata": {
    "ExecuteTime": {
     "end_time": "2025-01-10T02:31:55.482148Z",
     "start_time": "2025-01-10T02:31:55.476847Z"
    }
   },
   "cell_type": "code",
   "source": "my_data['genero'] = my_data['genero'].apply(lambda x: x.lower() if pd.notna(x) else x)",
   "id": "da2c5f0d1a179bcf",
   "outputs": [],
   "execution_count": 42
  },
  {
   "metadata": {
    "ExecuteTime": {
     "end_time": "2025-01-10T02:31:20.880801Z",
     "start_time": "2025-01-10T02:31:20.876712Z"
    }
   },
   "cell_type": "code",
   "source": "my_data['genero']",
   "id": "4dc6ee6795683255",
   "outputs": [
    {
     "data": {
      "text/plain": [
       "0     masculino\n",
       "1     masculino\n",
       "2     masculino\n",
       "3     masculino\n",
       "4      femenino\n",
       "        ...    \n",
       "95     femenino\n",
       "96     femenino\n",
       "97          NaN\n",
       "98    masculino\n",
       "99          NaN\n",
       "Name: genero, Length: 100, dtype: object"
      ]
     },
     "execution_count": 40,
     "metadata": {},
     "output_type": "execute_result"
    }
   ],
   "execution_count": 40
  },
  {
   "metadata": {
    "ExecuteTime": {
     "end_time": "2025-01-10T02:48:01.394685Z",
     "start_time": "2025-01-10T02:48:01.391812Z"
    }
   },
   "cell_type": "code",
   "source": "my_data['genero'] = my_data['genero'].apply(lambda x: 'femenino' if x == 'femenin' else x)\n",
   "id": "6c7803cd1ed807d3",
   "outputs": [],
   "execution_count": 63
  },
  {
   "metadata": {
    "ExecuteTime": {
     "end_time": "2025-01-10T02:38:37.745613Z",
     "start_time": "2025-01-10T02:38:37.738937Z"
    }
   },
   "cell_type": "code",
   "source": "my_data.loc[:, ['genero']].describe()",
   "id": "a32dd235ea5a5c6b",
   "outputs": [
    {
     "data": {
      "text/plain": [
       "          genero\n",
       "count         97\n",
       "unique         3\n",
       "top     femenino\n",
       "freq          52"
      ],
      "text/html": [
       "<div>\n",
       "<style scoped>\n",
       "    .dataframe tbody tr th:only-of-type {\n",
       "        vertical-align: middle;\n",
       "    }\n",
       "\n",
       "    .dataframe tbody tr th {\n",
       "        vertical-align: top;\n",
       "    }\n",
       "\n",
       "    .dataframe thead th {\n",
       "        text-align: right;\n",
       "    }\n",
       "</style>\n",
       "<table border=\"1\" class=\"dataframe\">\n",
       "  <thead>\n",
       "    <tr style=\"text-align: right;\">\n",
       "      <th></th>\n",
       "      <th>genero</th>\n",
       "    </tr>\n",
       "  </thead>\n",
       "  <tbody>\n",
       "    <tr>\n",
       "      <th>count</th>\n",
       "      <td>97</td>\n",
       "    </tr>\n",
       "    <tr>\n",
       "      <th>unique</th>\n",
       "      <td>3</td>\n",
       "    </tr>\n",
       "    <tr>\n",
       "      <th>top</th>\n",
       "      <td>femenino</td>\n",
       "    </tr>\n",
       "    <tr>\n",
       "      <th>freq</th>\n",
       "      <td>52</td>\n",
       "    </tr>\n",
       "  </tbody>\n",
       "</table>\n",
       "</div>"
      ]
     },
     "execution_count": 48,
     "metadata": {},
     "output_type": "execute_result"
    }
   ],
   "execution_count": 48
  },
  {
   "metadata": {
    "ExecuteTime": {
     "end_time": "2025-01-10T02:45:42.725393Z",
     "start_time": "2025-01-10T02:45:42.718260Z"
    }
   },
   "cell_type": "code",
   "source": "my_data.loc[:, ['genero', 'salario', 'edad']].groupby('genero').sum()",
   "id": "1c4cdb1744fefbe2",
   "outputs": [
    {
     "data": {
      "text/plain": [
       "                salario  edad\n",
       "genero                       \n",
       "femenin    5.187137e+04    41\n",
       "femenino   2.179688e+06  2135\n",
       "masculino  1.964407e+06  1734"
      ],
      "text/html": [
       "<div>\n",
       "<style scoped>\n",
       "    .dataframe tbody tr th:only-of-type {\n",
       "        vertical-align: middle;\n",
       "    }\n",
       "\n",
       "    .dataframe tbody tr th {\n",
       "        vertical-align: top;\n",
       "    }\n",
       "\n",
       "    .dataframe thead th {\n",
       "        text-align: right;\n",
       "    }\n",
       "</style>\n",
       "<table border=\"1\" class=\"dataframe\">\n",
       "  <thead>\n",
       "    <tr style=\"text-align: right;\">\n",
       "      <th></th>\n",
       "      <th>salario</th>\n",
       "      <th>edad</th>\n",
       "    </tr>\n",
       "    <tr>\n",
       "      <th>genero</th>\n",
       "      <th></th>\n",
       "      <th></th>\n",
       "    </tr>\n",
       "  </thead>\n",
       "  <tbody>\n",
       "    <tr>\n",
       "      <th>femenin</th>\n",
       "      <td>5.187137e+04</td>\n",
       "      <td>41</td>\n",
       "    </tr>\n",
       "    <tr>\n",
       "      <th>femenino</th>\n",
       "      <td>2.179688e+06</td>\n",
       "      <td>2135</td>\n",
       "    </tr>\n",
       "    <tr>\n",
       "      <th>masculino</th>\n",
       "      <td>1.964407e+06</td>\n",
       "      <td>1734</td>\n",
       "    </tr>\n",
       "  </tbody>\n",
       "</table>\n",
       "</div>"
      ]
     },
     "execution_count": 58,
     "metadata": {},
     "output_type": "execute_result"
    }
   ],
   "execution_count": 58
  },
  {
   "metadata": {},
   "cell_type": "markdown",
   "source": "",
   "id": "52027db447fd49e"
  },
  {
   "metadata": {
    "ExecuteTime": {
     "end_time": "2025-01-10T02:50:52.808587Z",
     "start_time": "2025-01-10T02:50:52.805817Z"
    }
   },
   "cell_type": "code",
   "source": "my_data = my_data[pd.notna(my_data['genero'])]",
   "id": "2504e39739362568",
   "outputs": [],
   "execution_count": 70
  },
  {
   "metadata": {
    "ExecuteTime": {
     "end_time": "2025-01-10T02:51:07.819401Z",
     "start_time": "2025-01-10T02:51:07.812357Z"
    }
   },
   "cell_type": "code",
   "source": "my_data.describe()",
   "id": "733859ba7da2ea29",
   "outputs": [
    {
     "data": {
      "text/plain": [
       "            edad       salario\n",
       "count  97.000000     97.000000\n",
       "mean   40.309278  43257.389134\n",
       "std    11.570761  10201.686310\n",
       "min    18.000000  25012.284767\n",
       "25%    32.000000  34709.957479\n",
       "50%    41.000000  44684.006767\n",
       "75%    50.000000  51328.527738\n",
       "max    59.000000  59835.409428"
      ],
      "text/html": [
       "<div>\n",
       "<style scoped>\n",
       "    .dataframe tbody tr th:only-of-type {\n",
       "        vertical-align: middle;\n",
       "    }\n",
       "\n",
       "    .dataframe tbody tr th {\n",
       "        vertical-align: top;\n",
       "    }\n",
       "\n",
       "    .dataframe thead th {\n",
       "        text-align: right;\n",
       "    }\n",
       "</style>\n",
       "<table border=\"1\" class=\"dataframe\">\n",
       "  <thead>\n",
       "    <tr style=\"text-align: right;\">\n",
       "      <th></th>\n",
       "      <th>edad</th>\n",
       "      <th>salario</th>\n",
       "    </tr>\n",
       "  </thead>\n",
       "  <tbody>\n",
       "    <tr>\n",
       "      <th>count</th>\n",
       "      <td>97.000000</td>\n",
       "      <td>97.000000</td>\n",
       "    </tr>\n",
       "    <tr>\n",
       "      <th>mean</th>\n",
       "      <td>40.309278</td>\n",
       "      <td>43257.389134</td>\n",
       "    </tr>\n",
       "    <tr>\n",
       "      <th>std</th>\n",
       "      <td>11.570761</td>\n",
       "      <td>10201.686310</td>\n",
       "    </tr>\n",
       "    <tr>\n",
       "      <th>min</th>\n",
       "      <td>18.000000</td>\n",
       "      <td>25012.284767</td>\n",
       "    </tr>\n",
       "    <tr>\n",
       "      <th>25%</th>\n",
       "      <td>32.000000</td>\n",
       "      <td>34709.957479</td>\n",
       "    </tr>\n",
       "    <tr>\n",
       "      <th>50%</th>\n",
       "      <td>41.000000</td>\n",
       "      <td>44684.006767</td>\n",
       "    </tr>\n",
       "    <tr>\n",
       "      <th>75%</th>\n",
       "      <td>50.000000</td>\n",
       "      <td>51328.527738</td>\n",
       "    </tr>\n",
       "    <tr>\n",
       "      <th>max</th>\n",
       "      <td>59.000000</td>\n",
       "      <td>59835.409428</td>\n",
       "    </tr>\n",
       "  </tbody>\n",
       "</table>\n",
       "</div>"
      ]
     },
     "execution_count": 72,
     "metadata": {},
     "output_type": "execute_result"
    }
   ],
   "execution_count": 72
  },
  {
   "metadata": {},
   "cell_type": "code",
   "outputs": [],
   "execution_count": null,
   "source": "",
   "id": "d1f33b7ea49f7749"
  }
 ],
 "metadata": {
  "kernelspec": {
   "display_name": "Python 3 (ipykernel)",
   "language": "python",
   "name": "python3"
  },
  "language_info": {
   "codemirror_mode": {
    "name": "ipython",
    "version": 3
   },
   "file_extension": ".py",
   "mimetype": "text/x-python",
   "name": "python",
   "nbconvert_exporter": "python",
   "pygments_lexer": "ipython3",
   "version": "3.9.6"
  }
 },
 "nbformat": 4,
 "nbformat_minor": 5
}
