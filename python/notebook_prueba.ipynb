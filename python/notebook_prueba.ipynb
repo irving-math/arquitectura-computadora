{
 "cells": [
  {
   "cell_type": "markdown",
   "id": "8f7358f4-9012-459c-9f47-547db4170028",
   "metadata": {},
   "source": [
    "# Clase 1 de arquitectura\n"
   ]
  },
  {
   "cell_type": "markdown",
   "id": "28abb37e-c4e6-42b3-9e69-d31d334e7704",
   "metadata": {},
   "source": [
    "_Ejemplo de celdas en jupyter_"
   ]
  },
  {
   "cell_type": "code",
   "id": "88a0c097-eaf3-46c5-82e6-f9491cc36d2e",
   "metadata": {
    "ExecuteTime": {
     "end_time": "2024-12-10T02:32:07.386664Z",
     "start_time": "2024-12-10T02:32:07.382653Z"
    }
   },
   "source": [
    "x = 1\n",
    "y = 8\n",
    "x * y"
   ],
   "outputs": [
    {
     "data": {
      "text/plain": [
       "8"
      ]
     },
     "execution_count": 3,
     "metadata": {},
     "output_type": "execute_result"
    }
   ],
   "execution_count": 3
  },
  {
   "cell_type": "markdown",
   "id": "6f44b99f-c380-4e0c-9fd0-b59b276e6942",
   "metadata": {},
   "source": [
    "_Las celdas tambien pueden importar clases_"
   ]
  },
  {
   "cell_type": "code",
   "id": "dfca4b11-3100-441c-ba4e-c56e2e709dac",
   "metadata": {
    "ExecuteTime": {
     "end_time": "2024-12-10T02:32:07.470844Z",
     "start_time": "2024-12-10T02:32:07.467696Z"
    }
   },
   "source": [
    "import math\n",
    "math.sin(math.pi/2)"
   ],
   "outputs": [
    {
     "data": {
      "text/plain": [
       "1.0"
      ]
     },
     "execution_count": 4,
     "metadata": {},
     "output_type": "execute_result"
    }
   ],
   "execution_count": 4
  },
  {
   "cell_type": "markdown",
   "id": "346eb24f-158d-4084-a820-42cdbc37aa7c",
   "metadata": {},
   "source": [
    "_Los imports de otra celda funcionan en las celdas siguientes_"
   ]
  },
  {
   "metadata": {},
   "cell_type": "code",
   "outputs": [],
   "execution_count": null,
   "source": "math.ceil(3.1)",
   "id": "9797cb4170245e80"
  },
  {
   "metadata": {},
   "cell_type": "markdown",
   "source": [
    "__La instalacion de numpy se hace ejecutando el comando__\n",
    "\n",
    "`pip install numpy`"
   ],
   "id": "96ae1b49c6f1cbb2"
  },
  {
   "metadata": {
    "ExecuteTime": {
     "end_time": "2024-12-17T02:05:51.203833Z",
     "start_time": "2024-12-17T02:05:51.201995Z"
    }
   },
   "cell_type": "code",
   "source": "import numpy as np",
   "id": "feee53577910a35c",
   "outputs": [],
   "execution_count": 6
  },
  {
   "metadata": {
    "ExecuteTime": {
     "end_time": "2024-12-10T02:37:00.240936Z",
     "start_time": "2024-12-10T02:37:00.234504Z"
    }
   },
   "cell_type": "code",
   "source": [
    "my_array = np.array([1, 2, 3, 4, 5])\n",
    "my_array"
   ],
   "id": "8d55c5172b2196cd",
   "outputs": [
    {
     "data": {
      "text/plain": [
       "array([1, 2, 3, 4, 5])"
      ]
     },
     "execution_count": 9,
     "metadata": {},
     "output_type": "execute_result"
    }
   ],
   "execution_count": 9
  },
  {
   "metadata": {
    "ExecuteTime": {
     "end_time": "2024-12-10T02:37:43.597065Z",
     "start_time": "2024-12-10T02:37:43.594263Z"
    }
   },
   "cell_type": "code",
   "source": "my_array.ndim",
   "id": "5cb2c5929f4b6f75",
   "outputs": [
    {
     "data": {
      "text/plain": [
       "1"
      ]
     },
     "execution_count": 10,
     "metadata": {},
     "output_type": "execute_result"
    }
   ],
   "execution_count": 10
  },
  {
   "metadata": {
    "ExecuteTime": {
     "end_time": "2024-12-10T02:38:00.024701Z",
     "start_time": "2024-12-10T02:38:00.019384Z"
    }
   },
   "cell_type": "code",
   "source": "my_array.shape",
   "id": "c3ad4f0469f0cb44",
   "outputs": [
    {
     "data": {
      "text/plain": [
       "(5,)"
      ]
     },
     "execution_count": 11,
     "metadata": {},
     "output_type": "execute_result"
    }
   ],
   "execution_count": 11
  },
  {
   "metadata": {
    "ExecuteTime": {
     "end_time": "2024-12-10T02:39:12.514825Z",
     "start_time": "2024-12-10T02:39:12.508724Z"
    }
   },
   "cell_type": "code",
   "source": [
    "my_array2 = np.array([[1, 2, 3], [4, 5, 6]])\n",
    "my_array2"
   ],
   "id": "4825ab80e4e8661f",
   "outputs": [
    {
     "data": {
      "text/plain": [
       "array([[1, 2, 3],\n",
       "       [4, 5, 6]])"
      ]
     },
     "execution_count": 12,
     "metadata": {},
     "output_type": "execute_result"
    }
   ],
   "execution_count": 12
  },
  {
   "metadata": {
    "ExecuteTime": {
     "end_time": "2024-12-10T02:39:57.284346Z",
     "start_time": "2024-12-10T02:39:57.279550Z"
    }
   },
   "cell_type": "code",
   "source": "my_array2.ndim",
   "id": "c062087b9b231429",
   "outputs": [
    {
     "data": {
      "text/plain": [
       "2"
      ]
     },
     "execution_count": 13,
     "metadata": {},
     "output_type": "execute_result"
    }
   ],
   "execution_count": 13
  },
  {
   "metadata": {
    "ExecuteTime": {
     "end_time": "2024-12-10T02:40:02.181012Z",
     "start_time": "2024-12-10T02:40:02.178205Z"
    }
   },
   "cell_type": "code",
   "source": "my_array2.shape",
   "id": "28896a79317a4718",
   "outputs": [
    {
     "data": {
      "text/plain": [
       "(2, 3)"
      ]
     },
     "execution_count": 14,
     "metadata": {},
     "output_type": "execute_result"
    }
   ],
   "execution_count": 14
  },
  {
   "metadata": {
    "ExecuteTime": {
     "end_time": "2024-12-10T02:40:28.746358Z",
     "start_time": "2024-12-10T02:40:28.743266Z"
    }
   },
   "cell_type": "code",
   "source": "my_array2.size",
   "id": "df6ee8049fef1ac9",
   "outputs": [
    {
     "data": {
      "text/plain": [
       "6"
      ]
     },
     "execution_count": 15,
     "metadata": {},
     "output_type": "execute_result"
    }
   ],
   "execution_count": 15
  },
  {
   "metadata": {
    "ExecuteTime": {
     "end_time": "2024-12-10T02:42:55.342733Z",
     "start_time": "2024-12-10T02:42:55.337582Z"
    }
   },
   "cell_type": "code",
   "source": [
    "my_array3 = np.array([[1,2],[3,4],[5,6]])\n",
    "my_array3"
   ],
   "id": "b5aaccb3766498a4",
   "outputs": [
    {
     "data": {
      "text/plain": [
       "array([[1, 2],\n",
       "       [3, 4],\n",
       "       [5, 6]])"
      ]
     },
     "execution_count": 16,
     "metadata": {},
     "output_type": "execute_result"
    }
   ],
   "execution_count": 16
  },
  {
   "metadata": {
    "ExecuteTime": {
     "end_time": "2024-12-10T02:43:10.907997Z",
     "start_time": "2024-12-10T02:43:10.905102Z"
    }
   },
   "cell_type": "code",
   "source": "my_array3.shape",
   "id": "e3d5bf60e68d7d1f",
   "outputs": [
    {
     "data": {
      "text/plain": [
       "(3, 2)"
      ]
     },
     "execution_count": 17,
     "metadata": {},
     "output_type": "execute_result"
    }
   ],
   "execution_count": 17
  },
  {
   "metadata": {
    "ExecuteTime": {
     "end_time": "2024-12-10T02:44:46.162625Z",
     "start_time": "2024-12-10T02:44:46.156782Z"
    }
   },
   "cell_type": "code",
   "source": [
    "my_array_3d = np.array([[[1, 2], [3,4]], [[5,6], [7,8]]])\n",
    "my_array_3d"
   ],
   "id": "e428725885324722",
   "outputs": [
    {
     "data": {
      "text/plain": [
       "array([[[1, 2],\n",
       "        [3, 4]],\n",
       "\n",
       "       [[5, 6],\n",
       "        [7, 8]]])"
      ]
     },
     "execution_count": 18,
     "metadata": {},
     "output_type": "execute_result"
    }
   ],
   "execution_count": 18
  },
  {
   "metadata": {
    "ExecuteTime": {
     "end_time": "2024-12-10T02:44:55.998385Z",
     "start_time": "2024-12-10T02:44:55.995561Z"
    }
   },
   "cell_type": "code",
   "source": "my_array_3d.shape",
   "id": "1ed921f7e22e9ab1",
   "outputs": [
    {
     "data": {
      "text/plain": [
       "(2, 2, 2)"
      ]
     },
     "execution_count": 19,
     "metadata": {},
     "output_type": "execute_result"
    }
   ],
   "execution_count": 19
  },
  {
   "metadata": {
    "ExecuteTime": {
     "end_time": "2024-12-10T02:45:53.261434Z",
     "start_time": "2024-12-10T02:45:53.255771Z"
    }
   },
   "cell_type": "code",
   "source": "my_array_3d[0][1][0]",
   "id": "75a8c06d6b9908b7",
   "outputs": [
    {
     "data": {
      "text/plain": [
       "np.int64(3)"
      ]
     },
     "execution_count": 20,
     "metadata": {},
     "output_type": "execute_result"
    }
   ],
   "execution_count": 20
  },
  {
   "metadata": {
    "ExecuteTime": {
     "end_time": "2024-12-10T02:47:44.685515Z",
     "start_time": "2024-12-10T02:47:44.678229Z"
    }
   },
   "cell_type": "code",
   "source": "np.zeros((5, 3))",
   "id": "225dce5be0c485e1",
   "outputs": [
    {
     "data": {
      "text/plain": [
       "array([[0., 0., 0.],\n",
       "       [0., 0., 0.],\n",
       "       [0., 0., 0.],\n",
       "       [0., 0., 0.],\n",
       "       [0., 0., 0.]])"
      ]
     },
     "execution_count": 21,
     "metadata": {},
     "output_type": "execute_result"
    }
   ],
   "execution_count": 21
  },
  {
   "metadata": {
    "ExecuteTime": {
     "end_time": "2024-12-10T02:48:23.607429Z",
     "start_time": "2024-12-10T02:48:23.600886Z"
    }
   },
   "cell_type": "code",
   "source": "np.ones((3, 3))",
   "id": "f800011ce444669",
   "outputs": [
    {
     "data": {
      "text/plain": [
       "array([[1., 1., 1.],\n",
       "       [1., 1., 1.],\n",
       "       [1., 1., 1.]])"
      ]
     },
     "execution_count": 22,
     "metadata": {},
     "output_type": "execute_result"
    }
   ],
   "execution_count": 22
  },
  {
   "metadata": {
    "ExecuteTime": {
     "end_time": "2024-12-10T02:48:58.104623Z",
     "start_time": "2024-12-10T02:48:58.074554Z"
    }
   },
   "cell_type": "code",
   "source": "np.random.random((2, 3))",
   "id": "580d739764277510",
   "outputs": [
    {
     "data": {
      "text/plain": [
       "array([[0.73470857, 0.05333784, 0.79377105],\n",
       "       [0.59832392, 0.99004715, 0.52024632]])"
      ]
     },
     "execution_count": 23,
     "metadata": {},
     "output_type": "execute_result"
    }
   ],
   "execution_count": 23
  },
  {
   "metadata": {
    "ExecuteTime": {
     "end_time": "2024-12-10T02:50:50.520463Z",
     "start_time": "2024-12-10T02:50:50.517650Z"
    }
   },
   "cell_type": "code",
   "source": "np.arange(5, 20)",
   "id": "b6c02fde38df490f",
   "outputs": [
    {
     "data": {
      "text/plain": [
       "array([ 5,  6,  7,  8,  9, 10, 11, 12, 13, 14, 15, 16, 17, 18, 19])"
      ]
     },
     "execution_count": 27,
     "metadata": {},
     "output_type": "execute_result"
    }
   ],
   "execution_count": 27
  },
  {
   "metadata": {
    "ExecuteTime": {
     "end_time": "2024-12-10T02:51:44.575380Z",
     "start_time": "2024-12-10T02:51:44.572607Z"
    }
   },
   "cell_type": "code",
   "source": "np.arange(5, 20, -2)",
   "id": "39a3cc220801119b",
   "outputs": [
    {
     "data": {
      "text/plain": [
       "array([], dtype=int64)"
      ]
     },
     "execution_count": 29,
     "metadata": {},
     "output_type": "execute_result"
    }
   ],
   "execution_count": 29
  },
  {
   "metadata": {
    "ExecuteTime": {
     "end_time": "2024-12-10T02:52:59.615884Z",
     "start_time": "2024-12-10T02:52:59.609622Z"
    }
   },
   "cell_type": "code",
   "source": "np.linspace(0, 10, 20)",
   "id": "1bee37b9391fc6fb",
   "outputs": [
    {
     "data": {
      "text/plain": [
       "array([ 0.        ,  0.52631579,  1.05263158,  1.57894737,  2.10526316,\n",
       "        2.63157895,  3.15789474,  3.68421053,  4.21052632,  4.73684211,\n",
       "        5.26315789,  5.78947368,  6.31578947,  6.84210526,  7.36842105,\n",
       "        7.89473684,  8.42105263,  8.94736842,  9.47368421, 10.        ])"
      ]
     },
     "execution_count": 30,
     "metadata": {},
     "output_type": "execute_result"
    }
   ],
   "execution_count": 30
  },
  {
   "metadata": {
    "ExecuteTime": {
     "end_time": "2024-12-10T02:54:27.289322Z",
     "start_time": "2024-12-10T02:54:27.286638Z"
    }
   },
   "cell_type": "code",
   "source": "np.linspace(0, 10, 4)",
   "id": "b378cb1746d22dbb",
   "outputs": [
    {
     "data": {
      "text/plain": [
       "array([ 0.        ,  3.33333333,  6.66666667, 10.        ])"
      ]
     },
     "execution_count": 33,
     "metadata": {},
     "output_type": "execute_result"
    }
   ],
   "execution_count": 33
  },
  {
   "metadata": {
    "ExecuteTime": {
     "end_time": "2024-12-10T03:02:38.272115Z",
     "start_time": "2024-12-10T03:02:38.269498Z"
    }
   },
   "cell_type": "code",
   "source": "np.arange(4, 20).reshape(4, 4)",
   "id": "d73e90248e58a915",
   "outputs": [
    {
     "data": {
      "text/plain": [
       "array([[ 4,  5,  6,  7],\n",
       "       [ 8,  9, 10, 11],\n",
       "       [12, 13, 14, 15],\n",
       "       [16, 17, 18, 19]])"
      ]
     },
     "execution_count": 38,
     "metadata": {},
     "output_type": "execute_result"
    }
   ],
   "execution_count": 38
  },
  {
   "metadata": {
    "ExecuteTime": {
     "end_time": "2024-12-10T03:03:34.791792Z",
     "start_time": "2024-12-10T03:03:34.788903Z"
    }
   },
   "cell_type": "code",
   "source": "np.arange(4, 20).reshape(4,4).flatten()",
   "id": "c6bf05f573fb8193",
   "outputs": [
    {
     "data": {
      "text/plain": [
       "array([ 4,  5,  6,  7,  8,  9, 10, 11, 12, 13, 14, 15, 16, 17, 18, 19])"
      ]
     },
     "execution_count": 40,
     "metadata": {},
     "output_type": "execute_result"
    }
   ],
   "execution_count": 40
  },
  {
   "metadata": {
    "ExecuteTime": {
     "end_time": "2024-12-12T01:59:48.449541Z",
     "start_time": "2024-12-12T01:59:48.446329Z"
    }
   },
   "cell_type": "code",
   "source": "np.linspace(1, 100, 100).reshape(10, 10)",
   "id": "cf914a06e8cada75",
   "outputs": [
    {
     "data": {
      "text/plain": [
       "array([[  1.,   2.,   3.,   4.,   5.,   6.,   7.,   8.,   9.,  10.],\n",
       "       [ 11.,  12.,  13.,  14.,  15.,  16.,  17.,  18.,  19.,  20.],\n",
       "       [ 21.,  22.,  23.,  24.,  25.,  26.,  27.,  28.,  29.,  30.],\n",
       "       [ 31.,  32.,  33.,  34.,  35.,  36.,  37.,  38.,  39.,  40.],\n",
       "       [ 41.,  42.,  43.,  44.,  45.,  46.,  47.,  48.,  49.,  50.],\n",
       "       [ 51.,  52.,  53.,  54.,  55.,  56.,  57.,  58.,  59.,  60.],\n",
       "       [ 61.,  62.,  63.,  64.,  65.,  66.,  67.,  68.,  69.,  70.],\n",
       "       [ 71.,  72.,  73.,  74.,  75.,  76.,  77.,  78.,  79.,  80.],\n",
       "       [ 81.,  82.,  83.,  84.,  85.,  86.,  87.,  88.,  89.,  90.],\n",
       "       [ 91.,  92.,  93.,  94.,  95.,  96.,  97.,  98.,  99., 100.]])"
      ]
     },
     "execution_count": 6,
     "metadata": {},
     "output_type": "execute_result"
    }
   ],
   "execution_count": 6
  },
  {
   "metadata": {
    "ExecuteTime": {
     "end_time": "2024-12-12T02:05:59.006743Z",
     "start_time": "2024-12-12T02:05:59.003543Z"
    }
   },
   "cell_type": "code",
   "source": "np.linspace(1, 100, 100)[ : :-1]",
   "id": "99f80583a38a2f99",
   "outputs": [
    {
     "data": {
      "text/plain": [
       "array([100.,  99.,  98.,  97.,  96.,  95.,  94.,  93.,  92.,  91.,  90.,\n",
       "        89.,  88.,  87.,  86.,  85.,  84.,  83.,  82.,  81.,  80.,  79.,\n",
       "        78.,  77.,  76.,  75.,  74.,  73.,  72.,  71.,  70.,  69.,  68.,\n",
       "        67.,  66.,  65.,  64.,  63.,  62.,  61.,  60.,  59.,  58.,  57.,\n",
       "        56.,  55.,  54.,  53.,  52.,  51.,  50.,  49.,  48.,  47.,  46.,\n",
       "        45.,  44.,  43.,  42.,  41.,  40.,  39.,  38.,  37.,  36.,  35.,\n",
       "        34.,  33.,  32.,  31.,  30.,  29.,  28.,  27.,  26.,  25.,  24.,\n",
       "        23.,  22.,  21.,  20.,  19.,  18.,  17.,  16.,  15.,  14.,  13.,\n",
       "        12.,  11.,  10.,   9.,   8.,   7.,   6.,   5.,   4.,   3.,   2.,\n",
       "         1.])"
      ]
     },
     "execution_count": 17,
     "metadata": {},
     "output_type": "execute_result"
    }
   ],
   "execution_count": 17
  },
  {
   "metadata": {
    "ExecuteTime": {
     "end_time": "2024-12-12T02:09:27.530821Z",
     "start_time": "2024-12-12T02:09:27.528036Z"
    }
   },
   "cell_type": "code",
   "source": "np.arange(20).reshape(4, 5)",
   "id": "5eea8a009320e4a3",
   "outputs": [
    {
     "data": {
      "text/plain": [
       "array([[ 0,  1,  2,  3,  4],\n",
       "       [ 5,  6,  7,  8,  9],\n",
       "       [10, 11, 12, 13, 14],\n",
       "       [15, 16, 17, 18, 19]])"
      ]
     },
     "execution_count": 22,
     "metadata": {},
     "output_type": "execute_result"
    }
   ],
   "execution_count": 22
  },
  {
   "metadata": {
    "ExecuteTime": {
     "end_time": "2024-12-12T02:11:09.246266Z",
     "start_time": "2024-12-12T02:11:09.243390Z"
    }
   },
   "cell_type": "code",
   "source": "np.arange(20).reshape(4, 5)[:3]",
   "id": "528cdeddd9b43be3",
   "outputs": [
    {
     "data": {
      "text/plain": [
       "array([[ 0,  1,  2,  3,  4],\n",
       "       [ 5,  6,  7,  8,  9],\n",
       "       [10, 11, 12, 13, 14]])"
      ]
     },
     "execution_count": 24,
     "metadata": {},
     "output_type": "execute_result"
    }
   ],
   "execution_count": 24
  },
  {
   "metadata": {
    "ExecuteTime": {
     "end_time": "2024-12-12T02:11:26.254753Z",
     "start_time": "2024-12-12T02:11:26.251718Z"
    }
   },
   "cell_type": "code",
   "source": "np.arange(20).reshape(4, 5)[:3, 1:]\n",
   "id": "207cb2495f904f7c",
   "outputs": [
    {
     "data": {
      "text/plain": [
       "array([[ 1,  2,  3,  4],\n",
       "       [ 6,  7,  8,  9],\n",
       "       [11, 12, 13, 14]])"
      ]
     },
     "execution_count": 25,
     "metadata": {},
     "output_type": "execute_result"
    }
   ],
   "execution_count": 25
  },
  {
   "metadata": {
    "ExecuteTime": {
     "end_time": "2024-12-12T02:12:27.323886Z",
     "start_time": "2024-12-12T02:12:27.321072Z"
    }
   },
   "cell_type": "code",
   "source": "np.arange(20).reshape(4, 5)[:3, 1::2]",
   "id": "e13df390d9a2fd42",
   "outputs": [
    {
     "data": {
      "text/plain": [
       "array([[ 1,  3],\n",
       "       [ 6,  8],\n",
       "       [11, 13]])"
      ]
     },
     "execution_count": 27,
     "metadata": {},
     "output_type": "execute_result"
    }
   ],
   "execution_count": 27
  },
  {
   "metadata": {
    "ExecuteTime": {
     "end_time": "2024-12-12T02:12:55.086294Z",
     "start_time": "2024-12-12T02:12:55.083227Z"
    }
   },
   "cell_type": "code",
   "source": "np.arange(20).reshape(4, 5)",
   "id": "c4b508da3365d1fc",
   "outputs": [
    {
     "data": {
      "text/plain": [
       "array([[ 0,  1,  2,  3,  4],\n",
       "       [ 5,  6,  7,  8,  9],\n",
       "       [10, 11, 12, 13, 14],\n",
       "       [15, 16, 17, 18, 19]])"
      ]
     },
     "execution_count": 28,
     "metadata": {},
     "output_type": "execute_result"
    }
   ],
   "execution_count": 28
  },
  {
   "metadata": {
    "ExecuteTime": {
     "end_time": "2024-12-12T02:14:06.688561Z",
     "start_time": "2024-12-12T02:14:06.685870Z"
    }
   },
   "cell_type": "code",
   "source": "np.arange(20).reshape(4, 5)[:,2:]",
   "id": "b91392644d1f2aac",
   "outputs": [
    {
     "data": {
      "text/plain": [
       "array([[ 2,  3,  4],\n",
       "       [ 7,  8,  9],\n",
       "       [12, 13, 14],\n",
       "       [17, 18, 19]])"
      ]
     },
     "execution_count": 29,
     "metadata": {},
     "output_type": "execute_result"
    }
   ],
   "execution_count": 29
  },
  {
   "metadata": {
    "ExecuteTime": {
     "end_time": "2024-12-12T02:15:38.163083Z",
     "start_time": "2024-12-12T02:15:38.160493Z"
    }
   },
   "cell_type": "code",
   "source": "np.arange(20).reshape(4, 5)[1:3,1:3]",
   "id": "7c7e092ba84eeb14",
   "outputs": [
    {
     "data": {
      "text/plain": [
       "array([[ 6,  7],\n",
       "       [11, 12]])"
      ]
     },
     "execution_count": 31,
     "metadata": {},
     "output_type": "execute_result"
    }
   ],
   "execution_count": 31
  },
  {
   "metadata": {
    "ExecuteTime": {
     "end_time": "2024-12-12T02:15:48.310484Z",
     "start_time": "2024-12-12T02:15:48.307489Z"
    }
   },
   "cell_type": "code",
   "source": "np.arange(20).reshape(4, 5)",
   "id": "f2075f45cc185779",
   "outputs": [
    {
     "data": {
      "text/plain": [
       "array([[ 0,  1,  2,  3,  4],\n",
       "       [ 5,  6,  7,  8,  9],\n",
       "       [10, 11, 12, 13, 14],\n",
       "       [15, 16, 17, 18, 19]])"
      ]
     },
     "execution_count": 32,
     "metadata": {},
     "output_type": "execute_result"
    }
   ],
   "execution_count": 32
  },
  {
   "metadata": {
    "ExecuteTime": {
     "end_time": "2024-12-12T02:23:54.896027Z",
     "start_time": "2024-12-12T02:23:54.893133Z"
    }
   },
   "cell_type": "code",
   "source": "np.arange(20).reshape(4, 5)[1:,-2::-2]",
   "id": "ef3b2b88f9a615cd",
   "outputs": [
    {
     "data": {
      "text/plain": [
       "array([[ 8,  6],\n",
       "       [13, 11],\n",
       "       [18, 16]])"
      ]
     },
     "execution_count": 41,
     "metadata": {},
     "output_type": "execute_result"
    }
   ],
   "execution_count": 41
  },
  {
   "metadata": {
    "ExecuteTime": {
     "end_time": "2024-12-12T02:25:08.672135Z",
     "start_time": "2024-12-12T02:25:08.669266Z"
    }
   },
   "cell_type": "code",
   "source": "np.arange(20).reshape(4, 5)",
   "id": "58e8cef58e8b02a3",
   "outputs": [
    {
     "data": {
      "text/plain": [
       "array([[ 0,  1,  2,  3,  4],\n",
       "       [ 5,  6,  7,  8,  9],\n",
       "       [10, 11, 12, 13, 14],\n",
       "       [15, 16, 17, 18, 19]])"
      ]
     },
     "execution_count": 42,
     "metadata": {},
     "output_type": "execute_result"
    }
   ],
   "execution_count": 42
  },
  {
   "metadata": {
    "ExecuteTime": {
     "end_time": "2024-12-12T02:26:42.241428Z",
     "start_time": "2024-12-12T02:26:42.238735Z"
    }
   },
   "cell_type": "code",
   "source": "np.arange(20).reshape(4, 5)[[1, 0, 3], [1, 3, 4]]",
   "id": "368ad5a6cbb67652",
   "outputs": [
    {
     "data": {
      "text/plain": [
       "array([ 6,  3, 19])"
      ]
     },
     "execution_count": 45,
     "metadata": {},
     "output_type": "execute_result"
    }
   ],
   "execution_count": 45
  },
  {
   "metadata": {
    "ExecuteTime": {
     "end_time": "2024-12-12T02:27:54.599807Z",
     "start_time": "2024-12-12T02:27:54.596157Z"
    }
   },
   "cell_type": "code",
   "source": [
    "arr = np.arange(20).reshape(4, 5)\n",
    "arr[arr > 7]"
   ],
   "id": "b0f53ea148d9867c",
   "outputs": [
    {
     "data": {
      "text/plain": [
       "array([ 8,  9, 10, 11, 12, 13, 14, 15, 16, 17, 18, 19])"
      ]
     },
     "execution_count": 46,
     "metadata": {},
     "output_type": "execute_result"
    }
   ],
   "execution_count": 46
  },
  {
   "metadata": {
    "ExecuteTime": {
     "end_time": "2024-12-12T02:29:36.856284Z",
     "start_time": "2024-12-12T02:29:36.853416Z"
    }
   },
   "cell_type": "code",
   "source": "arr[arr % 2 == 0]",
   "id": "605006b3ca185652",
   "outputs": [
    {
     "data": {
      "text/plain": [
       "array([ 0,  2,  4,  6,  8, 10, 12, 14, 16, 18])"
      ]
     },
     "execution_count": 48,
     "metadata": {},
     "output_type": "execute_result"
    }
   ],
   "execution_count": 48
  },
  {
   "metadata": {
    "ExecuteTime": {
     "end_time": "2024-12-12T02:48:33.703767Z",
     "start_time": "2024-12-12T02:48:33.701518Z"
    }
   },
   "cell_type": "code",
   "source": [
    "def is_prime(n):\n",
    "    if n == 0 or n == 1:\n",
    "        return False\n",
    "    i = 2\n",
    "    while (i ** 2) <= n:\n",
    "        if n % i == 0:\n",
    "            return False\n",
    "        i += 1\n",
    "    return True"
   ],
   "id": "238f8f710a6cef9f",
   "outputs": [],
   "execution_count": 66
  },
  {
   "metadata": {
    "ExecuteTime": {
     "end_time": "2024-12-12T02:36:37.011144Z",
     "start_time": "2024-12-12T02:36:37.008469Z"
    }
   },
   "cell_type": "code",
   "source": "is_prime(20)",
   "id": "db6653996a9ce44c",
   "outputs": [
    {
     "data": {
      "text/plain": [
       "False"
      ]
     },
     "execution_count": 50,
     "metadata": {},
     "output_type": "execute_result"
    }
   ],
   "execution_count": 50
  },
  {
   "metadata": {
    "ExecuteTime": {
     "end_time": "2024-12-12T02:37:20.468717Z",
     "start_time": "2024-12-12T02:37:20.466503Z"
    }
   },
   "cell_type": "code",
   "source": "is_prime(19)",
   "id": "2abcd959a4f97c8f",
   "outputs": [
    {
     "data": {
      "text/plain": [
       "True"
      ]
     },
     "execution_count": 53,
     "metadata": {},
     "output_type": "execute_result"
    }
   ],
   "execution_count": 53
  },
  {
   "metadata": {
    "ExecuteTime": {
     "end_time": "2024-12-12T02:38:27.416336Z",
     "start_time": "2024-12-12T02:38:27.413761Z"
    }
   },
   "cell_type": "code",
   "source": "is_prime(139)",
   "id": "7e083fa6927d6c05",
   "outputs": [
    {
     "data": {
      "text/plain": [
       "True"
      ]
     },
     "execution_count": 58,
     "metadata": {},
     "output_type": "execute_result"
    }
   ],
   "execution_count": 58
  },
  {
   "metadata": {
    "ExecuteTime": {
     "end_time": "2024-12-12T02:48:36.555457Z",
     "start_time": "2024-12-12T02:48:36.550433Z"
    }
   },
   "cell_type": "code",
   "source": [
    "arr = np.arange(1000).reshape(100, 10).flatten()\n",
    "np.array([x for x in arr if is_prime(x)])"
   ],
   "id": "482a1bee3328bea5",
   "outputs": [
    {
     "data": {
      "text/plain": [
       "array([  2,   3,   5,   7,  11,  13,  17,  19,  23,  29,  31,  37,  41,\n",
       "        43,  47,  53,  59,  61,  67,  71,  73,  79,  83,  89,  97, 101,\n",
       "       103, 107, 109, 113, 127, 131, 137, 139, 149, 151, 157, 163, 167,\n",
       "       173, 179, 181, 191, 193, 197, 199, 211, 223, 227, 229, 233, 239,\n",
       "       241, 251, 257, 263, 269, 271, 277, 281, 283, 293, 307, 311, 313,\n",
       "       317, 331, 337, 347, 349, 353, 359, 367, 373, 379, 383, 389, 397,\n",
       "       401, 409, 419, 421, 431, 433, 439, 443, 449, 457, 461, 463, 467,\n",
       "       479, 487, 491, 499, 503, 509, 521, 523, 541, 547, 557, 563, 569,\n",
       "       571, 577, 587, 593, 599, 601, 607, 613, 617, 619, 631, 641, 643,\n",
       "       647, 653, 659, 661, 673, 677, 683, 691, 701, 709, 719, 727, 733,\n",
       "       739, 743, 751, 757, 761, 769, 773, 787, 797, 809, 811, 821, 823,\n",
       "       827, 829, 839, 853, 857, 859, 863, 877, 881, 883, 887, 907, 911,\n",
       "       919, 929, 937, 941, 947, 953, 967, 971, 977, 983, 991, 997])"
      ]
     },
     "execution_count": 67,
     "metadata": {},
     "output_type": "execute_result"
    }
   ],
   "execution_count": 67
  },
  {
   "metadata": {
    "ExecuteTime": {
     "end_time": "2024-12-12T02:58:58.669852Z",
     "start_time": "2024-12-12T02:58:58.666795Z"
    }
   },
   "cell_type": "code",
   "source": "np.arange(10).reshape(2, 5) - 1",
   "id": "cccb77183a181278",
   "outputs": [
    {
     "data": {
      "text/plain": [
       "array([[-1,  0,  1,  2,  3],\n",
       "       [ 4,  5,  6,  7,  8]])"
      ]
     },
     "execution_count": 75,
     "metadata": {},
     "output_type": "execute_result"
    }
   ],
   "execution_count": 75
  },
  {
   "metadata": {
    "ExecuteTime": {
     "end_time": "2024-12-12T03:00:18.309372Z",
     "start_time": "2024-12-12T03:00:18.306307Z"
    }
   },
   "cell_type": "code",
   "source": "np.arange(10).reshape(2, 5).max()",
   "id": "28d919feb0b69e34",
   "outputs": [
    {
     "data": {
      "text/plain": [
       "np.int64(9)"
      ]
     },
     "execution_count": 77,
     "metadata": {},
     "output_type": "execute_result"
    }
   ],
   "execution_count": 77
  },
  {
   "metadata": {
    "ExecuteTime": {
     "end_time": "2024-12-12T03:00:27.473317Z",
     "start_time": "2024-12-12T03:00:27.470504Z"
    }
   },
   "cell_type": "code",
   "source": "np.arange(10).reshape(2, 5).min()\n",
   "id": "a2f545641e771054",
   "outputs": [
    {
     "data": {
      "text/plain": [
       "np.int64(0)"
      ]
     },
     "execution_count": 78,
     "metadata": {},
     "output_type": "execute_result"
    }
   ],
   "execution_count": 78
  },
  {
   "metadata": {
    "ExecuteTime": {
     "end_time": "2024-12-12T03:00:42.156088Z",
     "start_time": "2024-12-12T03:00:42.153408Z"
    }
   },
   "cell_type": "code",
   "source": "np.arange(10).reshape(2, 5).sum()",
   "id": "96e20c5679c73449",
   "outputs": [
    {
     "data": {
      "text/plain": [
       "np.int64(45)"
      ]
     },
     "execution_count": 79,
     "metadata": {},
     "output_type": "execute_result"
    }
   ],
   "execution_count": 79
  },
  {
   "metadata": {
    "ExecuteTime": {
     "end_time": "2024-12-12T03:02:00.547552Z",
     "start_time": "2024-12-12T03:02:00.544010Z"
    }
   },
   "cell_type": "code",
   "source": "np.arange(10).reshape(2, 5).transpose()",
   "id": "a2fd864df68baed6",
   "outputs": [
    {
     "data": {
      "text/plain": [
       "array([[0, 5],\n",
       "       [1, 6],\n",
       "       [2, 7],\n",
       "       [3, 8],\n",
       "       [4, 9]])"
      ]
     },
     "execution_count": 81,
     "metadata": {},
     "output_type": "execute_result"
    }
   ],
   "execution_count": 81
  },
  {
   "metadata": {
    "ExecuteTime": {
     "end_time": "2024-12-12T03:03:19.426627Z",
     "start_time": "2024-12-12T03:03:19.423994Z"
    }
   },
   "cell_type": "code",
   "source": "np.arange(10).reshape(2, 5).max(axis=0)",
   "id": "d221c74584d8ea83",
   "outputs": [
    {
     "data": {
      "text/plain": [
       "array([5, 6, 7, 8, 9])"
      ]
     },
     "execution_count": 85,
     "metadata": {},
     "output_type": "execute_result"
    }
   ],
   "execution_count": 85
  },
  {
   "metadata": {
    "ExecuteTime": {
     "end_time": "2024-12-12T03:04:19.084930Z",
     "start_time": "2024-12-12T03:04:19.082935Z"
    }
   },
   "cell_type": "code",
   "source": [
    "a = np.arange(10).reshape(2, 5)\n",
    "b = np.arange(10, 20).reshape(2, 5)"
   ],
   "id": "6614cc30a84a8eb",
   "outputs": [],
   "execution_count": 87
  },
  {
   "metadata": {
    "ExecuteTime": {
     "end_time": "2024-12-12T03:04:27.265193Z",
     "start_time": "2024-12-12T03:04:27.262229Z"
    }
   },
   "cell_type": "code",
   "source": "a + b",
   "id": "1d0b2e8cedaba14a",
   "outputs": [
    {
     "data": {
      "text/plain": [
       "array([[10, 12, 14, 16, 18],\n",
       "       [20, 22, 24, 26, 28]])"
      ]
     },
     "execution_count": 88,
     "metadata": {},
     "output_type": "execute_result"
    }
   ],
   "execution_count": 88
  },
  {
   "metadata": {
    "ExecuteTime": {
     "end_time": "2024-12-12T03:05:23.101024Z",
     "start_time": "2024-12-12T03:05:23.098287Z"
    }
   },
   "cell_type": "code",
   "source": "a * b",
   "id": "524135f12dd00757",
   "outputs": [
    {
     "data": {
      "text/plain": [
       "array([[  0,  11,  24,  39,  56],\n",
       "       [ 75,  96, 119, 144, 171]])"
      ]
     },
     "execution_count": 89,
     "metadata": {},
     "output_type": "execute_result"
    }
   ],
   "execution_count": 89
  },
  {
   "metadata": {
    "ExecuteTime": {
     "end_time": "2024-12-12T03:07:35.827901Z",
     "start_time": "2024-12-12T03:07:35.825428Z"
    }
   },
   "cell_type": "code",
   "source": "a.dot(b.reshape(5, 2))",
   "id": "adca8cbe91b9f19e",
   "outputs": [
    {
     "data": {
      "text/plain": [
       "array([[160, 170],\n",
       "       [510, 545]])"
      ]
     },
     "execution_count": 91,
     "metadata": {},
     "output_type": "execute_result"
    }
   ],
   "execution_count": 91
  },
  {
   "metadata": {},
   "cell_type": "code",
   "outputs": [],
   "execution_count": null,
   "source": "# n x m \\dot m x n = n x n",
   "id": "6eaaee606e82b544"
  },
  {
   "metadata": {},
   "cell_type": "markdown",
   "source": "",
   "id": "6edddfb9cabf8311"
  },
  {
   "metadata": {
    "ExecuteTime": {
     "end_time": "2024-12-17T01:58:46.641130Z",
     "start_time": "2024-12-17T01:58:46.638854Z"
    }
   },
   "cell_type": "code",
   "source": "import pandas as pd",
   "id": "f19bed985254363a",
   "outputs": [],
   "execution_count": 2
  },
  {
   "metadata": {
    "ExecuteTime": {
     "end_time": "2024-12-17T02:04:54.751552Z",
     "start_time": "2024-12-17T02:04:54.749429Z"
    }
   },
   "cell_type": "code",
   "source": "s = pd.Series([1, 2,4, 5, 9])",
   "id": "28a6d416f60266f6",
   "outputs": [],
   "execution_count": 3
  },
  {
   "metadata": {
    "ExecuteTime": {
     "end_time": "2024-12-17T02:05:13.022504Z",
     "start_time": "2024-12-17T02:05:13.019023Z"
    }
   },
   "cell_type": "code",
   "source": "s",
   "id": "24357dc298454bcc",
   "outputs": [
    {
     "data": {
      "text/plain": [
       "0    1\n",
       "1    2\n",
       "2    4\n",
       "3    5\n",
       "4    9\n",
       "dtype: int64"
      ]
     },
     "execution_count": 4,
     "metadata": {},
     "output_type": "execute_result"
    }
   ],
   "execution_count": 4
  },
  {
   "metadata": {
    "ExecuteTime": {
     "end_time": "2024-12-17T02:06:05.407975Z",
     "start_time": "2024-12-17T02:06:05.405377Z"
    }
   },
   "cell_type": "code",
   "source": [
    "my_array = np.array([1, 2, 3, 4, 5])\n",
    "my_array"
   ],
   "id": "f721a72a506c10a5",
   "outputs": [
    {
     "data": {
      "text/plain": [
       "array([1, 2, 3, 4, 5])"
      ]
     },
     "execution_count": 8,
     "metadata": {},
     "output_type": "execute_result"
    }
   ],
   "execution_count": 8
  },
  {
   "metadata": {
    "ExecuteTime": {
     "end_time": "2024-12-17T02:08:36.846204Z",
     "start_time": "2024-12-17T02:08:36.841424Z"
    }
   },
   "cell_type": "code",
   "source": [
    "dates_serie = pd.date_range('20190101', periods=5)\n",
    "dates_serie"
   ],
   "id": "e5714f90e542e70a",
   "outputs": [
    {
     "data": {
      "text/plain": [
       "DatetimeIndex(['2019-01-01', '2019-01-02', '2019-01-03', '2019-01-04',\n",
       "               '2019-01-05'],\n",
       "              dtype='datetime64[ns]', freq='D')"
      ]
     },
     "execution_count": 9,
     "metadata": {},
     "output_type": "execute_result"
    }
   ],
   "execution_count": 9
  },
  {
   "metadata": {
    "ExecuteTime": {
     "end_time": "2024-12-17T02:09:11.996235Z",
     "start_time": "2024-12-17T02:09:11.992182Z"
    }
   },
   "cell_type": "code",
   "source": [
    "dates_serie = pd.date_range('20190101', periods=365)\n",
    "dates_serie"
   ],
   "id": "5fd8e99cbe72870f",
   "outputs": [
    {
     "data": {
      "text/plain": [
       "DatetimeIndex(['2019-01-01', '2019-01-02', '2019-01-03', '2019-01-04',\n",
       "               '2019-01-05', '2019-01-06', '2019-01-07', '2019-01-08',\n",
       "               '2019-01-09', '2019-01-10',\n",
       "               ...\n",
       "               '2019-12-22', '2019-12-23', '2019-12-24', '2019-12-25',\n",
       "               '2019-12-26', '2019-12-27', '2019-12-28', '2019-12-29',\n",
       "               '2019-12-30', '2019-12-31'],\n",
       "              dtype='datetime64[ns]', length=365, freq='D')"
      ]
     },
     "execution_count": 11,
     "metadata": {},
     "output_type": "execute_result"
    }
   ],
   "execution_count": 11
  },
  {
   "metadata": {
    "ExecuteTime": {
     "end_time": "2024-12-17T02:12:54.535567Z",
     "start_time": "2024-12-17T02:12:54.532541Z"
    }
   },
   "cell_type": "code",
   "source": [
    "dates_serie = pd.date_range('20190101', periods=12, freq='ME')\n",
    "dates_serie"
   ],
   "id": "9cbd42901b759e7a",
   "outputs": [
    {
     "data": {
      "text/plain": [
       "DatetimeIndex(['2019-01-31', '2019-02-28', '2019-03-31', '2019-04-30',\n",
       "               '2019-05-31', '2019-06-30', '2019-07-31', '2019-08-31',\n",
       "               '2019-09-30', '2019-10-31', '2019-11-30', '2019-12-31'],\n",
       "              dtype='datetime64[ns]', freq='ME')"
      ]
     },
     "execution_count": 15,
     "metadata": {},
     "output_type": "execute_result"
    }
   ],
   "execution_count": 15
  },
  {
   "metadata": {
    "ExecuteTime": {
     "end_time": "2024-12-17T02:22:35.358329Z",
     "start_time": "2024-12-17T02:22:35.355329Z"
    }
   },
   "cell_type": "code",
   "source": [
    "dates_serie = pd.date_range('20241216', periods=10, freq='min')\n",
    "dates_serie"
   ],
   "id": "962376f6a709c367",
   "outputs": [
    {
     "data": {
      "text/plain": [
       "DatetimeIndex(['2024-12-16 00:00:00', '2024-12-16 00:01:00',\n",
       "               '2024-12-16 00:02:00', '2024-12-16 00:03:00',\n",
       "               '2024-12-16 00:04:00', '2024-12-16 00:05:00',\n",
       "               '2024-12-16 00:06:00', '2024-12-16 00:07:00',\n",
       "               '2024-12-16 00:08:00', '2024-12-16 00:09:00'],\n",
       "              dtype='datetime64[ns]', freq='min')"
      ]
     },
     "execution_count": 20,
     "metadata": {},
     "output_type": "execute_result"
    }
   ],
   "execution_count": 20
  },
  {
   "metadata": {
    "ExecuteTime": {
     "end_time": "2024-12-17T02:27:07.863545Z",
     "start_time": "2024-12-17T02:27:07.859041Z"
    }
   },
   "cell_type": "code",
   "source": [
    "df = pd.DataFrame(\n",
    "    {\n",
    "        \"Nombre\": ['Yadira', 'Roman', 'Valeria', 'Rodrigo', 'Daniel'],\n",
    "        \"Color\": ['Naranja', 'Foto', 'Foto', 'Naranja', 'Morado'],\n",
    "        \"Nonce\": [2, 5, 4, 6, 7]\n",
    "    }\n",
    ")\n",
    "df"
   ],
   "id": "6be02a5a565e861",
   "outputs": [
    {
     "data": {
      "text/plain": [
       "    Nombre    Color  Nonce\n",
       "0   Yadira  Naranja      2\n",
       "1    Roman     Foto      5\n",
       "2  Valeria     Foto      4\n",
       "3  Rodrigo  Naranja      6\n",
       "4   Daniel   Morado      7"
      ],
      "text/html": [
       "<div>\n",
       "<style scoped>\n",
       "    .dataframe tbody tr th:only-of-type {\n",
       "        vertical-align: middle;\n",
       "    }\n",
       "\n",
       "    .dataframe tbody tr th {\n",
       "        vertical-align: top;\n",
       "    }\n",
       "\n",
       "    .dataframe thead th {\n",
       "        text-align: right;\n",
       "    }\n",
       "</style>\n",
       "<table border=\"1\" class=\"dataframe\">\n",
       "  <thead>\n",
       "    <tr style=\"text-align: right;\">\n",
       "      <th></th>\n",
       "      <th>Nombre</th>\n",
       "      <th>Color</th>\n",
       "      <th>Nonce</th>\n",
       "    </tr>\n",
       "  </thead>\n",
       "  <tbody>\n",
       "    <tr>\n",
       "      <th>0</th>\n",
       "      <td>Yadira</td>\n",
       "      <td>Naranja</td>\n",
       "      <td>2</td>\n",
       "    </tr>\n",
       "    <tr>\n",
       "      <th>1</th>\n",
       "      <td>Roman</td>\n",
       "      <td>Foto</td>\n",
       "      <td>5</td>\n",
       "    </tr>\n",
       "    <tr>\n",
       "      <th>2</th>\n",
       "      <td>Valeria</td>\n",
       "      <td>Foto</td>\n",
       "      <td>4</td>\n",
       "    </tr>\n",
       "    <tr>\n",
       "      <th>3</th>\n",
       "      <td>Rodrigo</td>\n",
       "      <td>Naranja</td>\n",
       "      <td>6</td>\n",
       "    </tr>\n",
       "    <tr>\n",
       "      <th>4</th>\n",
       "      <td>Daniel</td>\n",
       "      <td>Morado</td>\n",
       "      <td>7</td>\n",
       "    </tr>\n",
       "  </tbody>\n",
       "</table>\n",
       "</div>"
      ]
     },
     "execution_count": 21,
     "metadata": {},
     "output_type": "execute_result"
    }
   ],
   "execution_count": 21
  },
  {
   "metadata": {
    "ExecuteTime": {
     "end_time": "2024-12-17T02:56:35.434316Z",
     "start_time": "2024-12-17T02:56:35.429346Z"
    }
   },
   "cell_type": "code",
   "source": [
    "df = pd.DataFrame(\n",
    "    {\n",
    "        \"Nombre\": ['Yadira', 'Roman', 'Valeria', 'Rodrigo', 'Daniel'],\n",
    "        \"Color\": ['Naranja', 'Foto', 'Foto', 'Naranja', 'Morado'],\n",
    "        \"Nonce\": [2, 5, 4, 6, 7]\n",
    "    }, index=[1, 2, 3, 4, 5]\n",
    ")\n",
    "df"
   ],
   "id": "73523c696e4d3828",
   "outputs": [
    {
     "data": {
      "text/plain": [
       "    Nombre    Color  Nonce\n",
       "1   Yadira  Naranja      2\n",
       "2    Roman     Foto      5\n",
       "3  Valeria     Foto      4\n",
       "4  Rodrigo  Naranja      6\n",
       "5   Daniel   Morado      7"
      ],
      "text/html": [
       "<div>\n",
       "<style scoped>\n",
       "    .dataframe tbody tr th:only-of-type {\n",
       "        vertical-align: middle;\n",
       "    }\n",
       "\n",
       "    .dataframe tbody tr th {\n",
       "        vertical-align: top;\n",
       "    }\n",
       "\n",
       "    .dataframe thead th {\n",
       "        text-align: right;\n",
       "    }\n",
       "</style>\n",
       "<table border=\"1\" class=\"dataframe\">\n",
       "  <thead>\n",
       "    <tr style=\"text-align: right;\">\n",
       "      <th></th>\n",
       "      <th>Nombre</th>\n",
       "      <th>Color</th>\n",
       "      <th>Nonce</th>\n",
       "    </tr>\n",
       "  </thead>\n",
       "  <tbody>\n",
       "    <tr>\n",
       "      <th>1</th>\n",
       "      <td>Yadira</td>\n",
       "      <td>Naranja</td>\n",
       "      <td>2</td>\n",
       "    </tr>\n",
       "    <tr>\n",
       "      <th>2</th>\n",
       "      <td>Roman</td>\n",
       "      <td>Foto</td>\n",
       "      <td>5</td>\n",
       "    </tr>\n",
       "    <tr>\n",
       "      <th>3</th>\n",
       "      <td>Valeria</td>\n",
       "      <td>Foto</td>\n",
       "      <td>4</td>\n",
       "    </tr>\n",
       "    <tr>\n",
       "      <th>4</th>\n",
       "      <td>Rodrigo</td>\n",
       "      <td>Naranja</td>\n",
       "      <td>6</td>\n",
       "    </tr>\n",
       "    <tr>\n",
       "      <th>5</th>\n",
       "      <td>Daniel</td>\n",
       "      <td>Morado</td>\n",
       "      <td>7</td>\n",
       "    </tr>\n",
       "  </tbody>\n",
       "</table>\n",
       "</div>"
      ]
     },
     "execution_count": 58,
     "metadata": {},
     "output_type": "execute_result"
    }
   ],
   "execution_count": 58
  },
  {
   "metadata": {
    "ExecuteTime": {
     "end_time": "2024-12-17T02:58:42.172631Z",
     "start_time": "2024-12-17T02:58:42.168645Z"
    }
   },
   "cell_type": "code",
   "source": "df.sort_values(by='Nombre', ascending=False)",
   "id": "aec0692ecdcd444d",
   "outputs": [
    {
     "data": {
      "text/plain": [
       "    Nombre    Color  Nonce\n",
       "1   Yadira  Naranja      2\n",
       "3  Valeria     Foto      4\n",
       "2    Roman     Foto      5\n",
       "4  Rodrigo  Naranja      6\n",
       "5   Daniel   Morado      7"
      ],
      "text/html": [
       "<div>\n",
       "<style scoped>\n",
       "    .dataframe tbody tr th:only-of-type {\n",
       "        vertical-align: middle;\n",
       "    }\n",
       "\n",
       "    .dataframe tbody tr th {\n",
       "        vertical-align: top;\n",
       "    }\n",
       "\n",
       "    .dataframe thead th {\n",
       "        text-align: right;\n",
       "    }\n",
       "</style>\n",
       "<table border=\"1\" class=\"dataframe\">\n",
       "  <thead>\n",
       "    <tr style=\"text-align: right;\">\n",
       "      <th></th>\n",
       "      <th>Nombre</th>\n",
       "      <th>Color</th>\n",
       "      <th>Nonce</th>\n",
       "    </tr>\n",
       "  </thead>\n",
       "  <tbody>\n",
       "    <tr>\n",
       "      <th>1</th>\n",
       "      <td>Yadira</td>\n",
       "      <td>Naranja</td>\n",
       "      <td>2</td>\n",
       "    </tr>\n",
       "    <tr>\n",
       "      <th>3</th>\n",
       "      <td>Valeria</td>\n",
       "      <td>Foto</td>\n",
       "      <td>4</td>\n",
       "    </tr>\n",
       "    <tr>\n",
       "      <th>2</th>\n",
       "      <td>Roman</td>\n",
       "      <td>Foto</td>\n",
       "      <td>5</td>\n",
       "    </tr>\n",
       "    <tr>\n",
       "      <th>4</th>\n",
       "      <td>Rodrigo</td>\n",
       "      <td>Naranja</td>\n",
       "      <td>6</td>\n",
       "    </tr>\n",
       "    <tr>\n",
       "      <th>5</th>\n",
       "      <td>Daniel</td>\n",
       "      <td>Morado</td>\n",
       "      <td>7</td>\n",
       "    </tr>\n",
       "  </tbody>\n",
       "</table>\n",
       "</div>"
      ]
     },
     "execution_count": 63,
     "metadata": {},
     "output_type": "execute_result"
    }
   ],
   "execution_count": 63
  },
  {
   "metadata": {
    "ExecuteTime": {
     "end_time": "2024-12-17T02:53:37.830693Z",
     "start_time": "2024-12-17T02:53:37.825768Z"
    }
   },
   "cell_type": "code",
   "source": "df.describe()",
   "id": "88ec05e50f1f2360",
   "outputs": [
    {
     "data": {
      "text/plain": [
       "          Nonce\n",
       "count  5.000000\n",
       "mean   4.800000\n",
       "std    1.923538\n",
       "min    2.000000\n",
       "25%    4.000000\n",
       "50%    5.000000\n",
       "75%    6.000000\n",
       "max    7.000000"
      ],
      "text/html": [
       "<div>\n",
       "<style scoped>\n",
       "    .dataframe tbody tr th:only-of-type {\n",
       "        vertical-align: middle;\n",
       "    }\n",
       "\n",
       "    .dataframe tbody tr th {\n",
       "        vertical-align: top;\n",
       "    }\n",
       "\n",
       "    .dataframe thead th {\n",
       "        text-align: right;\n",
       "    }\n",
       "</style>\n",
       "<table border=\"1\" class=\"dataframe\">\n",
       "  <thead>\n",
       "    <tr style=\"text-align: right;\">\n",
       "      <th></th>\n",
       "      <th>Nonce</th>\n",
       "    </tr>\n",
       "  </thead>\n",
       "  <tbody>\n",
       "    <tr>\n",
       "      <th>count</th>\n",
       "      <td>5.000000</td>\n",
       "    </tr>\n",
       "    <tr>\n",
       "      <th>mean</th>\n",
       "      <td>4.800000</td>\n",
       "    </tr>\n",
       "    <tr>\n",
       "      <th>std</th>\n",
       "      <td>1.923538</td>\n",
       "    </tr>\n",
       "    <tr>\n",
       "      <th>min</th>\n",
       "      <td>2.000000</td>\n",
       "    </tr>\n",
       "    <tr>\n",
       "      <th>25%</th>\n",
       "      <td>4.000000</td>\n",
       "    </tr>\n",
       "    <tr>\n",
       "      <th>50%</th>\n",
       "      <td>5.000000</td>\n",
       "    </tr>\n",
       "    <tr>\n",
       "      <th>75%</th>\n",
       "      <td>6.000000</td>\n",
       "    </tr>\n",
       "    <tr>\n",
       "      <th>max</th>\n",
       "      <td>7.000000</td>\n",
       "    </tr>\n",
       "  </tbody>\n",
       "</table>\n",
       "</div>"
      ]
     },
     "execution_count": 53,
     "metadata": {},
     "output_type": "execute_result"
    }
   ],
   "execution_count": 53
  },
  {
   "metadata": {
    "ExecuteTime": {
     "end_time": "2024-12-17T02:45:45.864562Z",
     "start_time": "2024-12-17T02:45:45.861226Z"
    }
   },
   "cell_type": "code",
   "source": "df.dtypes",
   "id": "3155aa339ea38113",
   "outputs": [
    {
     "data": {
      "text/plain": [
       "Nombre    object\n",
       "Color     object\n",
       "Nonce      int64\n",
       "dtype: object"
      ]
     },
     "execution_count": 38,
     "metadata": {},
     "output_type": "execute_result"
    }
   ],
   "execution_count": 38
  },
  {
   "metadata": {
    "ExecuteTime": {
     "end_time": "2024-12-17T02:30:30.393717Z",
     "start_time": "2024-12-17T02:30:30.390367Z"
    }
   },
   "cell_type": "code",
   "source": "df.iloc[4]",
   "id": "3fb699f3717005f6",
   "outputs": [
    {
     "data": {
      "text/plain": [
       "Nombre    Daniel\n",
       "Color     Morado\n",
       "Nonce          7\n",
       "Name: 5, dtype: object"
      ]
     },
     "execution_count": 29,
     "metadata": {},
     "output_type": "execute_result"
    }
   ],
   "execution_count": 29
  },
  {
   "metadata": {
    "ExecuteTime": {
     "end_time": "2024-12-17T03:01:19.092580Z",
     "start_time": "2024-12-17T03:01:19.087235Z"
    }
   },
   "cell_type": "code",
   "source": [
    "df = pd.DataFrame(np.arange(1000).reshape(200, 5), index=pd.date_range('20241216', periods=200, freq='D'), columns=['A', 'B', 'C', 'D', 'E'] )\n",
    "df"
   ],
   "id": "88b3b1158ba931e5",
   "outputs": [
    {
     "data": {
      "text/plain": [
       "              A    B    C    D    E\n",
       "2024-12-16    0    1    2    3    4\n",
       "2024-12-17    5    6    7    8    9\n",
       "2024-12-18   10   11   12   13   14\n",
       "2024-12-19   15   16   17   18   19\n",
       "2024-12-20   20   21   22   23   24\n",
       "...         ...  ...  ...  ...  ...\n",
       "2025-06-29  975  976  977  978  979\n",
       "2025-06-30  980  981  982  983  984\n",
       "2025-07-01  985  986  987  988  989\n",
       "2025-07-02  990  991  992  993  994\n",
       "2025-07-03  995  996  997  998  999\n",
       "\n",
       "[200 rows x 5 columns]"
      ],
      "text/html": [
       "<div>\n",
       "<style scoped>\n",
       "    .dataframe tbody tr th:only-of-type {\n",
       "        vertical-align: middle;\n",
       "    }\n",
       "\n",
       "    .dataframe tbody tr th {\n",
       "        vertical-align: top;\n",
       "    }\n",
       "\n",
       "    .dataframe thead th {\n",
       "        text-align: right;\n",
       "    }\n",
       "</style>\n",
       "<table border=\"1\" class=\"dataframe\">\n",
       "  <thead>\n",
       "    <tr style=\"text-align: right;\">\n",
       "      <th></th>\n",
       "      <th>A</th>\n",
       "      <th>B</th>\n",
       "      <th>C</th>\n",
       "      <th>D</th>\n",
       "      <th>E</th>\n",
       "    </tr>\n",
       "  </thead>\n",
       "  <tbody>\n",
       "    <tr>\n",
       "      <th>2024-12-16</th>\n",
       "      <td>0</td>\n",
       "      <td>1</td>\n",
       "      <td>2</td>\n",
       "      <td>3</td>\n",
       "      <td>4</td>\n",
       "    </tr>\n",
       "    <tr>\n",
       "      <th>2024-12-17</th>\n",
       "      <td>5</td>\n",
       "      <td>6</td>\n",
       "      <td>7</td>\n",
       "      <td>8</td>\n",
       "      <td>9</td>\n",
       "    </tr>\n",
       "    <tr>\n",
       "      <th>2024-12-18</th>\n",
       "      <td>10</td>\n",
       "      <td>11</td>\n",
       "      <td>12</td>\n",
       "      <td>13</td>\n",
       "      <td>14</td>\n",
       "    </tr>\n",
       "    <tr>\n",
       "      <th>2024-12-19</th>\n",
       "      <td>15</td>\n",
       "      <td>16</td>\n",
       "      <td>17</td>\n",
       "      <td>18</td>\n",
       "      <td>19</td>\n",
       "    </tr>\n",
       "    <tr>\n",
       "      <th>2024-12-20</th>\n",
       "      <td>20</td>\n",
       "      <td>21</td>\n",
       "      <td>22</td>\n",
       "      <td>23</td>\n",
       "      <td>24</td>\n",
       "    </tr>\n",
       "    <tr>\n",
       "      <th>...</th>\n",
       "      <td>...</td>\n",
       "      <td>...</td>\n",
       "      <td>...</td>\n",
       "      <td>...</td>\n",
       "      <td>...</td>\n",
       "    </tr>\n",
       "    <tr>\n",
       "      <th>2025-06-29</th>\n",
       "      <td>975</td>\n",
       "      <td>976</td>\n",
       "      <td>977</td>\n",
       "      <td>978</td>\n",
       "      <td>979</td>\n",
       "    </tr>\n",
       "    <tr>\n",
       "      <th>2025-06-30</th>\n",
       "      <td>980</td>\n",
       "      <td>981</td>\n",
       "      <td>982</td>\n",
       "      <td>983</td>\n",
       "      <td>984</td>\n",
       "    </tr>\n",
       "    <tr>\n",
       "      <th>2025-07-01</th>\n",
       "      <td>985</td>\n",
       "      <td>986</td>\n",
       "      <td>987</td>\n",
       "      <td>988</td>\n",
       "      <td>989</td>\n",
       "    </tr>\n",
       "    <tr>\n",
       "      <th>2025-07-02</th>\n",
       "      <td>990</td>\n",
       "      <td>991</td>\n",
       "      <td>992</td>\n",
       "      <td>993</td>\n",
       "      <td>994</td>\n",
       "    </tr>\n",
       "    <tr>\n",
       "      <th>2025-07-03</th>\n",
       "      <td>995</td>\n",
       "      <td>996</td>\n",
       "      <td>997</td>\n",
       "      <td>998</td>\n",
       "      <td>999</td>\n",
       "    </tr>\n",
       "  </tbody>\n",
       "</table>\n",
       "<p>200 rows × 5 columns</p>\n",
       "</div>"
      ]
     },
     "execution_count": 64,
     "metadata": {},
     "output_type": "execute_result"
    }
   ],
   "execution_count": 64
  },
  {
   "metadata": {
    "ExecuteTime": {
     "end_time": "2024-12-17T02:44:15.136901Z",
     "start_time": "2024-12-17T02:44:15.132806Z"
    }
   },
   "cell_type": "code",
   "source": [
    "# REST API\n",
    "df.head()"
   ],
   "id": "50cdcf65ff936804",
   "outputs": [
    {
     "data": {
      "text/plain": [
       "             A   B   C   D   E\n",
       "2024-12-16   0   1   2   3   4\n",
       "2024-12-17   5   6   7   8   9\n",
       "2024-12-18  10  11  12  13  14\n",
       "2024-12-19  15  16  17  18  19\n",
       "2024-12-20  20  21  22  23  24"
      ],
      "text/html": [
       "<div>\n",
       "<style scoped>\n",
       "    .dataframe tbody tr th:only-of-type {\n",
       "        vertical-align: middle;\n",
       "    }\n",
       "\n",
       "    .dataframe tbody tr th {\n",
       "        vertical-align: top;\n",
       "    }\n",
       "\n",
       "    .dataframe thead th {\n",
       "        text-align: right;\n",
       "    }\n",
       "</style>\n",
       "<table border=\"1\" class=\"dataframe\">\n",
       "  <thead>\n",
       "    <tr style=\"text-align: right;\">\n",
       "      <th></th>\n",
       "      <th>A</th>\n",
       "      <th>B</th>\n",
       "      <th>C</th>\n",
       "      <th>D</th>\n",
       "      <th>E</th>\n",
       "    </tr>\n",
       "  </thead>\n",
       "  <tbody>\n",
       "    <tr>\n",
       "      <th>2024-12-16</th>\n",
       "      <td>0</td>\n",
       "      <td>1</td>\n",
       "      <td>2</td>\n",
       "      <td>3</td>\n",
       "      <td>4</td>\n",
       "    </tr>\n",
       "    <tr>\n",
       "      <th>2024-12-17</th>\n",
       "      <td>5</td>\n",
       "      <td>6</td>\n",
       "      <td>7</td>\n",
       "      <td>8</td>\n",
       "      <td>9</td>\n",
       "    </tr>\n",
       "    <tr>\n",
       "      <th>2024-12-18</th>\n",
       "      <td>10</td>\n",
       "      <td>11</td>\n",
       "      <td>12</td>\n",
       "      <td>13</td>\n",
       "      <td>14</td>\n",
       "    </tr>\n",
       "    <tr>\n",
       "      <th>2024-12-19</th>\n",
       "      <td>15</td>\n",
       "      <td>16</td>\n",
       "      <td>17</td>\n",
       "      <td>18</td>\n",
       "      <td>19</td>\n",
       "    </tr>\n",
       "    <tr>\n",
       "      <th>2024-12-20</th>\n",
       "      <td>20</td>\n",
       "      <td>21</td>\n",
       "      <td>22</td>\n",
       "      <td>23</td>\n",
       "      <td>24</td>\n",
       "    </tr>\n",
       "  </tbody>\n",
       "</table>\n",
       "</div>"
      ]
     },
     "execution_count": 33,
     "metadata": {},
     "output_type": "execute_result"
    }
   ],
   "execution_count": 33
  },
  {
   "metadata": {
    "ExecuteTime": {
     "end_time": "2024-12-17T02:44:26.893485Z",
     "start_time": "2024-12-17T02:44:26.889567Z"
    }
   },
   "cell_type": "code",
   "source": "df.tail()",
   "id": "6e54601eabdc8dab",
   "outputs": [
    {
     "data": {
      "text/plain": [
       "              A    B    C    D    E\n",
       "2025-06-29  975  976  977  978  979\n",
       "2025-06-30  980  981  982  983  984\n",
       "2025-07-01  985  986  987  988  989\n",
       "2025-07-02  990  991  992  993  994\n",
       "2025-07-03  995  996  997  998  999"
      ],
      "text/html": [
       "<div>\n",
       "<style scoped>\n",
       "    .dataframe tbody tr th:only-of-type {\n",
       "        vertical-align: middle;\n",
       "    }\n",
       "\n",
       "    .dataframe tbody tr th {\n",
       "        vertical-align: top;\n",
       "    }\n",
       "\n",
       "    .dataframe thead th {\n",
       "        text-align: right;\n",
       "    }\n",
       "</style>\n",
       "<table border=\"1\" class=\"dataframe\">\n",
       "  <thead>\n",
       "    <tr style=\"text-align: right;\">\n",
       "      <th></th>\n",
       "      <th>A</th>\n",
       "      <th>B</th>\n",
       "      <th>C</th>\n",
       "      <th>D</th>\n",
       "      <th>E</th>\n",
       "    </tr>\n",
       "  </thead>\n",
       "  <tbody>\n",
       "    <tr>\n",
       "      <th>2025-06-29</th>\n",
       "      <td>975</td>\n",
       "      <td>976</td>\n",
       "      <td>977</td>\n",
       "      <td>978</td>\n",
       "      <td>979</td>\n",
       "    </tr>\n",
       "    <tr>\n",
       "      <th>2025-06-30</th>\n",
       "      <td>980</td>\n",
       "      <td>981</td>\n",
       "      <td>982</td>\n",
       "      <td>983</td>\n",
       "      <td>984</td>\n",
       "    </tr>\n",
       "    <tr>\n",
       "      <th>2025-07-01</th>\n",
       "      <td>985</td>\n",
       "      <td>986</td>\n",
       "      <td>987</td>\n",
       "      <td>988</td>\n",
       "      <td>989</td>\n",
       "    </tr>\n",
       "    <tr>\n",
       "      <th>2025-07-02</th>\n",
       "      <td>990</td>\n",
       "      <td>991</td>\n",
       "      <td>992</td>\n",
       "      <td>993</td>\n",
       "      <td>994</td>\n",
       "    </tr>\n",
       "    <tr>\n",
       "      <th>2025-07-03</th>\n",
       "      <td>995</td>\n",
       "      <td>996</td>\n",
       "      <td>997</td>\n",
       "      <td>998</td>\n",
       "      <td>999</td>\n",
       "    </tr>\n",
       "  </tbody>\n",
       "</table>\n",
       "</div>"
      ]
     },
     "execution_count": 34,
     "metadata": {},
     "output_type": "execute_result"
    }
   ],
   "execution_count": 34
  },
  {
   "metadata": {
    "ExecuteTime": {
     "end_time": "2024-12-17T02:45:00.264528Z",
     "start_time": "2024-12-17T02:45:00.261205Z"
    }
   },
   "cell_type": "code",
   "source": "df.dtypes",
   "id": "327f686ab81155f5",
   "outputs": [
    {
     "data": {
      "text/plain": [
       "A    int64\n",
       "B    int64\n",
       "C    int64\n",
       "D    int64\n",
       "E    int64\n",
       "dtype: object"
      ]
     },
     "execution_count": 35,
     "metadata": {},
     "output_type": "execute_result"
    }
   ],
   "execution_count": 35
  },
  {
   "metadata": {
    "ExecuteTime": {
     "end_time": "2024-12-17T02:47:05.036595Z",
     "start_time": "2024-12-17T02:47:05.031618Z"
    }
   },
   "cell_type": "code",
   "source": "df.head(10)",
   "id": "5cfddd415339f659",
   "outputs": [
    {
     "data": {
      "text/plain": [
       "             A   B   C   D   E\n",
       "2024-12-16   0   1   2   3   4\n",
       "2024-12-17   5   6   7   8   9\n",
       "2024-12-18  10  11  12  13  14\n",
       "2024-12-19  15  16  17  18  19\n",
       "2024-12-20  20  21  22  23  24\n",
       "2024-12-21  25  26  27  28  29\n",
       "2024-12-22  30  31  32  33  34\n",
       "2024-12-23  35  36  37  38  39\n",
       "2024-12-24  40  41  42  43  44\n",
       "2024-12-25  45  46  47  48  49"
      ],
      "text/html": [
       "<div>\n",
       "<style scoped>\n",
       "    .dataframe tbody tr th:only-of-type {\n",
       "        vertical-align: middle;\n",
       "    }\n",
       "\n",
       "    .dataframe tbody tr th {\n",
       "        vertical-align: top;\n",
       "    }\n",
       "\n",
       "    .dataframe thead th {\n",
       "        text-align: right;\n",
       "    }\n",
       "</style>\n",
       "<table border=\"1\" class=\"dataframe\">\n",
       "  <thead>\n",
       "    <tr style=\"text-align: right;\">\n",
       "      <th></th>\n",
       "      <th>A</th>\n",
       "      <th>B</th>\n",
       "      <th>C</th>\n",
       "      <th>D</th>\n",
       "      <th>E</th>\n",
       "    </tr>\n",
       "  </thead>\n",
       "  <tbody>\n",
       "    <tr>\n",
       "      <th>2024-12-16</th>\n",
       "      <td>0</td>\n",
       "      <td>1</td>\n",
       "      <td>2</td>\n",
       "      <td>3</td>\n",
       "      <td>4</td>\n",
       "    </tr>\n",
       "    <tr>\n",
       "      <th>2024-12-17</th>\n",
       "      <td>5</td>\n",
       "      <td>6</td>\n",
       "      <td>7</td>\n",
       "      <td>8</td>\n",
       "      <td>9</td>\n",
       "    </tr>\n",
       "    <tr>\n",
       "      <th>2024-12-18</th>\n",
       "      <td>10</td>\n",
       "      <td>11</td>\n",
       "      <td>12</td>\n",
       "      <td>13</td>\n",
       "      <td>14</td>\n",
       "    </tr>\n",
       "    <tr>\n",
       "      <th>2024-12-19</th>\n",
       "      <td>15</td>\n",
       "      <td>16</td>\n",
       "      <td>17</td>\n",
       "      <td>18</td>\n",
       "      <td>19</td>\n",
       "    </tr>\n",
       "    <tr>\n",
       "      <th>2024-12-20</th>\n",
       "      <td>20</td>\n",
       "      <td>21</td>\n",
       "      <td>22</td>\n",
       "      <td>23</td>\n",
       "      <td>24</td>\n",
       "    </tr>\n",
       "    <tr>\n",
       "      <th>2024-12-21</th>\n",
       "      <td>25</td>\n",
       "      <td>26</td>\n",
       "      <td>27</td>\n",
       "      <td>28</td>\n",
       "      <td>29</td>\n",
       "    </tr>\n",
       "    <tr>\n",
       "      <th>2024-12-22</th>\n",
       "      <td>30</td>\n",
       "      <td>31</td>\n",
       "      <td>32</td>\n",
       "      <td>33</td>\n",
       "      <td>34</td>\n",
       "    </tr>\n",
       "    <tr>\n",
       "      <th>2024-12-23</th>\n",
       "      <td>35</td>\n",
       "      <td>36</td>\n",
       "      <td>37</td>\n",
       "      <td>38</td>\n",
       "      <td>39</td>\n",
       "    </tr>\n",
       "    <tr>\n",
       "      <th>2024-12-24</th>\n",
       "      <td>40</td>\n",
       "      <td>41</td>\n",
       "      <td>42</td>\n",
       "      <td>43</td>\n",
       "      <td>44</td>\n",
       "    </tr>\n",
       "    <tr>\n",
       "      <th>2024-12-25</th>\n",
       "      <td>45</td>\n",
       "      <td>46</td>\n",
       "      <td>47</td>\n",
       "      <td>48</td>\n",
       "      <td>49</td>\n",
       "    </tr>\n",
       "  </tbody>\n",
       "</table>\n",
       "</div>"
      ]
     },
     "execution_count": 42,
     "metadata": {},
     "output_type": "execute_result"
    }
   ],
   "execution_count": 42
  },
  {
   "metadata": {
    "ExecuteTime": {
     "end_time": "2024-12-17T02:47:18.960793Z",
     "start_time": "2024-12-17T02:47:18.956246Z"
    }
   },
   "cell_type": "code",
   "source": "df.tail(20)",
   "id": "df5116b920a1d996",
   "outputs": [
    {
     "data": {
      "text/plain": [
       "              A    B    C    D    E\n",
       "2025-06-14  900  901  902  903  904\n",
       "2025-06-15  905  906  907  908  909\n",
       "2025-06-16  910  911  912  913  914\n",
       "2025-06-17  915  916  917  918  919\n",
       "2025-06-18  920  921  922  923  924\n",
       "2025-06-19  925  926  927  928  929\n",
       "2025-06-20  930  931  932  933  934\n",
       "2025-06-21  935  936  937  938  939\n",
       "2025-06-22  940  941  942  943  944\n",
       "2025-06-23  945  946  947  948  949\n",
       "2025-06-24  950  951  952  953  954\n",
       "2025-06-25  955  956  957  958  959\n",
       "2025-06-26  960  961  962  963  964\n",
       "2025-06-27  965  966  967  968  969\n",
       "2025-06-28  970  971  972  973  974\n",
       "2025-06-29  975  976  977  978  979\n",
       "2025-06-30  980  981  982  983  984\n",
       "2025-07-01  985  986  987  988  989\n",
       "2025-07-02  990  991  992  993  994\n",
       "2025-07-03  995  996  997  998  999"
      ],
      "text/html": [
       "<div>\n",
       "<style scoped>\n",
       "    .dataframe tbody tr th:only-of-type {\n",
       "        vertical-align: middle;\n",
       "    }\n",
       "\n",
       "    .dataframe tbody tr th {\n",
       "        vertical-align: top;\n",
       "    }\n",
       "\n",
       "    .dataframe thead th {\n",
       "        text-align: right;\n",
       "    }\n",
       "</style>\n",
       "<table border=\"1\" class=\"dataframe\">\n",
       "  <thead>\n",
       "    <tr style=\"text-align: right;\">\n",
       "      <th></th>\n",
       "      <th>A</th>\n",
       "      <th>B</th>\n",
       "      <th>C</th>\n",
       "      <th>D</th>\n",
       "      <th>E</th>\n",
       "    </tr>\n",
       "  </thead>\n",
       "  <tbody>\n",
       "    <tr>\n",
       "      <th>2025-06-14</th>\n",
       "      <td>900</td>\n",
       "      <td>901</td>\n",
       "      <td>902</td>\n",
       "      <td>903</td>\n",
       "      <td>904</td>\n",
       "    </tr>\n",
       "    <tr>\n",
       "      <th>2025-06-15</th>\n",
       "      <td>905</td>\n",
       "      <td>906</td>\n",
       "      <td>907</td>\n",
       "      <td>908</td>\n",
       "      <td>909</td>\n",
       "    </tr>\n",
       "    <tr>\n",
       "      <th>2025-06-16</th>\n",
       "      <td>910</td>\n",
       "      <td>911</td>\n",
       "      <td>912</td>\n",
       "      <td>913</td>\n",
       "      <td>914</td>\n",
       "    </tr>\n",
       "    <tr>\n",
       "      <th>2025-06-17</th>\n",
       "      <td>915</td>\n",
       "      <td>916</td>\n",
       "      <td>917</td>\n",
       "      <td>918</td>\n",
       "      <td>919</td>\n",
       "    </tr>\n",
       "    <tr>\n",
       "      <th>2025-06-18</th>\n",
       "      <td>920</td>\n",
       "      <td>921</td>\n",
       "      <td>922</td>\n",
       "      <td>923</td>\n",
       "      <td>924</td>\n",
       "    </tr>\n",
       "    <tr>\n",
       "      <th>2025-06-19</th>\n",
       "      <td>925</td>\n",
       "      <td>926</td>\n",
       "      <td>927</td>\n",
       "      <td>928</td>\n",
       "      <td>929</td>\n",
       "    </tr>\n",
       "    <tr>\n",
       "      <th>2025-06-20</th>\n",
       "      <td>930</td>\n",
       "      <td>931</td>\n",
       "      <td>932</td>\n",
       "      <td>933</td>\n",
       "      <td>934</td>\n",
       "    </tr>\n",
       "    <tr>\n",
       "      <th>2025-06-21</th>\n",
       "      <td>935</td>\n",
       "      <td>936</td>\n",
       "      <td>937</td>\n",
       "      <td>938</td>\n",
       "      <td>939</td>\n",
       "    </tr>\n",
       "    <tr>\n",
       "      <th>2025-06-22</th>\n",
       "      <td>940</td>\n",
       "      <td>941</td>\n",
       "      <td>942</td>\n",
       "      <td>943</td>\n",
       "      <td>944</td>\n",
       "    </tr>\n",
       "    <tr>\n",
       "      <th>2025-06-23</th>\n",
       "      <td>945</td>\n",
       "      <td>946</td>\n",
       "      <td>947</td>\n",
       "      <td>948</td>\n",
       "      <td>949</td>\n",
       "    </tr>\n",
       "    <tr>\n",
       "      <th>2025-06-24</th>\n",
       "      <td>950</td>\n",
       "      <td>951</td>\n",
       "      <td>952</td>\n",
       "      <td>953</td>\n",
       "      <td>954</td>\n",
       "    </tr>\n",
       "    <tr>\n",
       "      <th>2025-06-25</th>\n",
       "      <td>955</td>\n",
       "      <td>956</td>\n",
       "      <td>957</td>\n",
       "      <td>958</td>\n",
       "      <td>959</td>\n",
       "    </tr>\n",
       "    <tr>\n",
       "      <th>2025-06-26</th>\n",
       "      <td>960</td>\n",
       "      <td>961</td>\n",
       "      <td>962</td>\n",
       "      <td>963</td>\n",
       "      <td>964</td>\n",
       "    </tr>\n",
       "    <tr>\n",
       "      <th>2025-06-27</th>\n",
       "      <td>965</td>\n",
       "      <td>966</td>\n",
       "      <td>967</td>\n",
       "      <td>968</td>\n",
       "      <td>969</td>\n",
       "    </tr>\n",
       "    <tr>\n",
       "      <th>2025-06-28</th>\n",
       "      <td>970</td>\n",
       "      <td>971</td>\n",
       "      <td>972</td>\n",
       "      <td>973</td>\n",
       "      <td>974</td>\n",
       "    </tr>\n",
       "    <tr>\n",
       "      <th>2025-06-29</th>\n",
       "      <td>975</td>\n",
       "      <td>976</td>\n",
       "      <td>977</td>\n",
       "      <td>978</td>\n",
       "      <td>979</td>\n",
       "    </tr>\n",
       "    <tr>\n",
       "      <th>2025-06-30</th>\n",
       "      <td>980</td>\n",
       "      <td>981</td>\n",
       "      <td>982</td>\n",
       "      <td>983</td>\n",
       "      <td>984</td>\n",
       "    </tr>\n",
       "    <tr>\n",
       "      <th>2025-07-01</th>\n",
       "      <td>985</td>\n",
       "      <td>986</td>\n",
       "      <td>987</td>\n",
       "      <td>988</td>\n",
       "      <td>989</td>\n",
       "    </tr>\n",
       "    <tr>\n",
       "      <th>2025-07-02</th>\n",
       "      <td>990</td>\n",
       "      <td>991</td>\n",
       "      <td>992</td>\n",
       "      <td>993</td>\n",
       "      <td>994</td>\n",
       "    </tr>\n",
       "    <tr>\n",
       "      <th>2025-07-03</th>\n",
       "      <td>995</td>\n",
       "      <td>996</td>\n",
       "      <td>997</td>\n",
       "      <td>998</td>\n",
       "      <td>999</td>\n",
       "    </tr>\n",
       "  </tbody>\n",
       "</table>\n",
       "</div>"
      ]
     },
     "execution_count": 43,
     "metadata": {},
     "output_type": "execute_result"
    }
   ],
   "execution_count": 43
  },
  {
   "metadata": {
    "ExecuteTime": {
     "end_time": "2024-12-17T02:47:56.947355Z",
     "start_time": "2024-12-17T02:47:56.944269Z"
    }
   },
   "cell_type": "code",
   "source": "df.index",
   "id": "b536092c81ba0ce5",
   "outputs": [
    {
     "data": {
      "text/plain": [
       "DatetimeIndex(['2024-12-16', '2024-12-17', '2024-12-18', '2024-12-19',\n",
       "               '2024-12-20', '2024-12-21', '2024-12-22', '2024-12-23',\n",
       "               '2024-12-24', '2024-12-25',\n",
       "               ...\n",
       "               '2025-06-24', '2025-06-25', '2025-06-26', '2025-06-27',\n",
       "               '2025-06-28', '2025-06-29', '2025-06-30', '2025-07-01',\n",
       "               '2025-07-02', '2025-07-03'],\n",
       "              dtype='datetime64[ns]', length=200, freq='D')"
      ]
     },
     "execution_count": 44,
     "metadata": {},
     "output_type": "execute_result"
    }
   ],
   "execution_count": 44
  },
  {
   "metadata": {
    "ExecuteTime": {
     "end_time": "2024-12-17T02:49:57.503576Z",
     "start_time": "2024-12-17T02:49:57.498677Z"
    }
   },
   "cell_type": "code",
   "source": [
    "my_numpy_particles = df.to_numpy()\n",
    "my_numpy_particles"
   ],
   "id": "3db2235c2f6778b5",
   "outputs": [
    {
     "data": {
      "text/plain": [
       "array([[  0,   1,   2,   3,   4],\n",
       "       [  5,   6,   7,   8,   9],\n",
       "       [ 10,  11,  12,  13,  14],\n",
       "       [ 15,  16,  17,  18,  19],\n",
       "       [ 20,  21,  22,  23,  24],\n",
       "       [ 25,  26,  27,  28,  29],\n",
       "       [ 30,  31,  32,  33,  34],\n",
       "       [ 35,  36,  37,  38,  39],\n",
       "       [ 40,  41,  42,  43,  44],\n",
       "       [ 45,  46,  47,  48,  49],\n",
       "       [ 50,  51,  52,  53,  54],\n",
       "       [ 55,  56,  57,  58,  59],\n",
       "       [ 60,  61,  62,  63,  64],\n",
       "       [ 65,  66,  67,  68,  69],\n",
       "       [ 70,  71,  72,  73,  74],\n",
       "       [ 75,  76,  77,  78,  79],\n",
       "       [ 80,  81,  82,  83,  84],\n",
       "       [ 85,  86,  87,  88,  89],\n",
       "       [ 90,  91,  92,  93,  94],\n",
       "       [ 95,  96,  97,  98,  99],\n",
       "       [100, 101, 102, 103, 104],\n",
       "       [105, 106, 107, 108, 109],\n",
       "       [110, 111, 112, 113, 114],\n",
       "       [115, 116, 117, 118, 119],\n",
       "       [120, 121, 122, 123, 124],\n",
       "       [125, 126, 127, 128, 129],\n",
       "       [130, 131, 132, 133, 134],\n",
       "       [135, 136, 137, 138, 139],\n",
       "       [140, 141, 142, 143, 144],\n",
       "       [145, 146, 147, 148, 149],\n",
       "       [150, 151, 152, 153, 154],\n",
       "       [155, 156, 157, 158, 159],\n",
       "       [160, 161, 162, 163, 164],\n",
       "       [165, 166, 167, 168, 169],\n",
       "       [170, 171, 172, 173, 174],\n",
       "       [175, 176, 177, 178, 179],\n",
       "       [180, 181, 182, 183, 184],\n",
       "       [185, 186, 187, 188, 189],\n",
       "       [190, 191, 192, 193, 194],\n",
       "       [195, 196, 197, 198, 199],\n",
       "       [200, 201, 202, 203, 204],\n",
       "       [205, 206, 207, 208, 209],\n",
       "       [210, 211, 212, 213, 214],\n",
       "       [215, 216, 217, 218, 219],\n",
       "       [220, 221, 222, 223, 224],\n",
       "       [225, 226, 227, 228, 229],\n",
       "       [230, 231, 232, 233, 234],\n",
       "       [235, 236, 237, 238, 239],\n",
       "       [240, 241, 242, 243, 244],\n",
       "       [245, 246, 247, 248, 249],\n",
       "       [250, 251, 252, 253, 254],\n",
       "       [255, 256, 257, 258, 259],\n",
       "       [260, 261, 262, 263, 264],\n",
       "       [265, 266, 267, 268, 269],\n",
       "       [270, 271, 272, 273, 274],\n",
       "       [275, 276, 277, 278, 279],\n",
       "       [280, 281, 282, 283, 284],\n",
       "       [285, 286, 287, 288, 289],\n",
       "       [290, 291, 292, 293, 294],\n",
       "       [295, 296, 297, 298, 299],\n",
       "       [300, 301, 302, 303, 304],\n",
       "       [305, 306, 307, 308, 309],\n",
       "       [310, 311, 312, 313, 314],\n",
       "       [315, 316, 317, 318, 319],\n",
       "       [320, 321, 322, 323, 324],\n",
       "       [325, 326, 327, 328, 329],\n",
       "       [330, 331, 332, 333, 334],\n",
       "       [335, 336, 337, 338, 339],\n",
       "       [340, 341, 342, 343, 344],\n",
       "       [345, 346, 347, 348, 349],\n",
       "       [350, 351, 352, 353, 354],\n",
       "       [355, 356, 357, 358, 359],\n",
       "       [360, 361, 362, 363, 364],\n",
       "       [365, 366, 367, 368, 369],\n",
       "       [370, 371, 372, 373, 374],\n",
       "       [375, 376, 377, 378, 379],\n",
       "       [380, 381, 382, 383, 384],\n",
       "       [385, 386, 387, 388, 389],\n",
       "       [390, 391, 392, 393, 394],\n",
       "       [395, 396, 397, 398, 399],\n",
       "       [400, 401, 402, 403, 404],\n",
       "       [405, 406, 407, 408, 409],\n",
       "       [410, 411, 412, 413, 414],\n",
       "       [415, 416, 417, 418, 419],\n",
       "       [420, 421, 422, 423, 424],\n",
       "       [425, 426, 427, 428, 429],\n",
       "       [430, 431, 432, 433, 434],\n",
       "       [435, 436, 437, 438, 439],\n",
       "       [440, 441, 442, 443, 444],\n",
       "       [445, 446, 447, 448, 449],\n",
       "       [450, 451, 452, 453, 454],\n",
       "       [455, 456, 457, 458, 459],\n",
       "       [460, 461, 462, 463, 464],\n",
       "       [465, 466, 467, 468, 469],\n",
       "       [470, 471, 472, 473, 474],\n",
       "       [475, 476, 477, 478, 479],\n",
       "       [480, 481, 482, 483, 484],\n",
       "       [485, 486, 487, 488, 489],\n",
       "       [490, 491, 492, 493, 494],\n",
       "       [495, 496, 497, 498, 499],\n",
       "       [500, 501, 502, 503, 504],\n",
       "       [505, 506, 507, 508, 509],\n",
       "       [510, 511, 512, 513, 514],\n",
       "       [515, 516, 517, 518, 519],\n",
       "       [520, 521, 522, 523, 524],\n",
       "       [525, 526, 527, 528, 529],\n",
       "       [530, 531, 532, 533, 534],\n",
       "       [535, 536, 537, 538, 539],\n",
       "       [540, 541, 542, 543, 544],\n",
       "       [545, 546, 547, 548, 549],\n",
       "       [550, 551, 552, 553, 554],\n",
       "       [555, 556, 557, 558, 559],\n",
       "       [560, 561, 562, 563, 564],\n",
       "       [565, 566, 567, 568, 569],\n",
       "       [570, 571, 572, 573, 574],\n",
       "       [575, 576, 577, 578, 579],\n",
       "       [580, 581, 582, 583, 584],\n",
       "       [585, 586, 587, 588, 589],\n",
       "       [590, 591, 592, 593, 594],\n",
       "       [595, 596, 597, 598, 599],\n",
       "       [600, 601, 602, 603, 604],\n",
       "       [605, 606, 607, 608, 609],\n",
       "       [610, 611, 612, 613, 614],\n",
       "       [615, 616, 617, 618, 619],\n",
       "       [620, 621, 622, 623, 624],\n",
       "       [625, 626, 627, 628, 629],\n",
       "       [630, 631, 632, 633, 634],\n",
       "       [635, 636, 637, 638, 639],\n",
       "       [640, 641, 642, 643, 644],\n",
       "       [645, 646, 647, 648, 649],\n",
       "       [650, 651, 652, 653, 654],\n",
       "       [655, 656, 657, 658, 659],\n",
       "       [660, 661, 662, 663, 664],\n",
       "       [665, 666, 667, 668, 669],\n",
       "       [670, 671, 672, 673, 674],\n",
       "       [675, 676, 677, 678, 679],\n",
       "       [680, 681, 682, 683, 684],\n",
       "       [685, 686, 687, 688, 689],\n",
       "       [690, 691, 692, 693, 694],\n",
       "       [695, 696, 697, 698, 699],\n",
       "       [700, 701, 702, 703, 704],\n",
       "       [705, 706, 707, 708, 709],\n",
       "       [710, 711, 712, 713, 714],\n",
       "       [715, 716, 717, 718, 719],\n",
       "       [720, 721, 722, 723, 724],\n",
       "       [725, 726, 727, 728, 729],\n",
       "       [730, 731, 732, 733, 734],\n",
       "       [735, 736, 737, 738, 739],\n",
       "       [740, 741, 742, 743, 744],\n",
       "       [745, 746, 747, 748, 749],\n",
       "       [750, 751, 752, 753, 754],\n",
       "       [755, 756, 757, 758, 759],\n",
       "       [760, 761, 762, 763, 764],\n",
       "       [765, 766, 767, 768, 769],\n",
       "       [770, 771, 772, 773, 774],\n",
       "       [775, 776, 777, 778, 779],\n",
       "       [780, 781, 782, 783, 784],\n",
       "       [785, 786, 787, 788, 789],\n",
       "       [790, 791, 792, 793, 794],\n",
       "       [795, 796, 797, 798, 799],\n",
       "       [800, 801, 802, 803, 804],\n",
       "       [805, 806, 807, 808, 809],\n",
       "       [810, 811, 812, 813, 814],\n",
       "       [815, 816, 817, 818, 819],\n",
       "       [820, 821, 822, 823, 824],\n",
       "       [825, 826, 827, 828, 829],\n",
       "       [830, 831, 832, 833, 834],\n",
       "       [835, 836, 837, 838, 839],\n",
       "       [840, 841, 842, 843, 844],\n",
       "       [845, 846, 847, 848, 849],\n",
       "       [850, 851, 852, 853, 854],\n",
       "       [855, 856, 857, 858, 859],\n",
       "       [860, 861, 862, 863, 864],\n",
       "       [865, 866, 867, 868, 869],\n",
       "       [870, 871, 872, 873, 874],\n",
       "       [875, 876, 877, 878, 879],\n",
       "       [880, 881, 882, 883, 884],\n",
       "       [885, 886, 887, 888, 889],\n",
       "       [890, 891, 892, 893, 894],\n",
       "       [895, 896, 897, 898, 899],\n",
       "       [900, 901, 902, 903, 904],\n",
       "       [905, 906, 907, 908, 909],\n",
       "       [910, 911, 912, 913, 914],\n",
       "       [915, 916, 917, 918, 919],\n",
       "       [920, 921, 922, 923, 924],\n",
       "       [925, 926, 927, 928, 929],\n",
       "       [930, 931, 932, 933, 934],\n",
       "       [935, 936, 937, 938, 939],\n",
       "       [940, 941, 942, 943, 944],\n",
       "       [945, 946, 947, 948, 949],\n",
       "       [950, 951, 952, 953, 954],\n",
       "       [955, 956, 957, 958, 959],\n",
       "       [960, 961, 962, 963, 964],\n",
       "       [965, 966, 967, 968, 969],\n",
       "       [970, 971, 972, 973, 974],\n",
       "       [975, 976, 977, 978, 979],\n",
       "       [980, 981, 982, 983, 984],\n",
       "       [985, 986, 987, 988, 989],\n",
       "       [990, 991, 992, 993, 994],\n",
       "       [995, 996, 997, 998, 999]])"
      ]
     },
     "execution_count": 48,
     "metadata": {},
     "output_type": "execute_result"
    }
   ],
   "execution_count": 48
  },
  {
   "metadata": {
    "ExecuteTime": {
     "end_time": "2024-12-17T02:53:00.226844Z",
     "start_time": "2024-12-17T02:53:00.217633Z"
    }
   },
   "cell_type": "code",
   "source": "df.describe()",
   "id": "8b5383f605e5a8a4",
   "outputs": [
    {
     "data": {
      "text/plain": [
       "                A           B           C           D           E\n",
       "count  200.000000  200.000000  200.000000  200.000000  200.000000\n",
       "mean   497.500000  498.500000  499.500000  500.500000  501.500000\n",
       "std    289.395923  289.395923  289.395923  289.395923  289.395923\n",
       "min      0.000000    1.000000    2.000000    3.000000    4.000000\n",
       "25%    248.750000  249.750000  250.750000  251.750000  252.750000\n",
       "50%    497.500000  498.500000  499.500000  500.500000  501.500000\n",
       "75%    746.250000  747.250000  748.250000  749.250000  750.250000\n",
       "max    995.000000  996.000000  997.000000  998.000000  999.000000"
      ],
      "text/html": [
       "<div>\n",
       "<style scoped>\n",
       "    .dataframe tbody tr th:only-of-type {\n",
       "        vertical-align: middle;\n",
       "    }\n",
       "\n",
       "    .dataframe tbody tr th {\n",
       "        vertical-align: top;\n",
       "    }\n",
       "\n",
       "    .dataframe thead th {\n",
       "        text-align: right;\n",
       "    }\n",
       "</style>\n",
       "<table border=\"1\" class=\"dataframe\">\n",
       "  <thead>\n",
       "    <tr style=\"text-align: right;\">\n",
       "      <th></th>\n",
       "      <th>A</th>\n",
       "      <th>B</th>\n",
       "      <th>C</th>\n",
       "      <th>D</th>\n",
       "      <th>E</th>\n",
       "    </tr>\n",
       "  </thead>\n",
       "  <tbody>\n",
       "    <tr>\n",
       "      <th>count</th>\n",
       "      <td>200.000000</td>\n",
       "      <td>200.000000</td>\n",
       "      <td>200.000000</td>\n",
       "      <td>200.000000</td>\n",
       "      <td>200.000000</td>\n",
       "    </tr>\n",
       "    <tr>\n",
       "      <th>mean</th>\n",
       "      <td>497.500000</td>\n",
       "      <td>498.500000</td>\n",
       "      <td>499.500000</td>\n",
       "      <td>500.500000</td>\n",
       "      <td>501.500000</td>\n",
       "    </tr>\n",
       "    <tr>\n",
       "      <th>std</th>\n",
       "      <td>289.395923</td>\n",
       "      <td>289.395923</td>\n",
       "      <td>289.395923</td>\n",
       "      <td>289.395923</td>\n",
       "      <td>289.395923</td>\n",
       "    </tr>\n",
       "    <tr>\n",
       "      <th>min</th>\n",
       "      <td>0.000000</td>\n",
       "      <td>1.000000</td>\n",
       "      <td>2.000000</td>\n",
       "      <td>3.000000</td>\n",
       "      <td>4.000000</td>\n",
       "    </tr>\n",
       "    <tr>\n",
       "      <th>25%</th>\n",
       "      <td>248.750000</td>\n",
       "      <td>249.750000</td>\n",
       "      <td>250.750000</td>\n",
       "      <td>251.750000</td>\n",
       "      <td>252.750000</td>\n",
       "    </tr>\n",
       "    <tr>\n",
       "      <th>50%</th>\n",
       "      <td>497.500000</td>\n",
       "      <td>498.500000</td>\n",
       "      <td>499.500000</td>\n",
       "      <td>500.500000</td>\n",
       "      <td>501.500000</td>\n",
       "    </tr>\n",
       "    <tr>\n",
       "      <th>75%</th>\n",
       "      <td>746.250000</td>\n",
       "      <td>747.250000</td>\n",
       "      <td>748.250000</td>\n",
       "      <td>749.250000</td>\n",
       "      <td>750.250000</td>\n",
       "    </tr>\n",
       "    <tr>\n",
       "      <th>max</th>\n",
       "      <td>995.000000</td>\n",
       "      <td>996.000000</td>\n",
       "      <td>997.000000</td>\n",
       "      <td>998.000000</td>\n",
       "      <td>999.000000</td>\n",
       "    </tr>\n",
       "  </tbody>\n",
       "</table>\n",
       "</div>"
      ]
     },
     "execution_count": 51,
     "metadata": {},
     "output_type": "execute_result"
    }
   ],
   "execution_count": 51
  },
  {
   "metadata": {
    "ExecuteTime": {
     "end_time": "2024-12-17T02:55:32.172954Z",
     "start_time": "2024-12-17T02:55:32.168477Z"
    }
   },
   "cell_type": "code",
   "source": "df.sort_index(ascending=False)",
   "id": "aafa5e142685f3ee",
   "outputs": [
    {
     "data": {
      "text/plain": [
       "              A    B    C    D    E\n",
       "2025-07-03  995  996  997  998  999\n",
       "2025-07-02  990  991  992  993  994\n",
       "2025-07-01  985  986  987  988  989\n",
       "2025-06-30  980  981  982  983  984\n",
       "2025-06-29  975  976  977  978  979\n",
       "...         ...  ...  ...  ...  ...\n",
       "2024-12-20   20   21   22   23   24\n",
       "2024-12-19   15   16   17   18   19\n",
       "2024-12-18   10   11   12   13   14\n",
       "2024-12-17    5    6    7    8    9\n",
       "2024-12-16    0    1    2    3    4\n",
       "\n",
       "[200 rows x 5 columns]"
      ],
      "text/html": [
       "<div>\n",
       "<style scoped>\n",
       "    .dataframe tbody tr th:only-of-type {\n",
       "        vertical-align: middle;\n",
       "    }\n",
       "\n",
       "    .dataframe tbody tr th {\n",
       "        vertical-align: top;\n",
       "    }\n",
       "\n",
       "    .dataframe thead th {\n",
       "        text-align: right;\n",
       "    }\n",
       "</style>\n",
       "<table border=\"1\" class=\"dataframe\">\n",
       "  <thead>\n",
       "    <tr style=\"text-align: right;\">\n",
       "      <th></th>\n",
       "      <th>A</th>\n",
       "      <th>B</th>\n",
       "      <th>C</th>\n",
       "      <th>D</th>\n",
       "      <th>E</th>\n",
       "    </tr>\n",
       "  </thead>\n",
       "  <tbody>\n",
       "    <tr>\n",
       "      <th>2025-07-03</th>\n",
       "      <td>995</td>\n",
       "      <td>996</td>\n",
       "      <td>997</td>\n",
       "      <td>998</td>\n",
       "      <td>999</td>\n",
       "    </tr>\n",
       "    <tr>\n",
       "      <th>2025-07-02</th>\n",
       "      <td>990</td>\n",
       "      <td>991</td>\n",
       "      <td>992</td>\n",
       "      <td>993</td>\n",
       "      <td>994</td>\n",
       "    </tr>\n",
       "    <tr>\n",
       "      <th>2025-07-01</th>\n",
       "      <td>985</td>\n",
       "      <td>986</td>\n",
       "      <td>987</td>\n",
       "      <td>988</td>\n",
       "      <td>989</td>\n",
       "    </tr>\n",
       "    <tr>\n",
       "      <th>2025-06-30</th>\n",
       "      <td>980</td>\n",
       "      <td>981</td>\n",
       "      <td>982</td>\n",
       "      <td>983</td>\n",
       "      <td>984</td>\n",
       "    </tr>\n",
       "    <tr>\n",
       "      <th>2025-06-29</th>\n",
       "      <td>975</td>\n",
       "      <td>976</td>\n",
       "      <td>977</td>\n",
       "      <td>978</td>\n",
       "      <td>979</td>\n",
       "    </tr>\n",
       "    <tr>\n",
       "      <th>...</th>\n",
       "      <td>...</td>\n",
       "      <td>...</td>\n",
       "      <td>...</td>\n",
       "      <td>...</td>\n",
       "      <td>...</td>\n",
       "    </tr>\n",
       "    <tr>\n",
       "      <th>2024-12-20</th>\n",
       "      <td>20</td>\n",
       "      <td>21</td>\n",
       "      <td>22</td>\n",
       "      <td>23</td>\n",
       "      <td>24</td>\n",
       "    </tr>\n",
       "    <tr>\n",
       "      <th>2024-12-19</th>\n",
       "      <td>15</td>\n",
       "      <td>16</td>\n",
       "      <td>17</td>\n",
       "      <td>18</td>\n",
       "      <td>19</td>\n",
       "    </tr>\n",
       "    <tr>\n",
       "      <th>2024-12-18</th>\n",
       "      <td>10</td>\n",
       "      <td>11</td>\n",
       "      <td>12</td>\n",
       "      <td>13</td>\n",
       "      <td>14</td>\n",
       "    </tr>\n",
       "    <tr>\n",
       "      <th>2024-12-17</th>\n",
       "      <td>5</td>\n",
       "      <td>6</td>\n",
       "      <td>7</td>\n",
       "      <td>8</td>\n",
       "      <td>9</td>\n",
       "    </tr>\n",
       "    <tr>\n",
       "      <th>2024-12-16</th>\n",
       "      <td>0</td>\n",
       "      <td>1</td>\n",
       "      <td>2</td>\n",
       "      <td>3</td>\n",
       "      <td>4</td>\n",
       "    </tr>\n",
       "  </tbody>\n",
       "</table>\n",
       "<p>200 rows × 5 columns</p>\n",
       "</div>"
      ]
     },
     "execution_count": 57,
     "metadata": {},
     "output_type": "execute_result"
    }
   ],
   "execution_count": 57
  },
  {
   "metadata": {
    "ExecuteTime": {
     "end_time": "2024-12-17T03:01:40.715472Z",
     "start_time": "2024-12-17T03:01:40.712114Z"
    }
   },
   "cell_type": "code",
   "source": "df[\"D\"]",
   "id": "64a21048ea7c0511",
   "outputs": [
    {
     "data": {
      "text/plain": [
       "2024-12-16      3\n",
       "2024-12-17      8\n",
       "2024-12-18     13\n",
       "2024-12-19     18\n",
       "2024-12-20     23\n",
       "             ... \n",
       "2025-06-29    978\n",
       "2025-06-30    983\n",
       "2025-07-01    988\n",
       "2025-07-02    993\n",
       "2025-07-03    998\n",
       "Freq: D, Name: D, Length: 200, dtype: int64"
      ]
     },
     "execution_count": 65,
     "metadata": {},
     "output_type": "execute_result"
    }
   ],
   "execution_count": 65
  },
  {
   "metadata": {
    "ExecuteTime": {
     "end_time": "2024-12-17T03:02:36.604542Z",
     "start_time": "2024-12-17T03:02:36.599835Z"
    }
   },
   "cell_type": "code",
   "source": "df[1:10]",
   "id": "9803739c0270beff",
   "outputs": [
    {
     "data": {
      "text/plain": [
       "             A   B   C   D   E\n",
       "2024-12-17   5   6   7   8   9\n",
       "2024-12-18  10  11  12  13  14\n",
       "2024-12-19  15  16  17  18  19\n",
       "2024-12-20  20  21  22  23  24\n",
       "2024-12-21  25  26  27  28  29\n",
       "2024-12-22  30  31  32  33  34\n",
       "2024-12-23  35  36  37  38  39\n",
       "2024-12-24  40  41  42  43  44\n",
       "2024-12-25  45  46  47  48  49"
      ],
      "text/html": [
       "<div>\n",
       "<style scoped>\n",
       "    .dataframe tbody tr th:only-of-type {\n",
       "        vertical-align: middle;\n",
       "    }\n",
       "\n",
       "    .dataframe tbody tr th {\n",
       "        vertical-align: top;\n",
       "    }\n",
       "\n",
       "    .dataframe thead th {\n",
       "        text-align: right;\n",
       "    }\n",
       "</style>\n",
       "<table border=\"1\" class=\"dataframe\">\n",
       "  <thead>\n",
       "    <tr style=\"text-align: right;\">\n",
       "      <th></th>\n",
       "      <th>A</th>\n",
       "      <th>B</th>\n",
       "      <th>C</th>\n",
       "      <th>D</th>\n",
       "      <th>E</th>\n",
       "    </tr>\n",
       "  </thead>\n",
       "  <tbody>\n",
       "    <tr>\n",
       "      <th>2024-12-17</th>\n",
       "      <td>5</td>\n",
       "      <td>6</td>\n",
       "      <td>7</td>\n",
       "      <td>8</td>\n",
       "      <td>9</td>\n",
       "    </tr>\n",
       "    <tr>\n",
       "      <th>2024-12-18</th>\n",
       "      <td>10</td>\n",
       "      <td>11</td>\n",
       "      <td>12</td>\n",
       "      <td>13</td>\n",
       "      <td>14</td>\n",
       "    </tr>\n",
       "    <tr>\n",
       "      <th>2024-12-19</th>\n",
       "      <td>15</td>\n",
       "      <td>16</td>\n",
       "      <td>17</td>\n",
       "      <td>18</td>\n",
       "      <td>19</td>\n",
       "    </tr>\n",
       "    <tr>\n",
       "      <th>2024-12-20</th>\n",
       "      <td>20</td>\n",
       "      <td>21</td>\n",
       "      <td>22</td>\n",
       "      <td>23</td>\n",
       "      <td>24</td>\n",
       "    </tr>\n",
       "    <tr>\n",
       "      <th>2024-12-21</th>\n",
       "      <td>25</td>\n",
       "      <td>26</td>\n",
       "      <td>27</td>\n",
       "      <td>28</td>\n",
       "      <td>29</td>\n",
       "    </tr>\n",
       "    <tr>\n",
       "      <th>2024-12-22</th>\n",
       "      <td>30</td>\n",
       "      <td>31</td>\n",
       "      <td>32</td>\n",
       "      <td>33</td>\n",
       "      <td>34</td>\n",
       "    </tr>\n",
       "    <tr>\n",
       "      <th>2024-12-23</th>\n",
       "      <td>35</td>\n",
       "      <td>36</td>\n",
       "      <td>37</td>\n",
       "      <td>38</td>\n",
       "      <td>39</td>\n",
       "    </tr>\n",
       "    <tr>\n",
       "      <th>2024-12-24</th>\n",
       "      <td>40</td>\n",
       "      <td>41</td>\n",
       "      <td>42</td>\n",
       "      <td>43</td>\n",
       "      <td>44</td>\n",
       "    </tr>\n",
       "    <tr>\n",
       "      <th>2024-12-25</th>\n",
       "      <td>45</td>\n",
       "      <td>46</td>\n",
       "      <td>47</td>\n",
       "      <td>48</td>\n",
       "      <td>49</td>\n",
       "    </tr>\n",
       "  </tbody>\n",
       "</table>\n",
       "</div>"
      ]
     },
     "execution_count": 66,
     "metadata": {},
     "output_type": "execute_result"
    }
   ],
   "execution_count": 66
  },
  {
   "metadata": {
    "ExecuteTime": {
     "end_time": "2024-12-17T03:07:17.058929Z",
     "start_time": "2024-12-17T03:07:17.053967Z"
    }
   },
   "cell_type": "code",
   "source": "df['20241220':'20250106']",
   "id": "c9570a6978e747b8",
   "outputs": [
    {
     "data": {
      "text/plain": [
       "              A    B    C    D    E\n",
       "2024-12-20   20   21   22   23   24\n",
       "2024-12-21   25   26   27   28   29\n",
       "2024-12-22   30   31   32   33   34\n",
       "2024-12-23   35   36   37   38   39\n",
       "2024-12-24   40   41   42   43   44\n",
       "2024-12-25   45   46   47   48   49\n",
       "2024-12-26   50   51   52   53   54\n",
       "2024-12-27   55   56   57   58   59\n",
       "2024-12-28   60   61   62   63   64\n",
       "2024-12-29   65   66   67   68   69\n",
       "2024-12-30   70   71   72   73   74\n",
       "2024-12-31   75   76   77   78   79\n",
       "2025-01-01   80   81   82   83   84\n",
       "2025-01-02   85   86   87   88   89\n",
       "2025-01-03   90   91   92   93   94\n",
       "2025-01-04   95   96   97   98   99\n",
       "2025-01-05  100  101  102  103  104\n",
       "2025-01-06  105  106  107  108  109"
      ],
      "text/html": [
       "<div>\n",
       "<style scoped>\n",
       "    .dataframe tbody tr th:only-of-type {\n",
       "        vertical-align: middle;\n",
       "    }\n",
       "\n",
       "    .dataframe tbody tr th {\n",
       "        vertical-align: top;\n",
       "    }\n",
       "\n",
       "    .dataframe thead th {\n",
       "        text-align: right;\n",
       "    }\n",
       "</style>\n",
       "<table border=\"1\" class=\"dataframe\">\n",
       "  <thead>\n",
       "    <tr style=\"text-align: right;\">\n",
       "      <th></th>\n",
       "      <th>A</th>\n",
       "      <th>B</th>\n",
       "      <th>C</th>\n",
       "      <th>D</th>\n",
       "      <th>E</th>\n",
       "    </tr>\n",
       "  </thead>\n",
       "  <tbody>\n",
       "    <tr>\n",
       "      <th>2024-12-20</th>\n",
       "      <td>20</td>\n",
       "      <td>21</td>\n",
       "      <td>22</td>\n",
       "      <td>23</td>\n",
       "      <td>24</td>\n",
       "    </tr>\n",
       "    <tr>\n",
       "      <th>2024-12-21</th>\n",
       "      <td>25</td>\n",
       "      <td>26</td>\n",
       "      <td>27</td>\n",
       "      <td>28</td>\n",
       "      <td>29</td>\n",
       "    </tr>\n",
       "    <tr>\n",
       "      <th>2024-12-22</th>\n",
       "      <td>30</td>\n",
       "      <td>31</td>\n",
       "      <td>32</td>\n",
       "      <td>33</td>\n",
       "      <td>34</td>\n",
       "    </tr>\n",
       "    <tr>\n",
       "      <th>2024-12-23</th>\n",
       "      <td>35</td>\n",
       "      <td>36</td>\n",
       "      <td>37</td>\n",
       "      <td>38</td>\n",
       "      <td>39</td>\n",
       "    </tr>\n",
       "    <tr>\n",
       "      <th>2024-12-24</th>\n",
       "      <td>40</td>\n",
       "      <td>41</td>\n",
       "      <td>42</td>\n",
       "      <td>43</td>\n",
       "      <td>44</td>\n",
       "    </tr>\n",
       "    <tr>\n",
       "      <th>2024-12-25</th>\n",
       "      <td>45</td>\n",
       "      <td>46</td>\n",
       "      <td>47</td>\n",
       "      <td>48</td>\n",
       "      <td>49</td>\n",
       "    </tr>\n",
       "    <tr>\n",
       "      <th>2024-12-26</th>\n",
       "      <td>50</td>\n",
       "      <td>51</td>\n",
       "      <td>52</td>\n",
       "      <td>53</td>\n",
       "      <td>54</td>\n",
       "    </tr>\n",
       "    <tr>\n",
       "      <th>2024-12-27</th>\n",
       "      <td>55</td>\n",
       "      <td>56</td>\n",
       "      <td>57</td>\n",
       "      <td>58</td>\n",
       "      <td>59</td>\n",
       "    </tr>\n",
       "    <tr>\n",
       "      <th>2024-12-28</th>\n",
       "      <td>60</td>\n",
       "      <td>61</td>\n",
       "      <td>62</td>\n",
       "      <td>63</td>\n",
       "      <td>64</td>\n",
       "    </tr>\n",
       "    <tr>\n",
       "      <th>2024-12-29</th>\n",
       "      <td>65</td>\n",
       "      <td>66</td>\n",
       "      <td>67</td>\n",
       "      <td>68</td>\n",
       "      <td>69</td>\n",
       "    </tr>\n",
       "    <tr>\n",
       "      <th>2024-12-30</th>\n",
       "      <td>70</td>\n",
       "      <td>71</td>\n",
       "      <td>72</td>\n",
       "      <td>73</td>\n",
       "      <td>74</td>\n",
       "    </tr>\n",
       "    <tr>\n",
       "      <th>2024-12-31</th>\n",
       "      <td>75</td>\n",
       "      <td>76</td>\n",
       "      <td>77</td>\n",
       "      <td>78</td>\n",
       "      <td>79</td>\n",
       "    </tr>\n",
       "    <tr>\n",
       "      <th>2025-01-01</th>\n",
       "      <td>80</td>\n",
       "      <td>81</td>\n",
       "      <td>82</td>\n",
       "      <td>83</td>\n",
       "      <td>84</td>\n",
       "    </tr>\n",
       "    <tr>\n",
       "      <th>2025-01-02</th>\n",
       "      <td>85</td>\n",
       "      <td>86</td>\n",
       "      <td>87</td>\n",
       "      <td>88</td>\n",
       "      <td>89</td>\n",
       "    </tr>\n",
       "    <tr>\n",
       "      <th>2025-01-03</th>\n",
       "      <td>90</td>\n",
       "      <td>91</td>\n",
       "      <td>92</td>\n",
       "      <td>93</td>\n",
       "      <td>94</td>\n",
       "    </tr>\n",
       "    <tr>\n",
       "      <th>2025-01-04</th>\n",
       "      <td>95</td>\n",
       "      <td>96</td>\n",
       "      <td>97</td>\n",
       "      <td>98</td>\n",
       "      <td>99</td>\n",
       "    </tr>\n",
       "    <tr>\n",
       "      <th>2025-01-05</th>\n",
       "      <td>100</td>\n",
       "      <td>101</td>\n",
       "      <td>102</td>\n",
       "      <td>103</td>\n",
       "      <td>104</td>\n",
       "    </tr>\n",
       "    <tr>\n",
       "      <th>2025-01-06</th>\n",
       "      <td>105</td>\n",
       "      <td>106</td>\n",
       "      <td>107</td>\n",
       "      <td>108</td>\n",
       "      <td>109</td>\n",
       "    </tr>\n",
       "  </tbody>\n",
       "</table>\n",
       "</div>"
      ]
     },
     "execution_count": 70,
     "metadata": {},
     "output_type": "execute_result"
    }
   ],
   "execution_count": 70
  },
  {
   "metadata": {},
   "cell_type": "code",
   "outputs": [],
   "execution_count": null,
   "source": "",
   "id": "448f23fac74b2df1"
  }
 ],
 "metadata": {
  "kernelspec": {
   "display_name": "Python 3 (ipykernel)",
   "language": "python",
   "name": "python3"
  },
  "language_info": {
   "codemirror_mode": {
    "name": "ipython",
    "version": 3
   },
   "file_extension": ".py",
   "mimetype": "text/x-python",
   "name": "python",
   "nbconvert_exporter": "python",
   "pygments_lexer": "ipython3",
   "version": "3.9.6"
  }
 },
 "nbformat": 4,
 "nbformat_minor": 5
}
